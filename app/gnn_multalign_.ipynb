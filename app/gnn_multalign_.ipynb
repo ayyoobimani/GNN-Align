{
 "metadata": {
  "orig_nbformat": 2,
  "kernelspec": {
   "name": "python3",
   "display_name": "Python 3.7.10 64-bit ('multalign_graph': conda)"
  },
  "interpreter": {
   "hash": "e87ea973a27bc0df729a3cffeb7c69a8289035b60e563cd26286fedfe440ad07"
  },
  "language_info": {
   "name": "python",
   "version": "3.7.10",
   "mimetype": "text/x-python",
   "codemirror_mode": {
    "name": "ipython",
    "version": 3
   },
   "pygments_lexer": "ipython3",
   "nbconvert_exporter": "python",
   "file_extension": ".py"
  }
 },
 "nbformat": 4,
 "nbformat_minor": 2,
 "cells": [
  {
   "cell_type": "code",
   "execution_count": 27,
   "source": [
    "def check_files_existance(files):\n",
    "    for f in files:\n",
    "        if not os.path.exists(f):\n",
    "            print(f\"warning could not find file: {f}\")\n",
    "            return False\n",
    "    return True\n",
    "    \n",
    "def process_language_pair_verses(a_file, i_file): \n",
    "    ###\n",
    "    # receives an alignment and an index file and returns verses mapped to their alignments only for eng-mixed and fra-louissegond editions\n",
    "    # a_file: alignment_file\n",
    "    # i_file: alignments index file\n",
    "    ###\n",
    "\n",
    "    print(f\"going to process {a_file}, {i_file}\")\n",
    "    res = {}\n",
    "    \n",
    "    if check_files_existance([a_file, i_file]):\n",
    "        with open(a_file, 'r') as afl, open(i_file, 'r') as ifl:\n",
    "            a_lines = afl.readlines()\n",
    "            i_lines = ifl.readlines()\n",
    "\n",
    "            for tup in zip(a_lines, i_lines):\n",
    "                aligns = tup[0].split('\\t')[1]\n",
    "                verse, s_edit, t_edit = tuple(tup[1].strip().split())\n",
    "                if s_edit == 'eng-x-bible-mixed' and t_edit == 'fra-x-bible-louissegond':\n",
    "                    res[verse] = aligns\n",
    "    return res\n",
    "\n",
    "\n",
    "def update_alignments(size, alignments):\n",
    "    a_file = f'/mounts/work/ayyoob/alignment/output_various_size/eflomal_aligns/eng_fra_word_{size}.gdfa'\n",
    "    i_file = f'/mounts/work/ayyoob/alignment/output_various_size/index_eng_fra.txt_{size}'\n",
    "    editf1 = 'eng-x-bible-mixed'\n",
    "    editf2 = 'fra-x-bible-louissegond'\n",
    "    measures = {}\n",
    "    measures['intersectionold'] = {\"p_hit_count\": 0, \"s_hit_count\": 0, \"total_hit_count\": 0, \"gold_s_hit_count\": 0, \"prec\": 0, \"rec\": 0, \"f1\": 0, \"aer\": 0}\n",
    "    measures['intersectionnew'] = {\"p_hit_count\": 0, \"s_hit_count\": 0, \"total_hit_count\": 0, \"gold_s_hit_count\": 0, \"prec\": 0, \"rec\": 0, \"f1\": 0, \"aer\": 0}\n",
    "    res = process_language_pair_verses(a_file, i_file)\n",
    "    for i,verse in enumerate(res.keys()):\n",
    "        if verse in alignments:\n",
    "            #inter_aligns = autils.get_aligns(editf1, editf2, alignments[verse])\n",
    "            #autils.calc_and_update_alignment_score(inter_aligns, pros[verse], surs[verse], measures['intersectionold'])\n",
    "            #prev = alignments[verse]['eng-x-bible-mixed']['fra-x-bible-louissegond']\n",
    "            #alignments[verse]['eng-x-bible-mixed']['fra-x-bible-louissegond'] = res[verse]\n",
    "            #inter_aligns = autils.get_aligns(editf1, editf2, alignments[verse])\n",
    "            #autils.calc_and_update_alignment_score(inter_aligns, pros[verse], surs[verse], measures['intersectionnew'])\n",
    "            #alignments[verse]['eng-x-bible-mixed']['fra-x-bible-louissegond'] = prev\n",
    "            \n",
    "            alignments[verse]['eng-x-bible-mixed']['fra-x-bible-louissegond'] = res[verse]\n",
    "            \n",
    "    #print(measures['intersectionold'])\n",
    "    #print(measures['intersectionnew'])\n",
    "\n",
    "update_alignments('500000', verse_alignments_inter)"
   ],
   "outputs": [
    {
     "output_type": "stream",
     "name": "stdout",
     "text": [
      "going to process /mounts/work/ayyoob/alignment/output_various_size/eflomal_aligns/eng_fra_word_500000.gdfa, /mounts/work/ayyoob/alignment/output_various_size/index_eng_fra.txt_500000\n",
      "{'p_hit_count': 4503, 's_hit_count': 4394, 'total_hit_count': 4639, 'gold_s_hit_count': 8428, 'prec': 0.971, 'rec': 0.521, 'f1': 0.678, 'aer': 0.319}\n",
      "{'p_hit_count': 5964, 's_hit_count': 5617, 'total_hit_count': 6710, 'gold_s_hit_count': 8428, 'prec': 0.889, 'rec': 0.666, 'f1': 0.762, 'aer': 0.235}\n"
     ]
    }
   ],
   "metadata": {}
  },
  {
   "cell_type": "code",
   "execution_count": 1,
   "source": [
    "import torch, sys\n",
    "sys.path.insert(0, '../')\n",
    "from my_utils import gpu_utils\n",
    "import importlib, gc\n",
    "from my_utils.alignment_features import *\n",
    "import my_utils.alignment_features as afeatures\n",
    "importlib.reload(afeatures)\n",
    "import gnn_utils.graph_utils as gutils"
   ],
   "outputs": [
    {
     "output_type": "stream",
     "name": "stderr",
     "text": [
      "/mounts/Users/student/ayyoob/anaconda3/envs/multalign_graph/lib/python3.7/site-packages/gensim/similarities/__init__.py:15: UserWarning: The gensim.similarities.levenshtein submodule is disabled, because the optional Levenshtein package <https://pypi.org/project/python-Levenshtein/> is unavailable. Install Levenhstein (e.g. `pip install python-Levenshtein`) to suppress this warning.\n",
      "  warnings.warn(msg)\n"
     ]
    }
   ],
   "metadata": {}
  },
  {
   "cell_type": "code",
   "execution_count": 2,
   "source": [
    "# !pip install torch-geometric\n",
    "# !pip install tensorboardX\n",
    "\n",
    "# !wget https://bin.equinox.io/c/4VmDzA7iaHb/ngrok-stable-linux-amd64.zip\n",
    "# !unzip ngrok-stable-linux-amd64.zip\n",
    "\n",
    "#  print(torch.version.cuda)\n",
    "#  print(torch.__version__)    \n",
    "\n",
    "dev = torch.device('cuda' if torch.cuda.is_available() else 'cpu')\n",
    "free_gpu1 = '6'\n",
    "free_gpu2 = '5'\n"
   ],
   "outputs": [],
   "metadata": {}
  },
  {
   "cell_type": "code",
   "execution_count": 9,
   "source": [
    "\n",
    "import torch\n",
    "import torch.nn as nn\n",
    "import torch.nn.functional as F\n",
    "\n",
    "import torch_geometric.nn as pyg_nn\n",
    "import torch_geometric.utils as pyg_utils\n",
    "\n",
    "import time\n",
    "from datetime import datetime\n",
    "\n",
    "import networkx as nx\n",
    "import numpy as np\n",
    "import torch\n",
    "import torch.optim as optim\n",
    "\n",
    "from torch_geometric.datasets import TUDataset\n",
    "from torch_geometric.datasets import Planetoid\n",
    "from torch_geometric.data import DataLoader\n",
    "\n",
    "import torch_geometric.transforms as T\n",
    "\n",
    "from tensorboardX import SummaryWriter\n",
    "from sklearn.manifold import TSNE\n",
    "# import matplotlib.pyplot as plt\n",
    "\n",
    "\n"
   ],
   "outputs": [],
   "metadata": {
    "tags": []
   }
  },
  {
   "cell_type": "code",
   "execution_count": 2,
   "source": [
    "from my_utils import align_utils as autils, utils\n",
    "import argparse\n",
    "from multiprocessing import Pool\n",
    "\n",
    "# set random seed\n",
    "config_file = \"/mounts/Users/student/ayyoob/Dokumente/code/pbc-ui-demo/config_pbc.ini\"\n",
    "utils.setup(config_file)\n",
    "\n",
    "params = argparse.Namespace()\n",
    "params.gold_file = \"/mounts/Users/student/ayyoob/Dokumente/code/pbc_utils/data/eng_fra_pbc/eng-fra.gold\"\n",
    "params.editions_file =  \"/mounts/Users/student/ayyoob/Dokumente/code/pbc_utils/data/helfi/splits/helfi_lang_list.txt\"\n",
    "params.core_count = 50\n",
    "\n",
    "pros, surs = autils.load_gold(params.gold_file)\n",
    "all_verses = list(pros.keys())\n",
    "editions, langs = autils.load_simalign_editions(params.editions_file)\n",
    "current_editions = [editions[lang] for lang in langs]\n",
    "\n",
    "def get_pruned_verse_alignments(args):\n",
    "    verse, current_editions = args\n",
    "    verse_aligns_inter = autils.get_verse_alignments(verse)\n",
    "    verse_aligns_gdfa = autils.get_verse_alignments(verse, gdfa=True)\n",
    "\n",
    "    autils.prune_non_necessary_alignments(verse_aligns_inter, current_editions)\n",
    "    autils.prune_non_necessary_alignments(verse_aligns_gdfa, current_editions)\n",
    "\n",
    "    gc.collect()\n",
    "    return verse_aligns_inter, verse_aligns_gdfa\n",
    "    \n",
    "\n",
    "verse_alignments_inter = {}\n",
    "verse_alignments_gdfa = {}\n",
    "args = []\n",
    "for i,verse in enumerate(all_verses):\n",
    "    args.append((verse, current_editions[:]))\n",
    "\n",
    "with Pool(30) as p:\n",
    "    all_res = p.map(get_pruned_verse_alignments, args)\n",
    "\n",
    "for i,verse in enumerate(all_verses):\n",
    "    verse_aligns_inter, verse_aligns_gdfa = all_res[i]\n",
    "    \n",
    "    verse_alignments_inter[verse] = verse_aligns_inter\n",
    "    verse_alignments_gdfa[verse] = verse_aligns_gdfa\n",
    "\n",
    "for verse in all_verses[:]:\n",
    "    if len(verse_alignments_inter[verse].keys()) < 2:\n",
    "        all_verses.remove(verse)\n",
    "        \n",
    "utils.LOG.info(\"done\")"
   ],
   "outputs": [
    {
     "output_type": "stream",
     "name": "stderr",
     "text": [
      "2021-09-03 16:22:32,901 - analytics - INFO - done\n"
     ]
    }
   ],
   "metadata": {
    "tags": []
   }
  },
  {
   "cell_type": "code",
   "execution_count": 5,
   "source": [
    "class DeeperGCN(torch.nn.Module):\n",
    "    def __init__(self,node_dim, edge_dim, hidden_channels, num_layers, features):\n",
    "        super(DeeperGCN, self).__init__()\n",
    "\n",
    "        self.node_encoder = nn.Linear(node_dim, hidden_channels)\n",
    "        self.edge_encoder = nn.Linear(edge_dim, hidden_channels)\n",
    "\n",
    "        self.layers = torch.nn.ModuleList()\n",
    "        for i in range(1, num_layers + 1):\n",
    "            conv = pyg_nn.GENConv(hidden_channels, hidden_channels, aggr='softmax',\n",
    "                           t=1.0, learn_t=True, num_layers=2, norm='layer')\n",
    "            norm = nn.LayerNorm(hidden_channels, elementwise_affine=True)\n",
    "            act = nn.ReLU(inplace=True)\n",
    "\n",
    "            layer = pyg_nn.DeepGCNLayer(conv, norm, act, block='res+', dropout=0.1,\n",
    "                                 ckpt_grad=i % 3)\n",
    "            self.layers.append(layer)\n",
    "\n",
    "        self.already_inited = False\n",
    "        self.prev_edge_index = None\n",
    "        self.prev_edge_attr = None\n",
    "\n",
    "        self.feature_encoder = FeatureEncoding(features)\n",
    "        \n",
    "    def forward(self, x, edge_index):\n",
    "        x = self.feature_encoder(x)\n",
    "        x = self.node_encoder(x)\n",
    "\n",
    "        if not self.already_inited or self.prev_edge_index.data_ptr() != edge_index.data_ptr():\n",
    "            edge_index_np = edge_index.cpu().numpy()\n",
    "            val_indices = x_edge_np[edge_index_np[0, :], edge_index_np[1, :]]\n",
    "            vals = x_edge_vals[val_indices, :]\n",
    "            vals = vals.reshape((vals.shape[1], vals.shape[2]))\n",
    "            self.prev_edge_attr = vals.to(dev)\n",
    "            self.prev_edge_index = edge_index\n",
    "            self.already_inited = True\n",
    "        edge_attr = self.edge_encoder(self.prev_edge_attr)\n",
    "\n",
    "        x = self.layers[0].conv(x, edge_index, edge_attr)\n",
    "\n",
    "        for layer in self.layers[1:]:\n",
    "            x = layer(x, edge_index, edge_attr)\n",
    "\n",
    "        x = self.layers[0].act(self.layers[0].norm(x))\n",
    "        # x = F.dropout(x, p=0.1, training=self.training)\n",
    "\n",
    "        return x"
   ],
   "outputs": [],
   "metadata": {}
  },
  {
   "cell_type": "code",
   "execution_count": 6,
   "source": [
    "class Discriminator(torch.nn.Module):\n",
    "    def __init__(self, in_channels, hidden_channels, out_channels):\n",
    "        super(Discriminator, self).__init__()\n",
    "        self.lin1 = torch.nn.Linear(in_channels, hidden_channels)\n",
    "        self.lin2 = torch.nn.Linear(hidden_channels, hidden_channels)\n",
    "        self.lin3 = torch.nn.Linear(hidden_channels, out_channels)\n",
    "\n",
    "    def forward(self, x):\n",
    "        x = F.relu(self.lin1(x))\n",
    "        x = F.relu(self.lin2(x))\n",
    "        x = self.lin3(x)\n",
    "        return x\n"
   ],
   "outputs": [],
   "metadata": {}
  },
  {
   "cell_type": "code",
   "execution_count": 7,
   "source": [
    "class Encoder2(torch.nn.Module):\n",
    "    def __init__(self, in_channels, out_channels):\n",
    "        super(Encoder2, self).__init__()\n",
    "        self.conv1 = pyg_nn.GATConv(in_channels, 2*out_channels)\n",
    "        self.conv2 = pyg_nn.GATConv(2 * out_channels , out_channels)\n",
    "\n",
    "    def forward(self, x, edge_index):\n",
    "        x = F.elu(self.conv1(x, edge_index, ))\n",
    "        return self.conv2(x, edge_index)\n",
    "\n",
    "class Encoder(torch.nn.Module):\n",
    "    def __init__(self, in_channels, out_channels, features, n_head = 2, edge_feature_dim = 0,):\n",
    "        super(Encoder, self).__init__()\n",
    "        #self.lin = nn.Linear(in_channels, out_channels)\n",
    "        self.conv1 = pyg_nn.GATConv(in_channels, 2*out_channels, heads= n_head)\n",
    "        self.conv2 = pyg_nn.GATConv(2 * n_head *  out_channels , out_channels, heads= 1)\n",
    "        #self.conv3 = pyg_nn.GATConv(2 * n_head *  out_channels , out_channels, heads= n_head)\n",
    "        self.f_embedding = nn.Linear(in_channels, in_channels)\n",
    "        \n",
    "\n",
    "        self.feature_encoder = afeatures.FeatureEncoding(features)\n",
    "        #self.already_inited = False\n",
    "        #self.prev_edge_index = None\n",
    "        #self.prev_edge_attr = None\n",
    "\n",
    "    def forward(self, x, edge_index):\n",
    "        x = self.feature_encoder(x, dev)\n",
    "        x = F.relu(self.f_embedding(x))\n",
    "        #if not self.already_inited or self.prev_edge_index.data_ptr() != edge_index.data_ptr():\n",
    "        #    edge_index_np = edge_index.cpu().numpy()\n",
    "        #    val_indices = x_edge_np[edge_index_np[0, :], edge_index_np[1, :]]\n",
    "        #    vals = x_edge_vals[val_indices, :]\n",
    "        #    vals = vals.reshape((vals.shape[1], vals.shape[2]))\n",
    "        #    self.prev_edge_attr = vals.to(dev)\n",
    "        #    self.prev_edge_index = edge_index\n",
    "        #    self.already_inited = True\n",
    "        #x = self.lin(x)\n",
    "        x = F.elu(self.conv1(x, edge_index, ))\n",
    "        #x = self.conv_gin(x, edge_index)\n",
    "        #x = F.elu(self.conv2(x, edge_index))\n",
    "        return self.conv2(x, edge_index)#, self.conv3(x, edge_index)\n",
    "    \n",
    "\n",
    "def train(epoch):\n",
    "    global optimizer\n",
    "    total_loss = 0\n",
    "    cluster_loss = 0\n",
    "    model.train()\n",
    "\n",
    "    #for i in tqdm(range(int(train_pos_edge_index_permed.shape[1]/batch_size)+1)):\n",
    "    for i,batch_ in enumerate(tqdm(data_loader)):\n",
    "        for verse in batch_:\n",
    "            batch = batch_[verse]\n",
    "            optimizer.zero_grad()\n",
    "                \n",
    "            z = model.encode(batch['x'].to(dev), batch['edge_index'].to(dev))\n",
    "            #z1 = encoder2(z, torch.tensor(batch['intra_sent_edges'], dtype=torch.long).to(dev))\n",
    "            #z = torch.cat((z,z1), dim=1)\n",
    "            #for j in range(5):\n",
    "            #    discriminator_optimizer.zero_grad()\n",
    "            #    discriminator_loss = model.discriminator_loss(z) / (int(train_pos_edge_index_permed.shape[1]/batch_size)+1)\n",
    "            #    discriminator_loss.backward()\n",
    "            #    discriminator_optimizer.step()\n",
    "            \n",
    "            pos = torch.tensor(batch['pos'], dtype=torch.long).to(dev)\n",
    "            neg = torch.tensor(batch['neg'], dtype=torch.long).to(dev)\n",
    "            #nodes = torch.tensor(list(batch['nodes']), dtype=torch.long).to(dev)\n",
    "\n",
    "            loss1 = model.recon_loss( z, pos, neg) #TODO try providing better neg edges\n",
    "            #ortho_loss, mincut_loss, entropy_loss = model.decoder.clustering_loss(z, nodes, batch['adjacency'])\n",
    "            \n",
    "            loss =   loss1 * pos.shape[1] #+ ortho_loss + mincut_loss #+ 0.05 * entropy_loss #* pos.shape[1]/train_neg_edge_index.shape[1] #+ model.reg_loss(z)/(int(train_pos_edge_index_permed.shape[1]/batch_size)+1)# + (1 / x.shape[0]) * model.kl_loss()\n",
    "\n",
    "            loss.backward()\n",
    "            optimizer.step()\n",
    "            total_loss += loss.item() \n",
    "            cluster_loss += loss1\n",
    "\n",
    "            \n",
    "            #if epoch > 0:\n",
    "            #    if i  % 500 == 499:\n",
    "            #        alignment_test(epoch, test_dataset.edge_index, editf1, editf2, test_verses, test_nodes_map,\n",
    "            #                dev, model, x_test, pros, surs, verse_alignments_inter, verse_alignments_gdfa, writer, gnn_dataset.verse_info)\n",
    "            #        # decoder.set_objective('sequence_prediction')\n",
    "            #        # auc, ap = test(edge_index_seq_sent, edge_index_seq_sent_neg, epoch)\n",
    "            #        # print('Epoch: {:03d}, AUC: {:.4f}, AP: {:.4f}'.format(epoch, auc, ap))\n",
    "            #        # if epoch > 4:\n",
    "            #        #     decoder.set_objective('link_prediction')\n",
    "            #        model.train()\n",
    "            \n",
    "            #if (i+1)*batch_size > train_pos_edge_index.shape[1]:\n",
    "            #    break\n",
    "\n",
    "            if i % 50 == 0:\n",
    "                gc.collect()\n",
    "                with torch.no_grad():\n",
    "                    torch.cuda.empty_cache()\n",
    "    \n",
    "    writer.add_scalar(\"loss\", total_loss, epoch)\n",
    "    print(f\"train loss: {total_loss}\")\n",
    "    print(f\"cluster loss: {cluster_loss}\")\n",
    "\n",
    "def test(pos_edge_index, neg_edge_index, epoch):\n",
    "    model.eval()\n",
    "    tot_auc = tot_ap = 0\n",
    "    with torch.no_grad():\n",
    "        z = model.encode(x_test, torch.cat((train_pos_edge_index, neg_edge_index), dim=1).to(dev))\n",
    "        \n",
    "        neg_pos_coeff = neg_edge_index.shape[1]/ pos_edge_index.shape[1]\n",
    "        for i in (range(int(pos_edge_index.shape[1]/batch_size)+1)):\n",
    "            auc,ap = model.test(z, pos_edge_index[:, i*batch_size:(i+1)*batch_size].to(dev),\n",
    "                                neg_edge_index[:, int(i*batch_size*neg_pos_coeff):int((i+1)*batch_size*neg_pos_coeff)].to(dev))\n",
    "\n",
    "            tot_auc += auc * pos_edge_index[:, i*batch_size:(i+1)*batch_size].shape[1]\n",
    "            tot_ap += ap *  pos_edge_index[:, i*batch_size:(i+1)*batch_size].shape[1]\n",
    "\n",
    "\n",
    "    return tot_auc/pos_edge_index.shape[1], tot_ap/pos_edge_index.shape[1]\n",
    "\n"
   ],
   "outputs": [],
   "metadata": {}
  },
  {
   "cell_type": "code",
   "execution_count": 8,
   "source": [
    "EPS = 1e-15\n",
    "\n",
    "def _diag(x):\n",
    "    eye = torch.eye(x.size(0)).type_as(x)\n",
    "    out = eye * x.unsqueeze(1).expand(x.size(0), x.size(0))\n",
    "    return out\n",
    "\n",
    "class Decoder(nn.Module):\n",
    "    def __init__(self, input_size, hidden_size, edge_features, n_cluster=32):\n",
    "        super(Decoder, self).__init__()\n",
    "        self.feature_encoder = afeatures.FeatureEncoding(edge_features)\n",
    "        self.features_size = sum([x.out_dim for x in edge_features])\n",
    "        self.representataion_size = (input_size - self.features_size)\n",
    "\n",
    "        self.transfer = nn.Sequential(nn.Linear(input_size, hidden_size*2), nn.ReLU(), nn.Dropout(drop_out),\n",
    "                            nn.Linear(hidden_size*2, hidden_size), nn.ReLU(), nn.Dropout(drop_out),\n",
    "                            nn.Linear(hidden_size, 1))\n",
    "\n",
    "        #self.transfer = nn.Sequential(nn.ELU(), nn.Linear(n_cluster*2, 1), nn.ELU())\n",
    "\n",
    "        #self.n_cluster = n_cluster                \n",
    "        #self.cluster = nn.Sequential(nn.Linear(int((input_size - len(edge_features))/2), hidden_size*2), nn.ELU(), nn.Linear(hidden_size*2, 2*n_cluster))\n",
    "        #self.actual_cluster = nn.Linear(2*n_cluster, n_cluster)\n",
    "        #self.cos = nn.CosineSimilarity(dim=1)        \n",
    "        #self.dist = nn.PairwiseDistance()\n",
    "        #self.gnn_transform = nn.Sequential(nn.Linear(self.representataion_size, hidden_size), nn.ReLU(), nn.Dropout(drop_out))\n",
    "        self.counter = 0\n",
    "\n",
    "        self.objective = 'link_prediction'\n",
    "    def forward(self, z, edge_index, sigmoid = True):\n",
    "        if self.features_size > 0:\n",
    "            if self.objective == 'link_prediction':\n",
    "                edge_index_np = edge_index.cpu().numpy()\n",
    "                val_indices = x_edge_np[edge_index_np[0, :], edge_index_np[1, :]]\n",
    "                val_indices = np.squeeze(np.asarray(val_indices))\n",
    "                vals = x_edge_vals2[val_indices, :]\n",
    "            elif self.objective == 'sequence_prediction':\n",
    "                vals = torch.zeros((edge_index.shape[1], self.features_size)).to(dev)\n",
    "\n",
    "\n",
    "            features = self.feature_encoder(vals.to(dev), dev)\n",
    "            #features = vals.to(dev)\n",
    "            h1 = z[edge_index[0, :]]\n",
    "            h2 = z[edge_index[1, :]]\n",
    "\n",
    "            self.counter += 1\n",
    "\n",
    "            #rep = self.gnn_transform(torch.cat((h1, h2), dim=1))\n",
    "            res = self.transfer(torch.cat((self.cluster(h1), self.cluster(h2), features), dim=1))\n",
    "            #res = self.transfer(features)\n",
    "        else:\n",
    "            h1 = z[edge_index[0, :]]\n",
    "            h2 = z[edge_index[1, :]]\n",
    "\n",
    "            \n",
    "            res = self.transfer(torch.cat((h1, h2), dim=-1))\n",
    "\n",
    "            #res = self.transfer(torch.cat((self.cluster(h1), self.cluster(h2)), dim=1))\n",
    "            #res = torch.sum(torch.pow(F.softmax(self.cluster(h1)/1, dim=1) - F.softmax(self.cluster(h2)/1, dim=1), 2), dim=1)\n",
    "            #res = self.cos(self.cluster(h1), self.cluster(h2))\n",
    "            #res = - self.dist(self.cluster(h1), self.cluster(h2))\n",
    "            #print(res)\n",
    "        res = torch.sigmoid(res) if sigmoid else res\n",
    "        return res\n",
    "\n",
    "    def set_objective(self, objective):\n",
    "        self.objective = objective\n",
    "        \n",
    "    def clustering_loss(self, z, nodes, adjacency):\n",
    "        s = self.actual_cluster(torch.relu(self.cluster(z[nodes])))\n",
    "        s = torch.softmax(s, dim=-1)\n",
    "        entropy_loss = (-s * torch.log(s + EPS)).sum(dim=-1).mean()\n",
    "\n",
    "        ss = torch.matmul(s.transpose(0, 1), s)\n",
    "        i_s = torch.eye(self.n_cluster).type_as(ss)\n",
    "        ortho_loss = torch.norm(\n",
    "            ss / torch.norm(ss, dim=(-1, -2), keepdim=True) -\n",
    "            i_s / torch.norm(i_s), dim=(-1, -2))\n",
    "        ortho_loss = torch.mean(ortho_loss)\n",
    "\n",
    "        adjacency = adjacency.to(dev).float()\n",
    "        out_adj = torch.matmul(s.transpose(0, 1),torch.sparse.mm(adjacency, s))\n",
    "        # MinCUT regularization.\n",
    "        mincut_num = torch.trace(out_adj)\n",
    "        #d_flat = torch.einsum('ij->i', adjacency) # FIXME since I don't consider the whole adjacency matrix this could be a source of problem\n",
    "        d_flat = torch.sparse.sum(adjacency, dim=1).to_dense()\n",
    "        d = _diag(d_flat)\n",
    "        mincut_den = torch.trace(\n",
    "            torch.matmul(torch.matmul(s.transpose(0, 1), d), s))\n",
    "        mincut_loss = -(mincut_num / mincut_den)\n",
    "        mincut_loss = torch.mean(mincut_loss)\n",
    "\n",
    "        return ortho_loss, mincut_loss, entropy_loss\n",
    "    \n",
    "    def get_alignments(self, z, edge_index):\n",
    "        h1 = z[edge_index[0, :]]\n",
    "        h2 = z[edge_index[1, :]]\n",
    "        \n",
    "        h1 = torch.softmax(self.cluster(h1), dim=1)\n",
    "        h2 = torch.softmax(self.cluster(h2), dim=1)\n",
    "\n",
    "        h1_max = torch.argmax(h1, dim=1)\n",
    "        h2_max = torch.argmax(h2, dim=1)\n",
    "\n",
    "        h1_cluster = torch.zeros(*h1.shape)\n",
    "        h2_cluster = torch.zeros(*h2.shape)\n",
    "\n",
    "        h1_cluster[range(h1.size(0)), h1_max] = 1\n",
    "        h2_cluster[range(h2.size(0)), h2_max] = 1\n",
    "        res = torch.max(h1_cluster * h2_cluster, dim=1).values\n",
    "\n",
    "        #res = h1 * h2\n",
    "        #res = torch.sum(res, dim = 1)\n",
    "        return torch.unsqueeze(res, dim=1)"
   ],
   "outputs": [],
   "metadata": {}
  },
  {
   "cell_type": "code",
   "execution_count": 9,
   "source": [
    "import pickle\n",
    "\n",
    "\n",
    "\n",
    "train_verses = all_verses[:]\n",
    "test_verses = all_verses[:] \n",
    "editf1 = \"eng-x-bible-mixed\"\n",
    "editf2 = 'fra-x-bible-louissegond'\n",
    "\n",
    "\n",
    "small_editions = current_editions[:]\n",
    "\n",
    "if 'jpn-x-bible-newworld' in small_editions:\n",
    "    small_editions.remove('jpn-x-bible-newworld')\n",
    "if 'grc-x-bible-unaccented' in small_editions:\n",
    "    small_editions.remove('grc-x-bible-unaccented')\n",
    "\n",
    "    \n",
    "train_dataset = torch.load(\"/mounts/work/ayyoob/models/gnn/dataset_eng_fra_full_community.pickle\", map_location=torch.device('cpu'))\n",
    "#train_dataset, train_nodes_map = create_dataset(train_verses, verse_alignments_inter, small_editions)\n",
    "features = train_dataset.features\n",
    "train_nodes_map = train_dataset.nodes_map\n",
    "#edge_index_intra_sent = train_dataset.edge_index_intra_sent\n",
    "#test_edge_index_intra_sent = edge_index_intra_sent\n",
    "\n",
    "# test_dataset, test_nodes_map = create_dataset(test_verses, verse_alignments_inter, small_editions)\n",
    "test_dataset, test_nodes_map = train_dataset, train_nodes_map\n",
    "test_verses = train_verses\n",
    "print(train_dataset.x.shape)\n",
    "\n",
    "# gutils.augment_features(test_dataset)\n",
    "# x_edge, features_edge = gutils.create_edge_attribs(train_nodes_map, train_verses, small_editions, verse_alignments_inter, train_dataset.x.shape[0])\n",
    "# with open(\"./dataset.pickle\", 'wb') as of:\n",
    "#     pickle.dump(train_dataset, of)\n"
   ],
   "outputs": [
    {
     "output_type": "stream",
     "name": "stdout",
     "text": [
      "torch.Size([355584, 109])\n"
     ]
    },
    {
     "output_type": "error",
     "ename": "ZeroDivisionError",
     "evalue": "division by zero",
     "traceback": [
      "\u001b[0;31m---------------------------------------------------------------------------\u001b[0m",
      "\u001b[0;31mZeroDivisionError\u001b[0m                         Traceback (most recent call last)",
      "\u001b[0;32m<ipython-input-9-e9304349ad62>\u001b[0m in \u001b[0;36m<module>\u001b[0;34m\u001b[0m\n\u001b[1;32m     33\u001b[0m \u001b[0;31m# with open(\"./dataset.pickle\", 'wb') as of:\u001b[0m\u001b[0;34m\u001b[0m\u001b[0;34m\u001b[0m\u001b[0;34m\u001b[0m\u001b[0m\n\u001b[1;32m     34\u001b[0m \u001b[0;31m#     pickle.dump(train_dataset, of)\u001b[0m\u001b[0;34m\u001b[0m\u001b[0;34m\u001b[0m\u001b[0;34m\u001b[0m\u001b[0m\n\u001b[0;32m---> 35\u001b[0;31m \u001b[0;36m1\u001b[0m\u001b[0;34m/\u001b[0m\u001b[0;36m0\u001b[0m\u001b[0;34m\u001b[0m\u001b[0;34m\u001b[0m\u001b[0m\n\u001b[0m",
      "\u001b[0;31mZeroDivisionError\u001b[0m: division by zero"
     ]
    }
   ],
   "metadata": {
    "tags": []
   }
  },
  {
   "cell_type": "code",
   "execution_count": null,
   "source": [
    "# edges_intra_sent, edges_seq_sent = get_inter_sentence_connections(train_dataset.nodes_map)\n",
    "# edge_index_seq_sent = torch.tensor(edges_seq_sent, dtype=torch.long)\n",
    "# train_dataset.edge_index_seq_sent = edge_index_seq_sent\n",
    "# torch.cuda.set_device(int(free_gpu1))\n",
    "# edge_index_intra_sent = torch.tensor(edges_intra_sent, dtype=torch.long).to(dev)\n",
    "# train_dataset.edge_index_intra_sent = edge_index_intra_sent\n",
    "# test_edge_index_intra_sent = train_dataset.edge_index_intra_sent\n",
    "# print(train_dataset.edge_index_intra_sent.shape)"
   ],
   "outputs": [],
   "metadata": {
    "tags": []
   }
  },
  {
   "cell_type": "code",
   "execution_count": null,
   "source": [
    "import pickle\n",
    "import torch\n",
    "## with open(\"./features_edge.pickle\", 'wb') as of:\n",
    "##     pickle.dump(features_edge, of)\n",
    "\n",
    "## print('done first')\n",
    "## with open(\"/mounts/work/ayyoob/models/gnn//x_edge.pickle\", 'wb') as of:\n",
    "##     pickle.dump(x_edge, of)\n",
    "\n",
    "#with open(\"./features_edge.pickle\", 'rb') as inf:\n",
    "#    features_edge = pickle.load(inf)\n",
    "\n",
    "\n",
    "## indices = [[],[]]\n",
    "## values = []\n",
    "\n",
    "## print('going to create sparse matrix representation')\n",
    "## for i in range(len(ss)):\n",
    "##     print(i)\n",
    "##     for j in range(len(ss)):\n",
    "##         if ss[i][j] != None and ss[i][j] != []:\n",
    "##             indices[0].append(i)\n",
    "##             indices[1].append(j)\n",
    "##             values.append(ss[i][j])\n",
    "\n",
    "\n",
    "## with open(\"./edge_attribs_sparse_indices.pickle\", 'wb') as of:\n",
    "##     pickle.dump(indices, of)\n",
    "\n",
    "## with open(\"./edge_attribs_sparse_values.pickle\", 'wb') as of:\n",
    "##     pickle.dump(values, of)\n",
    "\n",
    "## print('loading indices')\n",
    "## with open(\"./edge_attribs_sparse_indices.pickle\", 'rb') as inf:\n",
    "##     indices = pickle.load(inf)\n",
    "\n",
    "## print('loading values')\n",
    "## with open(\"./edge_attribs_sparse_values.pickle\", 'rb') as inf:\n",
    "##     values = pickle.load(inf)\n",
    "\n",
    "## print('creating sparse tensor')\n",
    "## s = torch.sparse_coo_tensor(indices, values, (67800, 67800, len(ff)), dtype=torch.float16)\n",
    "## print('saving sparse matrix')\n",
    "## torch.save(s, \"/mounts/work/ayyoob/models/gnn/edge_attribs_tensor16.pickle\")\n",
    "\n",
    "#print('loading sparse matrix')\n",
    "#x_edge = torch.load(\"/mounts/work/ayyoob/models/gnn/edge_attribs_tensor.pickle\")\n",
    "\n",
    "\n",
    "#train_dataset.features_edge = features_edge\n",
    "\n"
   ],
   "outputs": [],
   "metadata": {
    "tags": []
   }
  },
  {
   "cell_type": "code",
   "execution_count": null,
   "source": [
    "from scipy.sparse import csr_matrix\n",
    "import numpy as np\n",
    "\n",
    "#x_edge = x_edge.coalesce()\n",
    "#torch.cuda.set_device(1)\n",
    "#x_edge_vals = x_edge.values()\n",
    "#indices_np = x_edge.indices().numpy()\n",
    "#print(indices_np.shape)\n",
    "#x_edge_np = csr_matrix((np.arange(indices_np.shape[1]), (indices_np[0, :], indices_np[1,:])), shape=(67800, 67800))\n",
    "\n",
    "##x_edge_vals = x_edge_vals.cpu()\n",
    "##maxes = torch.max(x_edge_vals,0)\n",
    "##mins = torch.min(x_edge_vals,0)\n",
    "##x_edge_vals_d = torch.div(x_edge_vals, maxes.values)\n",
    "\n",
    "#print('creating targets')\n",
    "#targets = torch.zeros(indices_np.shape[1], dtype=torch.int64)\n",
    "#pos_indices = x_edge_np[train_dataset.edge_index.cpu().numpy()[0,:], train_dataset.edge_index.cpu().numpy()[1,:]]\n",
    "#pos_indices = np.squeeze(np.asarray(pos_indices))\n",
    "#targets[pos_indices] = 1\n",
    "#print(\"done\")"
   ],
   "outputs": [],
   "metadata": {}
  },
  {
   "cell_type": "code",
   "execution_count": null,
   "source": [
    " # run on delta, extract w2v features\n",
    "#sys.path.insert(0, '../')\n",
    "#import pickle\n",
    "#from gensim.models import Word2Vec\n",
    "#from app.document_retrieval import DocumentRetriever\n",
    "#from my_utils import utils\n",
    "#config_file = \"/mounts/Users/student/ayyoob/Dokumente/code/pbc-ui-demo/config_pbc.ini\"\n",
    "#utils.setup(config_file)\n",
    "#import torch\n",
    "#import my_utils.alignment_features as feat_utils\n",
    "\n",
    "#doc_retriever = DocumentRetriever()\n",
    "\n",
    "#model_w2v = Word2Vec.load(\"word2vec_83langs_15epoch.model\")\n",
    "#train_dataset = torch.load(\"/mounts/work/ayyoob/models/gnn/dataset_en_fr_full.pickle\")\n",
    "#nodes_map = train_dataset.nodes_map\n",
    "\n",
    "#x = [[] for i in range(train_dataset.x.shape[0])]\n",
    "#for edition_f in nodes_map:\n",
    "#    utils.LOG.info(f\"processing edition {edition_f}\")\n",
    "#    for verse in nodes_map[edition_f]:         #toknom nodecount\n",
    "#        line = doc_retriever.retrieve_document(f'{verse}@{edition_f}')\n",
    "#        line = line.strip().split()\n",
    "\n",
    "#        for tok in nodes_map[edition_f][verse]:\n",
    "#            w_emb = model_w2v.wv[f'{edition_f[:3]}:{line[tok]}']\n",
    "#            x[nodes_map[edition_f][verse][tok]].extend(w_emb)\n",
    "\n",
    "#x = torch.tensor(x, dtype=torch.float)\n",
    "#train_dataset.x = torch.cat((train_dataset.x, x), dim=1)\n",
    "#train_dataset.features.append(feat_utils.ForwardFeature(50, 100, 'W2v'))\n",
    "\n",
    "#print(x.shape, train_dataset.x.shape, len(train_dataset.features))\n",
    "\n",
    "#torch.save(train_dataset, \"/mounts/work/ayyoob/models/gnn/dataset_en_fr_full.pickle\")"
   ],
   "outputs": [],
   "metadata": {}
  },
  {
   "cell_type": "code",
   "execution_count": null,
   "source": [
    "## Add node embedding features\n",
    "#importlib.reload(gutils)\n",
    "#x_,features_ = gutils.get_embedding_node_features(train_dataset.nodes_map, train_verses, small_editions, verse_alignments_inter, x_edge_np, x_edge_vals.cpu().numpy())\n",
    "#train_dataset.x = torch.cat((train_dataset.x,x_), dim=1)\n",
    "#train_dataset.features.extend(features_)"
   ],
   "outputs": [],
   "metadata": {}
  },
  {
   "cell_type": "code",
   "execution_count": 14,
   "source": [
    "from tqdm import tqdm\n",
    "from torch.utils.data import Dataset, DataLoader\n",
    "import random\n",
    "\n",
    "class GNNDataset(Dataset):\n",
    "\n",
    "    def __init__(self, dataset, verses, edit_files, alignments, group_size = 360):\n",
    "        self.verses = list(verses)\n",
    "        self.edit_files = list(edit_files)\n",
    "        self.nodes_map = dataset.nodes_map\n",
    "\n",
    "        self.items = self.calculate_size(self.nodes_map, self.verses, self.edit_files, group_size)\n",
    "        self.alignments = alignments\n",
    "        self.verse_info = {}\n",
    "        self.calculate_verse_stats(verses, edit_files, alignments, dataset)\n",
    "    \n",
    "    def calculate_size(self, nodes_map, verses, edit_files, group_size):\n",
    "        res = []\n",
    "        item = []\n",
    "        self.not_presented = []\n",
    "        for verse in verses:\n",
    "            if len(item) > 0:\n",
    "                res.append(item)\n",
    "                item = []\n",
    "            if verse == verses[30]:\n",
    "                self.length = len(res)\n",
    "            for i,editf1 in enumerate(edit_files):\n",
    "                if editf1 not in nodes_map:\n",
    "                    self.not_presented.append(editf1)\n",
    "                    continue\n",
    "                if verse in nodes_map[editf1]:\n",
    "                    for editf2 in edit_files[i+1:]:\n",
    "                        if editf2 not in nodes_map:\n",
    "                            self.not_presented.append(editf2)\n",
    "                            continue\n",
    "                        if verse in nodes_map[editf2]:\n",
    "                            item.append((verse, editf1, editf2))\n",
    "                            if len(item) >= group_size:\n",
    "                                res.append(item)\n",
    "                                item = []\n",
    "        \n",
    "        if len(item)>0:\n",
    "            res.append(item)\n",
    "        \n",
    "        print(f\"not presented: {set(self.not_presented)}\")\n",
    "\n",
    "        return res\n",
    "\n",
    "    def calculate_verse_stats(self,verses, edition_files, alignments, dataset):\n",
    "        min_edge = 0\n",
    "        min_nodes = 0\n",
    "        max_nodes = 0\n",
    "        for verse in tqdm(verses):\n",
    "            #utils.LOG.info(f\"adding {verse}\")\n",
    "            edges_tmp = [[],[]]\n",
    "            x_tmp = []\n",
    "            features = []\n",
    "            for i,editf1 in enumerate(edition_files):\n",
    "                for j,editf2 in enumerate(edition_files[i+1:]):\n",
    "                    aligns = autils.get_aligns(editf1, editf2, alignments[verse])\n",
    "                    if aligns != None:\n",
    "                        for align in aligns:\n",
    "                            try:\n",
    "                                n1,_ = gutils.node_nom(verse, editf1, align[0], None, dataset.nodes_map, x_tmp, edition_files, features)\n",
    "                                n2,_ = gutils.node_nom(verse, editf2, align[1], None, dataset.nodes_map, x_tmp, edition_files, features)\n",
    "                                edges_tmp[0].extend([n1, n2])\n",
    "\n",
    "                                max_nodes = max(n1, n2, max_nodes)\n",
    "                            except Exception as e:\n",
    "                                print(editf1, editf2, verse)\n",
    "                                raise(e)\n",
    "\n",
    "            self.verse_info[verse] = {}\n",
    "\n",
    "            self.verse_info[verse]['padding'] = min_nodes\n",
    "\n",
    "            self.verse_info[verse]['x'] = dataset.x[min_nodes:max_nodes+1,:]\n",
    "            \n",
    "            self.verse_info[verse]['edge_index'] = dataset.edge_index[:, min_edge: min_edge + len(edges_tmp[0])] - min_nodes\n",
    "            min_nodes = max_nodes + 1\n",
    "            min_edge = min_edge + len(edges_tmp[0])\n",
    "\n",
    "            \n",
    "    \n",
    "    def __len__(self):\n",
    "        #return self.length\n",
    "        return len(self.items)\n",
    "    \n",
    "    def __getitem__(self, idx):\n",
    "        if torch.is_tensor(idx):\n",
    "            idx = idx.tolist()\n",
    "        \n",
    "        item = self.items[idx]\n",
    "\n",
    "        res_pos = [[],[]]\n",
    "        res_neg = [[],[]]\n",
    "        nodes = set()\n",
    "        for instance in item:\n",
    "            verse, editf1, editf2 = instance\n",
    "            aligns = autils.get_aligns(editf1, editf2, self.alignments[verse]) \n",
    "            if aligns != None:\n",
    "                for align in aligns:\n",
    "                    p1, p2 = align\n",
    "                    n1 = self.nodes_map[editf1][verse][p1] - self.verse_info[verse]['padding']\n",
    "                    n2 = self.nodes_map[editf2][verse][p2] - self.verse_info[verse]['padding']\n",
    "                    res_pos[0].extend([n1,n2])\n",
    "                    res_pos[1].extend([n2,n1])\n",
    "\n",
    "                    n2_ = random.choice( list(self.nodes_map[editf2][verse].values()) ) - self.verse_info[verse]['padding']\n",
    "                    n1_ = random.choice( list(self.nodes_map[editf1][verse].values()) ) - self.verse_info[verse]['padding']\n",
    "                    \n",
    "                    if n2_ != n2:\n",
    "                        res_neg[0].extend([n1, n2_])\n",
    "                        res_neg[1].extend([n2_, n1])\n",
    "                    \n",
    "                    if n1_ != n1:\n",
    "                        res_neg[0].extend([n1_, n2])\n",
    "                        res_neg[1].extend([n2, n1_])\n",
    "                    \n",
    "                    nodes.update([n1, n2, n1_, n2_])\n",
    "                \n",
    "        \n",
    "        return {'pos':res_pos, 'neg':res_neg, 'nodes':nodes, 'verse':verse, 'editf1':editf1, 'editf2':editf2}\n",
    "\n",
    "def collate_fun(input):\n",
    "    res = {}\n",
    "    #all_edits = {}\n",
    "    for item in input:\n",
    "        verse = item['verse'] \n",
    "        if verse not in res:\n",
    "            res[verse] = {'pos': [[],[]], 'neg' : [[],[]],\n",
    "                 'x':gnn_dataset.verse_info[verse]['x'], 'edge_index':gnn_dataset.verse_info[verse]['edge_index']\n",
    "                 ,'intra_sent_edges':[[],[]]}\n",
    "        \n",
    "        res[verse]['pos'][0].extend(item['pos'][0])\n",
    "        res[verse]['pos'][1].extend(item['pos'][1])\n",
    "\n",
    "        res[verse]['neg'][0].extend(item['neg'][0])\n",
    "        res[verse]['neg'][1].extend(item['neg'][1])\n",
    "\n",
    "        #if verse not in all_edits:\n",
    "        #    all_edits[verse] = []\n",
    "\n",
    "        #if item['editf1'] not in all_edits[verse]:\n",
    "        #    e = eval_utils.get_all_edges(verse, item['editf1'], train_dataset.nodes_map, gnn_dataset.verse_info)\n",
    "        #    res[verse]['intra_sent_edges'][0].extend(e[0])\n",
    "        #    res[verse]['intra_sent_edges'][1].extend(e[1])\n",
    "\n",
    "        #if item['editf2'] not in all_edits[verse]:\n",
    "        #    e = eval_utils.get_all_edges(verse, item['editf2'], train_dataset.nodes_map, gnn_dataset.verse_info)\n",
    "        #    res[verse]['intra_sent_edges'][0].extend(e[0])\n",
    "        #    res[verse]['intra_sent_edges'][1].extend(e[1])\n",
    "\n",
    "    #nodes = list(nodes)\n",
    "    #mapping = {node:pos for pos, node in enumerate(nodes)}\n",
    "    ##indices = [[i for i in range(len(res_pos[0]))],[i for i in range(len(res_pos[1]))]]\n",
    "    #indices = [[],[]]\n",
    "    ##adjacency = torch.zeros((len(nodes), len(nodes)), dtype=torch.float)\n",
    "    #for i in range(len(res_pos[0])):\n",
    "    ##    adjacency[mapping[res_pos[0][i]], mapping[res_pos[1][i]]] = 1\n",
    "    #    indices[0].append(mapping[res_pos[0][i]])\n",
    "    #    indices[1].append(mapping[res_pos[1][i]])\n",
    "\n",
    "    #adjacency = torch.sparse_coo_tensor(indices, [1 for i in range(len(res_pos[0]))], (len(nodes), len(nodes)))\n",
    "    return res\n",
    "\n",
    "gnn_dataset = GNNDataset(train_dataset, train_verses, small_editions, verse_alignments_inter)\n",
    "len(gnn_dataset)"
   ],
   "outputs": [
    {
     "output_type": "stream",
     "name": "stderr",
     "text": [
      "  1%|          | 3/250 [00:00<00:08, 28.42it/s]"
     ]
    },
    {
     "output_type": "stream",
     "name": "stdout",
     "text": [
      "not presented: set()\n"
     ]
    },
    {
     "output_type": "stream",
     "name": "stderr",
     "text": [
      "100%|██████████| 250/250 [00:17<00:00, 14.64it/s]\n"
     ]
    },
    {
     "output_type": "execute_result",
     "data": {
      "text/plain": [
       "1180"
      ]
     },
     "metadata": {},
     "execution_count": 14
    }
   ],
   "metadata": {}
  },
  {
   "cell_type": "code",
   "execution_count": 15,
   "source": [
    "from gnn_utils.eval_utils import *\n",
    "train_dataset.train_mask = train_dataset.val_mask = train_dataset.test_mask = train_dataset.y = None\n",
    "test_dataset.train_mask = test_dataset.val_mask = test_dataset.test_mask = test_dataset.y = None\n",
    "\n",
    "# free_gpu = gpu_utils.wait_for_free_gpus()\n",
    "torch.cuda.set_device(0)\n",
    "print(\"device: \", dev)\n",
    "# x_test, test_dataset.edge_index, test_dataset.neg_edge_index = test_dataset.x.to(dev), test_dataset.edge_index.to(dev), test_dataset.neg_edge_index.to(dev)\n",
    "x = train_dataset.x\n",
    "#edge_index_intra_sent, edge_index_seq_sent = train_dataset.edge_index_intra_sent.to(dev), train_dataset.edge_index_seq_sent.to(dev)\n",
    "#edge_index_intra_sent, edge_index_seq_sent = torch.tensor([[],[]], dtype=torch.long).to(dev), train_dataset.edge_index_seq_sent.to(dev)\n",
    "#test_edge_index_intra_sent = edge_index_intra_sent\n",
    "\n",
    "train_pos_edge_index = train_dataset.edge_index\n",
    "x_test, test_dataset.edge_index = x, train_pos_edge_index\n",
    "features = train_dataset.features"
   ],
   "outputs": [
    {
     "output_type": "stream",
     "name": "stdout",
     "text": [
      "device:  cuda\n"
     ]
    }
   ],
   "metadata": {}
  },
  {
   "cell_type": "code",
   "execution_count": 17,
   "source": [
    "from tqdm import tqdm\n",
    "features_edge = [] #TODO remove me\n",
    "#features_edge = train_dataset.features_edge[:]\n",
    "#x_edge_vals2 = x_edge_vals[:, :]\n",
    "#features = train_dataset.features\n",
    "\n",
    "data_loader = DataLoader(gnn_dataset, batch_size=1, collate_fn=collate_fun, shuffle=True)\n",
    "\n",
    "gc.collect()\n",
    "with torch.no_grad():\n",
    "    torch.cuda.empty_cache()\n",
    "\n",
    "drop_out = 0\n",
    "pos_noise = 0.0\n",
    "neg_noise = 0.0\n",
    "n_head = 1\n",
    "\n",
    "\n",
    "batch_size = 100\n",
    "channels = 256\n",
    "\n",
    "in_dim = sum(t.out_dim for t in features)\n",
    "decoder_in_dim = n_head * channels * 2 + sum(t.out_dim for t in features_edge) \n",
    "print('edge features size: ', sum(t.out_dim for t in features_edge))\n",
    "#discriminator = Discriminator(channels*n_head, channels * (n_head+1), channels*n_head)\n",
    "#discriminator_optimizer = torch.optim.AdamW(discriminator.parameters(), lr=0.0007)\n",
    "#encoder2 = Encoder2(channels, int(channels/2)).to(dev)\n",
    "decoder = Decoder(decoder_in_dim, int(decoder_in_dim/2), features_edge, n_cluster=64)\n",
    "model = pyg_nn.GAE(Encoder(in_dim, channels, features, n_head, edge_feature_dim=len(features_edge)), decoder).to(dev)\n",
    "#model.encoder2 = encoder2\n",
    "#model = pyg_nn.GAE(DeeperGCN(in_dim, len(features_edge), channels, 10, features), decoder=decoder).to(dev)\n",
    "#model = pyg_nn.GAE(Encoder(in_dim, channels, features, n_head)).to(dev)\n",
    "\n",
    "print(\"sending input to gpu\")\n",
    "optimizer = torch.optim.AdamW(model.parameters(), lr=0.001)\n",
    "\n",
    "writer = SummaryWriter(\"./log/\" + datetime.now().strftime(\"%Y%m%d-%H%M%S-\") + f\"samett-{channels}chs-feat{train_dataset.num_node_features}-\")\n",
    "\n",
    "torch.set_printoptions(edgeitems=5)\n",
    "print(\"model params - decoder params - conv1\", sum(p.numel() for p in model.parameters()), sum(p.numel() for p in decoder.parameters()))\n",
    "\n",
    "for epoch in range(1, 120):\n",
    "    print(f\"\\n----------------epoch {epoch} ---------------\")\n",
    "    \n",
    "    #if epoch % 1 == 0:\n",
    "    #    train_neg_edge_index = gutils.get_negative_edges(train_verses, small_editions, train_dataset.nodes_map,  verse_alignments_inter).to(dev)\n",
    "        #edge_index_seq_sent_neg = get_negative_edges_seq(train_dataset.nodes_map).to(dev)\n",
    "\n",
    "    train(epoch)\n",
    "    if epoch % 1 == 0:\n",
    "        #alignment_test(epoch, test_dataset.edge_index, editf1, editf2, test_verses[:30], test_nodes_map,\n",
    "        #    dev, model, x_test, pros, surs, verse_alignments_inter, verse_alignments_gdfa, writer, gnn_dataset.verse_info)\n",
    "        alignment_test(epoch, test_dataset.edge_index, editf1, editf2, test_verses[:], test_nodes_map,\n",
    "            dev, model, x_test, pros, surs, verse_alignments_inter, verse_alignments_gdfa, writer, gnn_dataset.verse_info)\n",
    "        # auc, ap = test(edge_index_seq_sent, edge_index_seq_sent_neg, epoch)\n",
    "        # print('Epoch: {:03d}, AUC: {:.4f}, AP: {:.4f}'.format(epoch, auc, ap))\n",
    "    \n",
    "    gc.collect()\n",
    "    with torch.no_grad():\n",
    "        torch.cuda.empty_cache()"
   ],
   "outputs": [
    {
     "output_type": "stream",
     "name": "stderr",
     "text": [
      "  0%|          | 0/1180 [00:00<?, ?it/s]"
     ]
    },
    {
     "output_type": "stream",
     "name": "stdout",
     "text": [
      "edge features size:  0\n",
      "sending input to gpu\n",
      "model params - decoder params - conv1 733897 394241\n",
      "\n",
      "----------------epoch 1 ---------------\n"
     ]
    },
    {
     "output_type": "stream",
     "name": "stderr",
     "text": [
      "100%|██████████| 1180/1180 [01:41<00:00, 11.68it/s]\n"
     ]
    },
    {
     "output_type": "stream",
     "name": "stdout",
     "text": [
      "train loss: 3043716.6624908447\n",
      "cluster loss: 373.76904296875\n"
     ]
    },
    {
     "output_type": "stream",
     "name": "stderr",
     "text": [
      "  0%|          | 0/1180 [00:00<?, ?it/s]"
     ]
    },
    {
     "output_type": "stream",
     "name": "stdout",
     "text": [
      "\n",
      "\n",
      "intersection prec: 0.971, rec: 0.521, F1: 0.678, AER: 0.319\n",
      "gdfa prec: 0.856, rec: 0.71, F1: 0.776, AER: 0.221\n",
      "my_gdfa prec: 0.715, rec: 0.707, F1: 0.711, AER: 0.289\n",
      "argmax prec: 0.914, rec: 0.613, F1: 0.734, AER: 0.263\n",
      "resnorm prec: 0.498, rec: 0.748, F1: 0.598, AER: 0.41\n",
      "itermax2-.9 prec: 0.8, rec: 0.677, F1: 0.733, AER: 0.264\n",
      "itermax2-.95 prec: 0.796, rec: 0.678, F1: 0.732, AER: 0.266\n",
      "itermax2-.8 prec: 0.803, rec: 0.677, F1: 0.735, AER: 0.263\n",
      "my_gd prec: 0.89, rec: 0.65, F1: 0.751, AER: 0.246\n",
      "my_gd_gdfa prec: 0.837, rec: 0.767, F1: 0.8, AER: 0.198\n",
      "new1 prec: 0.905, rec: 0.512, F1: 0.654, AER: 0.343\n",
      "new_mygd prec: 0.837, rec: 0.722, F1: 0.775, AER: 0.223\n",
      "sum1 prec: 0.757, rec: 0.767, F1: 0.762, AER: 0.238\n",
      "\n",
      "----------------epoch 2 ---------------\n"
     ]
    },
    {
     "output_type": "stream",
     "name": "stderr",
     "text": [
      "100%|██████████| 1180/1180 [01:29<00:00, 13.24it/s]\n"
     ]
    },
    {
     "output_type": "stream",
     "name": "stdout",
     "text": [
      "train loss: 1967074.1609039307\n",
      "cluster loss: 247.10006713867188\n"
     ]
    },
    {
     "output_type": "stream",
     "name": "stderr",
     "text": [
      "  0%|          | 0/1180 [00:00<?, ?it/s]"
     ]
    },
    {
     "output_type": "stream",
     "name": "stdout",
     "text": [
      "\n",
      "\n",
      "intersection prec: 0.971, rec: 0.521, F1: 0.678, AER: 0.319\n",
      "gdfa prec: 0.856, rec: 0.71, F1: 0.776, AER: 0.221\n",
      "my_gdfa prec: 0.742, rec: 0.725, F1: 0.733, AER: 0.266\n",
      "argmax prec: 0.929, rec: 0.627, F1: 0.749, AER: 0.248\n",
      "resnorm prec: 0.483, rec: 0.784, F1: 0.598, AER: 0.414\n",
      "itermax2-.9 prec: 0.824, rec: 0.696, F1: 0.755, AER: 0.243\n",
      "itermax2-.95 prec: 0.821, rec: 0.697, F1: 0.754, AER: 0.243\n",
      "itermax2-.8 prec: 0.827, rec: 0.695, F1: 0.755, AER: 0.242\n",
      "my_gd prec: 0.892, rec: 0.683, F1: 0.774, AER: 0.223\n",
      "my_gd_gdfa prec: 0.838, rec: 0.78, F1: 0.808, AER: 0.191\n",
      "new1 prec: 0.926, rec: 0.565, F1: 0.702, AER: 0.295\n",
      "new_mygd prec: 0.842, rec: 0.755, F1: 0.796, AER: 0.202\n",
      "sum1 prec: 0.761, rec: 0.781, F1: 0.771, AER: 0.23\n",
      "\n",
      "----------------epoch 3 ---------------\n"
     ]
    },
    {
     "output_type": "stream",
     "name": "stderr",
     "text": [
      "100%|██████████| 1180/1180 [01:32<00:00, 12.72it/s]\n"
     ]
    },
    {
     "output_type": "stream",
     "name": "stdout",
     "text": [
      "train loss: 1703857.3025131226\n",
      "cluster loss: 214.9657745361328\n"
     ]
    },
    {
     "output_type": "stream",
     "name": "stderr",
     "text": [
      "  0%|          | 0/1180 [00:00<?, ?it/s]"
     ]
    },
    {
     "output_type": "stream",
     "name": "stdout",
     "text": [
      "\n",
      "\n",
      "intersection prec: 0.971, rec: 0.521, F1: 0.678, AER: 0.319\n",
      "gdfa prec: 0.856, rec: 0.71, F1: 0.776, AER: 0.221\n",
      "my_gdfa prec: 0.761, rec: 0.735, F1: 0.748, AER: 0.251\n",
      "argmax prec: 0.935, rec: 0.64, F1: 0.76, AER: 0.237\n",
      "resnorm prec: 0.55, rec: 0.786, F1: 0.647, AER: 0.361\n",
      "itermax2-.9 prec: 0.832, rec: 0.704, F1: 0.763, AER: 0.235\n",
      "itermax2-.95 prec: 0.829, rec: 0.703, F1: 0.761, AER: 0.236\n",
      "itermax2-.8 prec: 0.835, rec: 0.704, F1: 0.764, AER: 0.233\n",
      "my_gd prec: 0.896, rec: 0.692, F1: 0.781, AER: 0.216\n",
      "my_gd_gdfa prec: 0.841, rec: 0.785, F1: 0.812, AER: 0.186\n",
      "new1 prec: 0.915, rec: 0.598, F1: 0.723, AER: 0.273\n",
      "new_mygd prec: 0.838, rec: 0.765, F1: 0.8, AER: 0.198\n",
      "sum1 prec: 0.762, rec: 0.786, F1: 0.774, AER: 0.227\n",
      "\n",
      "----------------epoch 4 ---------------\n"
     ]
    },
    {
     "output_type": "stream",
     "name": "stderr",
     "text": [
      "100%|██████████| 1180/1180 [01:37<00:00, 12.05it/s]\n"
     ]
    },
    {
     "output_type": "stream",
     "name": "stdout",
     "text": [
      "train loss: 1538209.35628891\n",
      "cluster loss: 195.54905700683594\n",
      "\n",
      "\n",
      "intersection prec: 0.971, rec: 0.521, F1: 0.678, AER: 0.319\n",
      "gdfa prec: 0.856, rec: 0.71, F1: 0.776, AER: 0.221\n",
      "my_gdfa prec: 0.764, rec: 0.74, F1: 0.752, AER: 0.248\n",
      "argmax prec: 0.941, rec: 0.643, F1: 0.764, AER: 0.233\n",
      "resnorm prec: 0.513, rec: 0.801, F1: 0.625, AER: 0.386\n",
      "itermax2-.9 prec: 0.841, rec: 0.708, F1: 0.769, AER: 0.229\n",
      "itermax2-.95 prec: 0.839, rec: 0.708, F1: 0.768, AER: 0.229\n",
      "itermax2-.8 prec: 0.844, rec: 0.706, F1: 0.769, AER: 0.228\n",
      "my_gd prec: 0.895, rec: 0.702, F1: 0.787, AER: 0.21\n",
      "my_gd_gdfa prec: 0.842, rec: 0.788, F1: 0.814, AER: 0.185\n",
      "new1 prec: 0.903, rec: 0.61, F1: 0.728, AER: 0.269\n",
      "new_mygd prec: 0.825, rec: 0.769, F1: 0.796, AER: 0.202\n",
      "sum1 prec: 0.764, rec: 0.79, F1: 0.777, AER: 0.224\n"
     ]
    },
    {
     "output_type": "stream",
     "name": "stderr",
     "text": [
      "  0%|          | 0/1180 [00:00<?, ?it/s]"
     ]
    },
    {
     "output_type": "stream",
     "name": "stdout",
     "text": [
      "\n",
      "----------------epoch 5 ---------------\n"
     ]
    },
    {
     "output_type": "stream",
     "name": "stderr",
     "text": [
      "100%|██████████| 1180/1180 [01:27<00:00, 13.52it/s]\n"
     ]
    },
    {
     "output_type": "stream",
     "name": "stdout",
     "text": [
      "train loss: 1438976.8666534424\n",
      "cluster loss: 183.75668334960938\n",
      "\n",
      "\n",
      "intersection prec: 0.971, rec: 0.521, F1: 0.678, AER: 0.319\n",
      "gdfa prec: 0.856, rec: 0.71, F1: 0.776, AER: 0.221\n",
      "my_gdfa prec: 0.769, rec: 0.743, F1: 0.756, AER: 0.244\n",
      "argmax prec: 0.945, rec: 0.646, F1: 0.767, AER: 0.23\n",
      "resnorm prec: 0.616, rec: 0.778, F1: 0.688, AER: 0.318\n",
      "itermax2-.9 prec: 0.841, rec: 0.711, F1: 0.771, AER: 0.227\n",
      "itermax2-.95 prec: 0.839, rec: 0.713, F1: 0.771, AER: 0.227\n",
      "itermax2-.8 prec: 0.843, rec: 0.712, F1: 0.772, AER: 0.226\n",
      "my_gd prec: 0.904, rec: 0.701, F1: 0.79, AER: 0.207\n",
      "my_gd_gdfa prec: 0.85, rec: 0.79, F1: 0.819, AER: 0.18\n",
      "new1 prec: 0.908, rec: 0.642, F1: 0.752, AER: 0.245\n",
      "new_mygd prec: 0.835, rec: 0.779, F1: 0.806, AER: 0.193\n",
      "sum1 prec: 0.769, rec: 0.79, F1: 0.779, AER: 0.221\n"
     ]
    },
    {
     "output_type": "stream",
     "name": "stderr",
     "text": [
      "  0%|          | 0/1180 [00:00<?, ?it/s]"
     ]
    },
    {
     "output_type": "stream",
     "name": "stdout",
     "text": [
      "\n",
      "----------------epoch 6 ---------------\n"
     ]
    },
    {
     "output_type": "stream",
     "name": "stderr",
     "text": [
      "100%|██████████| 1180/1180 [01:25<00:00, 13.83it/s]\n"
     ]
    },
    {
     "output_type": "stream",
     "name": "stdout",
     "text": [
      "train loss: 1360216.0228881836\n",
      "cluster loss: 173.9447784423828\n"
     ]
    },
    {
     "output_type": "stream",
     "name": "stderr",
     "text": [
      "  0%|          | 0/1180 [00:00<?, ?it/s]"
     ]
    },
    {
     "output_type": "stream",
     "name": "stdout",
     "text": [
      "\n",
      "\n",
      "intersection prec: 0.971, rec: 0.521, F1: 0.678, AER: 0.319\n",
      "gdfa prec: 0.856, rec: 0.71, F1: 0.776, AER: 0.221\n",
      "my_gdfa prec: 0.773, rec: 0.743, F1: 0.758, AER: 0.242\n",
      "argmax prec: 0.943, rec: 0.646, F1: 0.767, AER: 0.231\n",
      "resnorm prec: 0.611, rec: 0.784, F1: 0.687, AER: 0.32\n",
      "itermax2-.9 prec: 0.841, rec: 0.714, F1: 0.772, AER: 0.225\n",
      "itermax2-.95 prec: 0.84, rec: 0.715, F1: 0.772, AER: 0.225\n",
      "itermax2-.8 prec: 0.842, rec: 0.713, F1: 0.772, AER: 0.225\n",
      "my_gd prec: 0.897, rec: 0.705, F1: 0.789, AER: 0.207\n",
      "my_gd_gdfa prec: 0.844, rec: 0.791, F1: 0.817, AER: 0.182\n",
      "new1 prec: 0.907, rec: 0.637, F1: 0.748, AER: 0.248\n",
      "new_mygd prec: 0.834, rec: 0.778, F1: 0.805, AER: 0.194\n",
      "sum1 prec: 0.766, rec: 0.791, F1: 0.778, AER: 0.222\n",
      "\n",
      "----------------epoch 7 ---------------\n"
     ]
    },
    {
     "output_type": "stream",
     "name": "stderr",
     "text": [
      "100%|██████████| 1180/1180 [01:28<00:00, 13.38it/s]\n"
     ]
    },
    {
     "output_type": "stream",
     "name": "stdout",
     "text": [
      "train loss: 1282319.5366630554\n",
      "cluster loss: 164.55050659179688\n"
     ]
    },
    {
     "output_type": "stream",
     "name": "stderr",
     "text": [
      "  0%|          | 0/1180 [00:00<?, ?it/s]"
     ]
    },
    {
     "output_type": "stream",
     "name": "stdout",
     "text": [
      "\n",
      "\n",
      "intersection prec: 0.971, rec: 0.521, F1: 0.678, AER: 0.319\n",
      "gdfa prec: 0.856, rec: 0.71, F1: 0.776, AER: 0.221\n",
      "my_gdfa prec: 0.773, rec: 0.746, F1: 0.759, AER: 0.24\n",
      "argmax prec: 0.948, rec: 0.649, F1: 0.771, AER: 0.227\n",
      "resnorm prec: 0.598, rec: 0.786, F1: 0.679, AER: 0.328\n",
      "itermax2-.9 prec: 0.848, rec: 0.719, F1: 0.778, AER: 0.219\n",
      "itermax2-.95 prec: 0.846, rec: 0.719, F1: 0.777, AER: 0.22\n",
      "itermax2-.8 prec: 0.849, rec: 0.717, F1: 0.777, AER: 0.22\n",
      "my_gd prec: 0.902, rec: 0.706, F1: 0.792, AER: 0.205\n",
      "my_gd_gdfa prec: 0.848, rec: 0.79, F1: 0.818, AER: 0.181\n",
      "new1 prec: 0.903, rec: 0.647, F1: 0.754, AER: 0.243\n",
      "new_mygd prec: 0.829, rec: 0.781, F1: 0.804, AER: 0.195\n",
      "sum1 prec: 0.768, rec: 0.791, F1: 0.779, AER: 0.221\n",
      "\n",
      "----------------epoch 8 ---------------\n"
     ]
    },
    {
     "output_type": "stream",
     "name": "stderr",
     "text": [
      "100%|██████████| 1180/1180 [01:27<00:00, 13.47it/s]\n"
     ]
    },
    {
     "output_type": "stream",
     "name": "stdout",
     "text": [
      "train loss: 1223708.90259552\n",
      "cluster loss: 157.1993408203125\n"
     ]
    },
    {
     "output_type": "stream",
     "name": "stderr",
     "text": [
      "  0%|          | 0/1180 [00:00<?, ?it/s]"
     ]
    },
    {
     "output_type": "stream",
     "name": "stdout",
     "text": [
      "\n",
      "\n",
      "intersection prec: 0.971, rec: 0.521, F1: 0.678, AER: 0.319\n",
      "gdfa prec: 0.856, rec: 0.71, F1: 0.776, AER: 0.221\n",
      "my_gdfa prec: 0.784, rec: 0.755, F1: 0.769, AER: 0.23\n",
      "argmax prec: 0.948, rec: 0.65, F1: 0.771, AER: 0.226\n",
      "resnorm prec: 0.631, rec: 0.784, F1: 0.699, AER: 0.306\n",
      "itermax2-.9 prec: 0.849, rec: 0.723, F1: 0.781, AER: 0.216\n",
      "itermax2-.95 prec: 0.846, rec: 0.725, F1: 0.781, AER: 0.217\n",
      "itermax2-.8 prec: 0.85, rec: 0.722, F1: 0.781, AER: 0.217\n",
      "my_gd prec: 0.906, rec: 0.71, F1: 0.796, AER: 0.2\n",
      "my_gd_gdfa prec: 0.85, rec: 0.793, F1: 0.821, AER: 0.178\n",
      "new1 prec: 0.894, rec: 0.66, F1: 0.759, AER: 0.237\n",
      "new_mygd prec: 0.827, rec: 0.783, F1: 0.804, AER: 0.194\n",
      "sum1 prec: 0.771, rec: 0.794, F1: 0.782, AER: 0.219\n",
      "\n",
      "----------------epoch 9 ---------------\n"
     ]
    },
    {
     "output_type": "stream",
     "name": "stderr",
     "text": [
      "100%|██████████| 1180/1180 [01:26<00:00, 13.65it/s]\n"
     ]
    },
    {
     "output_type": "stream",
     "name": "stdout",
     "text": [
      "train loss: 1177242.1538581848\n",
      "cluster loss: 151.7664794921875\n"
     ]
    },
    {
     "output_type": "stream",
     "name": "stderr",
     "text": [
      "  0%|          | 0/1180 [00:00<?, ?it/s]"
     ]
    },
    {
     "output_type": "stream",
     "name": "stdout",
     "text": [
      "\n",
      "\n",
      "intersection prec: 0.971, rec: 0.521, F1: 0.678, AER: 0.319\n",
      "gdfa prec: 0.856, rec: 0.71, F1: 0.776, AER: 0.221\n",
      "my_gdfa prec: 0.779, rec: 0.751, F1: 0.765, AER: 0.234\n",
      "argmax prec: 0.949, rec: 0.653, F1: 0.774, AER: 0.224\n",
      "resnorm prec: 0.672, rec: 0.771, F1: 0.718, AER: 0.285\n",
      "itermax2-.9 prec: 0.846, rec: 0.722, F1: 0.779, AER: 0.219\n",
      "itermax2-.95 prec: 0.843, rec: 0.722, F1: 0.778, AER: 0.22\n",
      "itermax2-.8 prec: 0.848, rec: 0.722, F1: 0.78, AER: 0.218\n",
      "my_gd prec: 0.909, rec: 0.705, F1: 0.794, AER: 0.203\n",
      "my_gd_gdfa prec: 0.853, rec: 0.788, F1: 0.819, AER: 0.179\n",
      "new1 prec: 0.906, rec: 0.664, F1: 0.766, AER: 0.231\n",
      "new_mygd prec: 0.835, rec: 0.783, F1: 0.808, AER: 0.191\n",
      "sum1 prec: 0.772, rec: 0.788, F1: 0.78, AER: 0.22\n",
      "\n",
      "----------------epoch 10 ---------------\n"
     ]
    },
    {
     "output_type": "stream",
     "name": "stderr",
     "text": [
      "100%|██████████| 1180/1180 [01:35<00:00, 12.38it/s]\n"
     ]
    },
    {
     "output_type": "stream",
     "name": "stdout",
     "text": [
      "train loss: 1117589.110370636\n",
      "cluster loss: 143.9066619873047\n",
      "\n",
      "\n",
      "intersection prec: 0.971, rec: 0.521, F1: 0.678, AER: 0.319\n",
      "gdfa prec: 0.856, rec: 0.71, F1: 0.776, AER: 0.221\n",
      "my_gdfa prec: 0.784, rec: 0.754, F1: 0.769, AER: 0.23\n",
      "argmax prec: 0.95, rec: 0.654, F1: 0.775, AER: 0.222\n",
      "resnorm prec: 0.595, rec: 0.795, F1: 0.681, AER: 0.327\n",
      "itermax2-.9 prec: 0.851, rec: 0.725, F1: 0.783, AER: 0.214\n",
      "itermax2-.95 prec: 0.849, rec: 0.727, F1: 0.783, AER: 0.215\n",
      "itermax2-.8 prec: 0.851, rec: 0.724, F1: 0.782, AER: 0.215\n",
      "my_gd prec: 0.908, rec: 0.712, F1: 0.798, AER: 0.198\n",
      "my_gd_gdfa prec: 0.851, rec: 0.791, F1: 0.82, AER: 0.178\n",
      "new1 prec: 0.901, rec: 0.656, F1: 0.759, AER: 0.238\n",
      "new_mygd prec: 0.831, rec: 0.785, F1: 0.807, AER: 0.191\n",
      "sum1 prec: 0.772, rec: 0.793, F1: 0.782, AER: 0.218\n",
      "\n",
      "----------------epoch 11 ---------------"
     ]
    },
    {
     "output_type": "stream",
     "name": "stderr",
     "text": [
      "  0%|          | 0/1180 [00:00<?, ?it/s]"
     ]
    },
    {
     "output_type": "stream",
     "name": "stdout",
     "text": [
      "\n"
     ]
    },
    {
     "output_type": "stream",
     "name": "stderr",
     "text": [
      "100%|██████████| 1180/1180 [01:28<00:00, 13.31it/s]\n"
     ]
    },
    {
     "output_type": "stream",
     "name": "stdout",
     "text": [
      "train loss: 1089159.0001335144\n",
      "cluster loss: 140.9738006591797\n",
      "\n",
      "\n",
      "intersection prec: 0.971, rec: 0.521, F1: 0.678, AER: 0.319\n",
      "gdfa prec: 0.856, rec: 0.71, F1: 0.776, AER: 0.221\n",
      "my_gdfa prec: 0.782, rec: 0.752, F1: 0.767, AER: 0.233\n",
      "argmax prec: 0.95, rec: 0.657, F1: 0.777, AER: 0.221\n",
      "resnorm prec: 0.623, rec: 0.789, F1: 0.696, AER: 0.309\n",
      "itermax2-.9 prec: 0.85, rec: 0.725, F1: 0.783, AER: 0.215\n",
      "itermax2-.95 prec: 0.848, rec: 0.726, F1: 0.782, AER: 0.215\n",
      "itermax2-.8 prec: 0.851, rec: 0.724, F1: 0.782, AER: 0.215\n",
      "my_gd prec: 0.906, rec: 0.714, F1: 0.799, AER: 0.198\n",
      "my_gd_gdfa prec: 0.85, rec: 0.792, F1: 0.82, AER: 0.178\n",
      "new1 prec: 0.889, rec: 0.671, F1: 0.765, AER: 0.232\n",
      "new_mygd prec: 0.823, rec: 0.79, F1: 0.806, AER: 0.193\n",
      "sum1 prec: 0.771, rec: 0.794, F1: 0.782, AER: 0.218\n"
     ]
    },
    {
     "output_type": "stream",
     "name": "stderr",
     "text": [
      "  0%|          | 0/1180 [00:00<?, ?it/s]"
     ]
    },
    {
     "output_type": "stream",
     "name": "stdout",
     "text": [
      "\n",
      "----------------epoch 12 ---------------\n"
     ]
    },
    {
     "output_type": "stream",
     "name": "stderr",
     "text": [
      "100%|██████████| 1180/1180 [01:29<00:00, 13.19it/s]\n"
     ]
    },
    {
     "output_type": "stream",
     "name": "stdout",
     "text": [
      "train loss: 1057223.5214385986\n",
      "cluster loss: 136.5845947265625\n",
      "\n",
      "\n",
      "intersection prec: 0.971, rec: 0.521, F1: 0.678, AER: 0.319\n",
      "gdfa prec: 0.856, rec: 0.71, F1: 0.776, AER: 0.221\n",
      "my_gdfa prec: 0.782, rec: 0.754, F1: 0.768, AER: 0.232\n",
      "argmax prec: 0.952, rec: 0.655, F1: 0.776, AER: 0.221\n",
      "resnorm prec: 0.642, rec: 0.784, F1: 0.706, AER: 0.299\n",
      "itermax2-.9 prec: 0.849, rec: 0.727, F1: 0.783, AER: 0.215\n",
      "itermax2-.95 prec: 0.848, rec: 0.728, F1: 0.783, AER: 0.214\n",
      "itermax2-.8 prec: 0.851, rec: 0.726, F1: 0.784, AER: 0.214\n",
      "my_gd prec: 0.905, rec: 0.713, F1: 0.798, AER: 0.199\n",
      "my_gd_gdfa prec: 0.85, rec: 0.791, F1: 0.819, AER: 0.179\n",
      "new1 prec: 0.898, rec: 0.673, F1: 0.769, AER: 0.228\n",
      "new_mygd prec: 0.829, rec: 0.789, F1: 0.809, AER: 0.191\n",
      "sum1 prec: 0.771, rec: 0.793, F1: 0.782, AER: 0.219\n"
     ]
    },
    {
     "output_type": "stream",
     "name": "stderr",
     "text": [
      "  0%|          | 0/1180 [00:00<?, ?it/s]"
     ]
    },
    {
     "output_type": "stream",
     "name": "stdout",
     "text": [
      "\n",
      "----------------epoch 13 ---------------\n"
     ]
    },
    {
     "output_type": "stream",
     "name": "stderr",
     "text": [
      "100%|██████████| 1180/1180 [01:26<00:00, 13.57it/s]\n"
     ]
    },
    {
     "output_type": "stream",
     "name": "stdout",
     "text": [
      "train loss: 1022783.2971763611\n",
      "cluster loss: 132.4137420654297\n",
      "\n",
      "\n",
      "intersection prec: 0.971, rec: 0.521, F1: 0.678, AER: 0.319\n",
      "gdfa prec: 0.856, rec: 0.71, F1: 0.776, AER: 0.221\n",
      "my_gdfa prec: 0.782, rec: 0.756, F1: 0.769, AER: 0.23\n",
      "argmax prec: 0.953, rec: 0.655, F1: 0.776, AER: 0.221\n",
      "resnorm prec: 0.65, rec: 0.784, F1: 0.711, AER: 0.294\n",
      "itermax2-.9 prec: 0.848, rec: 0.726, F1: 0.782, AER: 0.215\n",
      "itermax2-.95 prec: 0.847, rec: 0.727, F1: 0.782, AER: 0.215\n",
      "itermax2-.8 prec: 0.85, rec: 0.726, F1: 0.783, AER: 0.215\n",
      "my_gd prec: 0.912, rec: 0.716, F1: 0.802, AER: 0.195\n",
      "my_gd_gdfa prec: 0.855, rec: 0.792, F1: 0.822, AER: 0.176\n",
      "new1 prec: 0.901, rec: 0.677, F1: 0.773, AER: 0.224\n",
      "new_mygd prec: 0.832, rec: 0.789, F1: 0.81, AER: 0.189\n",
      "sum1 prec: 0.775, rec: 0.795, F1: 0.785, AER: 0.216\n"
     ]
    },
    {
     "output_type": "stream",
     "name": "stderr",
     "text": [
      "  0%|          | 0/1180 [00:00<?, ?it/s]"
     ]
    },
    {
     "output_type": "stream",
     "name": "stdout",
     "text": [
      "\n",
      "----------------epoch 14 ---------------\n"
     ]
    },
    {
     "output_type": "stream",
     "name": "stderr",
     "text": [
      "100%|██████████| 1180/1180 [01:28<00:00, 13.40it/s]\n"
     ]
    },
    {
     "output_type": "stream",
     "name": "stdout",
     "text": [
      "train loss: 996751.9696311951\n",
      "cluster loss: 128.93426513671875\n",
      "\n",
      "\n",
      "intersection prec: 0.971, rec: 0.521, F1: 0.678, AER: 0.319\n",
      "gdfa prec: 0.856, rec: 0.71, F1: 0.776, AER: 0.221\n",
      "my_gdfa prec: 0.78, rec: 0.751, F1: 0.765, AER: 0.234\n",
      "argmax prec: 0.948, rec: 0.656, F1: 0.775, AER: 0.222\n",
      "resnorm prec: 0.712, rec: 0.761, F1: 0.736, AER: 0.266\n",
      "itermax2-.9 prec: 0.849, rec: 0.723, F1: 0.781, AER: 0.217\n",
      "itermax2-.95 prec: 0.848, rec: 0.723, F1: 0.781, AER: 0.217\n",
      "itermax2-.8 prec: 0.849, rec: 0.721, F1: 0.78, AER: 0.217\n",
      "my_gd prec: 0.913, rec: 0.704, F1: 0.795, AER: 0.202\n",
      "my_gd_gdfa prec: 0.856, rec: 0.788, F1: 0.821, AER: 0.178\n",
      "new1 prec: 0.914, rec: 0.671, F1: 0.774, AER: 0.223\n",
      "new_mygd prec: 0.843, rec: 0.784, F1: 0.812, AER: 0.186\n",
      "sum1 prec: 0.775, rec: 0.79, F1: 0.782, AER: 0.218\n",
      "\n",
      "----------------epoch 15 ---------------"
     ]
    },
    {
     "output_type": "stream",
     "name": "stderr",
     "text": [
      "  0%|          | 0/1180 [00:00<?, ?it/s]"
     ]
    },
    {
     "output_type": "stream",
     "name": "stdout",
     "text": [
      "\n"
     ]
    },
    {
     "output_type": "stream",
     "name": "stderr",
     "text": [
      "100%|██████████| 1180/1180 [01:28<00:00, 13.39it/s]\n"
     ]
    },
    {
     "output_type": "stream",
     "name": "stdout",
     "text": [
      "train loss: 978633.5674133301\n",
      "cluster loss: 126.63680267333984\n"
     ]
    },
    {
     "output_type": "stream",
     "name": "stderr",
     "text": [
      "  0%|          | 0/1180 [00:00<?, ?it/s]"
     ]
    },
    {
     "output_type": "stream",
     "name": "stdout",
     "text": [
      "\n",
      "\n",
      "intersection prec: 0.971, rec: 0.521, F1: 0.678, AER: 0.319\n",
      "gdfa prec: 0.856, rec: 0.71, F1: 0.776, AER: 0.221\n",
      "my_gdfa prec: 0.787, rec: 0.758, F1: 0.772, AER: 0.227\n",
      "argmax prec: 0.952, rec: 0.657, F1: 0.777, AER: 0.219\n",
      "resnorm prec: 0.685, rec: 0.78, F1: 0.729, AER: 0.273\n",
      "itermax2-.9 prec: 0.854, rec: 0.728, F1: 0.786, AER: 0.212\n",
      "itermax2-.95 prec: 0.853, rec: 0.729, F1: 0.786, AER: 0.211\n",
      "itermax2-.8 prec: 0.854, rec: 0.727, F1: 0.785, AER: 0.212\n",
      "my_gd prec: 0.916, rec: 0.716, F1: 0.804, AER: 0.193\n",
      "my_gd_gdfa prec: 0.859, rec: 0.794, F1: 0.825, AER: 0.174\n",
      "new1 prec: 0.901, rec: 0.682, F1: 0.776, AER: 0.22\n",
      "new_mygd prec: 0.836, rec: 0.792, F1: 0.813, AER: 0.185\n",
      "sum1 prec: 0.777, rec: 0.794, F1: 0.785, AER: 0.215\n",
      "\n",
      "----------------epoch 16 ---------------\n"
     ]
    },
    {
     "output_type": "stream",
     "name": "stderr",
     "text": [
      "100%|██████████| 1180/1180 [01:26<00:00, 13.59it/s]\n"
     ]
    },
    {
     "output_type": "stream",
     "name": "stdout",
     "text": [
      "train loss: 957551.1627998352\n",
      "cluster loss: 124.03223419189453\n"
     ]
    },
    {
     "output_type": "stream",
     "name": "stderr",
     "text": [
      "  0%|          | 0/1180 [00:00<?, ?it/s]"
     ]
    },
    {
     "output_type": "stream",
     "name": "stdout",
     "text": [
      "\n",
      "\n",
      "intersection prec: 0.971, rec: 0.521, F1: 0.678, AER: 0.319\n",
      "gdfa prec: 0.856, rec: 0.71, F1: 0.776, AER: 0.221\n",
      "my_gdfa prec: 0.786, rec: 0.756, F1: 0.771, AER: 0.229\n",
      "argmax prec: 0.948, rec: 0.657, F1: 0.776, AER: 0.222\n",
      "resnorm prec: 0.734, rec: 0.763, F1: 0.748, AER: 0.253\n",
      "itermax2-.9 prec: 0.852, rec: 0.726, F1: 0.784, AER: 0.214\n",
      "itermax2-.95 prec: 0.852, rec: 0.726, F1: 0.784, AER: 0.213\n",
      "itermax2-.8 prec: 0.853, rec: 0.725, F1: 0.784, AER: 0.213\n",
      "my_gd prec: 0.919, rec: 0.707, F1: 0.799, AER: 0.198\n",
      "my_gd_gdfa prec: 0.86, rec: 0.789, F1: 0.823, AER: 0.176\n",
      "new1 prec: 0.919, rec: 0.675, F1: 0.778, AER: 0.219\n",
      "new_mygd prec: 0.85, rec: 0.786, F1: 0.817, AER: 0.182\n",
      "sum1 prec: 0.778, rec: 0.79, F1: 0.784, AER: 0.217\n",
      "\n",
      "----------------epoch 17 ---------------\n"
     ]
    },
    {
     "output_type": "stream",
     "name": "stderr",
     "text": [
      "100%|██████████| 1180/1180 [01:27<00:00, 13.53it/s]\n"
     ]
    },
    {
     "output_type": "stream",
     "name": "stdout",
     "text": [
      "train loss: 940562.9308395386\n",
      "cluster loss: 121.88384246826172\n"
     ]
    },
    {
     "output_type": "stream",
     "name": "stderr",
     "text": [
      "  0%|          | 0/1180 [00:00<?, ?it/s]"
     ]
    },
    {
     "output_type": "stream",
     "name": "stdout",
     "text": [
      "\n",
      "\n",
      "intersection prec: 0.971, rec: 0.521, F1: 0.678, AER: 0.319\n",
      "gdfa prec: 0.856, rec: 0.71, F1: 0.776, AER: 0.221\n",
      "my_gdfa prec: 0.791, rec: 0.762, F1: 0.776, AER: 0.223\n",
      "argmax prec: 0.95, rec: 0.658, F1: 0.777, AER: 0.22\n",
      "resnorm prec: 0.699, rec: 0.779, F1: 0.737, AER: 0.266\n",
      "itermax2-.9 prec: 0.854, rec: 0.73, F1: 0.787, AER: 0.21\n",
      "itermax2-.95 prec: 0.853, rec: 0.73, F1: 0.787, AER: 0.211\n",
      "itermax2-.8 prec: 0.853, rec: 0.729, F1: 0.786, AER: 0.212\n",
      "my_gd prec: 0.913, rec: 0.712, F1: 0.8, AER: 0.197\n",
      "my_gd_gdfa prec: 0.857, rec: 0.79, F1: 0.822, AER: 0.176\n",
      "new1 prec: 0.901, rec: 0.682, F1: 0.776, AER: 0.221\n",
      "new_mygd prec: 0.836, rec: 0.789, F1: 0.812, AER: 0.187\n",
      "sum1 prec: 0.775, rec: 0.792, F1: 0.783, AER: 0.217\n",
      "\n",
      "----------------epoch 18 ---------------\n"
     ]
    },
    {
     "output_type": "stream",
     "name": "stderr",
     "text": [
      "100%|██████████| 1180/1180 [01:26<00:00, 13.59it/s]\n"
     ]
    },
    {
     "output_type": "stream",
     "name": "stdout",
     "text": [
      "train loss: 922669.1672515869\n",
      "cluster loss: 119.65180969238281\n"
     ]
    },
    {
     "output_type": "stream",
     "name": "stderr",
     "text": [
      "  0%|          | 0/1180 [00:00<?, ?it/s]"
     ]
    },
    {
     "output_type": "stream",
     "name": "stdout",
     "text": [
      "\n",
      "\n",
      "intersection prec: 0.971, rec: 0.521, F1: 0.678, AER: 0.319\n",
      "gdfa prec: 0.856, rec: 0.71, F1: 0.776, AER: 0.221\n",
      "my_gdfa prec: 0.788, rec: 0.757, F1: 0.772, AER: 0.227\n",
      "argmax prec: 0.951, rec: 0.657, F1: 0.777, AER: 0.22\n",
      "resnorm prec: 0.723, rec: 0.768, F1: 0.745, AER: 0.257\n",
      "itermax2-.9 prec: 0.849, rec: 0.728, F1: 0.784, AER: 0.214\n",
      "itermax2-.95 prec: 0.848, rec: 0.729, F1: 0.784, AER: 0.214\n",
      "itermax2-.8 prec: 0.851, rec: 0.728, F1: 0.785, AER: 0.213\n",
      "my_gd prec: 0.919, rec: 0.711, F1: 0.802, AER: 0.195\n",
      "my_gd_gdfa prec: 0.86, rec: 0.789, F1: 0.823, AER: 0.175\n",
      "new1 prec: 0.904, rec: 0.682, F1: 0.777, AER: 0.219\n",
      "new_mygd prec: 0.839, rec: 0.787, F1: 0.812, AER: 0.187\n",
      "sum1 prec: 0.778, rec: 0.791, F1: 0.784, AER: 0.216\n",
      "\n",
      "----------------epoch 19 ---------------\n"
     ]
    },
    {
     "output_type": "stream",
     "name": "stderr",
     "text": [
      "100%|██████████| 1180/1180 [01:28<00:00, 13.41it/s]\n"
     ]
    },
    {
     "output_type": "stream",
     "name": "stdout",
     "text": [
      "train loss: 907516.3639850616\n",
      "cluster loss: 117.65757751464844\n",
      "\n",
      "\n",
      "intersection prec: 0.971, rec: 0.521, F1: 0.678, AER: 0.319\n",
      "gdfa prec: 0.856, rec: 0.71, F1: 0.776, AER: 0.221\n",
      "my_gdfa prec: 0.782, rec: 0.754, F1: 0.768, AER: 0.232\n",
      "argmax prec: 0.95, rec: 0.659, F1: 0.778, AER: 0.219\n",
      "resnorm prec: 0.689, rec: 0.772, F1: 0.728, AER: 0.274\n",
      "itermax2-.9 prec: 0.848, rec: 0.726, F1: 0.782, AER: 0.215\n",
      "itermax2-.95 prec: 0.846, rec: 0.725, F1: 0.781, AER: 0.217\n",
      "itermax2-.8 prec: 0.849, rec: 0.727, F1: 0.783, AER: 0.214\n",
      "my_gd prec: 0.913, rec: 0.711, F1: 0.799, AER: 0.197\n",
      "my_gd_gdfa prec: 0.857, rec: 0.79, F1: 0.822, AER: 0.177\n",
      "new1 prec: 0.894, rec: 0.678, F1: 0.771, AER: 0.226\n",
      "new_mygd prec: 0.832, rec: 0.788, F1: 0.809, AER: 0.19\n",
      "sum1 prec: 0.775, rec: 0.791, F1: 0.783, AER: 0.218\n"
     ]
    },
    {
     "output_type": "stream",
     "name": "stderr",
     "text": [
      "  0%|          | 0/1180 [00:00<?, ?it/s]"
     ]
    },
    {
     "output_type": "stream",
     "name": "stdout",
     "text": [
      "\n",
      "----------------epoch 20 ---------------\n"
     ]
    },
    {
     "output_type": "stream",
     "name": "stderr",
     "text": [
      "100%|██████████| 1180/1180 [01:26<00:00, 13.57it/s]\n"
     ]
    },
    {
     "output_type": "stream",
     "name": "stdout",
     "text": [
      "train loss: 897535.8676986694\n",
      "cluster loss: 116.01663208007812\n"
     ]
    },
    {
     "output_type": "stream",
     "name": "stderr",
     "text": [
      "  0%|          | 0/1180 [00:00<?, ?it/s]"
     ]
    },
    {
     "output_type": "stream",
     "name": "stdout",
     "text": [
      "\n",
      "\n",
      "intersection prec: 0.971, rec: 0.521, F1: 0.678, AER: 0.319\n",
      "gdfa prec: 0.856, rec: 0.71, F1: 0.776, AER: 0.221\n",
      "my_gdfa prec: 0.785, rec: 0.755, F1: 0.77, AER: 0.23\n",
      "argmax prec: 0.95, rec: 0.657, F1: 0.777, AER: 0.221\n",
      "resnorm prec: 0.695, rec: 0.774, F1: 0.732, AER: 0.27\n",
      "itermax2-.9 prec: 0.851, rec: 0.727, F1: 0.784, AER: 0.214\n",
      "itermax2-.95 prec: 0.85, rec: 0.727, F1: 0.784, AER: 0.214\n",
      "itermax2-.8 prec: 0.852, rec: 0.726, F1: 0.784, AER: 0.214\n",
      "my_gd prec: 0.912, rec: 0.712, F1: 0.8, AER: 0.197\n",
      "my_gd_gdfa prec: 0.856, rec: 0.79, F1: 0.822, AER: 0.177\n",
      "new1 prec: 0.895, rec: 0.686, F1: 0.777, AER: 0.22\n",
      "new_mygd prec: 0.832, rec: 0.79, F1: 0.81, AER: 0.188\n",
      "sum1 prec: 0.775, rec: 0.791, F1: 0.783, AER: 0.217\n",
      "\n",
      "----------------epoch 21 ---------------\n"
     ]
    },
    {
     "output_type": "stream",
     "name": "stderr",
     "text": [
      "100%|██████████| 1180/1180 [01:33<00:00, 12.65it/s]\n"
     ]
    },
    {
     "output_type": "stream",
     "name": "stdout",
     "text": [
      "train loss: 884058.6740016937\n",
      "cluster loss: 114.95849609375\n",
      "\n",
      "\n",
      "intersection prec: 0.971, rec: 0.521, F1: 0.678, AER: 0.319\n",
      "gdfa prec: 0.856, rec: 0.71, F1: 0.776, AER: 0.221\n",
      "my_gdfa prec: 0.786, rec: 0.756, F1: 0.771, AER: 0.229\n",
      "argmax prec: 0.952, rec: 0.659, F1: 0.779, AER: 0.219\n",
      "resnorm prec: 0.733, rec: 0.764, F1: 0.748, AER: 0.253\n",
      "itermax2-.9 prec: 0.85, rec: 0.729, F1: 0.785, AER: 0.213\n",
      "itermax2-.95 prec: 0.849, rec: 0.729, F1: 0.784, AER: 0.213\n",
      "itermax2-.8 prec: 0.85, rec: 0.728, F1: 0.784, AER: 0.213\n",
      "my_gd prec: 0.918, rec: 0.711, F1: 0.801, AER: 0.196\n",
      "my_gd_gdfa prec: 0.86, rec: 0.79, F1: 0.824, AER: 0.175\n",
      "new1 prec: 0.915, rec: 0.681, F1: 0.781, AER: 0.216\n",
      "new_mygd prec: 0.845, rec: 0.789, F1: 0.816, AER: 0.183\n",
      "sum1 prec: 0.777, rec: 0.791, F1: 0.784, AER: 0.216\n"
     ]
    },
    {
     "output_type": "stream",
     "name": "stderr",
     "text": [
      "  0%|          | 0/1180 [00:00<?, ?it/s]"
     ]
    },
    {
     "output_type": "stream",
     "name": "stdout",
     "text": [
      "\n",
      "----------------epoch 22 ---------------\n"
     ]
    },
    {
     "output_type": "stream",
     "name": "stderr",
     "text": [
      "100%|██████████| 1180/1180 [01:30<00:00, 12.97it/s]\n"
     ]
    },
    {
     "output_type": "stream",
     "name": "stdout",
     "text": [
      "train loss: 864948.5822105408\n",
      "cluster loss: 112.29598236083984\n",
      "\n",
      "\n",
      "intersection prec: 0.971, rec: 0.521, F1: 0.678, AER: 0.319\n",
      "gdfa prec: 0.856, rec: 0.71, F1: 0.776, AER: 0.221\n",
      "my_gdfa prec: 0.791, rec: 0.759, F1: 0.775, AER: 0.224\n",
      "argmax prec: 0.95, rec: 0.656, F1: 0.776, AER: 0.221\n",
      "resnorm prec: 0.656, rec: 0.79, F1: 0.717, AER: 0.288\n",
      "itermax2-.9 prec: 0.852, rec: 0.728, F1: 0.785, AER: 0.212\n",
      "itermax2-.95 prec: 0.851, rec: 0.729, F1: 0.785, AER: 0.212\n",
      "itermax2-.8 prec: 0.853, rec: 0.728, F1: 0.786, AER: 0.212\n",
      "my_gd prec: 0.91, rec: 0.72, F1: 0.804, AER: 0.193\n",
      "my_gd_gdfa prec: 0.855, rec: 0.794, F1: 0.823, AER: 0.175\n",
      "new1 prec: 0.896, rec: 0.681, F1: 0.774, AER: 0.223\n",
      "new_mygd prec: 0.832, rec: 0.791, F1: 0.811, AER: 0.188\n",
      "sum1 prec: 0.774, rec: 0.796, F1: 0.785, AER: 0.216\n"
     ]
    },
    {
     "output_type": "stream",
     "name": "stderr",
     "text": [
      "  0%|          | 0/1180 [00:00<?, ?it/s]"
     ]
    },
    {
     "output_type": "stream",
     "name": "stdout",
     "text": [
      "\n",
      "----------------epoch 23 ---------------\n"
     ]
    },
    {
     "output_type": "stream",
     "name": "stderr",
     "text": [
      "100%|██████████| 1180/1180 [01:25<00:00, 13.72it/s]\n"
     ]
    },
    {
     "output_type": "stream",
     "name": "stdout",
     "text": [
      "train loss: 854144.1281318665\n",
      "cluster loss: 111.05570220947266\n"
     ]
    },
    {
     "output_type": "stream",
     "name": "stderr",
     "text": [
      "  0%|          | 0/1180 [00:00<?, ?it/s]"
     ]
    },
    {
     "output_type": "stream",
     "name": "stdout",
     "text": [
      "\n",
      "\n",
      "intersection prec: 0.971, rec: 0.521, F1: 0.678, AER: 0.319\n",
      "gdfa prec: 0.856, rec: 0.71, F1: 0.776, AER: 0.221\n",
      "my_gdfa prec: 0.789, rec: 0.756, F1: 0.772, AER: 0.227\n",
      "argmax prec: 0.951, rec: 0.658, F1: 0.778, AER: 0.219\n",
      "resnorm prec: 0.667, rec: 0.786, F1: 0.722, AER: 0.282\n",
      "itermax2-.9 prec: 0.857, rec: 0.729, F1: 0.788, AER: 0.209\n",
      "itermax2-.95 prec: 0.856, rec: 0.729, F1: 0.787, AER: 0.21\n",
      "itermax2-.8 prec: 0.858, rec: 0.728, F1: 0.788, AER: 0.21\n",
      "my_gd prec: 0.911, rec: 0.721, F1: 0.805, AER: 0.192\n",
      "my_gd_gdfa prec: 0.854, rec: 0.795, F1: 0.823, AER: 0.175\n",
      "new1 prec: 0.892, rec: 0.68, F1: 0.772, AER: 0.226\n",
      "new_mygd prec: 0.828, rec: 0.793, F1: 0.81, AER: 0.189\n",
      "sum1 prec: 0.774, rec: 0.797, F1: 0.785, AER: 0.215\n",
      "\n",
      "----------------epoch 24 ---------------\n"
     ]
    },
    {
     "output_type": "stream",
     "name": "stderr",
     "text": [
      "100%|██████████| 1180/1180 [01:24<00:00, 14.02it/s]\n"
     ]
    },
    {
     "output_type": "stream",
     "name": "stdout",
     "text": [
      "train loss: 838289.9036521912\n",
      "cluster loss: 108.94539642333984\n"
     ]
    },
    {
     "output_type": "stream",
     "name": "stderr",
     "text": [
      "  0%|          | 0/1180 [00:00<?, ?it/s]"
     ]
    },
    {
     "output_type": "stream",
     "name": "stdout",
     "text": [
      "\n",
      "\n",
      "intersection prec: 0.971, rec: 0.521, F1: 0.678, AER: 0.319\n",
      "gdfa prec: 0.856, rec: 0.71, F1: 0.776, AER: 0.221\n",
      "my_gdfa prec: 0.784, rec: 0.752, F1: 0.768, AER: 0.232\n",
      "argmax prec: 0.951, rec: 0.659, F1: 0.779, AER: 0.219\n",
      "resnorm prec: 0.705, rec: 0.769, F1: 0.736, AER: 0.266\n",
      "itermax2-.9 prec: 0.851, rec: 0.727, F1: 0.784, AER: 0.213\n",
      "itermax2-.95 prec: 0.85, rec: 0.727, F1: 0.784, AER: 0.214\n",
      "itermax2-.8 prec: 0.85, rec: 0.727, F1: 0.784, AER: 0.214\n",
      "my_gd prec: 0.915, rec: 0.713, F1: 0.801, AER: 0.196\n",
      "my_gd_gdfa prec: 0.858, rec: 0.792, F1: 0.824, AER: 0.175\n",
      "new1 prec: 0.902, rec: 0.684, F1: 0.778, AER: 0.219\n",
      "new_mygd prec: 0.838, rec: 0.79, F1: 0.813, AER: 0.186\n",
      "sum1 prec: 0.777, rec: 0.793, F1: 0.785, AER: 0.216\n",
      "\n",
      "----------------epoch 25 ---------------\n"
     ]
    },
    {
     "output_type": "stream",
     "name": "stderr",
     "text": [
      "100%|██████████| 1180/1180 [01:26<00:00, 13.65it/s]\n"
     ]
    },
    {
     "output_type": "stream",
     "name": "stdout",
     "text": [
      "train loss: 829785.236415863\n",
      "cluster loss: 108.00302124023438\n",
      "\n",
      "\n",
      "intersection prec: 0.971, rec: 0.521, F1: 0.678, AER: 0.319\n",
      "gdfa prec: 0.856, rec: 0.71, F1: 0.776, AER: 0.221\n",
      "my_gdfa prec: 0.781, rec: 0.751, F1: 0.766, AER: 0.233\n",
      "argmax prec: 0.949, rec: 0.656, F1: 0.776, AER: 0.222\n",
      "resnorm prec: 0.691, rec: 0.77, F1: 0.728, AER: 0.274\n",
      "itermax2-.9 prec: 0.852, rec: 0.726, F1: 0.784, AER: 0.214\n",
      "itermax2-.95 prec: 0.851, rec: 0.726, F1: 0.784, AER: 0.214\n",
      "itermax2-.8 prec: 0.854, rec: 0.726, F1: 0.785, AER: 0.213\n",
      "my_gd prec: 0.913, rec: 0.713, F1: 0.801, AER: 0.196\n",
      "my_gd_gdfa prec: 0.856, rec: 0.792, F1: 0.823, AER: 0.176\n",
      "new1 prec: 0.895, rec: 0.685, F1: 0.776, AER: 0.221\n",
      "new_mygd prec: 0.831, rec: 0.791, F1: 0.811, AER: 0.188\n",
      "sum1 prec: 0.775, rec: 0.793, F1: 0.784, AER: 0.217\n"
     ]
    },
    {
     "output_type": "stream",
     "name": "stderr",
     "text": [
      "  0%|          | 0/1180 [00:00<?, ?it/s]"
     ]
    },
    {
     "output_type": "stream",
     "name": "stdout",
     "text": [
      "\n",
      "----------------epoch 26 ---------------\n"
     ]
    },
    {
     "output_type": "stream",
     "name": "stderr",
     "text": [
      "100%|██████████| 1180/1180 [01:25<00:00, 13.84it/s]\n"
     ]
    },
    {
     "output_type": "stream",
     "name": "stdout",
     "text": [
      "train loss: 819905.7149734497\n",
      "cluster loss: 106.56598663330078\n",
      "\n",
      "\n",
      "intersection prec: 0.971, rec: 0.521, F1: 0.678, AER: 0.319\n",
      "gdfa prec: 0.856, rec: 0.71, F1: 0.776, AER: 0.221\n",
      "my_gdfa prec: 0.786, rec: 0.757, F1: 0.771, AER: 0.228\n",
      "argmax prec: 0.951, rec: 0.658, F1: 0.778, AER: 0.22\n",
      "resnorm prec: 0.681, rec: 0.779, F1: 0.727, AER: 0.276\n",
      "itermax2-.9 prec: 0.852, rec: 0.728, F1: 0.785, AER: 0.212\n",
      "itermax2-.95 prec: 0.852, rec: 0.729, F1: 0.786, AER: 0.212\n",
      "itermax2-.8 prec: 0.852, rec: 0.727, F1: 0.785, AER: 0.213\n",
      "my_gd prec: 0.915, rec: 0.718, F1: 0.805, AER: 0.193\n",
      "my_gd_gdfa prec: 0.859, rec: 0.793, F1: 0.825, AER: 0.174\n",
      "new1 prec: 0.899, rec: 0.68, F1: 0.774, AER: 0.222\n",
      "new_mygd prec: 0.836, rec: 0.792, F1: 0.813, AER: 0.185\n",
      "sum1 prec: 0.777, rec: 0.795, F1: 0.786, AER: 0.215\n"
     ]
    },
    {
     "output_type": "stream",
     "name": "stderr",
     "text": [
      "  0%|          | 0/1180 [00:00<?, ?it/s]"
     ]
    },
    {
     "output_type": "stream",
     "name": "stdout",
     "text": [
      "\n",
      "----------------epoch 27 ---------------\n"
     ]
    },
    {
     "output_type": "stream",
     "name": "stderr",
     "text": [
      "100%|██████████| 1180/1180 [01:25<00:00, 13.79it/s]\n"
     ]
    },
    {
     "output_type": "stream",
     "name": "stdout",
     "text": [
      "train loss: 820907.5534267426\n",
      "cluster loss: 106.5796127319336\n"
     ]
    },
    {
     "output_type": "stream",
     "name": "stderr",
     "text": [
      "  0%|          | 0/1180 [00:00<?, ?it/s]"
     ]
    },
    {
     "output_type": "stream",
     "name": "stdout",
     "text": [
      "\n",
      "\n",
      "intersection prec: 0.971, rec: 0.521, F1: 0.678, AER: 0.319\n",
      "gdfa prec: 0.856, rec: 0.71, F1: 0.776, AER: 0.221\n",
      "my_gdfa prec: 0.781, rec: 0.752, F1: 0.766, AER: 0.233\n",
      "argmax prec: 0.95, rec: 0.656, F1: 0.776, AER: 0.221\n",
      "resnorm prec: 0.752, rec: 0.752, F1: 0.752, AER: 0.248\n",
      "itermax2-.9 prec: 0.85, rec: 0.726, F1: 0.783, AER: 0.215\n",
      "itermax2-.95 prec: 0.849, rec: 0.726, F1: 0.783, AER: 0.215\n",
      "itermax2-.8 prec: 0.851, rec: 0.725, F1: 0.783, AER: 0.214\n",
      "my_gd prec: 0.922, rec: 0.704, F1: 0.798, AER: 0.199\n",
      "my_gd_gdfa prec: 0.863, rec: 0.786, F1: 0.823, AER: 0.176\n",
      "new1 prec: 0.917, rec: 0.679, F1: 0.78, AER: 0.217\n",
      "new_mygd prec: 0.849, rec: 0.785, F1: 0.816, AER: 0.183\n",
      "sum1 prec: 0.779, rec: 0.788, F1: 0.783, AER: 0.217\n",
      "\n",
      "----------------epoch 28 ---------------\n"
     ]
    },
    {
     "output_type": "stream",
     "name": "stderr",
     "text": [
      "100%|██████████| 1180/1180 [01:28<00:00, 13.37it/s]\n"
     ]
    },
    {
     "output_type": "stream",
     "name": "stdout",
     "text": [
      "train loss: 794509.5388851166\n",
      "cluster loss: 103.43257141113281\n",
      "\n",
      "\n",
      "intersection prec: 0.971, rec: 0.521, F1: 0.678, AER: 0.319\n",
      "gdfa prec: 0.856, rec: 0.71, F1: 0.776, AER: 0.221\n",
      "my_gdfa prec: 0.786, rec: 0.755, F1: 0.77, AER: 0.229\n",
      "argmax prec: 0.951, rec: 0.658, F1: 0.778, AER: 0.22\n",
      "resnorm prec: 0.726, rec: 0.766, F1: 0.745, AER: 0.256\n",
      "itermax2-.9 prec: 0.851, rec: 0.729, F1: 0.785, AER: 0.212\n",
      "itermax2-.95 prec: 0.85, rec: 0.729, F1: 0.785, AER: 0.213\n",
      "itermax2-.8 prec: 0.852, rec: 0.729, F1: 0.786, AER: 0.212\n",
      "my_gd prec: 0.917, rec: 0.713, F1: 0.802, AER: 0.195\n",
      "my_gd_gdfa prec: 0.86, rec: 0.789, F1: 0.823, AER: 0.175\n",
      "new1 prec: 0.909, rec: 0.685, F1: 0.781, AER: 0.216\n",
      "new_mygd prec: 0.842, rec: 0.787, F1: 0.814, AER: 0.185\n",
      "sum1 prec: 0.777, rec: 0.791, F1: 0.784, AER: 0.216\n"
     ]
    },
    {
     "output_type": "stream",
     "name": "stderr",
     "text": [
      "  0%|          | 0/1180 [00:00<?, ?it/s]"
     ]
    },
    {
     "output_type": "stream",
     "name": "stdout",
     "text": [
      "\n",
      "----------------epoch 29 ---------------\n"
     ]
    },
    {
     "output_type": "stream",
     "name": "stderr",
     "text": [
      "100%|██████████| 1180/1180 [01:23<00:00, 14.07it/s]\n"
     ]
    },
    {
     "output_type": "stream",
     "name": "stdout",
     "text": [
      "train loss: 790935.2501010895\n",
      "cluster loss: 102.94914245605469\n"
     ]
    },
    {
     "output_type": "stream",
     "name": "stderr",
     "text": [
      "  0%|          | 0/1180 [00:00<?, ?it/s]"
     ]
    },
    {
     "output_type": "stream",
     "name": "stdout",
     "text": [
      "\n",
      "\n",
      "intersection prec: 0.971, rec: 0.521, F1: 0.678, AER: 0.319\n",
      "gdfa prec: 0.856, rec: 0.71, F1: 0.776, AER: 0.221\n",
      "my_gdfa prec: 0.785, rec: 0.752, F1: 0.768, AER: 0.231\n",
      "argmax prec: 0.95, rec: 0.658, F1: 0.777, AER: 0.22\n",
      "resnorm prec: 0.716, rec: 0.766, F1: 0.74, AER: 0.261\n",
      "itermax2-.9 prec: 0.85, rec: 0.725, F1: 0.783, AER: 0.215\n",
      "itermax2-.95 prec: 0.849, rec: 0.726, F1: 0.783, AER: 0.215\n",
      "itermax2-.8 prec: 0.85, rec: 0.724, F1: 0.782, AER: 0.216\n",
      "my_gd prec: 0.918, rec: 0.71, F1: 0.801, AER: 0.196\n",
      "my_gd_gdfa prec: 0.859, rec: 0.789, F1: 0.823, AER: 0.176\n",
      "new1 prec: 0.905, rec: 0.685, F1: 0.78, AER: 0.217\n",
      "new_mygd prec: 0.841, rec: 0.79, F1: 0.815, AER: 0.184\n",
      "sum1 prec: 0.778, rec: 0.79, F1: 0.784, AER: 0.217\n",
      "\n",
      "----------------epoch 30 ---------------\n"
     ]
    },
    {
     "output_type": "stream",
     "name": "stderr",
     "text": [
      "100%|██████████| 1180/1180 [01:24<00:00, 13.99it/s]\n"
     ]
    },
    {
     "output_type": "stream",
     "name": "stdout",
     "text": [
      "train loss: 791893.6966056824\n",
      "cluster loss: 103.14185333251953\n"
     ]
    },
    {
     "output_type": "stream",
     "name": "stderr",
     "text": [
      "  0%|          | 0/1180 [00:00<?, ?it/s]"
     ]
    },
    {
     "output_type": "stream",
     "name": "stdout",
     "text": [
      "\n",
      "\n",
      "intersection prec: 0.971, rec: 0.521, F1: 0.678, AER: 0.319\n",
      "gdfa prec: 0.856, rec: 0.71, F1: 0.776, AER: 0.221\n",
      "my_gdfa prec: 0.785, rec: 0.754, F1: 0.769, AER: 0.23\n",
      "argmax prec: 0.95, rec: 0.658, F1: 0.777, AER: 0.22\n",
      "resnorm prec: 0.755, rec: 0.757, F1: 0.756, AER: 0.244\n",
      "itermax2-.9 prec: 0.85, rec: 0.728, F1: 0.784, AER: 0.213\n",
      "itermax2-.95 prec: 0.85, rec: 0.728, F1: 0.784, AER: 0.213\n",
      "itermax2-.8 prec: 0.851, rec: 0.728, F1: 0.785, AER: 0.213\n",
      "my_gd prec: 0.922, rec: 0.709, F1: 0.802, AER: 0.196\n",
      "my_gd_gdfa prec: 0.862, rec: 0.788, F1: 0.823, AER: 0.175\n",
      "new1 prec: 0.916, rec: 0.682, F1: 0.782, AER: 0.215\n",
      "new_mygd prec: 0.847, rec: 0.787, F1: 0.816, AER: 0.183\n",
      "sum1 prec: 0.78, rec: 0.79, F1: 0.785, AER: 0.216\n",
      "\n",
      "----------------epoch 31 ---------------\n"
     ]
    },
    {
     "output_type": "stream",
     "name": "stderr",
     "text": [
      "100%|██████████| 1180/1180 [01:24<00:00, 13.96it/s]\n"
     ]
    },
    {
     "output_type": "stream",
     "name": "stdout",
     "text": [
      "train loss: 781188.1543502808\n",
      "cluster loss: 101.82693481445312\n",
      "\n",
      "\n",
      "intersection prec: 0.971, rec: 0.521, F1: 0.678, AER: 0.319\n",
      "gdfa prec: 0.856, rec: 0.71, F1: 0.776, AER: 0.221\n",
      "my_gdfa prec: 0.786, rec: 0.757, F1: 0.771, AER: 0.228\n",
      "argmax prec: 0.953, rec: 0.657, F1: 0.778, AER: 0.219\n",
      "resnorm prec: 0.744, rec: 0.76, F1: 0.752, AER: 0.249\n",
      "itermax2-.9 prec: 0.853, rec: 0.731, F1: 0.787, AER: 0.21\n",
      "itermax2-.95 prec: 0.852, rec: 0.73, F1: 0.786, AER: 0.211\n",
      "itermax2-.8 prec: 0.853, rec: 0.731, F1: 0.787, AER: 0.21\n",
      "my_gd prec: 0.923, rec: 0.711, F1: 0.803, AER: 0.194\n",
      "my_gd_gdfa prec: 0.864, rec: 0.789, F1: 0.825, AER: 0.174\n",
      "new1 prec: 0.913, rec: 0.683, F1: 0.781, AER: 0.215\n",
      "new_mygd prec: 0.847, rec: 0.787, F1: 0.816, AER: 0.183\n",
      "sum1 prec: 0.78, rec: 0.791, F1: 0.785, AER: 0.215\n"
     ]
    },
    {
     "output_type": "stream",
     "name": "stderr",
     "text": [
      "  0%|          | 0/1180 [00:00<?, ?it/s]"
     ]
    },
    {
     "output_type": "stream",
     "name": "stdout",
     "text": [
      "\n",
      "----------------epoch 32 ---------------\n"
     ]
    },
    {
     "output_type": "stream",
     "name": "stderr",
     "text": [
      "100%|██████████| 1180/1180 [01:26<00:00, 13.69it/s]\n"
     ]
    },
    {
     "output_type": "stream",
     "name": "stdout",
     "text": [
      "train loss: 770527.4799804688\n",
      "cluster loss: 100.46178436279297\n"
     ]
    },
    {
     "output_type": "stream",
     "name": "stderr",
     "text": [
      "  0%|          | 0/1180 [00:00<?, ?it/s]"
     ]
    },
    {
     "output_type": "stream",
     "name": "stdout",
     "text": [
      "\n",
      "\n",
      "intersection prec: 0.971, rec: 0.521, F1: 0.678, AER: 0.319\n",
      "gdfa prec: 0.856, rec: 0.71, F1: 0.776, AER: 0.221\n",
      "my_gdfa prec: 0.785, rec: 0.754, F1: 0.769, AER: 0.23\n",
      "argmax prec: 0.953, rec: 0.659, F1: 0.779, AER: 0.218\n",
      "resnorm prec: 0.736, rec: 0.765, F1: 0.75, AER: 0.25\n",
      "itermax2-.9 prec: 0.852, rec: 0.726, F1: 0.784, AER: 0.214\n",
      "itermax2-.95 prec: 0.851, rec: 0.726, F1: 0.784, AER: 0.214\n",
      "itermax2-.8 prec: 0.854, rec: 0.727, F1: 0.785, AER: 0.212\n",
      "my_gd prec: 0.92, rec: 0.712, F1: 0.803, AER: 0.194\n",
      "my_gd_gdfa prec: 0.861, rec: 0.789, F1: 0.823, AER: 0.175\n",
      "new1 prec: 0.903, rec: 0.687, F1: 0.78, AER: 0.216\n",
      "new_mygd prec: 0.838, rec: 0.789, F1: 0.813, AER: 0.186\n",
      "sum1 prec: 0.779, rec: 0.791, F1: 0.785, AER: 0.216\n",
      "\n",
      "----------------epoch 33 ---------------\n"
     ]
    },
    {
     "output_type": "stream",
     "name": "stderr",
     "text": [
      "100%|██████████| 1180/1180 [01:28<00:00, 13.30it/s]\n"
     ]
    },
    {
     "output_type": "stream",
     "name": "stdout",
     "text": [
      "train loss: 758571.450422287\n",
      "cluster loss: 98.73631286621094\n"
     ]
    },
    {
     "output_type": "stream",
     "name": "stderr",
     "text": [
      "  0%|          | 0/1180 [00:00<?, ?it/s]"
     ]
    },
    {
     "output_type": "stream",
     "name": "stdout",
     "text": [
      "\n",
      "\n",
      "intersection prec: 0.971, rec: 0.521, F1: 0.678, AER: 0.319\n",
      "gdfa prec: 0.856, rec: 0.71, F1: 0.776, AER: 0.221\n",
      "my_gdfa prec: 0.784, rec: 0.755, F1: 0.769, AER: 0.23\n",
      "argmax prec: 0.951, rec: 0.657, F1: 0.777, AER: 0.22\n",
      "resnorm prec: 0.737, rec: 0.761, F1: 0.749, AER: 0.252\n",
      "itermax2-.9 prec: 0.853, rec: 0.729, F1: 0.786, AER: 0.211\n",
      "itermax2-.95 prec: 0.85, rec: 0.728, F1: 0.784, AER: 0.213\n",
      "itermax2-.8 prec: 0.854, rec: 0.729, F1: 0.787, AER: 0.211\n",
      "my_gd prec: 0.922, rec: 0.71, F1: 0.802, AER: 0.195\n",
      "my_gd_gdfa prec: 0.862, rec: 0.788, F1: 0.823, AER: 0.175\n",
      "new1 prec: 0.91, rec: 0.684, F1: 0.781, AER: 0.216\n",
      "new_mygd prec: 0.846, rec: 0.79, F1: 0.817, AER: 0.182\n",
      "sum1 prec: 0.78, rec: 0.791, F1: 0.785, AER: 0.215\n",
      "\n",
      "----------------epoch 34 ---------------\n"
     ]
    },
    {
     "output_type": "stream",
     "name": "stderr",
     "text": [
      "100%|██████████| 1180/1180 [01:26<00:00, 13.72it/s]\n"
     ]
    },
    {
     "output_type": "stream",
     "name": "stdout",
     "text": [
      "train loss: 756262.7880306244\n",
      "cluster loss: 98.45863342285156\n",
      "\n",
      "\n",
      "intersection prec: 0.971, rec: 0.521, F1: 0.678, AER: 0.319\n",
      "gdfa prec: 0.856, rec: 0.71, F1: 0.776, AER: 0.221\n",
      "my_gdfa prec: 0.786, rec: 0.755, F1: 0.77, AER: 0.229\n",
      "argmax prec: 0.951, rec: 0.658, F1: 0.778, AER: 0.219\n",
      "resnorm prec: 0.673, rec: 0.781, F1: 0.723, AER: 0.28\n",
      "itermax2-.9 prec: 0.857, rec: 0.73, F1: 0.788, AER: 0.209\n",
      "itermax2-.95 prec: 0.855, rec: 0.731, F1: 0.788, AER: 0.209\n",
      "itermax2-.8 prec: 0.857, rec: 0.729, F1: 0.788, AER: 0.209\n",
      "my_gd prec: 0.914, rec: 0.721, F1: 0.806, AER: 0.191\n",
      "my_gd_gdfa prec: 0.856, rec: 0.795, F1: 0.824, AER: 0.174\n",
      "new1 prec: 0.884, rec: 0.694, F1: 0.778, AER: 0.219\n",
      "new_mygd prec: 0.823, rec: 0.797, F1: 0.81, AER: 0.19\n",
      "sum1 prec: 0.776, rec: 0.796, F1: 0.786, AER: 0.215\n"
     ]
    },
    {
     "output_type": "stream",
     "name": "stderr",
     "text": [
      "  0%|          | 0/1180 [00:00<?, ?it/s]"
     ]
    },
    {
     "output_type": "stream",
     "name": "stdout",
     "text": [
      "\n",
      "----------------epoch 35 ---------------\n"
     ]
    },
    {
     "output_type": "stream",
     "name": "stderr",
     "text": [
      "100%|██████████| 1180/1180 [01:25<00:00, 13.77it/s]\n"
     ]
    },
    {
     "output_type": "stream",
     "name": "stdout",
     "text": [
      "train loss: 751991.5865116119\n",
      "cluster loss: 98.11087036132812\n"
     ]
    },
    {
     "output_type": "stream",
     "name": "stderr",
     "text": [
      "  0%|          | 0/1180 [00:00<?, ?it/s]"
     ]
    },
    {
     "output_type": "stream",
     "name": "stdout",
     "text": [
      "\n",
      "\n",
      "intersection prec: 0.971, rec: 0.521, F1: 0.678, AER: 0.319\n",
      "gdfa prec: 0.856, rec: 0.71, F1: 0.776, AER: 0.221\n",
      "my_gdfa prec: 0.784, rec: 0.756, F1: 0.77, AER: 0.23\n",
      "argmax prec: 0.951, rec: 0.657, F1: 0.777, AER: 0.22\n",
      "resnorm prec: 0.75, rec: 0.762, F1: 0.756, AER: 0.244\n",
      "itermax2-.9 prec: 0.854, rec: 0.73, F1: 0.787, AER: 0.211\n",
      "itermax2-.95 prec: 0.853, rec: 0.73, F1: 0.787, AER: 0.211\n",
      "itermax2-.8 prec: 0.855, rec: 0.729, F1: 0.787, AER: 0.21\n",
      "my_gd prec: 0.92, rec: 0.713, F1: 0.803, AER: 0.194\n",
      "my_gd_gdfa prec: 0.862, rec: 0.789, F1: 0.824, AER: 0.175\n",
      "new1 prec: 0.913, rec: 0.686, F1: 0.783, AER: 0.214\n",
      "new_mygd prec: 0.847, rec: 0.789, F1: 0.817, AER: 0.182\n",
      "sum1 prec: 0.778, rec: 0.791, F1: 0.784, AER: 0.215\n",
      "\n",
      "----------------epoch 36 ---------------\n"
     ]
    },
    {
     "output_type": "stream",
     "name": "stderr",
     "text": [
      "100%|██████████| 1180/1180 [01:24<00:00, 13.97it/s]\n"
     ]
    },
    {
     "output_type": "stream",
     "name": "stdout",
     "text": [
      "train loss: 744153.1522388458\n",
      "cluster loss: 97.00882720947266\n",
      "\n",
      "\n",
      "intersection prec: 0.971, rec: 0.521, F1: 0.678, AER: 0.319\n",
      "gdfa prec: 0.856, rec: 0.71, F1: 0.776, AER: 0.221\n",
      "my_gdfa prec: 0.788, rec: 0.757, F1: 0.772, AER: 0.227\n",
      "argmax prec: 0.953, rec: 0.658, F1: 0.778, AER: 0.218\n",
      "resnorm prec: 0.734, rec: 0.768, F1: 0.751, AER: 0.25\n",
      "itermax2-.9 prec: 0.855, rec: 0.731, F1: 0.788, AER: 0.209\n",
      "itermax2-.95 prec: 0.854, rec: 0.731, F1: 0.788, AER: 0.21\n",
      "itermax2-.8 prec: 0.857, rec: 0.731, F1: 0.789, AER: 0.208\n",
      "my_gd prec: 0.919, rec: 0.714, F1: 0.804, AER: 0.193\n",
      "my_gd_gdfa prec: 0.86, rec: 0.79, F1: 0.824, AER: 0.175\n",
      "new1 prec: 0.907, rec: 0.687, F1: 0.782, AER: 0.215\n",
      "new_mygd prec: 0.84, rec: 0.789, F1: 0.814, AER: 0.185\n",
      "sum1 prec: 0.778, rec: 0.793, F1: 0.785, AER: 0.215\n"
     ]
    },
    {
     "output_type": "stream",
     "name": "stderr",
     "text": [
      "  0%|          | 0/1180 [00:00<?, ?it/s]"
     ]
    },
    {
     "output_type": "stream",
     "name": "stdout",
     "text": [
      "\n",
      "----------------epoch 37 ---------------\n"
     ]
    },
    {
     "output_type": "stream",
     "name": "stderr",
     "text": [
      "100%|██████████| 1180/1180 [01:25<00:00, 13.81it/s]\n"
     ]
    },
    {
     "output_type": "stream",
     "name": "stdout",
     "text": [
      "train loss: 737401.7932777405\n",
      "cluster loss: 95.95700073242188\n"
     ]
    },
    {
     "output_type": "stream",
     "name": "stderr",
     "text": [
      "  0%|          | 0/1180 [00:00<?, ?it/s]"
     ]
    },
    {
     "output_type": "stream",
     "name": "stdout",
     "text": [
      "\n",
      "\n",
      "intersection prec: 0.971, rec: 0.521, F1: 0.678, AER: 0.319\n",
      "gdfa prec: 0.856, rec: 0.71, F1: 0.776, AER: 0.221\n",
      "my_gdfa prec: 0.785, rec: 0.754, F1: 0.769, AER: 0.23\n",
      "argmax prec: 0.953, rec: 0.659, F1: 0.779, AER: 0.218\n",
      "resnorm prec: 0.765, rec: 0.756, F1: 0.76, AER: 0.239\n",
      "itermax2-.9 prec: 0.853, rec: 0.729, F1: 0.786, AER: 0.211\n",
      "itermax2-.95 prec: 0.851, rec: 0.728, F1: 0.785, AER: 0.212\n",
      "itermax2-.8 prec: 0.853, rec: 0.729, F1: 0.786, AER: 0.211\n",
      "my_gd prec: 0.924, rec: 0.71, F1: 0.803, AER: 0.194\n",
      "my_gd_gdfa prec: 0.865, rec: 0.788, F1: 0.825, AER: 0.174\n",
      "new1 prec: 0.924, rec: 0.681, F1: 0.784, AER: 0.213\n",
      "new_mygd prec: 0.855, rec: 0.788, F1: 0.82, AER: 0.178\n",
      "sum1 prec: 0.781, rec: 0.79, F1: 0.785, AER: 0.215\n",
      "\n",
      "----------------epoch 38 ---------------\n"
     ]
    },
    {
     "output_type": "stream",
     "name": "stderr",
     "text": [
      "100%|██████████| 1180/1180 [01:29<00:00, 13.16it/s]\n"
     ]
    },
    {
     "output_type": "stream",
     "name": "stdout",
     "text": [
      "train loss: 728493.6520442963\n",
      "cluster loss: 95.11547088623047\n"
     ]
    },
    {
     "output_type": "stream",
     "name": "stderr",
     "text": [
      "  0%|          | 0/1180 [00:00<?, ?it/s]"
     ]
    },
    {
     "output_type": "stream",
     "name": "stdout",
     "text": [
      "\n",
      "\n",
      "intersection prec: 0.971, rec: 0.521, F1: 0.678, AER: 0.319\n",
      "gdfa prec: 0.856, rec: 0.71, F1: 0.776, AER: 0.221\n",
      "my_gdfa prec: 0.783, rec: 0.756, F1: 0.769, AER: 0.23\n",
      "argmax prec: 0.952, rec: 0.659, F1: 0.779, AER: 0.219\n",
      "resnorm prec: 0.713, rec: 0.769, F1: 0.74, AER: 0.262\n",
      "itermax2-.9 prec: 0.851, rec: 0.73, F1: 0.786, AER: 0.212\n",
      "itermax2-.95 prec: 0.85, rec: 0.731, F1: 0.786, AER: 0.212\n",
      "itermax2-.8 prec: 0.851, rec: 0.73, F1: 0.786, AER: 0.212\n",
      "my_gd prec: 0.92, rec: 0.716, F1: 0.805, AER: 0.192\n",
      "my_gd_gdfa prec: 0.861, rec: 0.791, F1: 0.825, AER: 0.174\n",
      "new1 prec: 0.901, rec: 0.69, F1: 0.782, AER: 0.216\n",
      "new_mygd prec: 0.84, rec: 0.791, F1: 0.815, AER: 0.184\n",
      "sum1 prec: 0.779, rec: 0.793, F1: 0.786, AER: 0.214\n",
      "\n",
      "----------------epoch 39 ---------------\n"
     ]
    },
    {
     "output_type": "stream",
     "name": "stderr",
     "text": [
      "100%|██████████| 1180/1180 [01:24<00:00, 14.03it/s]\n"
     ]
    },
    {
     "output_type": "stream",
     "name": "stdout",
     "text": [
      "train loss: 728894.6310405731\n",
      "cluster loss: 95.05985260009766\n",
      "\n",
      "\n",
      "intersection prec: 0.971, rec: 0.521, F1: 0.678, AER: 0.319\n",
      "gdfa prec: 0.856, rec: 0.71, F1: 0.776, AER: 0.221\n",
      "my_gdfa prec: 0.787, rec: 0.756, F1: 0.771, AER: 0.228\n",
      "argmax prec: 0.952, rec: 0.657, F1: 0.777, AER: 0.22\n",
      "resnorm prec: 0.771, rec: 0.752, F1: 0.761, AER: 0.238\n",
      "itermax2-.9 prec: 0.853, rec: 0.729, F1: 0.786, AER: 0.211\n",
      "itermax2-.95 prec: 0.852, rec: 0.729, F1: 0.786, AER: 0.212\n",
      "itermax2-.8 prec: 0.854, rec: 0.729, F1: 0.787, AER: 0.211\n",
      "my_gd prec: 0.927, rec: 0.709, F1: 0.803, AER: 0.194\n",
      "my_gd_gdfa prec: 0.866, rec: 0.785, F1: 0.824, AER: 0.174\n",
      "new1 prec: 0.918, rec: 0.678, F1: 0.78, AER: 0.217\n",
      "new_mygd prec: 0.851, rec: 0.785, F1: 0.817, AER: 0.182\n",
      "sum1 prec: 0.782, rec: 0.788, F1: 0.785, AER: 0.215\n"
     ]
    },
    {
     "output_type": "stream",
     "name": "stderr",
     "text": [
      "  0%|          | 0/1180 [00:00<?, ?it/s]"
     ]
    },
    {
     "output_type": "stream",
     "name": "stdout",
     "text": [
      "\n",
      "----------------epoch 40 ---------------\n"
     ]
    },
    {
     "output_type": "stream",
     "name": "stderr",
     "text": [
      "100%|██████████| 1180/1180 [01:24<00:00, 14.04it/s]\n"
     ]
    },
    {
     "output_type": "stream",
     "name": "stdout",
     "text": [
      "train loss: 722889.6192264557\n",
      "cluster loss: 94.07117462158203\n"
     ]
    },
    {
     "output_type": "stream",
     "name": "stderr",
     "text": [
      "  0%|          | 0/1180 [00:00<?, ?it/s]"
     ]
    },
    {
     "output_type": "stream",
     "name": "stdout",
     "text": [
      "\n",
      "\n",
      "intersection prec: 0.971, rec: 0.521, F1: 0.678, AER: 0.319\n",
      "gdfa prec: 0.856, rec: 0.71, F1: 0.776, AER: 0.221\n",
      "my_gdfa prec: 0.784, rec: 0.755, F1: 0.769, AER: 0.23\n",
      "argmax prec: 0.953, rec: 0.658, F1: 0.778, AER: 0.219\n",
      "resnorm prec: 0.779, rec: 0.751, F1: 0.765, AER: 0.235\n",
      "itermax2-.9 prec: 0.853, rec: 0.73, F1: 0.787, AER: 0.211\n",
      "itermax2-.95 prec: 0.851, rec: 0.73, F1: 0.786, AER: 0.212\n",
      "itermax2-.8 prec: 0.853, rec: 0.729, F1: 0.786, AER: 0.211\n",
      "my_gd prec: 0.929, rec: 0.707, F1: 0.803, AER: 0.194\n",
      "my_gd_gdfa prec: 0.868, rec: 0.786, F1: 0.825, AER: 0.173\n",
      "new1 prec: 0.921, rec: 0.683, F1: 0.784, AER: 0.212\n",
      "new_mygd prec: 0.855, rec: 0.785, F1: 0.819, AER: 0.18\n",
      "sum1 prec: 0.783, rec: 0.788, F1: 0.785, AER: 0.215\n",
      "\n",
      "----------------epoch 41 ---------------\n"
     ]
    },
    {
     "output_type": "stream",
     "name": "stderr",
     "text": [
      "100%|██████████| 1180/1180 [01:26<00:00, 13.63it/s]\n"
     ]
    },
    {
     "output_type": "stream",
     "name": "stdout",
     "text": [
      "train loss: 713325.3844852448\n",
      "cluster loss: 93.17351531982422\n",
      "\n",
      "\n",
      "intersection prec: 0.971, rec: 0.521, F1: 0.678, AER: 0.319\n",
      "gdfa prec: 0.856, rec: 0.71, F1: 0.776, AER: 0.221\n",
      "my_gdfa prec: 0.784, rec: 0.753, F1: 0.768, AER: 0.231\n",
      "argmax prec: 0.952, rec: 0.66, F1: 0.78, AER: 0.218\n",
      "resnorm prec: 0.751, rec: 0.758, F1: 0.754, AER: 0.246\n",
      "itermax2-.9 prec: 0.851, rec: 0.73, F1: 0.786, AER: 0.211\n",
      "itermax2-.95 prec: 0.85, rec: 0.73, F1: 0.785, AER: 0.212\n",
      "itermax2-.8 prec: 0.852, rec: 0.73, F1: 0.786, AER: 0.211\n",
      "my_gd prec: 0.925, rec: 0.714, F1: 0.806, AER: 0.191\n",
      "my_gd_gdfa prec: 0.865, rec: 0.79, F1: 0.826, AER: 0.172\n",
      "new1 prec: 0.903, rec: 0.69, F1: 0.782, AER: 0.214\n",
      "new_mygd prec: 0.84, rec: 0.79, F1: 0.814, AER: 0.185\n",
      "sum1 prec: 0.782, rec: 0.792, F1: 0.787, AER: 0.213\n",
      "\n",
      "----------------epoch 42 ---------------"
     ]
    },
    {
     "output_type": "stream",
     "name": "stderr",
     "text": [
      "  0%|          | 0/1180 [00:00<?, ?it/s]"
     ]
    },
    {
     "output_type": "stream",
     "name": "stdout",
     "text": [
      "\n"
     ]
    },
    {
     "output_type": "stream",
     "name": "stderr",
     "text": [
      "100%|██████████| 1180/1180 [01:24<00:00, 13.96it/s]\n"
     ]
    },
    {
     "output_type": "stream",
     "name": "stdout",
     "text": [
      "train loss: 706674.2340679169\n",
      "cluster loss: 92.37911987304688\n",
      "\n",
      "\n",
      "intersection prec: 0.971, rec: 0.521, F1: 0.678, AER: 0.319\n",
      "gdfa prec: 0.856, rec: 0.71, F1: 0.776, AER: 0.221\n",
      "my_gdfa prec: 0.786, rec: 0.755, F1: 0.77, AER: 0.229\n",
      "argmax prec: 0.951, rec: 0.658, F1: 0.778, AER: 0.22\n",
      "resnorm prec: 0.746, rec: 0.766, F1: 0.756, AER: 0.245\n",
      "itermax2-.9 prec: 0.852, rec: 0.73, F1: 0.786, AER: 0.211\n",
      "itermax2-.95 prec: 0.851, rec: 0.73, F1: 0.786, AER: 0.211\n",
      "itermax2-.8 prec: 0.853, rec: 0.729, F1: 0.786, AER: 0.211\n",
      "my_gd prec: 0.919, rec: 0.715, F1: 0.804, AER: 0.192\n",
      "my_gd_gdfa prec: 0.861, rec: 0.791, F1: 0.825, AER: 0.174\n",
      "new1 prec: 0.9, rec: 0.695, F1: 0.784, AER: 0.212\n",
      "new_mygd prec: 0.837, rec: 0.792, F1: 0.814, AER: 0.185\n",
      "sum1 prec: 0.779, rec: 0.793, F1: 0.786, AER: 0.215\n"
     ]
    },
    {
     "output_type": "stream",
     "name": "stderr",
     "text": [
      "  0%|          | 0/1180 [00:00<?, ?it/s]"
     ]
    },
    {
     "output_type": "stream",
     "name": "stdout",
     "text": [
      "\n",
      "----------------epoch 43 ---------------\n"
     ]
    },
    {
     "output_type": "stream",
     "name": "stderr",
     "text": [
      "100%|██████████| 1180/1180 [01:30<00:00, 13.07it/s]\n"
     ]
    },
    {
     "output_type": "stream",
     "name": "stdout",
     "text": [
      "train loss: 706087.439994812\n",
      "cluster loss: 92.17892456054688\n"
     ]
    },
    {
     "output_type": "stream",
     "name": "stderr",
     "text": [
      "  0%|          | 0/1180 [00:00<?, ?it/s]"
     ]
    },
    {
     "output_type": "stream",
     "name": "stdout",
     "text": [
      "\n",
      "\n",
      "intersection prec: 0.971, rec: 0.521, F1: 0.678, AER: 0.319\n",
      "gdfa prec: 0.856, rec: 0.71, F1: 0.776, AER: 0.221\n",
      "my_gdfa prec: 0.786, rec: 0.754, F1: 0.77, AER: 0.23\n",
      "argmax prec: 0.954, rec: 0.66, F1: 0.78, AER: 0.217\n",
      "resnorm prec: 0.755, rec: 0.757, F1: 0.756, AER: 0.244\n",
      "itermax2-.9 prec: 0.855, rec: 0.73, F1: 0.788, AER: 0.21\n",
      "itermax2-.95 prec: 0.855, rec: 0.73, F1: 0.788, AER: 0.21\n",
      "itermax2-.8 prec: 0.856, rec: 0.73, F1: 0.788, AER: 0.21\n",
      "my_gd prec: 0.922, rec: 0.713, F1: 0.804, AER: 0.192\n",
      "my_gd_gdfa prec: 0.864, rec: 0.791, F1: 0.826, AER: 0.173\n",
      "new1 prec: 0.902, rec: 0.689, F1: 0.781, AER: 0.215\n",
      "new_mygd prec: 0.84, rec: 0.791, F1: 0.815, AER: 0.184\n",
      "sum1 prec: 0.781, rec: 0.792, F1: 0.786, AER: 0.214\n",
      "\n",
      "----------------epoch 44 ---------------\n"
     ]
    },
    {
     "output_type": "stream",
     "name": "stderr",
     "text": [
      "100%|██████████| 1180/1180 [01:26<00:00, 13.58it/s]\n"
     ]
    },
    {
     "output_type": "stream",
     "name": "stdout",
     "text": [
      "train loss: 697176.2294578552\n",
      "cluster loss: 90.87286376953125\n"
     ]
    },
    {
     "output_type": "stream",
     "name": "stderr",
     "text": [
      "  0%|          | 0/1180 [00:00<?, ?it/s]"
     ]
    },
    {
     "output_type": "stream",
     "name": "stdout",
     "text": [
      "\n",
      "\n",
      "intersection prec: 0.971, rec: 0.521, F1: 0.678, AER: 0.319\n",
      "gdfa prec: 0.856, rec: 0.71, F1: 0.776, AER: 0.221\n",
      "my_gdfa prec: 0.783, rec: 0.753, F1: 0.768, AER: 0.232\n",
      "argmax prec: 0.953, rec: 0.656, F1: 0.777, AER: 0.22\n",
      "resnorm prec: 0.723, rec: 0.763, F1: 0.742, AER: 0.259\n",
      "itermax2-.9 prec: 0.852, rec: 0.728, F1: 0.785, AER: 0.212\n",
      "itermax2-.95 prec: 0.85, rec: 0.727, F1: 0.784, AER: 0.214\n",
      "itermax2-.8 prec: 0.853, rec: 0.728, F1: 0.786, AER: 0.212\n",
      "my_gd prec: 0.92, rec: 0.715, F1: 0.805, AER: 0.192\n",
      "my_gd_gdfa prec: 0.862, rec: 0.791, F1: 0.825, AER: 0.174\n",
      "new1 prec: 0.89, rec: 0.688, F1: 0.776, AER: 0.221\n",
      "new_mygd prec: 0.83, rec: 0.792, F1: 0.811, AER: 0.189\n",
      "sum1 prec: 0.779, rec: 0.792, F1: 0.785, AER: 0.215\n",
      "\n",
      "----------------epoch 45 ---------------\n"
     ]
    },
    {
     "output_type": "stream",
     "name": "stderr",
     "text": [
      "100%|██████████| 1180/1180 [01:24<00:00, 13.89it/s]\n"
     ]
    },
    {
     "output_type": "stream",
     "name": "stdout",
     "text": [
      "train loss: 692734.0822906494\n",
      "cluster loss: 90.42359161376953\n",
      "\n",
      "\n",
      "intersection prec: 0.971, rec: 0.521, F1: 0.678, AER: 0.319\n",
      "gdfa prec: 0.856, rec: 0.71, F1: 0.776, AER: 0.221\n",
      "my_gdfa prec: 0.787, rec: 0.756, F1: 0.771, AER: 0.228\n",
      "argmax prec: 0.95, rec: 0.658, F1: 0.777, AER: 0.22\n",
      "resnorm prec: 0.732, rec: 0.764, F1: 0.748, AER: 0.253\n",
      "itermax2-.9 prec: 0.852, rec: 0.731, F1: 0.787, AER: 0.211\n",
      "itermax2-.95 prec: 0.851, rec: 0.731, F1: 0.786, AER: 0.211\n",
      "itermax2-.8 prec: 0.852, rec: 0.729, F1: 0.786, AER: 0.212\n",
      "my_gd prec: 0.92, rec: 0.714, F1: 0.804, AER: 0.193\n",
      "my_gd_gdfa prec: 0.862, rec: 0.791, F1: 0.825, AER: 0.174\n",
      "new1 prec: 0.904, rec: 0.689, F1: 0.782, AER: 0.215\n",
      "new_mygd prec: 0.841, rec: 0.791, F1: 0.815, AER: 0.183\n",
      "sum1 prec: 0.78, rec: 0.793, F1: 0.786, AER: 0.214\n"
     ]
    },
    {
     "output_type": "stream",
     "name": "stderr",
     "text": [
      "  0%|          | 0/1180 [00:00<?, ?it/s]"
     ]
    },
    {
     "output_type": "stream",
     "name": "stdout",
     "text": [
      "\n",
      "----------------epoch 46 ---------------\n"
     ]
    },
    {
     "output_type": "stream",
     "name": "stderr",
     "text": [
      "100%|██████████| 1180/1180 [01:25<00:00, 13.86it/s]\n"
     ]
    },
    {
     "output_type": "stream",
     "name": "stdout",
     "text": [
      "train loss: 692945.7568397522\n",
      "cluster loss: 90.52478790283203\n"
     ]
    },
    {
     "output_type": "stream",
     "name": "stderr",
     "text": [
      "  0%|          | 0/1180 [00:00<?, ?it/s]"
     ]
    },
    {
     "output_type": "stream",
     "name": "stdout",
     "text": [
      "\n",
      "\n",
      "intersection prec: 0.971, rec: 0.521, F1: 0.678, AER: 0.319\n",
      "gdfa prec: 0.856, rec: 0.71, F1: 0.776, AER: 0.221\n",
      "my_gdfa prec: 0.783, rec: 0.753, F1: 0.768, AER: 0.231\n",
      "argmax prec: 0.95, rec: 0.657, F1: 0.777, AER: 0.221\n",
      "resnorm prec: 0.763, rec: 0.759, F1: 0.761, AER: 0.239\n",
      "itermax2-.9 prec: 0.851, rec: 0.726, F1: 0.784, AER: 0.214\n",
      "itermax2-.95 prec: 0.85, rec: 0.727, F1: 0.784, AER: 0.214\n",
      "itermax2-.8 prec: 0.851, rec: 0.726, F1: 0.784, AER: 0.214\n",
      "my_gd prec: 0.92, rec: 0.709, F1: 0.801, AER: 0.196\n",
      "my_gd_gdfa prec: 0.862, rec: 0.788, F1: 0.823, AER: 0.175\n",
      "new1 prec: 0.903, rec: 0.692, F1: 0.784, AER: 0.213\n",
      "new_mygd prec: 0.841, rec: 0.789, F1: 0.814, AER: 0.184\n",
      "sum1 prec: 0.779, rec: 0.789, F1: 0.784, AER: 0.216\n",
      "\n",
      "----------------epoch 47 ---------------\n"
     ]
    },
    {
     "output_type": "stream",
     "name": "stderr",
     "text": [
      "100%|██████████| 1180/1180 [01:24<00:00, 13.91it/s]\n"
     ]
    },
    {
     "output_type": "stream",
     "name": "stdout",
     "text": [
      "train loss: 690454.0412788391\n",
      "cluster loss: 90.03838348388672\n"
     ]
    },
    {
     "output_type": "stream",
     "name": "stderr",
     "text": [
      "  0%|          | 0/1180 [00:00<?, ?it/s]"
     ]
    },
    {
     "output_type": "stream",
     "name": "stdout",
     "text": [
      "\n",
      "\n",
      "intersection prec: 0.971, rec: 0.521, F1: 0.678, AER: 0.319\n",
      "gdfa prec: 0.856, rec: 0.71, F1: 0.776, AER: 0.221\n",
      "my_gdfa prec: 0.782, rec: 0.753, F1: 0.767, AER: 0.232\n",
      "argmax prec: 0.954, rec: 0.658, F1: 0.779, AER: 0.218\n",
      "resnorm prec: 0.783, rec: 0.752, F1: 0.767, AER: 0.232\n",
      "itermax2-.9 prec: 0.853, rec: 0.728, F1: 0.786, AER: 0.212\n",
      "itermax2-.95 prec: 0.852, rec: 0.728, F1: 0.785, AER: 0.213\n",
      "itermax2-.8 prec: 0.853, rec: 0.729, F1: 0.786, AER: 0.211\n",
      "my_gd prec: 0.927, rec: 0.709, F1: 0.803, AER: 0.193\n",
      "my_gd_gdfa prec: 0.866, rec: 0.788, F1: 0.825, AER: 0.173\n",
      "new1 prec: 0.918, rec: 0.686, F1: 0.785, AER: 0.211\n",
      "new_mygd prec: 0.851, rec: 0.788, F1: 0.818, AER: 0.18\n",
      "sum1 prec: 0.782, rec: 0.79, F1: 0.786, AER: 0.214\n",
      "\n",
      "----------------epoch 48 ---------------\n"
     ]
    },
    {
     "output_type": "stream",
     "name": "stderr",
     "text": [
      "100%|██████████| 1180/1180 [01:28<00:00, 13.32it/s]\n"
     ]
    },
    {
     "output_type": "stream",
     "name": "stdout",
     "text": [
      "train loss: 681706.1028575897\n",
      "cluster loss: 88.9742202758789\n",
      "\n",
      "\n",
      "intersection prec: 0.971, rec: 0.521, F1: 0.678, AER: 0.319\n",
      "gdfa prec: 0.856, rec: 0.71, F1: 0.776, AER: 0.221\n",
      "my_gdfa prec: 0.788, rec: 0.754, F1: 0.771, AER: 0.228\n",
      "argmax prec: 0.955, rec: 0.662, F1: 0.782, AER: 0.215\n",
      "resnorm prec: 0.733, rec: 0.768, F1: 0.75, AER: 0.251\n",
      "itermax2-.9 prec: 0.857, rec: 0.731, F1: 0.789, AER: 0.209\n",
      "itermax2-.95 prec: 0.856, rec: 0.731, F1: 0.789, AER: 0.209\n",
      "itermax2-.8 prec: 0.857, rec: 0.731, F1: 0.789, AER: 0.209\n",
      "my_gd prec: 0.923, rec: 0.719, F1: 0.808, AER: 0.189\n",
      "my_gd_gdfa prec: 0.864, rec: 0.792, F1: 0.826, AER: 0.171\n",
      "new1 prec: 0.893, rec: 0.697, F1: 0.783, AER: 0.214\n",
      "new_mygd prec: 0.833, rec: 0.795, F1: 0.814, AER: 0.186\n",
      "sum1 prec: 0.781, rec: 0.795, F1: 0.788, AER: 0.213\n"
     ]
    },
    {
     "output_type": "stream",
     "name": "stderr",
     "text": [
      "  0%|          | 0/1180 [00:00<?, ?it/s]"
     ]
    },
    {
     "output_type": "stream",
     "name": "stdout",
     "text": [
      "\n",
      "----------------epoch 49 ---------------\n"
     ]
    },
    {
     "output_type": "stream",
     "name": "stderr",
     "text": [
      "100%|██████████| 1180/1180 [01:25<00:00, 13.78it/s]\n"
     ]
    },
    {
     "output_type": "stream",
     "name": "stdout",
     "text": [
      "train loss: 679092.3659858704\n",
      "cluster loss: 88.68047332763672\n"
     ]
    },
    {
     "output_type": "stream",
     "name": "stderr",
     "text": [
      "  0%|          | 0/1180 [00:00<?, ?it/s]"
     ]
    },
    {
     "output_type": "stream",
     "name": "stdout",
     "text": [
      "\n",
      "\n",
      "intersection prec: 0.971, rec: 0.521, F1: 0.678, AER: 0.319\n",
      "gdfa prec: 0.856, rec: 0.71, F1: 0.776, AER: 0.221\n",
      "my_gdfa prec: 0.784, rec: 0.754, F1: 0.769, AER: 0.231\n",
      "argmax prec: 0.952, rec: 0.658, F1: 0.778, AER: 0.219\n",
      "resnorm prec: 0.757, rec: 0.751, F1: 0.754, AER: 0.246\n",
      "itermax2-.9 prec: 0.853, rec: 0.729, F1: 0.786, AER: 0.212\n",
      "itermax2-.95 prec: 0.852, rec: 0.73, F1: 0.786, AER: 0.211\n",
      "itermax2-.8 prec: 0.854, rec: 0.729, F1: 0.787, AER: 0.211\n",
      "my_gd prec: 0.925, rec: 0.71, F1: 0.803, AER: 0.194\n",
      "my_gd_gdfa prec: 0.865, rec: 0.787, F1: 0.824, AER: 0.174\n",
      "new1 prec: 0.907, rec: 0.686, F1: 0.781, AER: 0.216\n",
      "new_mygd prec: 0.845, rec: 0.786, F1: 0.814, AER: 0.185\n",
      "sum1 prec: 0.781, rec: 0.789, F1: 0.785, AER: 0.215\n",
      "\n",
      "----------------epoch 50 ---------------\n"
     ]
    },
    {
     "output_type": "stream",
     "name": "stderr",
     "text": [
      "100%|██████████| 1180/1180 [01:24<00:00, 13.91it/s]\n"
     ]
    },
    {
     "output_type": "stream",
     "name": "stdout",
     "text": [
      "train loss: 672645.4475269318\n",
      "cluster loss: 87.82633972167969\n"
     ]
    },
    {
     "output_type": "stream",
     "name": "stderr",
     "text": [
      "  0%|          | 0/1180 [00:00<?, ?it/s]"
     ]
    },
    {
     "output_type": "stream",
     "name": "stdout",
     "text": [
      "\n",
      "\n",
      "intersection prec: 0.971, rec: 0.521, F1: 0.678, AER: 0.319\n",
      "gdfa prec: 0.856, rec: 0.71, F1: 0.776, AER: 0.221\n",
      "my_gdfa prec: 0.785, rec: 0.754, F1: 0.769, AER: 0.23\n",
      "argmax prec: 0.954, rec: 0.659, F1: 0.78, AER: 0.218\n",
      "resnorm prec: 0.761, rec: 0.759, F1: 0.76, AER: 0.24\n",
      "itermax2-.9 prec: 0.854, rec: 0.729, F1: 0.787, AER: 0.211\n",
      "itermax2-.95 prec: 0.853, rec: 0.729, F1: 0.786, AER: 0.211\n",
      "itermax2-.8 prec: 0.855, rec: 0.729, F1: 0.787, AER: 0.21\n",
      "my_gd prec: 0.924, rec: 0.713, F1: 0.805, AER: 0.192\n",
      "my_gd_gdfa prec: 0.866, rec: 0.789, F1: 0.826, AER: 0.173\n",
      "new1 prec: 0.908, rec: 0.691, F1: 0.785, AER: 0.212\n",
      "new_mygd prec: 0.846, rec: 0.79, F1: 0.817, AER: 0.182\n",
      "sum1 prec: 0.782, rec: 0.792, F1: 0.787, AER: 0.214\n",
      "\n",
      "----------------epoch 51 ---------------\n"
     ]
    },
    {
     "output_type": "stream",
     "name": "stderr",
     "text": [
      "100%|██████████| 1180/1180 [01:25<00:00, 13.85it/s]\n"
     ]
    },
    {
     "output_type": "stream",
     "name": "stdout",
     "text": [
      "train loss: 667269.5352630615\n",
      "cluster loss: 87.0134506225586\n",
      "\n",
      "\n",
      "intersection prec: 0.971, rec: 0.521, F1: 0.678, AER: 0.319\n",
      "gdfa prec: 0.856, rec: 0.71, F1: 0.776, AER: 0.221\n",
      "my_gdfa prec: 0.779, rec: 0.75, F1: 0.764, AER: 0.235\n",
      "argmax prec: 0.951, rec: 0.656, F1: 0.776, AER: 0.221\n",
      "resnorm prec: 0.78, rec: 0.746, F1: 0.763, AER: 0.236\n",
      "itermax2-.9 prec: 0.848, rec: 0.725, F1: 0.782, AER: 0.216\n",
      "itermax2-.95 prec: 0.847, rec: 0.724, F1: 0.781, AER: 0.217\n",
      "itermax2-.8 prec: 0.848, rec: 0.725, F1: 0.782, AER: 0.216\n",
      "my_gd prec: 0.927, rec: 0.706, F1: 0.802, AER: 0.195\n",
      "my_gd_gdfa prec: 0.867, rec: 0.785, F1: 0.824, AER: 0.174\n",
      "new1 prec: 0.915, rec: 0.682, F1: 0.782, AER: 0.215\n",
      "new_mygd prec: 0.853, rec: 0.783, F1: 0.817, AER: 0.182\n",
      "sum1 prec: 0.782, rec: 0.787, F1: 0.784, AER: 0.215\n"
     ]
    },
    {
     "output_type": "stream",
     "name": "stderr",
     "text": [
      "  0%|          | 0/1180 [00:00<?, ?it/s]"
     ]
    },
    {
     "output_type": "stream",
     "name": "stdout",
     "text": [
      "\n",
      "----------------epoch 52 ---------------\n"
     ]
    },
    {
     "output_type": "stream",
     "name": "stderr",
     "text": [
      "100%|██████████| 1180/1180 [01:24<00:00, 13.92it/s]\n"
     ]
    },
    {
     "output_type": "stream",
     "name": "stdout",
     "text": [
      "train loss: 667785.5827636719\n",
      "cluster loss: 87.23179626464844\n"
     ]
    },
    {
     "output_type": "stream",
     "name": "stderr",
     "text": [
      "  0%|          | 0/1180 [00:00<?, ?it/s]"
     ]
    },
    {
     "output_type": "stream",
     "name": "stdout",
     "text": [
      "\n",
      "\n",
      "intersection prec: 0.971, rec: 0.521, F1: 0.678, AER: 0.319\n",
      "gdfa prec: 0.856, rec: 0.71, F1: 0.776, AER: 0.221\n",
      "my_gdfa prec: 0.779, rec: 0.75, F1: 0.764, AER: 0.235\n",
      "argmax prec: 0.951, rec: 0.656, F1: 0.776, AER: 0.221\n",
      "resnorm prec: 0.724, rec: 0.764, F1: 0.743, AER: 0.258\n",
      "itermax2-.9 prec: 0.849, rec: 0.727, F1: 0.783, AER: 0.215\n",
      "itermax2-.95 prec: 0.848, rec: 0.727, F1: 0.783, AER: 0.215\n",
      "itermax2-.8 prec: 0.85, rec: 0.726, F1: 0.783, AER: 0.214\n",
      "my_gd prec: 0.918, rec: 0.714, F1: 0.803, AER: 0.194\n",
      "my_gd_gdfa prec: 0.861, rec: 0.79, F1: 0.824, AER: 0.174\n",
      "new1 prec: 0.894, rec: 0.687, F1: 0.777, AER: 0.22\n",
      "new_mygd prec: 0.833, rec: 0.79, F1: 0.811, AER: 0.188\n",
      "sum1 prec: 0.779, rec: 0.792, F1: 0.785, AER: 0.215\n",
      "\n",
      "----------------epoch 53 ---------------\n"
     ]
    },
    {
     "output_type": "stream",
     "name": "stderr",
     "text": [
      "100%|██████████| 1180/1180 [01:27<00:00, 13.54it/s]\n"
     ]
    },
    {
     "output_type": "stream",
     "name": "stdout",
     "text": [
      "train loss: 661885.1828403473\n",
      "cluster loss: 86.57870483398438\n"
     ]
    },
    {
     "output_type": "stream",
     "name": "stderr",
     "text": [
      "  0%|          | 0/1180 [00:00<?, ?it/s]"
     ]
    },
    {
     "output_type": "stream",
     "name": "stdout",
     "text": [
      "\n",
      "\n",
      "intersection prec: 0.971, rec: 0.521, F1: 0.678, AER: 0.319\n",
      "gdfa prec: 0.856, rec: 0.71, F1: 0.776, AER: 0.221\n",
      "my_gdfa prec: 0.784, rec: 0.753, F1: 0.768, AER: 0.231\n",
      "argmax prec: 0.952, rec: 0.658, F1: 0.778, AER: 0.219\n",
      "resnorm prec: 0.77, rec: 0.754, F1: 0.762, AER: 0.237\n",
      "itermax2-.9 prec: 0.849, rec: 0.729, F1: 0.784, AER: 0.213\n",
      "itermax2-.95 prec: 0.849, rec: 0.73, F1: 0.785, AER: 0.213\n",
      "itermax2-.8 prec: 0.85, rec: 0.729, F1: 0.785, AER: 0.213\n",
      "my_gd prec: 0.924, rec: 0.71, F1: 0.803, AER: 0.194\n",
      "my_gd_gdfa prec: 0.865, rec: 0.788, F1: 0.825, AER: 0.174\n",
      "new1 prec: 0.909, rec: 0.686, F1: 0.782, AER: 0.215\n",
      "new_mygd prec: 0.844, rec: 0.787, F1: 0.815, AER: 0.184\n",
      "sum1 prec: 0.781, rec: 0.79, F1: 0.785, AER: 0.215\n",
      "\n",
      "----------------epoch 54 ---------------\n"
     ]
    },
    {
     "output_type": "stream",
     "name": "stderr",
     "text": [
      "100%|██████████| 1180/1180 [01:26<00:00, 13.63it/s]\n"
     ]
    },
    {
     "output_type": "stream",
     "name": "stdout",
     "text": [
      "train loss: 664667.5448799133\n",
      "cluster loss: 86.98843383789062\n"
     ]
    },
    {
     "output_type": "stream",
     "name": "stderr",
     "text": [
      "  0%|          | 0/1180 [00:00<?, ?it/s]"
     ]
    },
    {
     "output_type": "stream",
     "name": "stdout",
     "text": [
      "\n",
      "\n",
      "intersection prec: 0.971, rec: 0.521, F1: 0.678, AER: 0.319\n",
      "gdfa prec: 0.856, rec: 0.71, F1: 0.776, AER: 0.221\n",
      "my_gdfa prec: 0.783, rec: 0.753, F1: 0.768, AER: 0.232\n",
      "argmax prec: 0.952, rec: 0.656, F1: 0.777, AER: 0.22\n",
      "resnorm prec: 0.752, rec: 0.752, F1: 0.752, AER: 0.248\n",
      "itermax2-.9 prec: 0.849, rec: 0.727, F1: 0.783, AER: 0.214\n",
      "itermax2-.95 prec: 0.849, rec: 0.727, F1: 0.783, AER: 0.215\n",
      "itermax2-.8 prec: 0.849, rec: 0.727, F1: 0.783, AER: 0.214\n",
      "my_gd prec: 0.922, rec: 0.71, F1: 0.802, AER: 0.195\n",
      "my_gd_gdfa prec: 0.865, rec: 0.787, F1: 0.824, AER: 0.174\n",
      "new1 prec: 0.905, rec: 0.687, F1: 0.781, AER: 0.216\n",
      "new_mygd prec: 0.843, rec: 0.788, F1: 0.815, AER: 0.184\n",
      "sum1 prec: 0.781, rec: 0.789, F1: 0.785, AER: 0.215\n",
      "\n",
      "----------------epoch 55 ---------------\n"
     ]
    },
    {
     "output_type": "stream",
     "name": "stderr",
     "text": [
      "100%|██████████| 1180/1180 [01:24<00:00, 13.93it/s]\n"
     ]
    },
    {
     "output_type": "stream",
     "name": "stdout",
     "text": [
      "train loss: 658966.4670906067\n",
      "cluster loss: 86.10980224609375\n",
      "\n",
      "\n",
      "intersection prec: 0.971, rec: 0.521, F1: 0.678, AER: 0.319\n",
      "gdfa prec: 0.856, rec: 0.71, F1: 0.776, AER: 0.221\n",
      "my_gdfa prec: 0.781, rec: 0.753, F1: 0.767, AER: 0.232\n",
      "argmax prec: 0.952, rec: 0.656, F1: 0.777, AER: 0.22\n",
      "resnorm prec: 0.789, rec: 0.744, F1: 0.766, AER: 0.233\n",
      "itermax2-.9 prec: 0.85, rec: 0.727, F1: 0.784, AER: 0.214\n",
      "itermax2-.95 prec: 0.849, rec: 0.726, F1: 0.783, AER: 0.215\n",
      "itermax2-.8 prec: 0.85, rec: 0.726, F1: 0.783, AER: 0.214\n",
      "my_gd prec: 0.928, rec: 0.707, F1: 0.803, AER: 0.194\n",
      "my_gd_gdfa prec: 0.868, rec: 0.786, F1: 0.825, AER: 0.173\n",
      "new1 prec: 0.916, rec: 0.681, F1: 0.781, AER: 0.216\n",
      "new_mygd prec: 0.851, rec: 0.784, F1: 0.816, AER: 0.182\n",
      "sum1 prec: 0.783, rec: 0.788, F1: 0.785, AER: 0.215\n"
     ]
    },
    {
     "output_type": "stream",
     "name": "stderr",
     "text": [
      "  0%|          | 0/1180 [00:00<?, ?it/s]"
     ]
    },
    {
     "output_type": "stream",
     "name": "stdout",
     "text": [
      "\n",
      "----------------epoch 56 ---------------\n"
     ]
    },
    {
     "output_type": "stream",
     "name": "stderr",
     "text": [
      "100%|██████████| 1180/1180 [01:24<00:00, 13.90it/s]\n"
     ]
    },
    {
     "output_type": "stream",
     "name": "stdout",
     "text": [
      "train loss: 648411.794424057\n",
      "cluster loss: 84.65194702148438\n"
     ]
    },
    {
     "output_type": "stream",
     "name": "stderr",
     "text": [
      "  0%|          | 0/1180 [00:00<?, ?it/s]"
     ]
    },
    {
     "output_type": "stream",
     "name": "stdout",
     "text": [
      "\n",
      "\n",
      "intersection prec: 0.971, rec: 0.521, F1: 0.678, AER: 0.319\n",
      "gdfa prec: 0.856, rec: 0.71, F1: 0.776, AER: 0.221\n",
      "my_gdfa prec: 0.782, rec: 0.753, F1: 0.767, AER: 0.232\n",
      "argmax prec: 0.952, rec: 0.658, F1: 0.778, AER: 0.219\n",
      "resnorm prec: 0.777, rec: 0.75, F1: 0.763, AER: 0.236\n",
      "itermax2-.9 prec: 0.848, rec: 0.726, F1: 0.782, AER: 0.215\n",
      "itermax2-.95 prec: 0.847, rec: 0.726, F1: 0.782, AER: 0.216\n",
      "itermax2-.8 prec: 0.848, rec: 0.726, F1: 0.782, AER: 0.215\n",
      "my_gd prec: 0.927, rec: 0.709, F1: 0.803, AER: 0.194\n",
      "my_gd_gdfa prec: 0.867, rec: 0.787, F1: 0.825, AER: 0.173\n",
      "new1 prec: 0.917, rec: 0.683, F1: 0.783, AER: 0.213\n",
      "new_mygd prec: 0.851, rec: 0.785, F1: 0.817, AER: 0.181\n",
      "sum1 prec: 0.783, rec: 0.788, F1: 0.785, AER: 0.214\n",
      "\n",
      "----------------epoch 57 ---------------\n"
     ]
    },
    {
     "output_type": "stream",
     "name": "stderr",
     "text": [
      "100%|██████████| 1180/1180 [01:25<00:00, 13.87it/s]\n"
     ]
    },
    {
     "output_type": "stream",
     "name": "stdout",
     "text": [
      "train loss: 653170.1958122253\n",
      "cluster loss: 85.37340545654297\n"
     ]
    },
    {
     "output_type": "stream",
     "name": "stderr",
     "text": [
      "  0%|          | 0/1180 [00:00<?, ?it/s]"
     ]
    },
    {
     "output_type": "stream",
     "name": "stdout",
     "text": [
      "\n",
      "\n",
      "intersection prec: 0.971, rec: 0.521, F1: 0.678, AER: 0.319\n",
      "gdfa prec: 0.856, rec: 0.71, F1: 0.776, AER: 0.221\n",
      "my_gdfa prec: 0.785, rec: 0.755, F1: 0.77, AER: 0.23\n",
      "argmax prec: 0.954, rec: 0.658, F1: 0.779, AER: 0.219\n",
      "resnorm prec: 0.776, rec: 0.755, F1: 0.765, AER: 0.234\n",
      "itermax2-.9 prec: 0.852, rec: 0.729, F1: 0.786, AER: 0.212\n",
      "itermax2-.95 prec: 0.852, rec: 0.729, F1: 0.786, AER: 0.212\n",
      "itermax2-.8 prec: 0.853, rec: 0.729, F1: 0.786, AER: 0.211\n",
      "my_gd prec: 0.93, rec: 0.711, F1: 0.806, AER: 0.191\n",
      "my_gd_gdfa prec: 0.869, rec: 0.788, F1: 0.827, AER: 0.172\n",
      "new1 prec: 0.912, rec: 0.686, F1: 0.783, AER: 0.214\n",
      "new_mygd prec: 0.849, rec: 0.788, F1: 0.817, AER: 0.181\n",
      "sum1 prec: 0.784, rec: 0.79, F1: 0.787, AER: 0.213\n",
      "\n",
      "----------------epoch 58 ---------------\n"
     ]
    },
    {
     "output_type": "stream",
     "name": "stderr",
     "text": [
      "100%|██████████| 1180/1180 [01:26<00:00, 13.64it/s]\n"
     ]
    },
    {
     "output_type": "stream",
     "name": "stdout",
     "text": [
      "train loss: 638114.0955619812\n",
      "cluster loss: 83.54732513427734\n",
      "\n",
      "\n",
      "intersection prec: 0.971, rec: 0.521, F1: 0.678, AER: 0.319\n",
      "gdfa prec: 0.856, rec: 0.71, F1: 0.776, AER: 0.221\n",
      "my_gdfa prec: 0.779, rec: 0.753, F1: 0.766, AER: 0.234\n",
      "argmax prec: 0.951, rec: 0.655, F1: 0.776, AER: 0.222\n",
      "resnorm prec: 0.794, rec: 0.741, F1: 0.767, AER: 0.232\n",
      "itermax2-.9 prec: 0.847, rec: 0.726, F1: 0.782, AER: 0.216\n",
      "itermax2-.95 prec: 0.847, rec: 0.725, F1: 0.781, AER: 0.216\n",
      "itermax2-.8 prec: 0.848, rec: 0.726, F1: 0.782, AER: 0.215\n",
      "my_gd prec: 0.928, rec: 0.704, F1: 0.801, AER: 0.196\n",
      "my_gd_gdfa prec: 0.868, rec: 0.784, F1: 0.824, AER: 0.175\n",
      "new1 prec: 0.921, rec: 0.677, F1: 0.78, AER: 0.216\n",
      "new_mygd prec: 0.854, rec: 0.781, F1: 0.816, AER: 0.182\n",
      "sum1 prec: 0.782, rec: 0.786, F1: 0.784, AER: 0.216\n"
     ]
    },
    {
     "output_type": "stream",
     "name": "stderr",
     "text": [
      "  0%|          | 0/1180 [00:00<?, ?it/s]"
     ]
    },
    {
     "output_type": "stream",
     "name": "stdout",
     "text": [
      "\n",
      "----------------epoch 59 ---------------\n"
     ]
    },
    {
     "output_type": "stream",
     "name": "stderr",
     "text": [
      "100%|██████████| 1180/1180 [01:28<00:00, 13.38it/s]\n"
     ]
    },
    {
     "output_type": "stream",
     "name": "stdout",
     "text": [
      "train loss: 641716.8570079803\n",
      "cluster loss: 83.83220672607422\n"
     ]
    },
    {
     "output_type": "stream",
     "name": "stderr",
     "text": [
      "  0%|          | 0/1180 [00:00<?, ?it/s]"
     ]
    },
    {
     "output_type": "stream",
     "name": "stdout",
     "text": [
      "\n",
      "\n",
      "intersection prec: 0.971, rec: 0.521, F1: 0.678, AER: 0.319\n",
      "gdfa prec: 0.856, rec: 0.71, F1: 0.776, AER: 0.221\n",
      "my_gdfa prec: 0.785, rec: 0.754, F1: 0.769, AER: 0.23\n",
      "argmax prec: 0.953, rec: 0.659, F1: 0.779, AER: 0.218\n",
      "resnorm prec: 0.742, rec: 0.759, F1: 0.75, AER: 0.25\n",
      "itermax2-.9 prec: 0.852, rec: 0.729, F1: 0.786, AER: 0.212\n",
      "itermax2-.95 prec: 0.85, rec: 0.728, F1: 0.784, AER: 0.213\n",
      "itermax2-.8 prec: 0.853, rec: 0.729, F1: 0.786, AER: 0.212\n",
      "my_gd prec: 0.921, rec: 0.715, F1: 0.805, AER: 0.192\n",
      "my_gd_gdfa prec: 0.864, rec: 0.791, F1: 0.826, AER: 0.172\n",
      "new1 prec: 0.899, rec: 0.692, F1: 0.782, AER: 0.215\n",
      "new_mygd prec: 0.839, rec: 0.79, F1: 0.814, AER: 0.185\n",
      "sum1 prec: 0.78, rec: 0.792, F1: 0.786, AER: 0.214\n",
      "\n",
      "----------------epoch 60 ---------------\n"
     ]
    },
    {
     "output_type": "stream",
     "name": "stderr",
     "text": [
      "100%|██████████| 1180/1180 [01:25<00:00, 13.80it/s]\n"
     ]
    },
    {
     "output_type": "stream",
     "name": "stdout",
     "text": [
      "train loss: 662588.1438159943\n",
      "cluster loss: 86.67330932617188\n"
     ]
    },
    {
     "output_type": "stream",
     "name": "stderr",
     "text": [
      "  0%|          | 0/1180 [00:00<?, ?it/s]"
     ]
    },
    {
     "output_type": "stream",
     "name": "stdout",
     "text": [
      "\n",
      "\n",
      "intersection prec: 0.971, rec: 0.521, F1: 0.678, AER: 0.319\n",
      "gdfa prec: 0.856, rec: 0.71, F1: 0.776, AER: 0.221\n",
      "my_gdfa prec: 0.788, rec: 0.756, F1: 0.772, AER: 0.227\n",
      "argmax prec: 0.952, rec: 0.658, F1: 0.778, AER: 0.219\n",
      "resnorm prec: 0.748, rec: 0.762, F1: 0.755, AER: 0.246\n",
      "itermax2-.9 prec: 0.854, rec: 0.731, F1: 0.788, AER: 0.21\n",
      "itermax2-.95 prec: 0.852, rec: 0.731, F1: 0.787, AER: 0.211\n",
      "itermax2-.8 prec: 0.854, rec: 0.731, F1: 0.788, AER: 0.21\n",
      "my_gd prec: 0.923, rec: 0.713, F1: 0.805, AER: 0.192\n",
      "my_gd_gdfa prec: 0.865, rec: 0.788, F1: 0.825, AER: 0.174\n",
      "new1 prec: 0.899, rec: 0.694, F1: 0.783, AER: 0.214\n",
      "new_mygd prec: 0.839, rec: 0.79, F1: 0.814, AER: 0.185\n",
      "sum1 prec: 0.781, rec: 0.79, F1: 0.785, AER: 0.215\n",
      "\n",
      "----------------epoch 61 ---------------\n"
     ]
    },
    {
     "output_type": "stream",
     "name": "stderr",
     "text": [
      "100%|██████████| 1180/1180 [01:25<00:00, 13.79it/s]\n"
     ]
    },
    {
     "output_type": "stream",
     "name": "stdout",
     "text": [
      "train loss: 629988.7058620453\n",
      "cluster loss: 82.45931243896484\n",
      "\n",
      "\n",
      "intersection prec: 0.971, rec: 0.521, F1: 0.678, AER: 0.319\n",
      "gdfa prec: 0.856, rec: 0.71, F1: 0.776, AER: 0.221\n",
      "my_gdfa prec: 0.783, rec: 0.751, F1: 0.767, AER: 0.232\n",
      "argmax prec: 0.952, rec: 0.657, F1: 0.777, AER: 0.22\n",
      "resnorm prec: 0.803, rec: 0.743, F1: 0.772, AER: 0.227\n",
      "itermax2-.9 prec: 0.85, rec: 0.727, F1: 0.784, AER: 0.214\n",
      "itermax2-.95 prec: 0.85, rec: 0.727, F1: 0.784, AER: 0.214\n",
      "itermax2-.8 prec: 0.851, rec: 0.727, F1: 0.784, AER: 0.214\n",
      "my_gd prec: 0.928, rec: 0.706, F1: 0.802, AER: 0.195\n",
      "my_gd_gdfa prec: 0.868, rec: 0.785, F1: 0.824, AER: 0.174\n",
      "new1 prec: 0.922, rec: 0.684, F1: 0.785, AER: 0.211\n",
      "new_mygd prec: 0.857, rec: 0.784, F1: 0.819, AER: 0.179\n",
      "sum1 prec: 0.783, rec: 0.787, F1: 0.785, AER: 0.215\n"
     ]
    },
    {
     "output_type": "stream",
     "name": "stderr",
     "text": [
      "  0%|          | 0/1180 [00:00<?, ?it/s]"
     ]
    },
    {
     "output_type": "stream",
     "name": "stdout",
     "text": [
      "\n",
      "----------------epoch 62 ---------------\n"
     ]
    },
    {
     "output_type": "stream",
     "name": "stderr",
     "text": [
      "100%|██████████| 1180/1180 [01:25<00:00, 13.81it/s]\n"
     ]
    },
    {
     "output_type": "stream",
     "name": "stdout",
     "text": [
      "train loss: 631128.2412319183\n",
      "cluster loss: 82.55697631835938\n",
      "\n",
      "\n",
      "intersection prec: 0.971, rec: 0.521, F1: 0.678, AER: 0.319\n",
      "gdfa prec: 0.856, rec: 0.71, F1: 0.776, AER: 0.221\n",
      "my_gdfa prec: 0.777, rec: 0.748, F1: 0.762, AER: 0.237\n",
      "argmax prec: 0.951, rec: 0.657, F1: 0.777, AER: 0.22\n",
      "resnorm prec: 0.733, rec: 0.755, F1: 0.744, AER: 0.257\n",
      "itermax2-.9 prec: 0.847, rec: 0.726, F1: 0.782, AER: 0.216\n",
      "itermax2-.95 prec: 0.846, rec: 0.726, F1: 0.781, AER: 0.216\n",
      "itermax2-.8 prec: 0.848, rec: 0.726, F1: 0.782, AER: 0.215\n",
      "my_gd prec: 0.92, rec: 0.712, F1: 0.803, AER: 0.194\n",
      "my_gd_gdfa prec: 0.862, rec: 0.789, F1: 0.824, AER: 0.174\n",
      "new1 prec: 0.899, rec: 0.691, F1: 0.781, AER: 0.216\n",
      "new_mygd prec: 0.837, rec: 0.791, F1: 0.813, AER: 0.186\n",
      "sum1 prec: 0.779, rec: 0.791, F1: 0.785, AER: 0.216\n"
     ]
    },
    {
     "output_type": "stream",
     "name": "stderr",
     "text": [
      "  0%|          | 0/1180 [00:00<?, ?it/s]"
     ]
    },
    {
     "output_type": "stream",
     "name": "stdout",
     "text": [
      "\n",
      "----------------epoch 63 ---------------\n"
     ]
    },
    {
     "output_type": "stream",
     "name": "stderr",
     "text": [
      "100%|██████████| 1180/1180 [01:26<00:00, 13.66it/s]\n"
     ]
    },
    {
     "output_type": "stream",
     "name": "stdout",
     "text": [
      "train loss: 629971.1926078796\n",
      "cluster loss: 82.45919799804688\n",
      "\n",
      "\n",
      "intersection prec: 0.971, rec: 0.521, F1: 0.678, AER: 0.319\n",
      "gdfa prec: 0.856, rec: 0.71, F1: 0.776, AER: 0.221\n",
      "my_gdfa prec: 0.782, rec: 0.754, F1: 0.768, AER: 0.231\n",
      "argmax prec: 0.954, rec: 0.657, F1: 0.778, AER: 0.219\n",
      "resnorm prec: 0.722, rec: 0.763, F1: 0.742, AER: 0.259\n",
      "itermax2-.9 prec: 0.851, rec: 0.728, F1: 0.785, AER: 0.213\n",
      "itermax2-.95 prec: 0.849, rec: 0.728, F1: 0.784, AER: 0.214\n",
      "itermax2-.8 prec: 0.851, rec: 0.727, F1: 0.784, AER: 0.213\n",
      "my_gd prec: 0.917, rec: 0.715, F1: 0.803, AER: 0.193\n",
      "my_gd_gdfa prec: 0.861, rec: 0.789, F1: 0.823, AER: 0.175\n",
      "new1 prec: 0.887, rec: 0.692, F1: 0.777, AER: 0.219\n",
      "new_mygd prec: 0.828, rec: 0.791, F1: 0.809, AER: 0.19\n",
      "sum1 prec: 0.778, rec: 0.791, F1: 0.784, AER: 0.216\n"
     ]
    },
    {
     "output_type": "stream",
     "name": "stderr",
     "text": [
      "  0%|          | 0/1180 [00:00<?, ?it/s]"
     ]
    },
    {
     "output_type": "stream",
     "name": "stdout",
     "text": [
      "\n",
      "----------------epoch 64 ---------------\n"
     ]
    },
    {
     "output_type": "stream",
     "name": "stderr",
     "text": [
      "100%|██████████| 1180/1180 [01:30<00:00, 13.06it/s]\n"
     ]
    },
    {
     "output_type": "stream",
     "name": "stdout",
     "text": [
      "train loss: 626805.0491771698\n",
      "cluster loss: 81.94524383544922\n",
      "\n",
      "\n",
      "intersection prec: 0.971, rec: 0.521, F1: 0.678, AER: 0.319\n",
      "gdfa prec: 0.856, rec: 0.71, F1: 0.776, AER: 0.221\n",
      "my_gdfa prec: 0.78, rec: 0.752, F1: 0.766, AER: 0.234\n",
      "argmax prec: 0.952, rec: 0.655, F1: 0.776, AER: 0.221\n",
      "resnorm prec: 0.732, rec: 0.759, F1: 0.745, AER: 0.255\n",
      "itermax2-.9 prec: 0.849, rec: 0.724, F1: 0.782, AER: 0.216\n",
      "itermax2-.95 prec: 0.848, rec: 0.725, F1: 0.782, AER: 0.216\n",
      "itermax2-.8 prec: 0.849, rec: 0.724, F1: 0.782, AER: 0.216\n",
      "my_gd prec: 0.918, rec: 0.71, F1: 0.801, AER: 0.196\n",
      "my_gd_gdfa prec: 0.86, rec: 0.787, F1: 0.822, AER: 0.176\n",
      "new1 prec: 0.896, rec: 0.691, F1: 0.78, AER: 0.217\n",
      "new_mygd prec: 0.836, rec: 0.789, F1: 0.812, AER: 0.187\n",
      "sum1 prec: 0.778, rec: 0.789, F1: 0.783, AER: 0.217\n"
     ]
    },
    {
     "output_type": "stream",
     "name": "stderr",
     "text": [
      "  0%|          | 0/1180 [00:00<?, ?it/s]"
     ]
    },
    {
     "output_type": "stream",
     "name": "stdout",
     "text": [
      "\n",
      "----------------epoch 65 ---------------\n"
     ]
    },
    {
     "output_type": "stream",
     "name": "stderr",
     "text": [
      "100%|██████████| 1180/1180 [01:26<00:00, 13.69it/s]\n"
     ]
    },
    {
     "output_type": "stream",
     "name": "stdout",
     "text": [
      "train loss: 623403.1561050415\n",
      "cluster loss: 81.44647216796875\n"
     ]
    },
    {
     "output_type": "stream",
     "name": "stderr",
     "text": [
      "  0%|          | 0/1180 [00:00<?, ?it/s]"
     ]
    },
    {
     "output_type": "stream",
     "name": "stdout",
     "text": [
      "\n",
      "\n",
      "intersection prec: 0.971, rec: 0.521, F1: 0.678, AER: 0.319\n",
      "gdfa prec: 0.856, rec: 0.71, F1: 0.776, AER: 0.221\n",
      "my_gdfa prec: 0.78, rec: 0.75, F1: 0.765, AER: 0.235\n",
      "argmax prec: 0.952, rec: 0.655, F1: 0.776, AER: 0.221\n",
      "resnorm prec: 0.773, rec: 0.75, F1: 0.761, AER: 0.238\n",
      "itermax2-.9 prec: 0.847, rec: 0.723, F1: 0.78, AER: 0.217\n",
      "itermax2-.95 prec: 0.847, rec: 0.723, F1: 0.78, AER: 0.217\n",
      "itermax2-.8 prec: 0.848, rec: 0.723, F1: 0.781, AER: 0.217\n",
      "my_gd prec: 0.923, rec: 0.707, F1: 0.801, AER: 0.196\n",
      "my_gd_gdfa prec: 0.865, rec: 0.786, F1: 0.824, AER: 0.175\n",
      "new1 prec: 0.905, rec: 0.689, F1: 0.782, AER: 0.215\n",
      "new_mygd prec: 0.843, rec: 0.787, F1: 0.814, AER: 0.185\n",
      "sum1 prec: 0.78, rec: 0.786, F1: 0.783, AER: 0.217\n",
      "\n",
      "----------------epoch 66 ---------------\n"
     ]
    },
    {
     "output_type": "stream",
     "name": "stderr",
     "text": [
      "100%|██████████| 1180/1180 [01:24<00:00, 13.91it/s]\n"
     ]
    },
    {
     "output_type": "stream",
     "name": "stdout",
     "text": [
      "train loss: 617049.6200447083\n",
      "cluster loss: 80.76119232177734\n",
      "\n",
      "\n",
      "intersection prec: 0.971, rec: 0.521, F1: 0.678, AER: 0.319\n",
      "gdfa prec: 0.856, rec: 0.71, F1: 0.776, AER: 0.221\n",
      "my_gdfa prec: 0.779, rec: 0.75, F1: 0.764, AER: 0.235\n",
      "argmax prec: 0.952, rec: 0.655, F1: 0.776, AER: 0.221\n",
      "resnorm prec: 0.761, rec: 0.748, F1: 0.754, AER: 0.245\n",
      "itermax2-.9 prec: 0.844, rec: 0.725, F1: 0.78, AER: 0.217\n",
      "itermax2-.95 prec: 0.844, rec: 0.726, F1: 0.781, AER: 0.217\n",
      "itermax2-.8 prec: 0.844, rec: 0.724, F1: 0.779, AER: 0.218\n",
      "my_gd prec: 0.924, rec: 0.708, F1: 0.802, AER: 0.195\n",
      "my_gd_gdfa prec: 0.866, rec: 0.785, F1: 0.824, AER: 0.175\n",
      "new1 prec: 0.91, rec: 0.683, F1: 0.78, AER: 0.217\n",
      "new_mygd prec: 0.847, rec: 0.785, F1: 0.815, AER: 0.184\n",
      "sum1 prec: 0.781, rec: 0.787, F1: 0.784, AER: 0.216\n"
     ]
    },
    {
     "output_type": "stream",
     "name": "stderr",
     "text": [
      "  0%|          | 0/1180 [00:00<?, ?it/s]"
     ]
    },
    {
     "output_type": "stream",
     "name": "stdout",
     "text": [
      "\n",
      "----------------epoch 67 ---------------\n"
     ]
    },
    {
     "output_type": "stream",
     "name": "stderr",
     "text": [
      "100%|██████████| 1180/1180 [01:25<00:00, 13.81it/s]\n"
     ]
    },
    {
     "output_type": "stream",
     "name": "stdout",
     "text": [
      "train loss: 625112.121219635\n",
      "cluster loss: 81.69762420654297\n"
     ]
    },
    {
     "output_type": "stream",
     "name": "stderr",
     "text": [
      "  0%|          | 0/1180 [00:00<?, ?it/s]"
     ]
    },
    {
     "output_type": "stream",
     "name": "stdout",
     "text": [
      "\n",
      "\n",
      "intersection prec: 0.971, rec: 0.521, F1: 0.678, AER: 0.319\n",
      "gdfa prec: 0.856, rec: 0.71, F1: 0.776, AER: 0.221\n",
      "my_gdfa prec: 0.783, rec: 0.751, F1: 0.767, AER: 0.233\n",
      "argmax prec: 0.953, rec: 0.657, F1: 0.778, AER: 0.22\n",
      "resnorm prec: 0.783, rec: 0.746, F1: 0.764, AER: 0.235\n",
      "itermax2-.9 prec: 0.846, rec: 0.725, F1: 0.781, AER: 0.216\n",
      "itermax2-.95 prec: 0.846, rec: 0.725, F1: 0.781, AER: 0.217\n",
      "itermax2-.8 prec: 0.847, rec: 0.725, F1: 0.781, AER: 0.216\n",
      "my_gd prec: 0.926, rec: 0.706, F1: 0.801, AER: 0.196\n",
      "my_gd_gdfa prec: 0.866, rec: 0.785, F1: 0.824, AER: 0.175\n",
      "new1 prec: 0.91, rec: 0.685, F1: 0.782, AER: 0.215\n",
      "new_mygd prec: 0.847, rec: 0.783, F1: 0.814, AER: 0.184\n",
      "sum1 prec: 0.782, rec: 0.787, F1: 0.784, AER: 0.216\n",
      "\n",
      "----------------epoch 68 ---------------\n"
     ]
    },
    {
     "output_type": "stream",
     "name": "stderr",
     "text": [
      "100%|██████████| 1180/1180 [01:28<00:00, 13.33it/s]\n"
     ]
    },
    {
     "output_type": "stream",
     "name": "stdout",
     "text": [
      "train loss: 615283.7975635529\n",
      "cluster loss: 80.373291015625\n",
      "\n",
      "\n",
      "intersection prec: 0.971, rec: 0.521, F1: 0.678, AER: 0.319\n",
      "gdfa prec: 0.856, rec: 0.71, F1: 0.776, AER: 0.221\n",
      "my_gdfa prec: 0.785, rec: 0.755, F1: 0.77, AER: 0.23\n",
      "argmax prec: 0.953, rec: 0.657, F1: 0.778, AER: 0.219\n",
      "resnorm prec: 0.787, rec: 0.75, F1: 0.768, AER: 0.231\n",
      "itermax2-.9 prec: 0.848, rec: 0.728, F1: 0.783, AER: 0.214\n",
      "itermax2-.95 prec: 0.847, rec: 0.728, F1: 0.783, AER: 0.215\n",
      "itermax2-.8 prec: 0.849, rec: 0.729, F1: 0.784, AER: 0.213\n",
      "my_gd prec: 0.929, rec: 0.708, F1: 0.804, AER: 0.193\n",
      "my_gd_gdfa prec: 0.87, rec: 0.785, F1: 0.825, AER: 0.173\n",
      "new1 prec: 0.921, rec: 0.683, F1: 0.784, AER: 0.213\n",
      "new_mygd prec: 0.856, rec: 0.784, F1: 0.818, AER: 0.18\n",
      "sum1 prec: 0.784, rec: 0.788, F1: 0.786, AER: 0.214\n"
     ]
    },
    {
     "output_type": "stream",
     "name": "stderr",
     "text": [
      "  0%|          | 0/1180 [00:00<?, ?it/s]"
     ]
    },
    {
     "output_type": "stream",
     "name": "stdout",
     "text": [
      "\n",
      "----------------epoch 69 ---------------\n"
     ]
    },
    {
     "output_type": "stream",
     "name": "stderr",
     "text": [
      "100%|██████████| 1180/1180 [01:26<00:00, 13.57it/s]\n"
     ]
    },
    {
     "output_type": "stream",
     "name": "stdout",
     "text": [
      "train loss: 608407.4920454025\n",
      "cluster loss: 79.48467254638672\n",
      "\n",
      "\n",
      "intersection prec: 0.971, rec: 0.521, F1: 0.678, AER: 0.319\n",
      "gdfa prec: 0.856, rec: 0.71, F1: 0.776, AER: 0.221\n",
      "my_gdfa prec: 0.78, rec: 0.752, F1: 0.766, AER: 0.234\n",
      "argmax prec: 0.953, rec: 0.657, F1: 0.778, AER: 0.22\n",
      "resnorm prec: 0.766, rec: 0.751, F1: 0.758, AER: 0.241\n",
      "itermax2-.9 prec: 0.848, rec: 0.727, F1: 0.783, AER: 0.215\n",
      "itermax2-.95 prec: 0.847, rec: 0.727, F1: 0.782, AER: 0.215\n",
      "itermax2-.8 prec: 0.849, rec: 0.727, F1: 0.783, AER: 0.214\n",
      "my_gd prec: 0.925, rec: 0.708, F1: 0.802, AER: 0.195\n",
      "my_gd_gdfa prec: 0.866, rec: 0.786, F1: 0.824, AER: 0.174\n",
      "new1 prec: 0.907, rec: 0.69, F1: 0.784, AER: 0.213\n",
      "new_mygd prec: 0.844, rec: 0.788, F1: 0.815, AER: 0.183\n",
      "sum1 prec: 0.782, rec: 0.787, F1: 0.784, AER: 0.216\n",
      "\n",
      "----------------epoch 70 ---------------"
     ]
    },
    {
     "output_type": "stream",
     "name": "stderr",
     "text": [
      "  0%|          | 0/1180 [00:00<?, ?it/s]"
     ]
    },
    {
     "output_type": "stream",
     "name": "stdout",
     "text": [
      "\n"
     ]
    },
    {
     "output_type": "stream",
     "name": "stderr",
     "text": [
      "100%|██████████| 1180/1180 [01:25<00:00, 13.74it/s]\n"
     ]
    },
    {
     "output_type": "stream",
     "name": "stdout",
     "text": [
      "train loss: 614863.2266960144\n",
      "cluster loss: 80.32176971435547\n",
      "\n",
      "\n",
      "intersection prec: 0.971, rec: 0.521, F1: 0.678, AER: 0.319\n",
      "gdfa prec: 0.856, rec: 0.71, F1: 0.776, AER: 0.221\n",
      "my_gdfa prec: 0.782, rec: 0.753, F1: 0.767, AER: 0.232\n",
      "argmax prec: 0.951, rec: 0.657, F1: 0.777, AER: 0.22\n",
      "resnorm prec: 0.787, rec: 0.75, F1: 0.768, AER: 0.231\n",
      "itermax2-.9 prec: 0.847, rec: 0.728, F1: 0.783, AER: 0.215\n",
      "itermax2-.95 prec: 0.847, rec: 0.727, F1: 0.782, AER: 0.215\n",
      "itermax2-.8 prec: 0.848, rec: 0.728, F1: 0.783, AER: 0.214\n",
      "my_gd prec: 0.926, rec: 0.709, F1: 0.803, AER: 0.194\n",
      "my_gd_gdfa prec: 0.867, rec: 0.786, F1: 0.825, AER: 0.174\n",
      "new1 prec: 0.907, rec: 0.691, F1: 0.784, AER: 0.213\n",
      "new_mygd prec: 0.846, rec: 0.788, F1: 0.816, AER: 0.183\n",
      "sum1 prec: 0.782, rec: 0.787, F1: 0.784, AER: 0.215\n"
     ]
    },
    {
     "output_type": "stream",
     "name": "stderr",
     "text": [
      "  0%|          | 0/1180 [00:00<?, ?it/s]"
     ]
    },
    {
     "output_type": "stream",
     "name": "stdout",
     "text": [
      "\n",
      "----------------epoch 71 ---------------\n"
     ]
    },
    {
     "output_type": "stream",
     "name": "stderr",
     "text": [
      "100%|██████████| 1180/1180 [01:25<00:00, 13.85it/s]\n"
     ]
    },
    {
     "output_type": "stream",
     "name": "stdout",
     "text": [
      "train loss: 608277.9351482391\n",
      "cluster loss: 79.76661682128906\n"
     ]
    },
    {
     "output_type": "stream",
     "name": "stderr",
     "text": [
      "  0%|          | 0/1180 [00:00<?, ?it/s]"
     ]
    },
    {
     "output_type": "stream",
     "name": "stdout",
     "text": [
      "\n",
      "\n",
      "intersection prec: 0.971, rec: 0.521, F1: 0.678, AER: 0.319\n",
      "gdfa prec: 0.856, rec: 0.71, F1: 0.776, AER: 0.221\n",
      "my_gdfa prec: 0.784, rec: 0.753, F1: 0.768, AER: 0.231\n",
      "argmax prec: 0.951, rec: 0.657, F1: 0.777, AER: 0.22\n",
      "resnorm prec: 0.807, rec: 0.739, F1: 0.772, AER: 0.227\n",
      "itermax2-.9 prec: 0.849, rec: 0.727, F1: 0.783, AER: 0.214\n",
      "itermax2-.95 prec: 0.848, rec: 0.726, F1: 0.782, AER: 0.215\n",
      "itermax2-.8 prec: 0.85, rec: 0.727, F1: 0.784, AER: 0.214\n",
      "my_gd prec: 0.927, rec: 0.703, F1: 0.8, AER: 0.197\n",
      "my_gd_gdfa prec: 0.867, rec: 0.784, F1: 0.823, AER: 0.175\n",
      "new1 prec: 0.921, rec: 0.68, F1: 0.782, AER: 0.215\n",
      "new_mygd prec: 0.853, rec: 0.782, F1: 0.816, AER: 0.182\n",
      "sum1 prec: 0.782, rec: 0.785, F1: 0.783, AER: 0.216\n",
      "\n",
      "----------------epoch 72 ---------------\n"
     ]
    },
    {
     "output_type": "stream",
     "name": "stderr",
     "text": [
      "100%|██████████| 1180/1180 [01:25<00:00, 13.76it/s]\n"
     ]
    },
    {
     "output_type": "stream",
     "name": "stdout",
     "text": [
      "train loss: 605816.141166687\n",
      "cluster loss: 79.27880859375\n"
     ]
    },
    {
     "output_type": "stream",
     "name": "stderr",
     "text": [
      "  0%|          | 0/1180 [00:00<?, ?it/s]"
     ]
    },
    {
     "output_type": "stream",
     "name": "stdout",
     "text": [
      "\n",
      "\n",
      "intersection prec: 0.971, rec: 0.521, F1: 0.678, AER: 0.319\n",
      "gdfa prec: 0.856, rec: 0.71, F1: 0.776, AER: 0.221\n",
      "my_gdfa prec: 0.783, rec: 0.753, F1: 0.768, AER: 0.232\n",
      "argmax prec: 0.953, rec: 0.657, F1: 0.778, AER: 0.219\n",
      "resnorm prec: 0.802, rec: 0.742, F1: 0.771, AER: 0.228\n",
      "itermax2-.9 prec: 0.847, rec: 0.725, F1: 0.781, AER: 0.216\n",
      "itermax2-.95 prec: 0.846, rec: 0.724, F1: 0.78, AER: 0.217\n",
      "itermax2-.8 prec: 0.847, rec: 0.725, F1: 0.781, AER: 0.216\n",
      "my_gd prec: 0.926, rec: 0.706, F1: 0.801, AER: 0.196\n",
      "my_gd_gdfa prec: 0.867, rec: 0.785, F1: 0.824, AER: 0.174\n",
      "new1 prec: 0.915, rec: 0.687, F1: 0.785, AER: 0.212\n",
      "new_mygd prec: 0.852, rec: 0.785, F1: 0.817, AER: 0.181\n",
      "sum1 prec: 0.782, rec: 0.787, F1: 0.784, AER: 0.216\n",
      "\n",
      "----------------epoch 73 ---------------\n"
     ]
    },
    {
     "output_type": "stream",
     "name": "stderr",
     "text": [
      "100%|██████████| 1180/1180 [01:25<00:00, 13.84it/s]\n"
     ]
    },
    {
     "output_type": "stream",
     "name": "stdout",
     "text": [
      "train loss: 602724.1160564423\n",
      "cluster loss: 78.91805267333984\n"
     ]
    },
    {
     "output_type": "stream",
     "name": "stderr",
     "text": [
      "  0%|          | 0/1180 [00:00<?, ?it/s]"
     ]
    },
    {
     "output_type": "stream",
     "name": "stdout",
     "text": [
      "\n",
      "\n",
      "intersection prec: 0.971, rec: 0.521, F1: 0.678, AER: 0.319\n",
      "gdfa prec: 0.856, rec: 0.71, F1: 0.776, AER: 0.221\n",
      "my_gdfa prec: 0.785, rec: 0.755, F1: 0.77, AER: 0.23\n",
      "argmax prec: 0.952, rec: 0.658, F1: 0.778, AER: 0.219\n",
      "resnorm prec: 0.788, rec: 0.75, F1: 0.769, AER: 0.23\n",
      "itermax2-.9 prec: 0.849, rec: 0.727, F1: 0.783, AER: 0.214\n",
      "itermax2-.95 prec: 0.848, rec: 0.727, F1: 0.783, AER: 0.214\n",
      "itermax2-.8 prec: 0.85, rec: 0.728, F1: 0.784, AER: 0.213\n",
      "my_gd prec: 0.929, rec: 0.709, F1: 0.804, AER: 0.193\n",
      "my_gd_gdfa prec: 0.868, rec: 0.787, F1: 0.826, AER: 0.172\n",
      "new1 prec: 0.914, rec: 0.686, F1: 0.784, AER: 0.213\n",
      "new_mygd prec: 0.851, rec: 0.787, F1: 0.818, AER: 0.181\n",
      "sum1 prec: 0.783, rec: 0.789, F1: 0.786, AER: 0.214\n",
      "\n",
      "----------------epoch 74 ---------------\n"
     ]
    },
    {
     "output_type": "stream",
     "name": "stderr",
     "text": [
      "100%|██████████| 1180/1180 [01:29<00:00, 13.14it/s]\n"
     ]
    },
    {
     "output_type": "stream",
     "name": "stdout",
     "text": [
      "train loss: 604602.451924324\n",
      "cluster loss: 79.08966827392578\n"
     ]
    },
    {
     "output_type": "stream",
     "name": "stderr",
     "text": [
      "  0%|          | 0/1180 [00:00<?, ?it/s]"
     ]
    },
    {
     "output_type": "stream",
     "name": "stdout",
     "text": [
      "\n",
      "\n",
      "intersection prec: 0.971, rec: 0.521, F1: 0.678, AER: 0.319\n",
      "gdfa prec: 0.856, rec: 0.71, F1: 0.776, AER: 0.221\n",
      "my_gdfa prec: 0.785, rec: 0.754, F1: 0.769, AER: 0.23\n",
      "argmax prec: 0.953, rec: 0.658, F1: 0.778, AER: 0.219\n",
      "resnorm prec: 0.761, rec: 0.757, F1: 0.759, AER: 0.241\n",
      "itermax2-.9 prec: 0.85, rec: 0.728, F1: 0.784, AER: 0.213\n",
      "itermax2-.95 prec: 0.85, rec: 0.729, F1: 0.785, AER: 0.213\n",
      "itermax2-.8 prec: 0.85, rec: 0.728, F1: 0.784, AER: 0.213\n",
      "my_gd prec: 0.922, rec: 0.714, F1: 0.805, AER: 0.193\n",
      "my_gd_gdfa prec: 0.863, rec: 0.789, F1: 0.824, AER: 0.174\n",
      "new1 prec: 0.899, rec: 0.696, F1: 0.785, AER: 0.213\n",
      "new_mygd prec: 0.84, rec: 0.791, F1: 0.815, AER: 0.184\n",
      "sum1 prec: 0.78, rec: 0.791, F1: 0.785, AER: 0.215\n",
      "\n",
      "----------------epoch 75 ---------------\n"
     ]
    },
    {
     "output_type": "stream",
     "name": "stderr",
     "text": [
      "100%|██████████| 1180/1180 [01:24<00:00, 14.00it/s]\n"
     ]
    },
    {
     "output_type": "stream",
     "name": "stdout",
     "text": [
      "train loss: 596436.0010623932\n",
      "cluster loss: 78.16680145263672\n",
      "\n",
      "\n",
      "intersection prec: 0.971, rec: 0.521, F1: 0.678, AER: 0.319\n",
      "gdfa prec: 0.856, rec: 0.71, F1: 0.776, AER: 0.221\n",
      "my_gdfa prec: 0.783, rec: 0.753, F1: 0.768, AER: 0.231\n",
      "argmax prec: 0.951, rec: 0.657, F1: 0.777, AER: 0.22\n",
      "resnorm prec: 0.754, rec: 0.756, F1: 0.755, AER: 0.245\n",
      "itermax2-.9 prec: 0.85, rec: 0.728, F1: 0.784, AER: 0.213\n",
      "itermax2-.95 prec: 0.849, rec: 0.728, F1: 0.784, AER: 0.214\n",
      "itermax2-.8 prec: 0.851, rec: 0.728, F1: 0.785, AER: 0.213\n",
      "my_gd prec: 0.92, rec: 0.713, F1: 0.803, AER: 0.194\n",
      "my_gd_gdfa prec: 0.863, rec: 0.789, F1: 0.824, AER: 0.174\n",
      "new1 prec: 0.9, rec: 0.693, F1: 0.783, AER: 0.214\n",
      "new_mygd prec: 0.838, rec: 0.789, F1: 0.813, AER: 0.186\n",
      "sum1 prec: 0.779, rec: 0.79, F1: 0.784, AER: 0.216\n",
      "\n",
      "----------------epoch 76 ---------------"
     ]
    },
    {
     "output_type": "stream",
     "name": "stderr",
     "text": [
      "  0%|          | 0/1180 [00:00<?, ?it/s]"
     ]
    },
    {
     "output_type": "stream",
     "name": "stdout",
     "text": [
      "\n"
     ]
    },
    {
     "output_type": "stream",
     "name": "stderr",
     "text": [
      "100%|██████████| 1180/1180 [01:24<00:00, 13.89it/s]\n"
     ]
    },
    {
     "output_type": "stream",
     "name": "stdout",
     "text": [
      "train loss: 594148.367734909\n",
      "cluster loss: 77.77662658691406\n",
      "\n",
      "\n",
      "intersection prec: 0.971, rec: 0.521, F1: 0.678, AER: 0.319\n",
      "gdfa prec: 0.856, rec: 0.71, F1: 0.776, AER: 0.221\n",
      "my_gdfa prec: 0.78, rec: 0.752, F1: 0.766, AER: 0.233\n",
      "argmax prec: 0.954, rec: 0.656, F1: 0.777, AER: 0.219\n",
      "resnorm prec: 0.783, rec: 0.747, F1: 0.765, AER: 0.235\n",
      "itermax2-.9 prec: 0.849, rec: 0.724, F1: 0.782, AER: 0.216\n",
      "itermax2-.95 prec: 0.849, rec: 0.724, F1: 0.782, AER: 0.216\n",
      "itermax2-.8 prec: 0.85, rec: 0.724, F1: 0.782, AER: 0.216\n",
      "my_gd prec: 0.927, rec: 0.709, F1: 0.803, AER: 0.193\n",
      "my_gd_gdfa prec: 0.868, rec: 0.786, F1: 0.825, AER: 0.173\n",
      "new1 prec: 0.907, rec: 0.692, F1: 0.785, AER: 0.212\n",
      "new_mygd prec: 0.845, rec: 0.787, F1: 0.815, AER: 0.183\n",
      "sum1 prec: 0.783, rec: 0.789, F1: 0.786, AER: 0.214\n",
      "\n",
      "----------------epoch 77 ---------------"
     ]
    },
    {
     "output_type": "stream",
     "name": "stderr",
     "text": [
      "  0%|          | 0/1180 [00:00<?, ?it/s]"
     ]
    },
    {
     "output_type": "stream",
     "name": "stdout",
     "text": [
      "\n"
     ]
    },
    {
     "output_type": "stream",
     "name": "stderr",
     "text": [
      "100%|██████████| 1180/1180 [01:25<00:00, 13.85it/s]\n"
     ]
    },
    {
     "output_type": "stream",
     "name": "stdout",
     "text": [
      "train loss: 594008.4495563507\n",
      "cluster loss: 77.92422485351562\n"
     ]
    },
    {
     "output_type": "stream",
     "name": "stderr",
     "text": [
      "  0%|          | 0/1180 [00:00<?, ?it/s]"
     ]
    },
    {
     "output_type": "stream",
     "name": "stdout",
     "text": [
      "\n",
      "\n",
      "intersection prec: 0.971, rec: 0.521, F1: 0.678, AER: 0.319\n",
      "gdfa prec: 0.856, rec: 0.71, F1: 0.776, AER: 0.221\n",
      "my_gdfa prec: 0.78, rec: 0.752, F1: 0.766, AER: 0.233\n",
      "argmax prec: 0.95, rec: 0.655, F1: 0.775, AER: 0.221\n",
      "resnorm prec: 0.786, rec: 0.745, F1: 0.765, AER: 0.235\n",
      "itermax2-.9 prec: 0.847, rec: 0.727, F1: 0.782, AER: 0.215\n",
      "itermax2-.95 prec: 0.845, rec: 0.727, F1: 0.782, AER: 0.216\n",
      "itermax2-.8 prec: 0.848, rec: 0.727, F1: 0.783, AER: 0.215\n",
      "my_gd prec: 0.923, rec: 0.706, F1: 0.8, AER: 0.197\n",
      "my_gd_gdfa prec: 0.865, rec: 0.784, F1: 0.823, AER: 0.176\n",
      "new1 prec: 0.908, rec: 0.688, F1: 0.783, AER: 0.214\n",
      "new_mygd prec: 0.847, rec: 0.785, F1: 0.815, AER: 0.184\n",
      "sum1 prec: 0.78, rec: 0.786, F1: 0.783, AER: 0.217\n",
      "\n",
      "----------------epoch 78 ---------------\n"
     ]
    },
    {
     "output_type": "stream",
     "name": "stderr",
     "text": [
      "100%|██████████| 1180/1180 [01:24<00:00, 13.88it/s]\n"
     ]
    },
    {
     "output_type": "stream",
     "name": "stdout",
     "text": [
      "train loss: 591870.4655046463\n",
      "cluster loss: 77.54544067382812\n",
      "\n",
      "\n",
      "intersection prec: 0.971, rec: 0.521, F1: 0.678, AER: 0.319\n",
      "gdfa prec: 0.856, rec: 0.71, F1: 0.776, AER: 0.221\n",
      "my_gdfa prec: 0.785, rec: 0.755, F1: 0.77, AER: 0.23\n",
      "argmax prec: 0.952, rec: 0.656, F1: 0.777, AER: 0.22\n",
      "resnorm prec: 0.788, rec: 0.748, F1: 0.767, AER: 0.232\n",
      "itermax2-.9 prec: 0.846, rec: 0.726, F1: 0.781, AER: 0.216\n",
      "itermax2-.95 prec: 0.846, rec: 0.727, F1: 0.782, AER: 0.216\n",
      "itermax2-.8 prec: 0.847, rec: 0.726, F1: 0.782, AER: 0.216\n",
      "my_gd prec: 0.924, rec: 0.707, F1: 0.801, AER: 0.196\n",
      "my_gd_gdfa prec: 0.865, rec: 0.785, F1: 0.823, AER: 0.175\n",
      "new1 prec: 0.911, rec: 0.689, F1: 0.785, AER: 0.212\n",
      "new_mygd prec: 0.848, rec: 0.786, F1: 0.816, AER: 0.183\n",
      "sum1 prec: 0.781, rec: 0.786, F1: 0.783, AER: 0.217\n"
     ]
    },
    {
     "output_type": "stream",
     "name": "stderr",
     "text": [
      "  0%|          | 0/1180 [00:00<?, ?it/s]"
     ]
    },
    {
     "output_type": "stream",
     "name": "stdout",
     "text": [
      "\n",
      "----------------epoch 79 ---------------\n"
     ]
    },
    {
     "output_type": "stream",
     "name": "stderr",
     "text": [
      "100%|██████████| 1180/1180 [01:29<00:00, 13.19it/s]\n"
     ]
    },
    {
     "output_type": "stream",
     "name": "stdout",
     "text": [
      "train loss: 586505.061788559\n",
      "cluster loss: 76.96342468261719\n"
     ]
    },
    {
     "output_type": "stream",
     "name": "stderr",
     "text": [
      "  0%|          | 0/1180 [00:00<?, ?it/s]"
     ]
    },
    {
     "output_type": "stream",
     "name": "stdout",
     "text": [
      "\n",
      "\n",
      "intersection prec: 0.971, rec: 0.521, F1: 0.678, AER: 0.319\n",
      "gdfa prec: 0.856, rec: 0.71, F1: 0.776, AER: 0.221\n",
      "my_gdfa prec: 0.78, rec: 0.753, F1: 0.766, AER: 0.233\n",
      "argmax prec: 0.954, rec: 0.657, F1: 0.778, AER: 0.219\n",
      "resnorm prec: 0.777, rec: 0.749, F1: 0.763, AER: 0.237\n",
      "itermax2-.9 prec: 0.845, rec: 0.726, F1: 0.781, AER: 0.216\n",
      "itermax2-.95 prec: 0.844, rec: 0.726, F1: 0.781, AER: 0.217\n",
      "itermax2-.8 prec: 0.845, rec: 0.726, F1: 0.781, AER: 0.216\n",
      "my_gd prec: 0.926, rec: 0.708, F1: 0.802, AER: 0.195\n",
      "my_gd_gdfa prec: 0.867, rec: 0.786, F1: 0.825, AER: 0.174\n",
      "new1 prec: 0.908, rec: 0.689, F1: 0.783, AER: 0.213\n",
      "new_mygd prec: 0.846, rec: 0.785, F1: 0.814, AER: 0.184\n",
      "sum1 prec: 0.781, rec: 0.787, F1: 0.784, AER: 0.216\n",
      "\n",
      "----------------epoch 80 ---------------\n"
     ]
    },
    {
     "output_type": "stream",
     "name": "stderr",
     "text": [
      "100%|██████████| 1180/1180 [01:25<00:00, 13.84it/s]\n"
     ]
    },
    {
     "output_type": "stream",
     "name": "stdout",
     "text": [
      "train loss: 587909.6118278503\n",
      "cluster loss: 76.99291229248047\n"
     ]
    },
    {
     "output_type": "stream",
     "name": "stderr",
     "text": [
      "  0%|          | 0/1180 [00:00<?, ?it/s]"
     ]
    },
    {
     "output_type": "stream",
     "name": "stdout",
     "text": [
      "\n",
      "\n",
      "intersection prec: 0.971, rec: 0.521, F1: 0.678, AER: 0.319\n",
      "gdfa prec: 0.856, rec: 0.71, F1: 0.776, AER: 0.221\n",
      "my_gdfa prec: 0.782, rec: 0.753, F1: 0.767, AER: 0.232\n",
      "argmax prec: 0.952, rec: 0.655, F1: 0.776, AER: 0.221\n",
      "resnorm prec: 0.772, rec: 0.751, F1: 0.761, AER: 0.238\n",
      "itermax2-.9 prec: 0.848, rec: 0.727, F1: 0.783, AER: 0.215\n",
      "itermax2-.95 prec: 0.847, rec: 0.726, F1: 0.782, AER: 0.216\n",
      "itermax2-.8 prec: 0.849, rec: 0.726, F1: 0.783, AER: 0.215\n",
      "my_gd prec: 0.925, rec: 0.706, F1: 0.801, AER: 0.196\n",
      "my_gd_gdfa prec: 0.865, rec: 0.785, F1: 0.823, AER: 0.175\n",
      "new1 prec: 0.91, rec: 0.684, F1: 0.781, AER: 0.216\n",
      "new_mygd prec: 0.846, rec: 0.784, F1: 0.814, AER: 0.184\n",
      "sum1 prec: 0.781, rec: 0.786, F1: 0.783, AER: 0.217\n",
      "\n",
      "----------------epoch 81 ---------------\n"
     ]
    },
    {
     "output_type": "stream",
     "name": "stderr",
     "text": [
      "100%|██████████| 1180/1180 [01:23<00:00, 14.15it/s]\n"
     ]
    },
    {
     "output_type": "stream",
     "name": "stdout",
     "text": [
      "train loss: 587075.5522079468\n",
      "cluster loss: 76.88592529296875\n",
      "\n",
      "\n",
      "intersection prec: 0.971, rec: 0.521, F1: 0.678, AER: 0.319\n",
      "gdfa prec: 0.856, rec: 0.71, F1: 0.776, AER: 0.221\n",
      "my_gdfa prec: 0.783, rec: 0.752, F1: 0.767, AER: 0.232\n",
      "argmax prec: 0.951, rec: 0.658, F1: 0.778, AER: 0.22\n",
      "resnorm prec: 0.757, rec: 0.755, F1: 0.756, AER: 0.244\n",
      "itermax2-.9 prec: 0.848, rec: 0.727, F1: 0.783, AER: 0.215\n",
      "itermax2-.95 prec: 0.846, rec: 0.727, F1: 0.782, AER: 0.215\n",
      "itermax2-.8 prec: 0.848, rec: 0.727, F1: 0.783, AER: 0.215\n",
      "my_gd prec: 0.919, rec: 0.712, F1: 0.802, AER: 0.194\n",
      "my_gd_gdfa prec: 0.862, rec: 0.789, F1: 0.824, AER: 0.175\n",
      "new1 prec: 0.897, rec: 0.696, F1: 0.784, AER: 0.213\n",
      "new_mygd prec: 0.837, rec: 0.791, F1: 0.813, AER: 0.185\n",
      "sum1 prec: 0.779, rec: 0.791, F1: 0.785, AER: 0.215\n"
     ]
    },
    {
     "output_type": "stream",
     "name": "stderr",
     "text": [
      "  0%|          | 0/1180 [00:00<?, ?it/s]"
     ]
    },
    {
     "output_type": "stream",
     "name": "stdout",
     "text": [
      "\n",
      "----------------epoch 82 ---------------\n"
     ]
    },
    {
     "output_type": "stream",
     "name": "stderr",
     "text": [
      "100%|██████████| 1180/1180 [01:25<00:00, 13.76it/s]\n"
     ]
    },
    {
     "output_type": "stream",
     "name": "stdout",
     "text": [
      "train loss: 581010.6269016266\n",
      "cluster loss: 76.10631561279297\n"
     ]
    },
    {
     "output_type": "stream",
     "name": "stderr",
     "text": [
      "  0%|          | 0/1180 [00:00<?, ?it/s]"
     ]
    },
    {
     "output_type": "stream",
     "name": "stdout",
     "text": [
      "\n",
      "\n",
      "intersection prec: 0.971, rec: 0.521, F1: 0.678, AER: 0.319\n",
      "gdfa prec: 0.856, rec: 0.71, F1: 0.776, AER: 0.221\n",
      "my_gdfa prec: 0.782, rec: 0.753, F1: 0.767, AER: 0.232\n",
      "argmax prec: 0.954, rec: 0.657, F1: 0.778, AER: 0.219\n",
      "resnorm prec: 0.801, rec: 0.741, F1: 0.77, AER: 0.229\n",
      "itermax2-.9 prec: 0.85, rec: 0.726, F1: 0.783, AER: 0.214\n",
      "itermax2-.95 prec: 0.85, rec: 0.727, F1: 0.784, AER: 0.214\n",
      "itermax2-.8 prec: 0.85, rec: 0.726, F1: 0.783, AER: 0.215\n",
      "my_gd prec: 0.93, rec: 0.704, F1: 0.801, AER: 0.195\n",
      "my_gd_gdfa prec: 0.87, rec: 0.785, F1: 0.825, AER: 0.173\n",
      "new1 prec: 0.911, rec: 0.686, F1: 0.783, AER: 0.214\n",
      "new_mygd prec: 0.85, rec: 0.785, F1: 0.816, AER: 0.183\n",
      "sum1 prec: 0.784, rec: 0.786, F1: 0.785, AER: 0.215\n",
      "\n",
      "----------------epoch 83 ---------------\n"
     ]
    },
    {
     "output_type": "stream",
     "name": "stderr",
     "text": [
      "100%|██████████| 1180/1180 [01:25<00:00, 13.74it/s]\n"
     ]
    },
    {
     "output_type": "stream",
     "name": "stdout",
     "text": [
      "train loss: 583957.2927093506\n",
      "cluster loss: 76.60311126708984\n"
     ]
    },
    {
     "output_type": "stream",
     "name": "stderr",
     "text": [
      "  0%|          | 0/1180 [00:00<?, ?it/s]"
     ]
    },
    {
     "output_type": "stream",
     "name": "stdout",
     "text": [
      "\n",
      "\n",
      "intersection prec: 0.971, rec: 0.521, F1: 0.678, AER: 0.319\n",
      "gdfa prec: 0.856, rec: 0.71, F1: 0.776, AER: 0.221\n",
      "my_gdfa prec: 0.781, rec: 0.752, F1: 0.766, AER: 0.233\n",
      "argmax prec: 0.953, rec: 0.657, F1: 0.778, AER: 0.219\n",
      "resnorm prec: 0.759, rec: 0.75, F1: 0.754, AER: 0.245\n",
      "itermax2-.9 prec: 0.846, rec: 0.727, F1: 0.782, AER: 0.216\n",
      "itermax2-.95 prec: 0.844, rec: 0.726, F1: 0.781, AER: 0.217\n",
      "itermax2-.8 prec: 0.846, rec: 0.727, F1: 0.782, AER: 0.216\n",
      "my_gd prec: 0.924, rec: 0.71, F1: 0.803, AER: 0.194\n",
      "my_gd_gdfa prec: 0.865, rec: 0.787, F1: 0.824, AER: 0.174\n",
      "new1 prec: 0.901, rec: 0.687, F1: 0.78, AER: 0.217\n",
      "new_mygd prec: 0.841, rec: 0.789, F1: 0.814, AER: 0.184\n",
      "sum1 prec: 0.781, rec: 0.789, F1: 0.785, AER: 0.215\n",
      "\n",
      "----------------epoch 84 ---------------\n"
     ]
    },
    {
     "output_type": "stream",
     "name": "stderr",
     "text": [
      "100%|██████████| 1180/1180 [01:30<00:00, 12.97it/s]\n"
     ]
    },
    {
     "output_type": "stream",
     "name": "stdout",
     "text": [
      "train loss: 579457.1555614471\n",
      "cluster loss: 75.82957458496094\n"
     ]
    },
    {
     "output_type": "stream",
     "name": "stderr",
     "text": [
      "  0%|          | 0/1180 [00:00<?, ?it/s]"
     ]
    },
    {
     "output_type": "stream",
     "name": "stdout",
     "text": [
      "\n",
      "\n",
      "intersection prec: 0.971, rec: 0.521, F1: 0.678, AER: 0.319\n",
      "gdfa prec: 0.856, rec: 0.71, F1: 0.776, AER: 0.221\n",
      "my_gdfa prec: 0.781, rec: 0.752, F1: 0.766, AER: 0.233\n",
      "argmax prec: 0.953, rec: 0.657, F1: 0.778, AER: 0.219\n",
      "resnorm prec: 0.796, rec: 0.747, F1: 0.771, AER: 0.228\n",
      "itermax2-.9 prec: 0.849, rec: 0.725, F1: 0.782, AER: 0.215\n",
      "itermax2-.95 prec: 0.849, rec: 0.725, F1: 0.782, AER: 0.215\n",
      "itermax2-.8 prec: 0.85, rec: 0.725, F1: 0.783, AER: 0.215\n",
      "my_gd prec: 0.925, rec: 0.707, F1: 0.801, AER: 0.195\n",
      "my_gd_gdfa prec: 0.867, rec: 0.786, F1: 0.825, AER: 0.174\n",
      "new1 prec: 0.912, rec: 0.688, F1: 0.784, AER: 0.213\n",
      "new_mygd prec: 0.85, rec: 0.785, F1: 0.816, AER: 0.182\n",
      "sum1 prec: 0.781, rec: 0.786, F1: 0.783, AER: 0.216\n",
      "\n",
      "----------------epoch 85 ---------------\n"
     ]
    },
    {
     "output_type": "stream",
     "name": "stderr",
     "text": [
      "100%|██████████| 1180/1180 [01:26<00:00, 13.71it/s]\n"
     ]
    },
    {
     "output_type": "stream",
     "name": "stdout",
     "text": [
      "train loss: 577230.1877365112\n",
      "cluster loss: 75.59381866455078\n",
      "\n",
      "\n",
      "intersection prec: 0.971, rec: 0.521, F1: 0.678, AER: 0.319\n",
      "gdfa prec: 0.856, rec: 0.71, F1: 0.776, AER: 0.221\n",
      "my_gdfa prec: 0.78, rec: 0.75, F1: 0.765, AER: 0.235\n",
      "argmax prec: 0.953, rec: 0.657, F1: 0.778, AER: 0.219\n",
      "resnorm prec: 0.788, rec: 0.744, F1: 0.765, AER: 0.233\n",
      "itermax2-.9 prec: 0.844, rec: 0.725, F1: 0.78, AER: 0.218\n",
      "itermax2-.95 prec: 0.844, rec: 0.725, F1: 0.78, AER: 0.218\n",
      "itermax2-.8 prec: 0.844, rec: 0.725, F1: 0.78, AER: 0.217\n",
      "my_gd prec: 0.925, rec: 0.706, F1: 0.801, AER: 0.196\n",
      "my_gd_gdfa prec: 0.865, rec: 0.784, F1: 0.823, AER: 0.176\n",
      "new1 prec: 0.912, rec: 0.685, F1: 0.782, AER: 0.215\n",
      "new_mygd prec: 0.848, rec: 0.784, F1: 0.815, AER: 0.184\n",
      "sum1 prec: 0.781, rec: 0.786, F1: 0.783, AER: 0.216\n"
     ]
    },
    {
     "output_type": "stream",
     "name": "stderr",
     "text": [
      "  0%|          | 0/1180 [00:00<?, ?it/s]"
     ]
    },
    {
     "output_type": "stream",
     "name": "stdout",
     "text": [
      "\n",
      "----------------epoch 86 ---------------\n"
     ]
    },
    {
     "output_type": "stream",
     "name": "stderr",
     "text": [
      "100%|██████████| 1180/1180 [01:25<00:00, 13.83it/s]\n"
     ]
    },
    {
     "output_type": "stream",
     "name": "stdout",
     "text": [
      "train loss: 573881.8354196548\n",
      "cluster loss: 75.0020751953125\n",
      "\n",
      "\n",
      "intersection prec: 0.971, rec: 0.521, F1: 0.678, AER: 0.319\n",
      "gdfa prec: 0.856, rec: 0.71, F1: 0.776, AER: 0.221\n",
      "my_gdfa prec: 0.785, rec: 0.752, F1: 0.768, AER: 0.231\n",
      "argmax prec: 0.953, rec: 0.657, F1: 0.778, AER: 0.22\n",
      "resnorm prec: 0.788, rec: 0.744, F1: 0.765, AER: 0.234\n",
      "itermax2-.9 prec: 0.848, rec: 0.727, F1: 0.783, AER: 0.214\n",
      "itermax2-.95 prec: 0.848, rec: 0.728, F1: 0.783, AER: 0.214\n",
      "itermax2-.8 prec: 0.849, rec: 0.727, F1: 0.783, AER: 0.215\n",
      "my_gd prec: 0.925, rec: 0.706, F1: 0.801, AER: 0.196\n",
      "my_gd_gdfa prec: 0.866, rec: 0.785, F1: 0.824, AER: 0.175\n",
      "new1 prec: 0.909, rec: 0.691, F1: 0.785, AER: 0.211\n",
      "new_mygd prec: 0.848, rec: 0.785, F1: 0.815, AER: 0.183\n",
      "sum1 prec: 0.782, rec: 0.786, F1: 0.784, AER: 0.216\n"
     ]
    },
    {
     "output_type": "stream",
     "name": "stderr",
     "text": [
      "  0%|          | 0/1180 [00:00<?, ?it/s]"
     ]
    },
    {
     "output_type": "stream",
     "name": "stdout",
     "text": [
      "\n",
      "----------------epoch 87 ---------------\n"
     ]
    },
    {
     "output_type": "stream",
     "name": "stderr",
     "text": [
      "100%|██████████| 1180/1180 [01:25<00:00, 13.84it/s]\n"
     ]
    },
    {
     "output_type": "stream",
     "name": "stdout",
     "text": [
      "train loss: 569823.8555574417\n",
      "cluster loss: 74.56810760498047\n",
      "\n",
      "\n",
      "intersection prec: 0.971, rec: 0.521, F1: 0.678, AER: 0.319\n",
      "gdfa prec: 0.856, rec: 0.71, F1: 0.776, AER: 0.221\n",
      "my_gdfa prec: 0.777, rec: 0.747, F1: 0.762, AER: 0.238\n",
      "argmax prec: 0.952, rec: 0.657, F1: 0.777, AER: 0.22\n",
      "resnorm prec: 0.776, rec: 0.743, F1: 0.759, AER: 0.24\n",
      "itermax2-.9 prec: 0.845, rec: 0.72, F1: 0.778, AER: 0.22\n",
      "itermax2-.95 prec: 0.845, rec: 0.72, F1: 0.778, AER: 0.22\n",
      "itermax2-.8 prec: 0.845, rec: 0.72, F1: 0.778, AER: 0.22\n",
      "my_gd prec: 0.925, rec: 0.704, F1: 0.8, AER: 0.197\n",
      "my_gd_gdfa prec: 0.866, rec: 0.783, F1: 0.822, AER: 0.176\n",
      "new1 prec: 0.907, rec: 0.684, F1: 0.78, AER: 0.217\n",
      "new_mygd prec: 0.845, rec: 0.783, F1: 0.813, AER: 0.186\n",
      "sum1 prec: 0.781, rec: 0.785, F1: 0.783, AER: 0.217\n"
     ]
    },
    {
     "output_type": "stream",
     "name": "stderr",
     "text": [
      "  0%|          | 0/1180 [00:00<?, ?it/s]"
     ]
    },
    {
     "output_type": "stream",
     "name": "stdout",
     "text": [
      "\n",
      "----------------epoch 88 ---------------\n"
     ]
    },
    {
     "output_type": "stream",
     "name": "stderr",
     "text": [
      "100%|██████████| 1180/1180 [01:25<00:00, 13.76it/s]\n"
     ]
    },
    {
     "output_type": "stream",
     "name": "stdout",
     "text": [
      "train loss: 575855.1805686951\n",
      "cluster loss: 75.48200225830078\n"
     ]
    },
    {
     "output_type": "stream",
     "name": "stderr",
     "text": [
      "  0%|          | 0/1180 [00:00<?, ?it/s]"
     ]
    },
    {
     "output_type": "stream",
     "name": "stdout",
     "text": [
      "\n",
      "\n",
      "intersection prec: 0.971, rec: 0.521, F1: 0.678, AER: 0.319\n",
      "gdfa prec: 0.856, rec: 0.71, F1: 0.776, AER: 0.221\n",
      "my_gdfa prec: 0.779, rec: 0.751, F1: 0.765, AER: 0.235\n",
      "argmax prec: 0.952, rec: 0.654, F1: 0.775, AER: 0.221\n",
      "resnorm prec: 0.781, rec: 0.742, F1: 0.761, AER: 0.238\n",
      "itermax2-.9 prec: 0.846, rec: 0.725, F1: 0.781, AER: 0.217\n",
      "itermax2-.95 prec: 0.844, rec: 0.723, F1: 0.779, AER: 0.219\n",
      "itermax2-.8 prec: 0.846, rec: 0.724, F1: 0.78, AER: 0.217\n",
      "my_gd prec: 0.926, rec: 0.704, F1: 0.8, AER: 0.197\n",
      "my_gd_gdfa prec: 0.868, rec: 0.783, F1: 0.823, AER: 0.175\n",
      "new1 prec: 0.904, rec: 0.685, F1: 0.779, AER: 0.217\n",
      "new_mygd prec: 0.844, rec: 0.785, F1: 0.813, AER: 0.185\n",
      "sum1 prec: 0.782, rec: 0.785, F1: 0.783, AER: 0.217\n",
      "\n",
      "----------------epoch 89 ---------------\n"
     ]
    },
    {
     "output_type": "stream",
     "name": "stderr",
     "text": [
      "100%|██████████| 1180/1180 [01:28<00:00, 13.41it/s]\n"
     ]
    },
    {
     "output_type": "stream",
     "name": "stdout",
     "text": [
      "train loss: 569785.0708293915\n",
      "cluster loss: 74.60152435302734\n"
     ]
    },
    {
     "output_type": "stream",
     "name": "stderr",
     "text": [
      "  0%|          | 0/1180 [00:00<?, ?it/s]"
     ]
    },
    {
     "output_type": "stream",
     "name": "stdout",
     "text": [
      "\n",
      "\n",
      "intersection prec: 0.971, rec: 0.521, F1: 0.678, AER: 0.319\n",
      "gdfa prec: 0.856, rec: 0.71, F1: 0.776, AER: 0.221\n",
      "my_gdfa prec: 0.782, rec: 0.752, F1: 0.767, AER: 0.233\n",
      "argmax prec: 0.953, rec: 0.657, F1: 0.778, AER: 0.219\n",
      "resnorm prec: 0.817, rec: 0.736, F1: 0.774, AER: 0.224\n",
      "itermax2-.9 prec: 0.846, rec: 0.726, F1: 0.781, AER: 0.216\n",
      "itermax2-.95 prec: 0.845, rec: 0.726, F1: 0.781, AER: 0.217\n",
      "itermax2-.8 prec: 0.846, rec: 0.726, F1: 0.781, AER: 0.216\n",
      "my_gd prec: 0.93, rec: 0.702, F1: 0.8, AER: 0.196\n",
      "my_gd_gdfa prec: 0.87, rec: 0.781, F1: 0.823, AER: 0.175\n",
      "new1 prec: 0.922, rec: 0.682, F1: 0.784, AER: 0.213\n",
      "new_mygd prec: 0.856, rec: 0.778, F1: 0.815, AER: 0.183\n",
      "sum1 prec: 0.784, rec: 0.784, F1: 0.784, AER: 0.216\n",
      "\n",
      "----------------epoch 90 ---------------\n"
     ]
    },
    {
     "output_type": "stream",
     "name": "stderr",
     "text": [
      "100%|██████████| 1180/1180 [01:27<00:00, 13.46it/s]\n"
     ]
    },
    {
     "output_type": "stream",
     "name": "stdout",
     "text": [
      "train loss: 565380.290886879\n",
      "cluster loss: 74.03787994384766\n",
      "\n",
      "\n",
      "intersection prec: 0.971, rec: 0.521, F1: 0.678, AER: 0.319\n",
      "gdfa prec: 0.856, rec: 0.71, F1: 0.776, AER: 0.221\n",
      "my_gdfa prec: 0.781, rec: 0.751, F1: 0.766, AER: 0.233\n",
      "argmax prec: 0.954, rec: 0.658, F1: 0.779, AER: 0.219\n",
      "resnorm prec: 0.769, rec: 0.75, F1: 0.759, AER: 0.24\n",
      "itermax2-.9 prec: 0.848, rec: 0.726, F1: 0.782, AER: 0.215\n",
      "itermax2-.95 prec: 0.847, rec: 0.726, F1: 0.782, AER: 0.215\n",
      "itermax2-.8 prec: 0.848, rec: 0.725, F1: 0.782, AER: 0.216\n",
      "my_gd prec: 0.924, rec: 0.708, F1: 0.802, AER: 0.195\n",
      "my_gd_gdfa prec: 0.867, rec: 0.786, F1: 0.825, AER: 0.174\n",
      "new1 prec: 0.897, rec: 0.693, F1: 0.782, AER: 0.215\n",
      "new_mygd prec: 0.84, rec: 0.79, F1: 0.814, AER: 0.185\n",
      "sum1 prec: 0.782, rec: 0.788, F1: 0.785, AER: 0.215\n"
     ]
    },
    {
     "output_type": "stream",
     "name": "stderr",
     "text": [
      "  0%|          | 0/1180 [00:00<?, ?it/s]"
     ]
    },
    {
     "output_type": "stream",
     "name": "stdout",
     "text": [
      "\n",
      "----------------epoch 91 ---------------\n"
     ]
    },
    {
     "output_type": "stream",
     "name": "stderr",
     "text": [
      "100%|██████████| 1180/1180 [01:25<00:00, 13.82it/s]\n"
     ]
    },
    {
     "output_type": "stream",
     "name": "stdout",
     "text": [
      "train loss: 566150.79463768\n",
      "cluster loss: 74.23948669433594\n",
      "\n",
      "\n",
      "intersection prec: 0.971, rec: 0.521, F1: 0.678, AER: 0.319\n",
      "gdfa prec: 0.856, rec: 0.71, F1: 0.776, AER: 0.221\n",
      "my_gdfa prec: 0.779, rec: 0.751, F1: 0.765, AER: 0.235\n",
      "argmax prec: 0.952, rec: 0.656, F1: 0.777, AER: 0.221\n",
      "resnorm prec: 0.768, rec: 0.748, F1: 0.758, AER: 0.242\n",
      "itermax2-.9 prec: 0.844, rec: 0.726, F1: 0.781, AER: 0.217\n",
      "itermax2-.95 prec: 0.843, rec: 0.726, F1: 0.78, AER: 0.218\n",
      "itermax2-.8 prec: 0.844, rec: 0.726, F1: 0.781, AER: 0.217\n",
      "my_gd prec: 0.923, rec: 0.71, F1: 0.803, AER: 0.195\n",
      "my_gd_gdfa prec: 0.865, rec: 0.785, F1: 0.823, AER: 0.175\n",
      "new1 prec: 0.899, rec: 0.693, F1: 0.783, AER: 0.215\n",
      "new_mygd prec: 0.84, rec: 0.789, F1: 0.814, AER: 0.185\n",
      "sum1 prec: 0.781, rec: 0.788, F1: 0.784, AER: 0.216\n"
     ]
    },
    {
     "output_type": "stream",
     "name": "stderr",
     "text": [
      "  0%|          | 0/1180 [00:00<?, ?it/s]"
     ]
    },
    {
     "output_type": "stream",
     "name": "stdout",
     "text": [
      "\n",
      "----------------epoch 92 ---------------\n"
     ]
    },
    {
     "output_type": "stream",
     "name": "stderr",
     "text": [
      "100%|██████████| 1180/1180 [01:25<00:00, 13.75it/s]\n"
     ]
    },
    {
     "output_type": "stream",
     "name": "stdout",
     "text": [
      "train loss: 566205.3875455856\n",
      "cluster loss: 74.18900299072266\n",
      "\n",
      "\n",
      "intersection prec: 0.971, rec: 0.521, F1: 0.678, AER: 0.319\n",
      "gdfa prec: 0.856, rec: 0.71, F1: 0.776, AER: 0.221\n",
      "my_gdfa prec: 0.783, rec: 0.755, F1: 0.769, AER: 0.231\n",
      "argmax prec: 0.953, rec: 0.658, F1: 0.778, AER: 0.219\n",
      "resnorm prec: 0.774, rec: 0.751, F1: 0.762, AER: 0.237\n",
      "itermax2-.9 prec: 0.848, rec: 0.727, F1: 0.783, AER: 0.215\n",
      "itermax2-.95 prec: 0.847, rec: 0.727, F1: 0.782, AER: 0.215\n",
      "itermax2-.8 prec: 0.848, rec: 0.726, F1: 0.782, AER: 0.215\n",
      "my_gd prec: 0.924, rec: 0.71, F1: 0.803, AER: 0.194\n",
      "my_gd_gdfa prec: 0.865, rec: 0.787, F1: 0.824, AER: 0.174\n",
      "new1 prec: 0.899, rec: 0.698, F1: 0.786, AER: 0.212\n",
      "new_mygd prec: 0.84, rec: 0.791, F1: 0.815, AER: 0.184\n",
      "sum1 prec: 0.781, rec: 0.789, F1: 0.785, AER: 0.215\n"
     ]
    },
    {
     "output_type": "stream",
     "name": "stderr",
     "text": [
      "  0%|          | 0/1180 [00:00<?, ?it/s]"
     ]
    },
    {
     "output_type": "stream",
     "name": "stdout",
     "text": [
      "\n",
      "----------------epoch 93 ---------------\n"
     ]
    },
    {
     "output_type": "stream",
     "name": "stderr",
     "text": [
      "100%|██████████| 1180/1180 [01:25<00:00, 13.78it/s]\n"
     ]
    },
    {
     "output_type": "stream",
     "name": "stdout",
     "text": [
      "train loss: 558556.6837806702\n",
      "cluster loss: 73.12916564941406\n"
     ]
    },
    {
     "output_type": "stream",
     "name": "stderr",
     "text": [
      "  0%|          | 0/1180 [00:00<?, ?it/s]"
     ]
    },
    {
     "output_type": "stream",
     "name": "stdout",
     "text": [
      "\n",
      "\n",
      "intersection prec: 0.971, rec: 0.521, F1: 0.678, AER: 0.319\n",
      "gdfa prec: 0.856, rec: 0.71, F1: 0.776, AER: 0.221\n",
      "my_gdfa prec: 0.78, rec: 0.753, F1: 0.766, AER: 0.233\n",
      "argmax prec: 0.953, rec: 0.657, F1: 0.778, AER: 0.22\n",
      "resnorm prec: 0.802, rec: 0.741, F1: 0.77, AER: 0.228\n",
      "itermax2-.9 prec: 0.842, rec: 0.726, F1: 0.78, AER: 0.218\n",
      "itermax2-.95 prec: 0.841, rec: 0.726, F1: 0.779, AER: 0.219\n",
      "itermax2-.8 prec: 0.843, rec: 0.727, F1: 0.781, AER: 0.217\n",
      "my_gd prec: 0.931, rec: 0.705, F1: 0.802, AER: 0.194\n",
      "my_gd_gdfa prec: 0.871, rec: 0.784, F1: 0.825, AER: 0.173\n",
      "new1 prec: 0.913, rec: 0.689, F1: 0.785, AER: 0.212\n",
      "new_mygd prec: 0.851, rec: 0.784, F1: 0.816, AER: 0.182\n",
      "sum1 prec: 0.784, rec: 0.786, F1: 0.785, AER: 0.215\n",
      "\n",
      "----------------epoch 94 ---------------\n"
     ]
    },
    {
     "output_type": "stream",
     "name": "stderr",
     "text": [
      "100%|██████████| 1180/1180 [01:28<00:00, 13.30it/s]\n"
     ]
    },
    {
     "output_type": "stream",
     "name": "stdout",
     "text": [
      "train loss: 561332.5892543793\n",
      "cluster loss: 73.44142150878906\n"
     ]
    },
    {
     "output_type": "stream",
     "name": "stderr",
     "text": [
      "  0%|          | 0/1180 [00:00<?, ?it/s]"
     ]
    },
    {
     "output_type": "stream",
     "name": "stdout",
     "text": [
      "\n",
      "\n",
      "intersection prec: 0.971, rec: 0.521, F1: 0.678, AER: 0.319\n",
      "gdfa prec: 0.856, rec: 0.71, F1: 0.776, AER: 0.221\n",
      "my_gdfa prec: 0.774, rec: 0.748, F1: 0.761, AER: 0.238\n",
      "argmax prec: 0.953, rec: 0.655, F1: 0.776, AER: 0.221\n",
      "resnorm prec: 0.826, rec: 0.727, F1: 0.773, AER: 0.225\n",
      "itermax2-.9 prec: 0.843, rec: 0.721, F1: 0.777, AER: 0.22\n",
      "itermax2-.95 prec: 0.843, rec: 0.721, F1: 0.777, AER: 0.221\n",
      "itermax2-.8 prec: 0.845, rec: 0.721, F1: 0.778, AER: 0.219\n",
      "my_gd prec: 0.934, rec: 0.695, F1: 0.797, AER: 0.199\n",
      "my_gd_gdfa prec: 0.871, rec: 0.779, F1: 0.822, AER: 0.176\n",
      "new1 prec: 0.932, rec: 0.675, F1: 0.783, AER: 0.214\n",
      "new_mygd prec: 0.863, rec: 0.777, F1: 0.818, AER: 0.18\n",
      "sum1 prec: 0.785, rec: 0.782, F1: 0.783, AER: 0.216\n",
      "\n",
      "----------------epoch 95 ---------------\n"
     ]
    },
    {
     "output_type": "stream",
     "name": "stderr",
     "text": [
      "100%|██████████| 1180/1180 [01:28<00:00, 13.34it/s]\n"
     ]
    },
    {
     "output_type": "stream",
     "name": "stdout",
     "text": [
      "train loss: 561817.1248950958\n",
      "cluster loss: 73.60083770751953\n"
     ]
    },
    {
     "output_type": "stream",
     "name": "stderr",
     "text": [
      "  0%|          | 0/1180 [00:00<?, ?it/s]"
     ]
    },
    {
     "output_type": "stream",
     "name": "stdout",
     "text": [
      "\n",
      "\n",
      "intersection prec: 0.971, rec: 0.521, F1: 0.678, AER: 0.319\n",
      "gdfa prec: 0.856, rec: 0.71, F1: 0.776, AER: 0.221\n",
      "my_gdfa prec: 0.778, rec: 0.75, F1: 0.764, AER: 0.235\n",
      "argmax prec: 0.952, rec: 0.655, F1: 0.776, AER: 0.221\n",
      "resnorm prec: 0.773, rec: 0.744, F1: 0.758, AER: 0.241\n",
      "itermax2-.9 prec: 0.844, rec: 0.722, F1: 0.778, AER: 0.219\n",
      "itermax2-.95 prec: 0.843, rec: 0.722, F1: 0.778, AER: 0.22\n",
      "itermax2-.8 prec: 0.844, rec: 0.723, F1: 0.779, AER: 0.219\n",
      "my_gd prec: 0.923, rec: 0.704, F1: 0.799, AER: 0.198\n",
      "my_gd_gdfa prec: 0.864, rec: 0.783, F1: 0.822, AER: 0.177\n",
      "new1 prec: 0.904, rec: 0.688, F1: 0.781, AER: 0.216\n",
      "new_mygd prec: 0.842, rec: 0.786, F1: 0.813, AER: 0.186\n",
      "sum1 prec: 0.78, rec: 0.784, F1: 0.782, AER: 0.218\n",
      "\n",
      "----------------epoch 96 ---------------\n"
     ]
    },
    {
     "output_type": "stream",
     "name": "stderr",
     "text": [
      "100%|██████████| 1180/1180 [01:24<00:00, 13.99it/s]\n"
     ]
    },
    {
     "output_type": "stream",
     "name": "stdout",
     "text": [
      "train loss: 566202.6005334854\n",
      "cluster loss: 74.06050872802734\n"
     ]
    },
    {
     "output_type": "stream",
     "name": "stderr",
     "text": [
      "  0%|          | 1/1180 [00:00<03:47,  5.19it/s]"
     ]
    },
    {
     "output_type": "stream",
     "name": "stdout",
     "text": [
      "\n",
      "\n",
      "intersection prec: 0.971, rec: 0.521, F1: 0.678, AER: 0.319\n",
      "gdfa prec: 0.856, rec: 0.71, F1: 0.776, AER: 0.221\n",
      "my_gdfa prec: 0.781, rec: 0.753, F1: 0.767, AER: 0.232\n",
      "argmax prec: 0.954, rec: 0.658, F1: 0.779, AER: 0.219\n",
      "resnorm prec: 0.802, rec: 0.743, F1: 0.771, AER: 0.227\n",
      "itermax2-.9 prec: 0.847, rec: 0.726, F1: 0.782, AER: 0.216\n",
      "itermax2-.95 prec: 0.847, rec: 0.726, F1: 0.782, AER: 0.216\n",
      "itermax2-.8 prec: 0.848, rec: 0.726, F1: 0.782, AER: 0.215\n",
      "my_gd prec: 0.929, rec: 0.705, F1: 0.802, AER: 0.195\n",
      "my_gd_gdfa prec: 0.869, rec: 0.783, F1: 0.824, AER: 0.175\n",
      "new1 prec: 0.912, rec: 0.689, F1: 0.785, AER: 0.212\n",
      "new_mygd prec: 0.85, rec: 0.783, F1: 0.815, AER: 0.183\n",
      "sum1 prec: 0.783, rec: 0.785, F1: 0.784, AER: 0.216\n",
      "\n",
      "----------------epoch 97 ---------------\n"
     ]
    },
    {
     "output_type": "stream",
     "name": "stderr",
     "text": [
      "100%|██████████| 1180/1180 [01:24<00:00, 13.95it/s]\n"
     ]
    },
    {
     "output_type": "stream",
     "name": "stdout",
     "text": [
      "train loss: 550261.543390274\n",
      "cluster loss: 72.23106384277344\n"
     ]
    },
    {
     "output_type": "stream",
     "name": "stderr",
     "text": [
      "  0%|          | 0/1180 [00:00<?, ?it/s]"
     ]
    },
    {
     "output_type": "stream",
     "name": "stdout",
     "text": [
      "\n",
      "\n",
      "intersection prec: 0.971, rec: 0.521, F1: 0.678, AER: 0.319\n",
      "gdfa prec: 0.856, rec: 0.71, F1: 0.776, AER: 0.221\n",
      "my_gdfa prec: 0.784, rec: 0.755, F1: 0.769, AER: 0.23\n",
      "argmax prec: 0.954, rec: 0.657, F1: 0.778, AER: 0.219\n",
      "resnorm prec: 0.821, rec: 0.737, F1: 0.777, AER: 0.221\n",
      "itermax2-.9 prec: 0.852, rec: 0.728, F1: 0.785, AER: 0.212\n",
      "itermax2-.95 prec: 0.851, rec: 0.728, F1: 0.785, AER: 0.213\n",
      "itermax2-.8 prec: 0.852, rec: 0.728, F1: 0.785, AER: 0.212\n",
      "my_gd prec: 0.933, rec: 0.707, F1: 0.804, AER: 0.193\n",
      "my_gd_gdfa prec: 0.872, rec: 0.785, F1: 0.826, AER: 0.172\n",
      "new1 prec: 0.923, rec: 0.684, F1: 0.786, AER: 0.211\n",
      "new_mygd prec: 0.858, rec: 0.784, F1: 0.819, AER: 0.179\n",
      "sum1 prec: 0.786, rec: 0.787, F1: 0.786, AER: 0.213\n",
      "\n",
      "----------------epoch 98 ---------------\n"
     ]
    },
    {
     "output_type": "stream",
     "name": "stderr",
     "text": [
      "100%|██████████| 1180/1180 [01:25<00:00, 13.74it/s]\n"
     ]
    },
    {
     "output_type": "stream",
     "name": "stdout",
     "text": [
      "train loss: 554253.3820943832\n",
      "cluster loss: 72.60491180419922\n",
      "\n",
      "\n",
      "intersection prec: 0.971, rec: 0.521, F1: 0.678, AER: 0.319\n",
      "gdfa prec: 0.856, rec: 0.71, F1: 0.776, AER: 0.221\n",
      "my_gdfa prec: 0.783, rec: 0.753, F1: 0.768, AER: 0.232\n",
      "argmax prec: 0.952, rec: 0.657, F1: 0.777, AER: 0.22\n",
      "resnorm prec: 0.793, rec: 0.744, F1: 0.768, AER: 0.231\n",
      "itermax2-.9 prec: 0.846, rec: 0.727, F1: 0.782, AER: 0.216\n",
      "itermax2-.95 prec: 0.846, rec: 0.727, F1: 0.782, AER: 0.216\n",
      "itermax2-.8 prec: 0.846, rec: 0.727, F1: 0.782, AER: 0.216\n",
      "my_gd prec: 0.925, rec: 0.707, F1: 0.801, AER: 0.195\n",
      "my_gd_gdfa prec: 0.867, rec: 0.785, F1: 0.824, AER: 0.175\n",
      "new1 prec: 0.908, rec: 0.689, F1: 0.783, AER: 0.214\n",
      "new_mygd prec: 0.845, rec: 0.785, F1: 0.814, AER: 0.185\n",
      "sum1 prec: 0.782, rec: 0.787, F1: 0.784, AER: 0.216\n"
     ]
    },
    {
     "output_type": "stream",
     "name": "stderr",
     "text": [
      "  0%|          | 0/1180 [00:00<?, ?it/s]"
     ]
    },
    {
     "output_type": "stream",
     "name": "stdout",
     "text": [
      "\n",
      "----------------epoch 99 ---------------\n"
     ]
    },
    {
     "output_type": "stream",
     "name": "stderr",
     "text": [
      "100%|██████████| 1180/1180 [01:27<00:00, 13.43it/s]\n"
     ]
    },
    {
     "output_type": "stream",
     "name": "stdout",
     "text": [
      "train loss: 553628.0079231262\n",
      "cluster loss: 72.3985824584961\n"
     ]
    },
    {
     "output_type": "stream",
     "name": "stderr",
     "text": [
      "  0%|          | 0/1180 [00:00<?, ?it/s]"
     ]
    },
    {
     "output_type": "stream",
     "name": "stdout",
     "text": [
      "\n",
      "\n",
      "intersection prec: 0.971, rec: 0.521, F1: 0.678, AER: 0.319\n",
      "gdfa prec: 0.856, rec: 0.71, F1: 0.776, AER: 0.221\n",
      "my_gdfa prec: 0.784, rec: 0.755, F1: 0.769, AER: 0.23\n",
      "argmax prec: 0.95, rec: 0.654, F1: 0.775, AER: 0.222\n",
      "resnorm prec: 0.77, rec: 0.749, F1: 0.759, AER: 0.24\n",
      "itermax2-.9 prec: 0.848, rec: 0.726, F1: 0.782, AER: 0.216\n",
      "itermax2-.95 prec: 0.847, rec: 0.725, F1: 0.781, AER: 0.216\n",
      "itermax2-.8 prec: 0.848, rec: 0.726, F1: 0.782, AER: 0.215\n",
      "my_gd prec: 0.925, rec: 0.706, F1: 0.801, AER: 0.196\n",
      "my_gd_gdfa prec: 0.866, rec: 0.784, F1: 0.823, AER: 0.175\n",
      "new1 prec: 0.905, rec: 0.691, F1: 0.784, AER: 0.213\n",
      "new_mygd prec: 0.844, rec: 0.786, F1: 0.814, AER: 0.185\n",
      "sum1 prec: 0.782, rec: 0.786, F1: 0.784, AER: 0.216\n",
      "\n",
      "----------------epoch 100 ---------------\n"
     ]
    },
    {
     "output_type": "stream",
     "name": "stderr",
     "text": [
      "100%|██████████| 1180/1180 [01:27<00:00, 13.51it/s]\n"
     ]
    },
    {
     "output_type": "stream",
     "name": "stdout",
     "text": [
      "train loss: 549785.2687797546\n",
      "cluster loss: 72.06958770751953\n"
     ]
    },
    {
     "output_type": "stream",
     "name": "stderr",
     "text": [
      "  0%|          | 0/1180 [00:00<?, ?it/s]"
     ]
    },
    {
     "output_type": "stream",
     "name": "stdout",
     "text": [
      "\n",
      "\n",
      "intersection prec: 0.971, rec: 0.521, F1: 0.678, AER: 0.319\n",
      "gdfa prec: 0.856, rec: 0.71, F1: 0.776, AER: 0.221\n",
      "my_gdfa prec: 0.779, rec: 0.75, F1: 0.764, AER: 0.235\n",
      "argmax prec: 0.951, rec: 0.655, F1: 0.776, AER: 0.222\n",
      "resnorm prec: 0.781, rec: 0.742, F1: 0.761, AER: 0.238\n",
      "itermax2-.9 prec: 0.848, rec: 0.725, F1: 0.782, AER: 0.216\n",
      "itermax2-.95 prec: 0.847, rec: 0.725, F1: 0.781, AER: 0.216\n",
      "itermax2-.8 prec: 0.849, rec: 0.726, F1: 0.783, AER: 0.215\n",
      "my_gd prec: 0.922, rec: 0.706, F1: 0.8, AER: 0.197\n",
      "my_gd_gdfa prec: 0.864, rec: 0.784, F1: 0.822, AER: 0.176\n",
      "new1 prec: 0.909, rec: 0.686, F1: 0.782, AER: 0.215\n",
      "new_mygd prec: 0.846, rec: 0.783, F1: 0.813, AER: 0.185\n",
      "sum1 prec: 0.78, rec: 0.786, F1: 0.783, AER: 0.217\n",
      "\n",
      "----------------epoch 101 ---------------\n"
     ]
    },
    {
     "output_type": "stream",
     "name": "stderr",
     "text": [
      "100%|██████████| 1180/1180 [01:24<00:00, 13.90it/s]\n"
     ]
    },
    {
     "output_type": "stream",
     "name": "stdout",
     "text": [
      "train loss: 550987.931476593\n",
      "cluster loss: 72.12481689453125\n"
     ]
    },
    {
     "output_type": "stream",
     "name": "stderr",
     "text": [
      "  0%|          | 0/1180 [00:00<?, ?it/s]"
     ]
    },
    {
     "output_type": "stream",
     "name": "stdout",
     "text": [
      "\n",
      "\n",
      "intersection prec: 0.971, rec: 0.521, F1: 0.678, AER: 0.319\n",
      "gdfa prec: 0.856, rec: 0.71, F1: 0.776, AER: 0.221\n",
      "my_gdfa prec: 0.781, rec: 0.756, F1: 0.768, AER: 0.231\n",
      "argmax prec: 0.954, rec: 0.657, F1: 0.778, AER: 0.219\n",
      "resnorm prec: 0.796, rec: 0.748, F1: 0.771, AER: 0.228\n",
      "itermax2-.9 prec: 0.848, rec: 0.729, F1: 0.784, AER: 0.214\n",
      "itermax2-.95 prec: 0.848, rec: 0.73, F1: 0.785, AER: 0.213\n",
      "itermax2-.8 prec: 0.848, rec: 0.729, F1: 0.784, AER: 0.214\n",
      "my_gd prec: 0.928, rec: 0.708, F1: 0.803, AER: 0.194\n",
      "my_gd_gdfa prec: 0.869, rec: 0.786, F1: 0.825, AER: 0.173\n",
      "new1 prec: 0.905, rec: 0.691, F1: 0.784, AER: 0.213\n",
      "new_mygd prec: 0.845, rec: 0.788, F1: 0.816, AER: 0.183\n",
      "sum1 prec: 0.783, rec: 0.789, F1: 0.786, AER: 0.214\n",
      "\n",
      "----------------epoch 102 ---------------\n"
     ]
    },
    {
     "output_type": "stream",
     "name": "stderr",
     "text": [
      "100%|██████████| 1180/1180 [01:25<00:00, 13.82it/s]\n"
     ]
    },
    {
     "output_type": "stream",
     "name": "stdout",
     "text": [
      "train loss: 545633.148900032\n",
      "cluster loss: 71.5544204711914\n"
     ]
    },
    {
     "output_type": "stream",
     "name": "stderr",
     "text": [
      "  0%|          | 0/1180 [00:00<?, ?it/s]"
     ]
    },
    {
     "output_type": "stream",
     "name": "stdout",
     "text": [
      "\n",
      "\n",
      "intersection prec: 0.971, rec: 0.521, F1: 0.678, AER: 0.319\n",
      "gdfa prec: 0.856, rec: 0.71, F1: 0.776, AER: 0.221\n",
      "my_gdfa prec: 0.778, rec: 0.751, F1: 0.764, AER: 0.235\n",
      "argmax prec: 0.952, rec: 0.656, F1: 0.777, AER: 0.22\n",
      "resnorm prec: 0.801, rec: 0.741, F1: 0.77, AER: 0.229\n",
      "itermax2-.9 prec: 0.848, rec: 0.724, F1: 0.781, AER: 0.217\n",
      "itermax2-.95 prec: 0.847, rec: 0.724, F1: 0.781, AER: 0.216\n",
      "itermax2-.8 prec: 0.848, rec: 0.724, F1: 0.781, AER: 0.216\n",
      "my_gd prec: 0.929, rec: 0.703, F1: 0.8, AER: 0.197\n",
      "my_gd_gdfa prec: 0.869, rec: 0.783, F1: 0.824, AER: 0.174\n",
      "new1 prec: 0.913, rec: 0.685, F1: 0.783, AER: 0.214\n",
      "new_mygd prec: 0.851, rec: 0.784, F1: 0.816, AER: 0.182\n",
      "sum1 prec: 0.784, rec: 0.785, F1: 0.784, AER: 0.216\n",
      "\n",
      "----------------epoch 103 ---------------\n"
     ]
    },
    {
     "output_type": "stream",
     "name": "stderr",
     "text": [
      "100%|██████████| 1180/1180 [01:25<00:00, 13.86it/s]\n"
     ]
    },
    {
     "output_type": "stream",
     "name": "stdout",
     "text": [
      "train loss: 550234.1301670074\n",
      "cluster loss: 72.01207733154297\n"
     ]
    },
    {
     "output_type": "stream",
     "name": "stderr",
     "text": [
      "  0%|          | 0/1180 [00:00<?, ?it/s]"
     ]
    },
    {
     "output_type": "stream",
     "name": "stdout",
     "text": [
      "\n",
      "\n",
      "intersection prec: 0.971, rec: 0.521, F1: 0.678, AER: 0.319\n",
      "gdfa prec: 0.856, rec: 0.71, F1: 0.776, AER: 0.221\n",
      "my_gdfa prec: 0.782, rec: 0.752, F1: 0.767, AER: 0.232\n",
      "argmax prec: 0.951, rec: 0.655, F1: 0.776, AER: 0.221\n",
      "resnorm prec: 0.813, rec: 0.738, F1: 0.774, AER: 0.225\n",
      "itermax2-.9 prec: 0.849, rec: 0.726, F1: 0.783, AER: 0.215\n",
      "itermax2-.95 prec: 0.847, rec: 0.725, F1: 0.781, AER: 0.216\n",
      "itermax2-.8 prec: 0.849, rec: 0.726, F1: 0.783, AER: 0.215\n",
      "my_gd prec: 0.927, rec: 0.703, F1: 0.8, AER: 0.197\n",
      "my_gd_gdfa prec: 0.867, rec: 0.784, F1: 0.823, AER: 0.175\n",
      "new1 prec: 0.915, rec: 0.687, F1: 0.785, AER: 0.213\n",
      "new_mygd prec: 0.852, rec: 0.785, F1: 0.817, AER: 0.182\n",
      "sum1 prec: 0.782, rec: 0.785, F1: 0.783, AER: 0.217\n",
      "\n",
      "----------------epoch 104 ---------------\n"
     ]
    },
    {
     "output_type": "stream",
     "name": "stderr",
     "text": [
      "100%|██████████| 1180/1180 [01:28<00:00, 13.38it/s]\n"
     ]
    },
    {
     "output_type": "stream",
     "name": "stdout",
     "text": [
      "train loss: 543677.7009744644\n",
      "cluster loss: 71.173583984375\n"
     ]
    },
    {
     "output_type": "stream",
     "name": "stderr",
     "text": [
      "  0%|          | 0/1180 [00:00<?, ?it/s]"
     ]
    },
    {
     "output_type": "stream",
     "name": "stdout",
     "text": [
      "\n",
      "\n",
      "intersection prec: 0.971, rec: 0.521, F1: 0.678, AER: 0.319\n",
      "gdfa prec: 0.856, rec: 0.71, F1: 0.776, AER: 0.221\n",
      "my_gdfa prec: 0.78, rec: 0.751, F1: 0.765, AER: 0.234\n",
      "argmax prec: 0.953, rec: 0.657, F1: 0.778, AER: 0.219\n",
      "resnorm prec: 0.802, rec: 0.74, F1: 0.77, AER: 0.229\n",
      "itermax2-.9 prec: 0.846, rec: 0.725, F1: 0.781, AER: 0.216\n",
      "itermax2-.95 prec: 0.845, rec: 0.725, F1: 0.78, AER: 0.217\n",
      "itermax2-.8 prec: 0.847, rec: 0.726, F1: 0.782, AER: 0.216\n",
      "my_gd prec: 0.928, rec: 0.705, F1: 0.801, AER: 0.196\n",
      "my_gd_gdfa prec: 0.868, rec: 0.782, F1: 0.823, AER: 0.176\n",
      "new1 prec: 0.914, rec: 0.687, F1: 0.784, AER: 0.213\n",
      "new_mygd prec: 0.849, rec: 0.783, F1: 0.815, AER: 0.184\n",
      "sum1 prec: 0.783, rec: 0.784, F1: 0.783, AER: 0.216\n",
      "\n",
      "----------------epoch 105 ---------------\n"
     ]
    },
    {
     "output_type": "stream",
     "name": "stderr",
     "text": [
      "100%|██████████| 1180/1180 [01:27<00:00, 13.42it/s]\n"
     ]
    },
    {
     "output_type": "stream",
     "name": "stdout",
     "text": [
      "train loss: 541655.3288993835\n",
      "cluster loss: 71.11448669433594\n"
     ]
    },
    {
     "output_type": "stream",
     "name": "stderr",
     "text": [
      "  0%|          | 0/1180 [00:00<?, ?it/s]"
     ]
    },
    {
     "output_type": "stream",
     "name": "stdout",
     "text": [
      "\n",
      "\n",
      "intersection prec: 0.971, rec: 0.521, F1: 0.678, AER: 0.319\n",
      "gdfa prec: 0.856, rec: 0.71, F1: 0.776, AER: 0.221\n",
      "my_gdfa prec: 0.779, rec: 0.753, F1: 0.766, AER: 0.233\n",
      "argmax prec: 0.956, rec: 0.657, F1: 0.779, AER: 0.218\n",
      "resnorm prec: 0.812, rec: 0.737, F1: 0.773, AER: 0.226\n",
      "itermax2-.9 prec: 0.849, rec: 0.726, F1: 0.783, AER: 0.215\n",
      "itermax2-.95 prec: 0.848, rec: 0.725, F1: 0.782, AER: 0.216\n",
      "itermax2-.8 prec: 0.849, rec: 0.726, F1: 0.783, AER: 0.215\n",
      "my_gd prec: 0.932, rec: 0.703, F1: 0.801, AER: 0.195\n",
      "my_gd_gdfa prec: 0.87, rec: 0.782, F1: 0.824, AER: 0.175\n",
      "new1 prec: 0.915, rec: 0.685, F1: 0.783, AER: 0.213\n",
      "new_mygd prec: 0.85, rec: 0.782, F1: 0.815, AER: 0.184\n",
      "sum1 prec: 0.784, rec: 0.783, F1: 0.783, AER: 0.216\n",
      "\n",
      "----------------epoch 106 ---------------\n"
     ]
    },
    {
     "output_type": "stream",
     "name": "stderr",
     "text": [
      "100%|██████████| 1180/1180 [01:25<00:00, 13.73it/s]\n"
     ]
    },
    {
     "output_type": "stream",
     "name": "stdout",
     "text": [
      "train loss: 540667.407711029\n",
      "cluster loss: 70.89382934570312\n",
      "\n",
      "\n",
      "intersection prec: 0.971, rec: 0.521, F1: 0.678, AER: 0.319\n",
      "gdfa prec: 0.856, rec: 0.71, F1: 0.776, AER: 0.221\n",
      "my_gdfa prec: 0.78, rec: 0.754, F1: 0.767, AER: 0.233\n",
      "argmax prec: 0.952, rec: 0.657, F1: 0.777, AER: 0.22\n",
      "resnorm prec: 0.749, rec: 0.759, F1: 0.754, AER: 0.246\n",
      "itermax2-.9 prec: 0.843, rec: 0.726, F1: 0.78, AER: 0.218\n",
      "itermax2-.95 prec: 0.844, rec: 0.727, F1: 0.781, AER: 0.217\n",
      "itermax2-.8 prec: 0.844, rec: 0.726, F1: 0.781, AER: 0.217\n",
      "my_gd prec: 0.919, rec: 0.712, F1: 0.802, AER: 0.195\n",
      "my_gd_gdfa prec: 0.861, rec: 0.787, F1: 0.822, AER: 0.176\n",
      "new1 prec: 0.896, rec: 0.694, F1: 0.782, AER: 0.215\n",
      "new_mygd prec: 0.836, rec: 0.79, F1: 0.812, AER: 0.186\n",
      "sum1 prec: 0.778, rec: 0.789, F1: 0.783, AER: 0.217\n"
     ]
    },
    {
     "output_type": "stream",
     "name": "stderr",
     "text": [
      "  0%|          | 0/1180 [00:00<?, ?it/s]"
     ]
    },
    {
     "output_type": "stream",
     "name": "stdout",
     "text": [
      "\n",
      "----------------epoch 107 ---------------\n"
     ]
    },
    {
     "output_type": "stream",
     "name": "stderr",
     "text": [
      "100%|██████████| 1180/1180 [01:25<00:00, 13.73it/s]\n"
     ]
    },
    {
     "output_type": "stream",
     "name": "stdout",
     "text": [
      "train loss: 541754.042722702\n",
      "cluster loss: 70.90534973144531\n"
     ]
    },
    {
     "output_type": "stream",
     "name": "stderr",
     "text": [
      "  0%|          | 0/1180 [00:00<?, ?it/s]"
     ]
    },
    {
     "output_type": "stream",
     "name": "stdout",
     "text": [
      "\n",
      "\n",
      "intersection prec: 0.971, rec: 0.521, F1: 0.678, AER: 0.319\n",
      "gdfa prec: 0.856, rec: 0.71, F1: 0.776, AER: 0.221\n",
      "my_gdfa prec: 0.783, rec: 0.753, F1: 0.768, AER: 0.232\n",
      "argmax prec: 0.952, rec: 0.656, F1: 0.777, AER: 0.22\n",
      "resnorm prec: 0.792, rec: 0.748, F1: 0.769, AER: 0.229\n",
      "itermax2-.9 prec: 0.848, rec: 0.728, F1: 0.783, AER: 0.214\n",
      "itermax2-.95 prec: 0.846, rec: 0.727, F1: 0.782, AER: 0.215\n",
      "itermax2-.8 prec: 0.849, rec: 0.728, F1: 0.784, AER: 0.214\n",
      "my_gd prec: 0.925, rec: 0.708, F1: 0.802, AER: 0.194\n",
      "my_gd_gdfa prec: 0.867, rec: 0.785, F1: 0.824, AER: 0.174\n",
      "new1 prec: 0.908, rec: 0.692, F1: 0.785, AER: 0.212\n",
      "new_mygd prec: 0.846, rec: 0.787, F1: 0.815, AER: 0.183\n",
      "sum1 prec: 0.782, rec: 0.787, F1: 0.784, AER: 0.216\n",
      "\n",
      "----------------epoch 108 ---------------\n"
     ]
    },
    {
     "output_type": "stream",
     "name": "stderr",
     "text": [
      "100%|██████████| 1180/1180 [01:24<00:00, 13.98it/s]\n"
     ]
    },
    {
     "output_type": "stream",
     "name": "stdout",
     "text": [
      "train loss: 539080.1055603027\n",
      "cluster loss: 70.7387466430664\n"
     ]
    },
    {
     "output_type": "stream",
     "name": "stderr",
     "text": [
      "  0%|          | 0/1180 [00:00<?, ?it/s]"
     ]
    },
    {
     "output_type": "stream",
     "name": "stdout",
     "text": [
      "\n",
      "\n",
      "intersection prec: 0.971, rec: 0.521, F1: 0.678, AER: 0.319\n",
      "gdfa prec: 0.856, rec: 0.71, F1: 0.776, AER: 0.221\n",
      "my_gdfa prec: 0.781, rec: 0.753, F1: 0.767, AER: 0.233\n",
      "argmax prec: 0.953, rec: 0.658, F1: 0.778, AER: 0.219\n",
      "resnorm prec: 0.79, rec: 0.745, F1: 0.767, AER: 0.232\n",
      "itermax2-.9 prec: 0.848, rec: 0.727, F1: 0.783, AER: 0.215\n",
      "itermax2-.95 prec: 0.848, rec: 0.727, F1: 0.783, AER: 0.215\n",
      "itermax2-.8 prec: 0.849, rec: 0.726, F1: 0.783, AER: 0.215\n",
      "my_gd prec: 0.926, rec: 0.708, F1: 0.802, AER: 0.194\n",
      "my_gd_gdfa prec: 0.866, rec: 0.785, F1: 0.824, AER: 0.175\n",
      "new1 prec: 0.905, rec: 0.692, F1: 0.784, AER: 0.212\n",
      "new_mygd prec: 0.844, rec: 0.787, F1: 0.815, AER: 0.184\n",
      "sum1 prec: 0.782, rec: 0.787, F1: 0.784, AER: 0.216\n",
      "\n",
      "----------------epoch 109 ---------------\n"
     ]
    },
    {
     "output_type": "stream",
     "name": "stderr",
     "text": [
      "100%|██████████| 1180/1180 [01:25<00:00, 13.73it/s]\n"
     ]
    },
    {
     "output_type": "stream",
     "name": "stdout",
     "text": [
      "train loss: 539846.5465660095\n",
      "cluster loss: 70.72491455078125\n",
      "\n",
      "\n",
      "intersection prec: 0.971, rec: 0.521, F1: 0.678, AER: 0.319\n",
      "gdfa prec: 0.856, rec: 0.71, F1: 0.776, AER: 0.221\n",
      "my_gdfa prec: 0.782, rec: 0.754, F1: 0.768, AER: 0.232\n",
      "argmax prec: 0.954, rec: 0.658, F1: 0.779, AER: 0.219\n",
      "resnorm prec: 0.774, rec: 0.749, F1: 0.761, AER: 0.239\n",
      "itermax2-.9 prec: 0.85, rec: 0.727, F1: 0.784, AER: 0.214\n",
      "itermax2-.95 prec: 0.848, rec: 0.727, F1: 0.783, AER: 0.215\n",
      "itermax2-.8 prec: 0.851, rec: 0.727, F1: 0.784, AER: 0.213\n",
      "my_gd prec: 0.924, rec: 0.709, F1: 0.802, AER: 0.195\n",
      "my_gd_gdfa prec: 0.865, rec: 0.786, F1: 0.824, AER: 0.175\n",
      "new1 prec: 0.903, rec: 0.691, F1: 0.783, AER: 0.214\n",
      "new_mygd prec: 0.842, rec: 0.788, F1: 0.814, AER: 0.185\n",
      "sum1 prec: 0.781, rec: 0.788, F1: 0.784, AER: 0.216\n"
     ]
    },
    {
     "output_type": "stream",
     "name": "stderr",
     "text": [
      "  0%|          | 0/1180 [00:00<?, ?it/s]"
     ]
    },
    {
     "output_type": "stream",
     "name": "stdout",
     "text": [
      "\n",
      "----------------epoch 110 ---------------\n"
     ]
    },
    {
     "output_type": "stream",
     "name": "stderr",
     "text": [
      "100%|██████████| 1180/1180 [01:28<00:00, 13.33it/s]\n"
     ]
    },
    {
     "output_type": "stream",
     "name": "stdout",
     "text": [
      "train loss: 541895.0238952637\n",
      "cluster loss: 70.97224426269531\n",
      "\n",
      "\n",
      "intersection prec: 0.971, rec: 0.521, F1: 0.678, AER: 0.319\n",
      "gdfa prec: 0.856, rec: 0.71, F1: 0.776, AER: 0.221\n",
      "my_gdfa prec: 0.78, rec: 0.752, F1: 0.766, AER: 0.234\n",
      "argmax prec: 0.954, rec: 0.658, F1: 0.779, AER: 0.218\n",
      "resnorm prec: 0.785, rec: 0.746, F1: 0.765, AER: 0.234\n",
      "itermax2-.9 prec: 0.844, rec: 0.726, F1: 0.781, AER: 0.217\n",
      "itermax2-.95 prec: 0.843, rec: 0.726, F1: 0.78, AER: 0.217\n",
      "itermax2-.8 prec: 0.845, rec: 0.725, F1: 0.78, AER: 0.217\n",
      "my_gd prec: 0.925, rec: 0.707, F1: 0.801, AER: 0.195\n",
      "my_gd_gdfa prec: 0.866, rec: 0.784, F1: 0.823, AER: 0.175\n",
      "new1 prec: 0.901, rec: 0.692, F1: 0.783, AER: 0.214\n",
      "new_mygd prec: 0.841, rec: 0.786, F1: 0.813, AER: 0.186\n",
      "sum1 prec: 0.782, rec: 0.787, F1: 0.784, AER: 0.216\n"
     ]
    },
    {
     "output_type": "stream",
     "name": "stderr",
     "text": [
      "  0%|          | 0/1180 [00:00<?, ?it/s]"
     ]
    },
    {
     "output_type": "stream",
     "name": "stdout",
     "text": [
      "\n",
      "----------------epoch 111 ---------------\n"
     ]
    },
    {
     "output_type": "stream",
     "name": "stderr",
     "text": [
      "100%|██████████| 1180/1180 [01:24<00:00, 14.00it/s]\n"
     ]
    },
    {
     "output_type": "stream",
     "name": "stdout",
     "text": [
      "train loss: 532618.4154415131\n",
      "cluster loss: 69.81041717529297\n"
     ]
    },
    {
     "output_type": "stream",
     "name": "stderr",
     "text": [
      "  0%|          | 0/1180 [00:00<?, ?it/s]"
     ]
    },
    {
     "output_type": "stream",
     "name": "stdout",
     "text": [
      "\n",
      "\n",
      "intersection prec: 0.971, rec: 0.521, F1: 0.678, AER: 0.319\n",
      "gdfa prec: 0.856, rec: 0.71, F1: 0.776, AER: 0.221\n",
      "my_gdfa prec: 0.781, rec: 0.751, F1: 0.766, AER: 0.233\n",
      "argmax prec: 0.955, rec: 0.658, F1: 0.779, AER: 0.218\n",
      "resnorm prec: 0.809, rec: 0.74, F1: 0.773, AER: 0.225\n",
      "itermax2-.9 prec: 0.851, rec: 0.726, F1: 0.784, AER: 0.214\n",
      "itermax2-.95 prec: 0.85, rec: 0.726, F1: 0.783, AER: 0.214\n",
      "itermax2-.8 prec: 0.851, rec: 0.726, F1: 0.784, AER: 0.214\n",
      "my_gd prec: 0.932, rec: 0.705, F1: 0.803, AER: 0.194\n",
      "my_gd_gdfa prec: 0.87, rec: 0.784, F1: 0.825, AER: 0.173\n",
      "new1 prec: 0.915, rec: 0.689, F1: 0.786, AER: 0.211\n",
      "new_mygd prec: 0.852, rec: 0.786, F1: 0.818, AER: 0.181\n",
      "sum1 prec: 0.785, rec: 0.786, F1: 0.785, AER: 0.215\n",
      "\n",
      "----------------epoch 112 ---------------\n"
     ]
    },
    {
     "output_type": "stream",
     "name": "stderr",
     "text": [
      "100%|██████████| 1180/1180 [01:24<00:00, 13.90it/s]\n"
     ]
    },
    {
     "output_type": "stream",
     "name": "stdout",
     "text": [
      "train loss: 564693.1799087524\n",
      "cluster loss: 73.98894500732422\n"
     ]
    },
    {
     "output_type": "stream",
     "name": "stderr",
     "text": [
      "  0%|          | 0/1180 [00:00<?, ?it/s]"
     ]
    },
    {
     "output_type": "stream",
     "name": "stdout",
     "text": [
      "\n",
      "\n",
      "intersection prec: 0.971, rec: 0.521, F1: 0.678, AER: 0.319\n",
      "gdfa prec: 0.856, rec: 0.71, F1: 0.776, AER: 0.221\n",
      "my_gdfa prec: 0.78, rec: 0.75, F1: 0.765, AER: 0.234\n",
      "argmax prec: 0.953, rec: 0.657, F1: 0.778, AER: 0.219\n",
      "resnorm prec: 0.789, rec: 0.747, F1: 0.767, AER: 0.232\n",
      "itermax2-.9 prec: 0.846, rec: 0.725, F1: 0.781, AER: 0.216\n",
      "itermax2-.95 prec: 0.846, rec: 0.725, F1: 0.781, AER: 0.217\n",
      "itermax2-.8 prec: 0.846, rec: 0.725, F1: 0.781, AER: 0.216\n",
      "my_gd prec: 0.926, rec: 0.706, F1: 0.801, AER: 0.196\n",
      "my_gd_gdfa prec: 0.867, rec: 0.784, F1: 0.823, AER: 0.174\n",
      "new1 prec: 0.91, rec: 0.689, F1: 0.784, AER: 0.212\n",
      "new_mygd prec: 0.847, rec: 0.785, F1: 0.815, AER: 0.183\n",
      "sum1 prec: 0.782, rec: 0.786, F1: 0.784, AER: 0.216\n",
      "\n",
      "----------------epoch 113 ---------------\n"
     ]
    },
    {
     "output_type": "stream",
     "name": "stderr",
     "text": [
      "100%|██████████| 1180/1180 [01:24<00:00, 13.93it/s]\n"
     ]
    },
    {
     "output_type": "stream",
     "name": "stdout",
     "text": [
      "train loss: 528929.5886573792\n",
      "cluster loss: 69.5340805053711\n"
     ]
    },
    {
     "output_type": "stream",
     "name": "stderr",
     "text": [
      "  0%|          | 0/1180 [00:00<?, ?it/s]"
     ]
    },
    {
     "output_type": "stream",
     "name": "stdout",
     "text": [
      "\n",
      "\n",
      "intersection prec: 0.971, rec: 0.521, F1: 0.678, AER: 0.319\n",
      "gdfa prec: 0.856, rec: 0.71, F1: 0.776, AER: 0.221\n",
      "my_gdfa prec: 0.781, rec: 0.751, F1: 0.766, AER: 0.234\n",
      "argmax prec: 0.95, rec: 0.657, F1: 0.777, AER: 0.22\n",
      "resnorm prec: 0.79, rec: 0.743, F1: 0.766, AER: 0.234\n",
      "itermax2-.9 prec: 0.847, rec: 0.724, F1: 0.781, AER: 0.217\n",
      "itermax2-.95 prec: 0.846, rec: 0.724, F1: 0.78, AER: 0.217\n",
      "itermax2-.8 prec: 0.847, rec: 0.724, F1: 0.781, AER: 0.217\n",
      "my_gd prec: 0.925, rec: 0.704, F1: 0.8, AER: 0.197\n",
      "my_gd_gdfa prec: 0.866, rec: 0.783, F1: 0.822, AER: 0.175\n",
      "new1 prec: 0.906, rec: 0.691, F1: 0.784, AER: 0.213\n",
      "new_mygd prec: 0.845, rec: 0.787, F1: 0.815, AER: 0.184\n",
      "sum1 prec: 0.782, rec: 0.785, F1: 0.783, AER: 0.217\n",
      "\n",
      "----------------epoch 114 ---------------\n"
     ]
    },
    {
     "output_type": "stream",
     "name": "stderr",
     "text": [
      "100%|██████████| 1180/1180 [01:24<00:00, 13.96it/s]\n"
     ]
    },
    {
     "output_type": "stream",
     "name": "stdout",
     "text": [
      "train loss: 535510.2424125671\n",
      "cluster loss: 70.25147247314453\n"
     ]
    },
    {
     "output_type": "stream",
     "name": "stderr",
     "text": [
      "  0%|          | 0/1180 [00:00<?, ?it/s]"
     ]
    },
    {
     "output_type": "stream",
     "name": "stdout",
     "text": [
      "\n",
      "\n",
      "intersection prec: 0.971, rec: 0.521, F1: 0.678, AER: 0.319\n",
      "gdfa prec: 0.856, rec: 0.71, F1: 0.776, AER: 0.221\n",
      "my_gdfa prec: 0.783, rec: 0.754, F1: 0.768, AER: 0.231\n",
      "argmax prec: 0.954, rec: 0.658, F1: 0.779, AER: 0.218\n",
      "resnorm prec: 0.789, rec: 0.746, F1: 0.767, AER: 0.232\n",
      "itermax2-.9 prec: 0.851, rec: 0.729, F1: 0.785, AER: 0.213\n",
      "itermax2-.95 prec: 0.85, rec: 0.728, F1: 0.784, AER: 0.213\n",
      "itermax2-.8 prec: 0.851, rec: 0.729, F1: 0.785, AER: 0.212\n",
      "my_gd prec: 0.929, rec: 0.709, F1: 0.804, AER: 0.193\n",
      "my_gd_gdfa prec: 0.869, rec: 0.786, F1: 0.825, AER: 0.173\n",
      "new1 prec: 0.905, rec: 0.692, F1: 0.784, AER: 0.213\n",
      "new_mygd prec: 0.844, rec: 0.786, F1: 0.814, AER: 0.184\n",
      "sum1 prec: 0.784, rec: 0.787, F1: 0.785, AER: 0.214\n",
      "\n",
      "----------------epoch 115 ---------------\n"
     ]
    },
    {
     "output_type": "stream",
     "name": "stderr",
     "text": [
      "100%|██████████| 1180/1180 [01:30<00:00, 13.11it/s]\n"
     ]
    },
    {
     "output_type": "stream",
     "name": "stdout",
     "text": [
      "train loss: 528281.9843978882\n",
      "cluster loss: 69.35834503173828\n"
     ]
    },
    {
     "output_type": "stream",
     "name": "stderr",
     "text": [
      "  0%|          | 0/1180 [00:00<?, ?it/s]"
     ]
    },
    {
     "output_type": "stream",
     "name": "stdout",
     "text": [
      "\n",
      "\n",
      "intersection prec: 0.971, rec: 0.521, F1: 0.678, AER: 0.319\n",
      "gdfa prec: 0.856, rec: 0.71, F1: 0.776, AER: 0.221\n",
      "my_gdfa prec: 0.779, rec: 0.751, F1: 0.765, AER: 0.234\n",
      "argmax prec: 0.955, rec: 0.657, F1: 0.778, AER: 0.218\n",
      "resnorm prec: 0.777, rec: 0.744, F1: 0.76, AER: 0.239\n",
      "itermax2-.9 prec: 0.848, rec: 0.725, F1: 0.782, AER: 0.216\n",
      "itermax2-.95 prec: 0.847, rec: 0.725, F1: 0.781, AER: 0.217\n",
      "itermax2-.8 prec: 0.849, rec: 0.725, F1: 0.782, AER: 0.215\n",
      "my_gd prec: 0.927, rec: 0.705, F1: 0.801, AER: 0.196\n",
      "my_gd_gdfa prec: 0.867, rec: 0.784, F1: 0.823, AER: 0.175\n",
      "new1 prec: 0.897, rec: 0.691, F1: 0.781, AER: 0.216\n",
      "new_mygd prec: 0.837, rec: 0.785, F1: 0.81, AER: 0.188\n",
      "sum1 prec: 0.782, rec: 0.786, F1: 0.784, AER: 0.216\n",
      "\n",
      "----------------epoch 116 ---------------\n"
     ]
    },
    {
     "output_type": "stream",
     "name": "stderr",
     "text": [
      "100%|██████████| 1180/1180 [01:24<00:00, 13.92it/s]\n"
     ]
    },
    {
     "output_type": "stream",
     "name": "stdout",
     "text": [
      "train loss: 531165.5860462189\n",
      "cluster loss: 69.640380859375\n"
     ]
    },
    {
     "output_type": "stream",
     "name": "stderr",
     "text": [
      "  0%|          | 0/1180 [00:00<?, ?it/s]"
     ]
    },
    {
     "output_type": "stream",
     "name": "stdout",
     "text": [
      "\n",
      "\n",
      "intersection prec: 0.971, rec: 0.521, F1: 0.678, AER: 0.319\n",
      "gdfa prec: 0.856, rec: 0.71, F1: 0.776, AER: 0.221\n",
      "my_gdfa prec: 0.782, rec: 0.752, F1: 0.767, AER: 0.232\n",
      "argmax prec: 0.952, rec: 0.657, F1: 0.777, AER: 0.22\n",
      "resnorm prec: 0.776, rec: 0.75, F1: 0.763, AER: 0.236\n",
      "itermax2-.9 prec: 0.847, rec: 0.727, F1: 0.782, AER: 0.215\n",
      "itermax2-.95 prec: 0.846, rec: 0.727, F1: 0.782, AER: 0.216\n",
      "itermax2-.8 prec: 0.847, rec: 0.727, F1: 0.782, AER: 0.215\n",
      "my_gd prec: 0.923, rec: 0.709, F1: 0.802, AER: 0.195\n",
      "my_gd_gdfa prec: 0.865, rec: 0.785, F1: 0.823, AER: 0.175\n",
      "new1 prec: 0.898, rec: 0.697, F1: 0.785, AER: 0.212\n",
      "new_mygd prec: 0.839, rec: 0.788, F1: 0.813, AER: 0.186\n",
      "sum1 prec: 0.781, rec: 0.787, F1: 0.784, AER: 0.216\n",
      "\n",
      "----------------epoch 117 ---------------\n"
     ]
    },
    {
     "output_type": "stream",
     "name": "stderr",
     "text": [
      "100%|██████████| 1180/1180 [01:25<00:00, 13.72it/s]\n"
     ]
    },
    {
     "output_type": "stream",
     "name": "stdout",
     "text": [
      "train loss: 525662.2485775948\n",
      "cluster loss: 69.17062377929688\n",
      "\n",
      "\n",
      "intersection prec: 0.971, rec: 0.521, F1: 0.678, AER: 0.319\n",
      "gdfa prec: 0.856, rec: 0.71, F1: 0.776, AER: 0.221\n",
      "my_gdfa prec: 0.782, rec: 0.753, F1: 0.767, AER: 0.232\n",
      "argmax prec: 0.955, rec: 0.658, F1: 0.779, AER: 0.218\n",
      "resnorm prec: 0.819, rec: 0.738, F1: 0.776, AER: 0.222\n",
      "itermax2-.9 prec: 0.85, rec: 0.728, F1: 0.784, AER: 0.213\n",
      "itermax2-.95 prec: 0.849, rec: 0.727, F1: 0.783, AER: 0.214\n",
      "itermax2-.8 prec: 0.85, rec: 0.727, F1: 0.784, AER: 0.214\n",
      "my_gd prec: 0.931, rec: 0.704, F1: 0.802, AER: 0.195\n",
      "my_gd_gdfa prec: 0.869, rec: 0.783, F1: 0.824, AER: 0.174\n",
      "new1 prec: 0.919, rec: 0.688, F1: 0.787, AER: 0.21\n",
      "new_mygd prec: 0.853, rec: 0.784, F1: 0.817, AER: 0.181\n",
      "sum1 prec: 0.784, rec: 0.785, F1: 0.784, AER: 0.216\n"
     ]
    },
    {
     "output_type": "stream",
     "name": "stderr",
     "text": [
      "  0%|          | 0/1180 [00:00<?, ?it/s]"
     ]
    },
    {
     "output_type": "stream",
     "name": "stdout",
     "text": [
      "\n",
      "----------------epoch 118 ---------------\n"
     ]
    },
    {
     "output_type": "stream",
     "name": "stderr",
     "text": [
      "100%|██████████| 1180/1180 [01:25<00:00, 13.85it/s]\n"
     ]
    },
    {
     "output_type": "stream",
     "name": "stdout",
     "text": [
      "train loss: 526976.4919986725\n",
      "cluster loss: 69.06243133544922\n"
     ]
    },
    {
     "output_type": "stream",
     "name": "stderr",
     "text": [
      "  0%|          | 0/1180 [00:00<?, ?it/s]"
     ]
    },
    {
     "output_type": "stream",
     "name": "stdout",
     "text": [
      "\n",
      "\n",
      "intersection prec: 0.971, rec: 0.521, F1: 0.678, AER: 0.319\n",
      "gdfa prec: 0.856, rec: 0.71, F1: 0.776, AER: 0.221\n",
      "my_gdfa prec: 0.778, rec: 0.748, F1: 0.763, AER: 0.237\n",
      "argmax prec: 0.951, rec: 0.657, F1: 0.777, AER: 0.22\n",
      "resnorm prec: 0.805, rec: 0.738, F1: 0.77, AER: 0.229\n",
      "itermax2-.9 prec: 0.844, rec: 0.724, F1: 0.779, AER: 0.218\n",
      "itermax2-.95 prec: 0.843, rec: 0.724, F1: 0.779, AER: 0.219\n",
      "itermax2-.8 prec: 0.844, rec: 0.724, F1: 0.779, AER: 0.218\n",
      "my_gd prec: 0.927, rec: 0.701, F1: 0.798, AER: 0.199\n",
      "my_gd_gdfa prec: 0.867, rec: 0.781, F1: 0.822, AER: 0.177\n",
      "new1 prec: 0.913, rec: 0.682, F1: 0.781, AER: 0.216\n",
      "new_mygd prec: 0.851, rec: 0.781, F1: 0.814, AER: 0.184\n",
      "sum1 prec: 0.782, rec: 0.783, F1: 0.782, AER: 0.218\n",
      "\n",
      "----------------epoch 119 ---------------\n"
     ]
    },
    {
     "output_type": "stream",
     "name": "stderr",
     "text": [
      "100%|██████████| 1180/1180 [01:25<00:00, 13.77it/s]\n"
     ]
    },
    {
     "output_type": "stream",
     "name": "stdout",
     "text": [
      "train loss: 522728.56561660767\n",
      "cluster loss: 68.53446197509766\n",
      "\n",
      "\n",
      "intersection prec: 0.971, rec: 0.521, F1: 0.678, AER: 0.319\n",
      "gdfa prec: 0.856, rec: 0.71, F1: 0.776, AER: 0.221\n",
      "my_gdfa prec: 0.777, rec: 0.75, F1: 0.763, AER: 0.236\n",
      "argmax prec: 0.953, rec: 0.657, F1: 0.778, AER: 0.22\n",
      "resnorm prec: 0.787, rec: 0.739, F1: 0.762, AER: 0.237\n",
      "itermax2-.9 prec: 0.847, rec: 0.723, F1: 0.78, AER: 0.218\n",
      "itermax2-.95 prec: 0.847, rec: 0.723, F1: 0.78, AER: 0.218\n",
      "itermax2-.8 prec: 0.847, rec: 0.723, F1: 0.78, AER: 0.218\n",
      "my_gd prec: 0.925, rec: 0.703, F1: 0.799, AER: 0.198\n",
      "my_gd_gdfa prec: 0.866, rec: 0.783, F1: 0.822, AER: 0.175\n",
      "new1 prec: 0.904, rec: 0.689, F1: 0.782, AER: 0.215\n",
      "new_mygd prec: 0.844, rec: 0.786, F1: 0.814, AER: 0.185\n",
      "sum1 prec: 0.782, rec: 0.786, F1: 0.784, AER: 0.216\n"
     ]
    }
   ],
   "metadata": {
    "tags": []
   }
  },
  {
   "cell_type": "code",
   "execution_count": null,
   "source": [
    "from gnn_utils import eval_utils\n",
    "importlib.reload(eval_utils)\n",
    "eval_utils.alignment_test(epoch, test_dataset.edge_index, editf1, editf2, test_verses[:], test_nodes_map,\n",
    "                        dev, model, x_test, pros, surs, verse_alignments_inter, verse_alignments_gdfa, writer, gnn_dataset.verse_info)"
   ],
   "outputs": [
    {
     "output_type": "stream",
     "name": "stdout",
     "text": [
      "\n",
      "\n",
      "intersection prec: 0.976, rec: 0.51, F1: 0.67, AER: 0.328\n",
      "gdfa prec: 0.861, rec: 0.703, F1: 0.774, AER: 0.223\n",
      "my_gdfa prec: 0.797, rec: 0.736, F1: 0.765, AER: 0.233\n",
      "argmax prec: 0.957, rec: 0.638, F1: 0.766, AER: 0.231\n",
      "resnorm prec: 0.764, rec: 0.755, F1: 0.759, AER: 0.24\n",
      "itermax2-.9 prec: 0.854, rec: 0.71, F1: 0.775, AER: 0.221\n",
      "itermax2-.95 prec: 0.854, rec: 0.711, F1: 0.776, AER: 0.221\n",
      "itermax2-.8 prec: 0.855, rec: 0.709, F1: 0.775, AER: 0.222\n",
      "my_gd prec: 0.924, rec: 0.704, F1: 0.799, AER: 0.198\n",
      "my_gd_gdfa prec: 0.855, rec: 0.786, F1: 0.819, AER: 0.18\n",
      "new1 prec: 0.916, rec: 0.676, F1: 0.778, AER: 0.218\n",
      "new_mygd prec: 0.84, rec: 0.782, F1: 0.81, AER: 0.188\n",
      "sum1 prec: 0.802, rec: 0.785, F1: 0.793, AER: 0.207\n"
     ]
    },
    {
     "output_type": "execute_result",
     "data": {
      "text/plain": [
       "0.799"
      ]
     },
     "metadata": {},
     "execution_count": 62
    }
   ],
   "metadata": {}
  },
  {
   "cell_type": "code",
   "execution_count": null,
   "source": [
    "global model, decoder\n",
    "1/0\n",
    "\n",
    "decoder = None\n",
    "model = None\n",
    "\n",
    "gc.collect()\n",
    "with torch.no_grad():\n",
    "    torch.cuda.empty_cache()"
   ],
   "outputs": [],
   "metadata": {}
  },
  {
   "cell_type": "code",
   "execution_count": null,
   "source": [
    "features = train_dataset.features[:]\n",
    "#features_edge = train_dataset.features_edge[:]\n",
    "from pprint import pprint\n",
    "print('indim',in_dim)\n",
    "#features[-1].out_dim = 50\n",
    "for i in features:\n",
    "    if i.type==3:\n",
    "        i.out_dim=4\n",
    "    print(vars(i))\n",
    "\n",
    "sum(p.out_dim for p in features)\n",
    "\n"
   ],
   "outputs": [
    {
     "output_type": "stream",
     "name": "stdout",
     "text": [
      "indim 130\n",
      "{'type': 1, 'out_dim': 20, 'global_normalize': False, 'name': 'edit_f', 'Active': True, 'n_classes': 81}\n",
      "{'type': 1, 'out_dim': 32, 'global_normalize': False, 'name': 'position', 'Active': True, 'n_classes': 100}\n",
      "{'type': 3, 'out_dim': 4, 'global_normalize': False, 'name': 'degree_centrality', 'Active': True}\n",
      "{'type': 3, 'out_dim': 4, 'global_normalize': False, 'name': 'katz_centrality_numpy', 'Active': True}\n",
      "{'type': 3, 'out_dim': 4, 'global_normalize': False, 'name': 'closeness_centrality', 'Active': True}\n",
      "{'type': 3, 'out_dim': 4, 'global_normalize': False, 'name': 'betweenness_centrality', 'Active': True}\n",
      "{'type': 3, 'out_dim': 4, 'global_normalize': False, 'name': 'load_centrality', 'Active': True}\n",
      "{'type': 3, 'out_dim': 4, 'global_normalize': False, 'name': 'subgraph_centrality', 'Active': True}\n",
      "{'type': 3, 'out_dim': 4, 'global_normalize': False, 'name': 'harmonic_centrality', 'Active': True}\n",
      "{'type': 4, 'out_dim': 50, 'global_normalize': False, 'name': 'W2v', 'Active': True, 'in_dim': 100}\n"
     ]
    },
    {
     "output_type": "execute_result",
     "data": {
      "text/plain": [
       "130"
      ]
     },
     "metadata": {},
     "execution_count": 21
    }
   ],
   "metadata": {}
  },
  {
   "cell_type": "code",
   "execution_count": null,
   "source": [
    "# count number of deleted edges by each community detection method\n",
    "# from networkx.algorithms.community import greedy_modularity_communities, asyn_lpa_communities, label_propagation_communities, asyn_fluidc\n",
    "\n",
    "# tmp_verses = [all_verses[2]]\n",
    "# tmp_editions = small_editions[:10]\n",
    "# tmp_dataset, tmp_nodes_map = create_dataset(tmp_verses, verse_alignments_inter, tmp_editions)\n",
    "\n",
    "# tmp_g = pyg_utils.convert.to_networkx(tmp_dataset, to_undirected=True)\n",
    "# def count_deleted_edges(tmp_dataset, c):\n",
    "#     deleted_edges = 0\n",
    "#     for i in range(0, len(tmp_dataset.edge_index[0]), 2):\n",
    "#         for comp in c:\n",
    "#             if tmp_dataset.edge_index[0][i].item() in comp and tmp_dataset.edge_index[1][i].item() not in comp:\n",
    "#                 deleted_edges += 1\n",
    "    \n",
    "#     return deleted_edges\n",
    "\n",
    "# print(\"eng token count: \", tmp_nodes_map['eng-x-bible-mixed'][tmp_verses[0]])\n",
    "# print(\"original connected components\",nx.number_connected_components(tmp_g))\n",
    "\n",
    "# c = list(greedy_modularity_communities(tmp_g))\n",
    "# print(\"new connected_components\", len(c))\n",
    "# print(\"deleted edges: \", count_deleted_edges(tmp_dataset, c))\n",
    "\n",
    "# c = list(asyn_lpa_communities(tmp_g))\n",
    "# print(\"asyn_lpa_communities number of components\", len(c))\n",
    "# print(\"deleted edges: \", count_deleted_edges(tmp_dataset, c))\n",
    "\n",
    "# c = list(label_propagation_communities(tmp_g))\n",
    "# print(\"label_propagation_communities number of components\", len(c))\n",
    "# print(\"deleted edges: \", count_deleted_edges(tmp_dataset, c))\n",
    "\n",
    "# cents = nx.edge_betweenness_centrality(tmp_g)\n",
    "# vals = sorted(list(cents.values()))\n",
    "# print(vals[0], vals[10], vals[100], vals[1000], vals[2000], vals[3000], vals[10000])\n",
    "# print(vals[-1], vals[-10], vals[-100], vals[-1000], vals[-2000], vals[-3000], vals[-10000])\n",
    "\n"
   ],
   "outputs": [],
   "metadata": {}
  },
  {
   "cell_type": "code",
   "execution_count": null,
   "source": [
    "# measure different community detection algorithms\n",
    "# from networkx.algorithms.community import greedy_modularity_communities, asyn_lpa_communities, label_propagation_communities, asyn_fluidc\n",
    "\n",
    "# def remove_bad_community_edges(nodes_map, verses, edition_files, alignments):\n",
    "#     edges_tmp = [[],[]]\n",
    "#     res_edges = [[],[]]\n",
    "#     for verse in verses:\n",
    "#         utils.LOG.info(f\"extracting edge features for {verse}\")\n",
    "#         for i,editf1 in enumerate(edition_files):\n",
    "#             for j,editf2 in enumerate(edition_files[i+1:]):\n",
    "#                 aligns = autils.get_aligns(editf1, editf2, alignments[verse])\n",
    "#                 if aligns != None:\n",
    "#                     for align in aligns:\n",
    "#                         n1, node_count = node_nom(verse, editf1, align[0], 0, nodes_map, None, None)\n",
    "#                         n2, node_count = node_nom(verse, editf2, align[1], 0, nodes_map, None, None)\n",
    "#                         edges_tmp[0].extend([n1, n2])\n",
    "#                         edges_tmp[1].extend([n2, n1])\n",
    "\n",
    "#         gnx = convert_to_netx(edges_tmp)\n",
    "#         print('detecting communities')\n",
    "#         coms = greedy_modularity_communities(gnx)\n",
    "\n",
    "#         print('finding good edges')\n",
    "#         for i in range(0, len(edges_tmp[0]), 2):\n",
    "#             for c in coms:\n",
    "#                 if edges_tmp[0][i] in c and edges_tmp[0][i+1] in c:\n",
    "#                     res_edges[0].extend([edges_tmp[0][i], edges_tmp[0][i+1]])\n",
    "#                     res_edges[1].extend([edges_tmp[0][i+1], edges_tmp[0][i]])\n",
    "#         edges_tmp = [[],[]]\n",
    "#     print('to keep edges:', len(res_edges[0]))\n",
    "#     return torch.tensor(res_edges, dtype=torch.long)\n",
    "\n",
    "# # old_edge_index = train_dataset.edge_index\n",
    "# # new_edge_index = remove_bad_community_edges(train_dataset.nodes_map, train_verses, small_editions, verse_alignments_inter)\n",
    "# # train_dataset.edge_index = new_edge_index\n",
    "\n",
    "# # with open(\"./dataset_greedy_modularity_communities.pickle\", 'rb') as inf:\n",
    "# #     train_dataset = pickle.load(inf)\n",
    "\n",
    "# test_dataset = train_dataset\n",
    "\n",
    "# print('orig edge count', old_edge_index.shape)\n",
    "# print('new edge count', train_dataset.edge_index.shape)\n",
    "# print(\"done\")"
   ],
   "outputs": [],
   "metadata": {}
  },
  {
   "cell_type": "code",
   "execution_count": null,
   "source": [
    "nodes_map = train_dataset.nodes_map\n",
    "bad_edition_files = []\n",
    "for edit in nodes_map:\n",
    "    bad_count = 0\n",
    "    for verse in nodes_map[edit]:\n",
    "        if len(nodes_map[edit][verse].keys()) < 6:\n",
    "            bad_count += 1\n",
    "        if bad_count > 1:\n",
    "            bad_edition_files.append(edit)\n",
    "            break\n",
    "print(bad_edition_files)"
   ],
   "outputs": [
    {
     "output_type": "stream",
     "name": "stdout",
     "text": [
      "['mya-x-bible-1835']\n"
     ]
    }
   ],
   "metadata": {}
  },
  {
   "cell_type": "code",
   "execution_count": null,
   "source": [
    "all_japanese_nodes = set()\n",
    "nodes_map = train_dataset.nodes_map\n",
    "\n",
    "for verse in nodes_map['jpn-x-bible-newworld']:\n",
    "    for item in nodes_map['jpn-x-bible-newworld'][verse].items():\n",
    "        all_japanese_nodes.add(item[1])\n",
    "\n",
    "print(\" all japansese nodes: \", len(all_japanese_nodes))\n",
    "edge_index = train_dataset.edge_index.to('cpu')\n",
    "remaining_edges_index = []\n",
    "for i in tqdm(range(0, edge_index.shape[1], 2)):\n",
    "    if edge_index[0, i].item() not in all_japanese_nodes and edge_index[0, i+1].item() not in all_japanese_nodes:\n",
    "        remaining_edges_index.extend([i, i+1])\n",
    "\n",
    "print('original total edges count', edge_index.shape)\n",
    "print('remaining edge count', len(remaining_edges_index))\n",
    "train_dataset.edge_index = edge_index[:, remaining_edges_index]\n",
    "train_dataset.edge_index.shape\n"
   ],
   "outputs": [
    {
     "output_type": "error",
     "ename": "KeyError",
     "evalue": "'jpn-x-bible-newworld'",
     "traceback": [
      "\u001b[0;31m---------------------------------------------------------------------------\u001b[0m",
      "\u001b[0;31mKeyError\u001b[0m                                  Traceback (most recent call last)",
      "\u001b[0;32m<ipython-input-25-4abafcb2d79f>\u001b[0m in \u001b[0;36m<module>\u001b[0;34m\u001b[0m\n\u001b[1;32m      2\u001b[0m \u001b[0mnodes_map\u001b[0m \u001b[0;34m=\u001b[0m \u001b[0mtrain_dataset\u001b[0m\u001b[0;34m.\u001b[0m\u001b[0mnodes_map\u001b[0m\u001b[0;34m\u001b[0m\u001b[0;34m\u001b[0m\u001b[0m\n\u001b[1;32m      3\u001b[0m \u001b[0;34m\u001b[0m\u001b[0m\n\u001b[0;32m----> 4\u001b[0;31m \u001b[0;32mfor\u001b[0m \u001b[0mverse\u001b[0m \u001b[0;32min\u001b[0m \u001b[0mnodes_map\u001b[0m\u001b[0;34m[\u001b[0m\u001b[0;34m'jpn-x-bible-newworld'\u001b[0m\u001b[0;34m]\u001b[0m\u001b[0;34m:\u001b[0m\u001b[0;34m\u001b[0m\u001b[0;34m\u001b[0m\u001b[0m\n\u001b[0m\u001b[1;32m      5\u001b[0m     \u001b[0;32mfor\u001b[0m \u001b[0mitem\u001b[0m \u001b[0;32min\u001b[0m \u001b[0mnodes_map\u001b[0m\u001b[0;34m[\u001b[0m\u001b[0;34m'jpn-x-bible-newworld'\u001b[0m\u001b[0;34m]\u001b[0m\u001b[0;34m[\u001b[0m\u001b[0mverse\u001b[0m\u001b[0;34m]\u001b[0m\u001b[0;34m.\u001b[0m\u001b[0mitems\u001b[0m\u001b[0;34m(\u001b[0m\u001b[0;34m)\u001b[0m\u001b[0;34m:\u001b[0m\u001b[0;34m\u001b[0m\u001b[0;34m\u001b[0m\u001b[0m\n\u001b[1;32m      6\u001b[0m         \u001b[0mall_japanese_nodes\u001b[0m\u001b[0;34m.\u001b[0m\u001b[0madd\u001b[0m\u001b[0;34m(\u001b[0m\u001b[0mitem\u001b[0m\u001b[0;34m[\u001b[0m\u001b[0;36m1\u001b[0m\u001b[0;34m]\u001b[0m\u001b[0;34m)\u001b[0m\u001b[0;34m\u001b[0m\u001b[0;34m\u001b[0m\u001b[0m\n",
      "\u001b[0;31mKeyError\u001b[0m: 'jpn-x-bible-newworld'"
     ]
    }
   ],
   "metadata": {}
  },
  {
   "cell_type": "code",
   "execution_count": null,
   "source": [
    "from networkx.algorithms.community import greedy_modularity_communities, asyn_lpa_communities, label_propagation_communities, asyn_fluidc\n",
    "\n",
    "def get_community_edges(c, verse):\n",
    "    res = []\n",
    "    for n1 in all_nodes_map[editf1][verse].items():\n",
    "        for n2 in all_nodes_map[editf2][verse].items():\n",
    "            for com in c:\n",
    "                if n1[1] in com and n2[1] in com:\n",
    "                    res.append((n1[0], n2[0]))\n",
    "    \n",
    "    return res\n",
    "\n",
    "def intersect(e1, e2):\n",
    "    res = set()\n",
    "    for item in e1:\n",
    "        if item in e2:\n",
    "            res.add(item)\n",
    "    \n",
    "    return res\n",
    "\n",
    "\n",
    "measures = {}\n",
    "measures['intersection']= {\"p_hit_count\": 0, \"s_hit_count\": 0, \"total_hit_count\": 0, \"gold_s_hit_count\": 0, \"prec\": 0, \"rec\": 0, \"f1\": 0, \"aer\": 0}\n",
    "measures['gdfa']= {\"p_hit_count\": 0, \"s_hit_count\": 0, \"total_hit_count\": 0, \"gold_s_hit_count\": 0, \"prec\": 0, \"rec\": 0, \"f1\": 0, \"aer\": 0}\n",
    "measures['c1_all']= {\"p_hit_count\": 0, \"s_hit_count\": 0, \"total_hit_count\": 0, \"gold_s_hit_count\": 0, \"prec\": 0, \"rec\": 0, \"f1\": 0, \"aer\": 0}\n",
    "measures['c1_inter']= {\"p_hit_count\": 0, \"s_hit_count\": 0, \"total_hit_count\": 0, \"gold_s_hit_count\": 0, \"prec\": 0, \"rec\": 0, \"f1\": 0, \"aer\": 0}\n",
    "measures['c2_all']= {\"p_hit_count\": 0, \"s_hit_count\": 0, \"total_hit_count\": 0, \"gold_s_hit_count\": 0, \"prec\": 0, \"rec\": 0, \"f1\": 0, \"aer\": 0}\n",
    "measures['c2_inter']= {\"p_hit_count\": 0, \"s_hit_count\": 0, \"total_hit_count\": 0, \"gold_s_hit_count\": 0, \"prec\": 0, \"rec\": 0, \"f1\": 0, \"aer\": 0}\n",
    "measures['c3_all']= {\"p_hit_count\": 0, \"s_hit_count\": 0, \"total_hit_count\": 0, \"gold_s_hit_count\": 0, \"prec\": 0, \"rec\": 0, \"f1\": 0, \"aer\": 0}\n",
    "measures['c3_inter']= {\"p_hit_count\": 0, \"s_hit_count\": 0, \"total_hit_count\": 0, \"gold_s_hit_count\": 0, \"prec\": 0, \"rec\": 0, \"f1\": 0, \"aer\": 0}\n",
    "numbers = [100, 300, 600, 1000, 1300, 1600, 2000, 3000, 4000, 5000]\n",
    "for i in numbers:\n",
    "    measures[i] = {\"p_hit_count\": 0, \"s_hit_count\": 0, \"total_hit_count\": 0, \"gold_s_hit_count\": 0, \"prec\": 0, \"rec\": 0, \"f1\": 0, \"aer\": 0}\n",
    "    measures[i+1] = {\"p_hit_count\": 0, \"s_hit_count\": 0, \"total_hit_count\": 0, \"gold_s_hit_count\": 0, \"prec\": 0, \"rec\": 0, \"f1\": 0, \"aer\": 0}\n",
    "coms = {}\n",
    "for verse in test_verses:\n",
    "    inter_edges = autils.get_aligns(editf1, editf2, verse_alignments_inter[verse])\n",
    "\n",
    "    all_dataset, all_nodes_map = create_dataset([verse], verse_alignments_inter, small_editions)\n",
    "    print(\"converting\")\n",
    "    g = pyg_utils.convert.to_networkx(all_dataset, to_undirected=True)\n",
    "    print(\"detecting community 1\")\n",
    "    c1 = list(greedy_modularity_communities(g))\n",
    "    print(\"detecting community 2\")\n",
    "    c2 = list(asyn_lpa_communities(g))\n",
    "    print(\"detecting community 3\")\n",
    "    c3 = list(label_propagation_communities(g))\n",
    "\n",
    "    print(\"detecting community 4\")\n",
    "    edge_betweenness = [y[0] for y in sorted(nx.edge_betweenness_centrality(g).items(), key=lambda x: x[1], reverse=True)]\n",
    "    \n",
    "    print('orig communities', nx.number_connected_components(g))\n",
    "    prev_i = 0\n",
    "    for i in numbers:\n",
    "        for j in range(prev_i, i):\n",
    "            g.remove_edge(*edge_betweenness[j])\n",
    "        prev_i = i\n",
    "        com = list(nx.connected_components(g))\n",
    "        edges = get_community_edges(com, verse)\n",
    "        autils.calc_and_update_alignment_score(edges, pros[verse], surs[verse], measures[i])\n",
    "        autils.calc_and_update_alignment_score(intersect(edges, inter_edges), pros[verse], surs[verse], measures[i+1]) \n",
    "        print(f'communities {i}', nx.number_connected_components(g))\n",
    "\n",
    "    c1_edges = get_community_edges(c1, verse)\n",
    "    c2_edges = get_community_edges(c2, verse)\n",
    "    c3_edges = get_community_edges(c3, verse)\n",
    "    print('c1 communities', len(c1))\n",
    "    print('c2 communities', len(c2))\n",
    "    print('c3 communities', len(c3))\n",
    "\n",
    "\n",
    "\n",
    "    autils.calc_and_update_alignment_score(inter_edges, pros[verse], surs[verse], measures['intersection'])\n",
    "    autils.calc_and_update_alignment_score(autils.get_aligns(editf1, editf2, verse_alignments_gdfa[verse]), pros[verse], surs[verse], measures['gdfa'])\n",
    "\n",
    "    autils.calc_and_update_alignment_score(c1_edges, pros[verse], surs[verse], measures['c1_all'])\n",
    "    autils.calc_and_update_alignment_score(c2_edges, pros[verse], surs[verse], measures['c2_all'])\n",
    "    autils.calc_and_update_alignment_score(c3_edges, pros[verse], surs[verse], measures['c3_all'])\n",
    "\n",
    "    autils.calc_and_update_alignment_score(intersect(c1_edges, inter_edges), pros[verse], surs[verse], measures['c1_inter'])\n",
    "    autils.calc_and_update_alignment_score(intersect(c2_edges, inter_edges), pros[verse], surs[verse], measures['c2_inter'])\n",
    "    autils.calc_and_update_alignment_score(intersect(c3_edges, inter_edges), pros[verse], surs[verse], measures['c3_inter'])\n",
    "\n",
    "    for item in measures:\n",
    "        print(item, measures[item])\n",
    "    \n",
    "    \n"
   ],
   "outputs": [],
   "metadata": {}
  }
 ]
}