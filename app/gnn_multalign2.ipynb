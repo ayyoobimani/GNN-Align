{
 "metadata": {
  "orig_nbformat": 2,
  "kernelspec": {
   "name": "python3",
   "display_name": "Python 3.7.10 64-bit ('multalign_graph': conda)"
  },
  "interpreter": {
   "hash": "e87ea973a27bc0df729a3cffeb7c69a8289035b60e563cd26286fedfe440ad07"
  },
  "language_info": {
   "name": "python",
   "version": "3.7.10",
   "mimetype": "text/x-python",
   "codemirror_mode": {
    "name": "ipython",
    "version": 3
   },
   "pygments_lexer": "ipython3",
   "nbconvert_exporter": "python",
   "file_extension": ".py"
  }
 },
 "nbformat": 4,
 "nbformat_minor": 2,
 "cells": [
  {
   "cell_type": "code",
   "execution_count": 1,
   "source": [
    "import torch, sys\n",
    "sys.path.insert(0, '../')\n",
    "from my_utils import gpu_utils\n",
    "import importlib\n",
    "import gc\n",
    "from my_utils import align_utils as autils, utils\n",
    "from my_utils.alignment_features import *\n",
    "from tqdm import tqdm\n",
    "run = 0\n",
    "from tqdm import tqdm\n",
    "from gnn_utils import eval_utils"
   ],
   "outputs": [],
   "metadata": {}
  },
  {
   "cell_type": "code",
   "execution_count": 2,
   "source": [
    "# !pip install torch-geometric\n",
    "# !pip install tensorboardX\n",
    "\n",
    "# !wget https://bin.equinox.io/c/4VmDzA7iaHb/ngrok-stable-linux-amd64.zip\n",
    "# !unzip ngrok-stable-linux-amd64.zip\n",
    "\n",
    "#  print(torch.version.cuda)\n",
    "#  print(torch.__version__)    \n",
    "\n",
    "dev = torch.device('cuda' if torch.cuda.is_available() else 'cpu')\n",
    "free_gpu1 = '6'\n",
    "free_gpu2 = '5'\n"
   ],
   "outputs": [],
   "metadata": {}
  },
  {
   "cell_type": "code",
   "execution_count": 3,
   "source": [
    "\n",
    "import torch\n",
    "import torch.nn as nn\n",
    "import torch.nn.functional as F\n",
    "\n",
    "import torch_geometric.nn as pyg_nn\n",
    "import torch_geometric.utils as pyg_utils\n",
    "\n",
    "import time\n",
    "from datetime import datetime\n",
    "\n",
    "import networkx as nx\n",
    "import numpy as np\n",
    "import torch\n",
    "import torch.optim as optim\n",
    "\n",
    "from torch_geometric.datasets import TUDataset\n",
    "from torch_geometric.datasets import Planetoid\n",
    "from torch_geometric.data import DataLoader\n",
    "\n",
    "import torch_geometric.transforms as T\n",
    "\n",
    "from tensorboardX import SummaryWriter\n",
    "from sklearn.manifold import TSNE\n",
    "# import matplotlib.pyplot as plt\n",
    "\n",
    "\n"
   ],
   "outputs": [],
   "metadata": {
    "tags": []
   }
  },
  {
   "cell_type": "code",
   "execution_count": 4,
   "source": [
    "import argparse\n",
    "from multiprocessing import Pool\n",
    "\n",
    "# set random seed\n",
    "config_file = \"/mounts/Users/student/ayyoob/Dokumente/code/pbc-ui-demo/config_pbc.ini\"\n",
    "utils.setup(config_file)\n",
    "\n",
    "params = argparse.Namespace()\n",
    "#params.editions_file =  \"/mounts/Users/student/ayyoob/Dokumente/code/pbc_utils/data/eng_fra_pbc/lang_list.txt\"\n",
    "\n",
    "#params.gold_file = \"/mounts/Users/student/ayyoob/Dokumente/code/pbc_utils/data/eng_fra_pbc/eng-fra.gold\"\n",
    "#params.gold_file = \"/mounts/Users/student/ayyoob/Dokumente/code/pbc_utils/data/helfi/splits/helfi-heb-fin-gold-alignments_test.txt\"\n",
    "\n",
    "params.gold_file = \"/mounts/Users/student/ayyoob/Dokumente/code/pbc_utils/data/helfi/splits/helfi-grc-fin-gold-alignments_train.txt\"\n",
    "pros, surs = autils.load_gold(params.gold_file)\n",
    "all_verses = list(pros.keys())\n",
    "params.gold_file = \"/mounts/Users/student/ayyoob/Dokumente/code/pbc_utils/data/helfi/splits/helfi-heb-fin-gold-alignments_train.txt\"\n",
    "pros, surs = autils.load_gold(params.gold_file)\n",
    "all_verses.extend(list(pros.keys()))\n",
    "all_verses = list(set(all_verses))\n",
    "print(len(all_verses))\n",
    "\n",
    "params.editions_file =  \"/mounts/Users/student/ayyoob/Dokumente/code/pbc_utils/data/helfi/splits/helfi_lang_list.txt\"\n",
    "editions, langs = autils.load_simalign_editions(params.editions_file)\n",
    "current_editions = [editions[lang] for lang in langs]\n",
    "\n",
    "def get_pruned_verse_alignments(args):\n",
    "    verse, current_editions = args\n",
    "    print(verse)\n",
    "    verse_aligns_inter = autils.get_verse_alignments(verse)\n",
    "    verse_aligns_gdfa = autils.get_verse_alignments(verse, gdfa=True)\n",
    "\n",
    "    autils.prune_non_necessary_alignments(verse_aligns_inter, current_editions)\n",
    "    autils.prune_non_necessary_alignments(verse_aligns_gdfa, current_editions)\n",
    "\n",
    "    gc.collect()\n",
    "    return verse_aligns_inter, verse_aligns_gdfa\n",
    "    \n",
    "\n",
    "verse_alignments_inter = {}\n",
    "verse_alignments_gdfa = {}\n",
    "args = []\n",
    "for i,verse in enumerate(all_verses):\n",
    "    args.append((verse, current_editions[:]))\n",
    "\n",
    "print('going to get alignments')\n",
    "with Pool(100) as p:\n",
    "    all_res = p.map(get_pruned_verse_alignments, args)\n",
    "\n",
    "for i,verse in enumerate(all_verses):\n",
    "    verse_aligns_inter, verse_aligns_gdfa = all_res[i]\n",
    "    \n",
    "    verse_alignments_inter[verse] = verse_aligns_inter\n",
    "    verse_alignments_gdfa[verse] = verse_aligns_gdfa\n",
    "\n",
    "for verse in all_verses[:]:\n",
    "    if len(verse_alignments_inter[verse].keys()) < 10:\n",
    "        all_verses.remove(verse)\n",
    "        \n",
    "utils.LOG.info(\"done\")"
   ],
   "outputs": [
    {
     "output_type": "stream",
     "name": "stdout",
     "text": [
      "24159\n",
      "going to get alignments\n",
      "5800902116009001050340072401700412025023\n",
      "310000040901500843005041\n",
      "24026007\n",
      "\n",
      "23028013\n",
      "\n",
      "\n",
      "\n",
      "\n",
      "2200501012019037\n",
      "\n",
      "\n",
      "\n",
      "4200301701043010\n",
      "270120111908002005021005\n",
      "24026001110140172101200702023016\n",
      "\n",
      "1700901643020019\n",
      "\n",
      "\n",
      "\n",
      "24024007\n",
      "\n",
      "2002000740018001\n",
      "660040101300203019134003400080201904401701035003\n",
      "19029003\n",
      "\n",
      "03013029\n",
      "26035002\n",
      "03004034\n",
      "\n",
      "02031013\n",
      "24006009\n",
      "\n",
      "\n",
      "\n",
      "\n",
      "1300700925001017430080270501901066003002\n",
      "\n",
      "\n",
      "\n",
      "\n",
      "04021035\n",
      "6600700704018025\n",
      "\n",
      "\n",
      "400190114000902803007028\n",
      "\n",
      "\n",
      "66014019\n",
      "14030002\n",
      "23037013\n",
      "1001202058002010\n",
      "\n",
      "44013045\n",
      "04036009\n",
      "13021016\n",
      "26033019\n",
      "11018002\n",
      "14004005\n",
      "19006002\n",
      "10001006\n",
      "36001008\n",
      "01028021\n",
      "23014017\n",
      "23014027\n",
      "18024010\n",
      "42022056\n",
      "19075011\n",
      "05010003\n",
      "09010012\n",
      "42014004\n",
      "58007001\n",
      "07005010\n",
      "05014015\n",
      "46007037\n",
      "04026009\n",
      "40001012\n",
      "24026005\n",
      "02023019\n",
      "04016014\n",
      "14017017\n",
      "01004006\n",
      "18005004\n",
      "06022015\n",
      "19027006\n",
      "25001020\n",
      "19063010\n",
      "23003007\n",
      "42017033\n",
      "09002011\n",
      "60003001\n",
      "48003028\n",
      "19132008\n",
      "05005033\n",
      "44013015\n",
      "28011009\n",
      "09016014\n",
      "09028024\n",
      "14036021\n",
      "55004001\n",
      "47012014\n",
      "06007015\n",
      "42009041\n",
      "13008015\n",
      "04019005\n",
      "19073028\n",
      "13022007\n",
      "09006002\n",
      "66019007\n",
      "46011027\n",
      "18012006\n",
      "28014008\n",
      "62005008\n",
      "18012005\n",
      "06011016\n"
     ]
    },
    {
     "output_type": "stream",
     "name": "stderr",
     "text": [
      "Process ForkPoolWorker-28:\n",
      "Traceback (most recent call last):\n",
      "  File \"/mounts/Users/student/ayyoob/anaconda3/envs/multalign_graph/lib/python3.7/multiprocessing/process.py\", line 297, in _bootstrap\n",
      "    self.run()\n",
      "  File \"/mounts/Users/student/ayyoob/anaconda3/envs/multalign_graph/lib/python3.7/multiprocessing/process.py\", line 99, in run\n",
      "    self._target(*self._args, **self._kwargs)\n",
      "  File \"/mounts/Users/student/ayyoob/anaconda3/envs/multalign_graph/lib/python3.7/multiprocessing/pool.py\", line 121, in worker\n",
      "    result = (True, func(*args, **kwds))\n",
      "  File \"/mounts/Users/student/ayyoob/anaconda3/envs/multalign_graph/lib/python3.7/multiprocessing/pool.py\", line 44, in mapstar\n",
      "    return list(map(*args))\n",
      "  File \"<ipython-input-4-2f960d012a44>\", line 30, in get_pruned_verse_alignments\n",
      "    verse_aligns_inter = autils.get_verse_alignments(verse)\n",
      "  File \"../my_utils/align_utils.py\", line 69, in get_verse_alignments\n",
      "    for line in f:\n",
      "  File \"/mounts/Users/student/ayyoob/anaconda3/envs/multalign_graph/lib/python3.7/codecs.py\", line 319, in decode\n",
      "    def decode(self, input, final=False):\n",
      "KeyboardInterrupt\n",
      "Process ForkPoolWorker-34:\n",
      "Traceback (most recent call last):\n",
      "  File \"/mounts/Users/student/ayyoob/anaconda3/envs/multalign_graph/lib/python3.7/multiprocessing/process.py\", line 297, in _bootstrap\n",
      "    self.run()\n",
      "  File \"/mounts/Users/student/ayyoob/anaconda3/envs/multalign_graph/lib/python3.7/multiprocessing/process.py\", line 99, in run\n",
      "    self._target(*self._args, **self._kwargs)\n",
      "  File \"/mounts/Users/student/ayyoob/anaconda3/envs/multalign_graph/lib/python3.7/multiprocessing/pool.py\", line 121, in worker\n",
      "    result = (True, func(*args, **kwds))\n",
      "  File \"/mounts/Users/student/ayyoob/anaconda3/envs/multalign_graph/lib/python3.7/multiprocessing/pool.py\", line 44, in mapstar\n",
      "    return list(map(*args))\n",
      "  File \"<ipython-input-4-2f960d012a44>\", line 30, in get_pruned_verse_alignments\n",
      "    verse_aligns_inter = autils.get_verse_alignments(verse)\n",
      "  File \"../my_utils/align_utils.py\", line 69, in get_verse_alignments\n",
      "    for line in f:\n",
      "  File \"/mounts/Users/student/ayyoob/anaconda3/envs/multalign_graph/lib/python3.7/codecs.py\", line 319, in decode\n",
      "    def decode(self, input, final=False):\n",
      "KeyboardInterrupt\n"
     ]
    },
    {
     "output_type": "error",
     "ename": "KeyboardInterrupt",
     "evalue": "",
     "traceback": [
      "\u001b[0;31m---------------------------------------------------------------------------\u001b[0m",
      "\u001b[0;31mKeyboardInterrupt\u001b[0m                         Traceback (most recent call last)",
      "\u001b[0;32m<ipython-input-4-2f960d012a44>\u001b[0m in \u001b[0;36m<module>\u001b[0;34m\u001b[0m\n\u001b[1;32m     47\u001b[0m         \u001b[0mprint\u001b[0m\u001b[0;34m(\u001b[0m\u001b[0;34m'going to get alignments'\u001b[0m\u001b[0;34m)\u001b[0m\u001b[0;34m\u001b[0m\u001b[0;34m\u001b[0m\u001b[0m\n\u001b[1;32m     48\u001b[0m         \u001b[0;32mwith\u001b[0m \u001b[0mPool\u001b[0m\u001b[0;34m(\u001b[0m\u001b[0;36m50\u001b[0m\u001b[0;34m)\u001b[0m \u001b[0;32mas\u001b[0m \u001b[0mp\u001b[0m\u001b[0;34m:\u001b[0m\u001b[0;34m\u001b[0m\u001b[0;34m\u001b[0m\u001b[0m\n\u001b[0;32m---> 49\u001b[0;31m             \u001b[0mall_res\u001b[0m \u001b[0;34m=\u001b[0m \u001b[0mp\u001b[0m\u001b[0;34m.\u001b[0m\u001b[0mmap\u001b[0m\u001b[0;34m(\u001b[0m\u001b[0mget_pruned_verse_alignments\u001b[0m\u001b[0;34m,\u001b[0m \u001b[0margs\u001b[0m\u001b[0;34m)\u001b[0m\u001b[0;34m\u001b[0m\u001b[0;34m\u001b[0m\u001b[0m\n\u001b[0m\u001b[1;32m     50\u001b[0m \u001b[0;34m\u001b[0m\u001b[0m\n\u001b[1;32m     51\u001b[0m         \u001b[0;32mfor\u001b[0m \u001b[0mi\u001b[0m\u001b[0;34m,\u001b[0m\u001b[0mitem\u001b[0m \u001b[0;32min\u001b[0m \u001b[0menumerate\u001b[0m\u001b[0;34m(\u001b[0m\u001b[0mall_res\u001b[0m\u001b[0;34m)\u001b[0m\u001b[0;34m:\u001b[0m\u001b[0;34m\u001b[0m\u001b[0;34m\u001b[0m\u001b[0m\n",
      "\u001b[0;32m~/anaconda3/envs/multalign_graph/lib/python3.7/multiprocessing/pool.py\u001b[0m in \u001b[0;36mmap\u001b[0;34m(self, func, iterable, chunksize)\u001b[0m\n\u001b[1;32m    266\u001b[0m         \u001b[0;32min\u001b[0m \u001b[0ma\u001b[0m \u001b[0mlist\u001b[0m \u001b[0mthat\u001b[0m \u001b[0;32mis\u001b[0m \u001b[0mreturned\u001b[0m\u001b[0;34m.\u001b[0m\u001b[0;34m\u001b[0m\u001b[0;34m\u001b[0m\u001b[0m\n\u001b[1;32m    267\u001b[0m         '''\n\u001b[0;32m--> 268\u001b[0;31m         \u001b[0;32mreturn\u001b[0m \u001b[0mself\u001b[0m\u001b[0;34m.\u001b[0m\u001b[0m_map_async\u001b[0m\u001b[0;34m(\u001b[0m\u001b[0mfunc\u001b[0m\u001b[0;34m,\u001b[0m \u001b[0miterable\u001b[0m\u001b[0;34m,\u001b[0m \u001b[0mmapstar\u001b[0m\u001b[0;34m,\u001b[0m \u001b[0mchunksize\u001b[0m\u001b[0;34m)\u001b[0m\u001b[0;34m.\u001b[0m\u001b[0mget\u001b[0m\u001b[0;34m(\u001b[0m\u001b[0;34m)\u001b[0m\u001b[0;34m\u001b[0m\u001b[0;34m\u001b[0m\u001b[0m\n\u001b[0m\u001b[1;32m    269\u001b[0m \u001b[0;34m\u001b[0m\u001b[0m\n\u001b[1;32m    270\u001b[0m     \u001b[0;32mdef\u001b[0m \u001b[0mstarmap\u001b[0m\u001b[0;34m(\u001b[0m\u001b[0mself\u001b[0m\u001b[0;34m,\u001b[0m \u001b[0mfunc\u001b[0m\u001b[0;34m,\u001b[0m \u001b[0miterable\u001b[0m\u001b[0;34m,\u001b[0m \u001b[0mchunksize\u001b[0m\u001b[0;34m=\u001b[0m\u001b[0;32mNone\u001b[0m\u001b[0;34m)\u001b[0m\u001b[0;34m:\u001b[0m\u001b[0;34m\u001b[0m\u001b[0;34m\u001b[0m\u001b[0m\n",
      "\u001b[0;32m~/anaconda3/envs/multalign_graph/lib/python3.7/multiprocessing/pool.py\u001b[0m in \u001b[0;36mget\u001b[0;34m(self, timeout)\u001b[0m\n\u001b[1;32m    649\u001b[0m \u001b[0;34m\u001b[0m\u001b[0m\n\u001b[1;32m    650\u001b[0m     \u001b[0;32mdef\u001b[0m \u001b[0mget\u001b[0m\u001b[0;34m(\u001b[0m\u001b[0mself\u001b[0m\u001b[0;34m,\u001b[0m \u001b[0mtimeout\u001b[0m\u001b[0;34m=\u001b[0m\u001b[0;32mNone\u001b[0m\u001b[0;34m)\u001b[0m\u001b[0;34m:\u001b[0m\u001b[0;34m\u001b[0m\u001b[0;34m\u001b[0m\u001b[0m\n\u001b[0;32m--> 651\u001b[0;31m         \u001b[0mself\u001b[0m\u001b[0;34m.\u001b[0m\u001b[0mwait\u001b[0m\u001b[0;34m(\u001b[0m\u001b[0mtimeout\u001b[0m\u001b[0;34m)\u001b[0m\u001b[0;34m\u001b[0m\u001b[0;34m\u001b[0m\u001b[0m\n\u001b[0m\u001b[1;32m    652\u001b[0m         \u001b[0;32mif\u001b[0m \u001b[0;32mnot\u001b[0m \u001b[0mself\u001b[0m\u001b[0;34m.\u001b[0m\u001b[0mready\u001b[0m\u001b[0;34m(\u001b[0m\u001b[0;34m)\u001b[0m\u001b[0;34m:\u001b[0m\u001b[0;34m\u001b[0m\u001b[0;34m\u001b[0m\u001b[0m\n\u001b[1;32m    653\u001b[0m             \u001b[0;32mraise\u001b[0m \u001b[0mTimeoutError\u001b[0m\u001b[0;34m\u001b[0m\u001b[0;34m\u001b[0m\u001b[0m\n",
      "\u001b[0;32m~/anaconda3/envs/multalign_graph/lib/python3.7/multiprocessing/pool.py\u001b[0m in \u001b[0;36mwait\u001b[0;34m(self, timeout)\u001b[0m\n\u001b[1;32m    646\u001b[0m \u001b[0;34m\u001b[0m\u001b[0m\n\u001b[1;32m    647\u001b[0m     \u001b[0;32mdef\u001b[0m \u001b[0mwait\u001b[0m\u001b[0;34m(\u001b[0m\u001b[0mself\u001b[0m\u001b[0;34m,\u001b[0m \u001b[0mtimeout\u001b[0m\u001b[0;34m=\u001b[0m\u001b[0;32mNone\u001b[0m\u001b[0;34m)\u001b[0m\u001b[0;34m:\u001b[0m\u001b[0;34m\u001b[0m\u001b[0;34m\u001b[0m\u001b[0m\n\u001b[0;32m--> 648\u001b[0;31m         \u001b[0mself\u001b[0m\u001b[0;34m.\u001b[0m\u001b[0m_event\u001b[0m\u001b[0;34m.\u001b[0m\u001b[0mwait\u001b[0m\u001b[0;34m(\u001b[0m\u001b[0mtimeout\u001b[0m\u001b[0;34m)\u001b[0m\u001b[0;34m\u001b[0m\u001b[0;34m\u001b[0m\u001b[0m\n\u001b[0m\u001b[1;32m    649\u001b[0m \u001b[0;34m\u001b[0m\u001b[0m\n\u001b[1;32m    650\u001b[0m     \u001b[0;32mdef\u001b[0m \u001b[0mget\u001b[0m\u001b[0;34m(\u001b[0m\u001b[0mself\u001b[0m\u001b[0;34m,\u001b[0m \u001b[0mtimeout\u001b[0m\u001b[0;34m=\u001b[0m\u001b[0;32mNone\u001b[0m\u001b[0;34m)\u001b[0m\u001b[0;34m:\u001b[0m\u001b[0;34m\u001b[0m\u001b[0;34m\u001b[0m\u001b[0m\n",
      "\u001b[0;32m~/anaconda3/envs/multalign_graph/lib/python3.7/threading.py\u001b[0m in \u001b[0;36mwait\u001b[0;34m(self, timeout)\u001b[0m\n\u001b[1;32m    550\u001b[0m             \u001b[0msignaled\u001b[0m \u001b[0;34m=\u001b[0m \u001b[0mself\u001b[0m\u001b[0;34m.\u001b[0m\u001b[0m_flag\u001b[0m\u001b[0;34m\u001b[0m\u001b[0;34m\u001b[0m\u001b[0m\n\u001b[1;32m    551\u001b[0m             \u001b[0;32mif\u001b[0m \u001b[0;32mnot\u001b[0m \u001b[0msignaled\u001b[0m\u001b[0;34m:\u001b[0m\u001b[0;34m\u001b[0m\u001b[0;34m\u001b[0m\u001b[0m\n\u001b[0;32m--> 552\u001b[0;31m                 \u001b[0msignaled\u001b[0m \u001b[0;34m=\u001b[0m \u001b[0mself\u001b[0m\u001b[0;34m.\u001b[0m\u001b[0m_cond\u001b[0m\u001b[0;34m.\u001b[0m\u001b[0mwait\u001b[0m\u001b[0;34m(\u001b[0m\u001b[0mtimeout\u001b[0m\u001b[0;34m)\u001b[0m\u001b[0;34m\u001b[0m\u001b[0;34m\u001b[0m\u001b[0m\n\u001b[0m\u001b[1;32m    553\u001b[0m             \u001b[0;32mreturn\u001b[0m \u001b[0msignaled\u001b[0m\u001b[0;34m\u001b[0m\u001b[0;34m\u001b[0m\u001b[0m\n\u001b[1;32m    554\u001b[0m \u001b[0;34m\u001b[0m\u001b[0m\n",
      "\u001b[0;32m~/anaconda3/envs/multalign_graph/lib/python3.7/threading.py\u001b[0m in \u001b[0;36mwait\u001b[0;34m(self, timeout)\u001b[0m\n\u001b[1;32m    294\u001b[0m         \u001b[0;32mtry\u001b[0m\u001b[0;34m:\u001b[0m    \u001b[0;31m# restore state no matter what (e.g., KeyboardInterrupt)\u001b[0m\u001b[0;34m\u001b[0m\u001b[0;34m\u001b[0m\u001b[0m\n\u001b[1;32m    295\u001b[0m             \u001b[0;32mif\u001b[0m \u001b[0mtimeout\u001b[0m \u001b[0;32mis\u001b[0m \u001b[0;32mNone\u001b[0m\u001b[0;34m:\u001b[0m\u001b[0;34m\u001b[0m\u001b[0;34m\u001b[0m\u001b[0m\n\u001b[0;32m--> 296\u001b[0;31m                 \u001b[0mwaiter\u001b[0m\u001b[0;34m.\u001b[0m\u001b[0macquire\u001b[0m\u001b[0;34m(\u001b[0m\u001b[0;34m)\u001b[0m\u001b[0;34m\u001b[0m\u001b[0;34m\u001b[0m\u001b[0m\n\u001b[0m\u001b[1;32m    297\u001b[0m                 \u001b[0mgotit\u001b[0m \u001b[0;34m=\u001b[0m \u001b[0;32mTrue\u001b[0m\u001b[0;34m\u001b[0m\u001b[0;34m\u001b[0m\u001b[0m\n\u001b[1;32m    298\u001b[0m             \u001b[0;32melse\u001b[0m\u001b[0;34m:\u001b[0m\u001b[0;34m\u001b[0m\u001b[0;34m\u001b[0m\u001b[0m\n",
      "\u001b[0;31mKeyboardInterrupt\u001b[0m: "
     ]
    }
   ],
   "metadata": {
    "tags": []
   }
  },
  {
   "cell_type": "code",
   "execution_count": null,
   "source": [
    "class DeeperGCN(torch.nn.Module):\n",
    "    def __init__(self,node_dim, edge_dim, hidden_channels, num_layers, features):\n",
    "        super(DeeperGCN, self).__init__()\n",
    "\n",
    "        self.node_encoder = nn.Linear(node_dim, hidden_channels)\n",
    "        self.edge_encoder = nn.Linear(edge_dim, hidden_channels)\n",
    "\n",
    "        self.layers = torch.nn.ModuleList()\n",
    "        for i in range(1, num_layers + 1):\n",
    "            conv = pyg_nn.GENConv(hidden_channels, hidden_channels, aggr='softmax',\n",
    "                           t=1.0, learn_t=True, num_layers=2, norm='layer')\n",
    "            norm = nn.LayerNorm(hidden_channels, elementwise_affine=True)\n",
    "            act = nn.ReLU(inplace=True)\n",
    "\n",
    "            layer = pyg_nn.DeepGCNLayer(conv, norm, act, block='res+', dropout=0.1,\n",
    "                                 ckpt_grad=i % 3)\n",
    "            self.layers.append(layer)\n",
    "\n",
    "        self.already_inited = False\n",
    "        self.prev_edge_index = None\n",
    "        self.prev_edge_attr = None\n",
    "\n",
    "        self.feature_encoder = FeatureEncoding(features)\n",
    "        \n",
    "    def forward(self, x, edge_index):\n",
    "        x = self.feature_encoder(x)\n",
    "        x = self.node_encoder(x)\n",
    "\n",
    "        if not self.already_inited or self.prev_edge_index.data_ptr() != edge_index.data_ptr():\n",
    "            edge_index_np = edge_index.cpu().numpy()\n",
    "            val_indices = x_edge_np[edge_index_np[0, :], edge_index_np[1, :]]\n",
    "            vals = x_edge_vals[val_indices, :]\n",
    "            vals = vals.reshape((vals.shape[1], vals.shape[2]))\n",
    "            self.prev_edge_attr = vals.to(dev)\n",
    "            self.prev_edge_index = edge_index\n",
    "            self.already_inited = True\n",
    "        edge_attr = self.edge_encoder(self.prev_edge_attr)\n",
    "\n",
    "        x = self.layers[0].conv(x, edge_index, edge_attr)\n",
    "\n",
    "        for layer in self.layers[1:]:\n",
    "            x = layer(x, edge_index, edge_attr)\n",
    "\n",
    "        x = self.layers[0].act(self.layers[0].norm(x))\n",
    "        # x = F.dropout(x, p=0.1, training=self.training)\n",
    "\n",
    "        return x"
   ],
   "outputs": [],
   "metadata": {}
  },
  {
   "cell_type": "code",
   "execution_count": null,
   "source": [
    "  \n",
    "import numpy as np\n",
    "\n",
    "class TruncatedLoss(nn.Module):\n",
    "\n",
    "    def __init__(self, q=0.7, k=0.5, trainset_size=50000):\n",
    "        super(TruncatedLoss, self).__init__()\n",
    "        self.q = q\n",
    "        self.k = k\n",
    "        self.weight = torch.nn.Parameter(data=torch.ones(trainset_size, 1), requires_grad=False)\n",
    "             \n",
    "    def forward(self, logits, targets, indexes):\n",
    "        indexes = torch.from_numpy(indexes)\n",
    "        p = F.softmax(logits, dim=1)\n",
    "        Yg = torch.gather(p, 1, torch.unsqueeze(targets, 1))\n",
    "\n",
    "        loss = ((1-(Yg**self.q))/self.q)*self.weight[indexes]\n",
    "        loss = torch.mean(loss)\n",
    "\n",
    "        return loss\n",
    "\n",
    "    def update_weight(self, logits, targets, indexes):\n",
    "        indexes = torch.from_numpy(indexes).to(torch.int64)\n",
    "        p = F.softmax(logits, dim=1)\n",
    "        Yg = torch.gather(p, 1, torch.unsqueeze(targets, 1))\n",
    "        Lq = ((1-(Yg**self.q))/self.q)\n",
    "        \n",
    "        Lqk = np.repeat(((1-(self.k**self.q))/self.q), targets.size(0))\n",
    "        Lqk = torch.from_numpy(Lqk).type(torch.cuda.FloatTensor)\n",
    "        Lqk = torch.unsqueeze(Lqk, 1)\n",
    "        condition = torch.gt(Lqk, Lq)\n",
    "        self.weight[indexes] = condition.type(torch.cuda.FloatTensor)\n",
    "    \n",
    "    def update_weight2(self, logits, targets, indexes, min = 0.4, max=0.6):\n",
    "        indexes = torch.from_numpy(indexes)\n",
    "        p = F.softmax(logits, dim=1)\n",
    "        a = torch.gather(p, 1, torch.unsqueeze(targets, 1))\n",
    "        c = a < min \n",
    "        d = a > max\n",
    "        self.weight[indexes] = c.type(torch.cuda.FloatTensor) + d.type(torch.cuda.FloatTensor)\n",
    "\n"
   ],
   "outputs": [],
   "metadata": {}
  },
  {
   "cell_type": "code",
   "execution_count": null,
   "source": [
    "class Encoder(torch.nn.Module):\n",
    "    def __init__(self, in_channels, out_channels, features, n_head = 2, edge_feature_dim = 0,):\n",
    "        super(Encoder, self).__init__()\n",
    "        self.lin = nn.Linear(in_channels, out_channels)\n",
    "        self.conv1 = pyg_nn.GATConv(in_channels, 2* out_channels, heads= n_head) \n",
    "        self.conv2 = pyg_nn.GATConv(2 * n_head *  out_channels , int(out_channels), heads= n_head)\n",
    "        #self.conv3 = pyg_nn.GATConv(2 * n_head *  out_channels , int(out_channels), heads= n_head)\n",
    "        self.conv_gin = pyg_nn.GINConv(\n",
    "            nn.Sequential(nn.Linear(2*out_channels, 2*out_channels), nn.BatchNorm1d(2*out_channels), nn.ReLU(),\n",
    "                       nn.Linear(2*out_channels, 2*out_channels), nn.ReLU()))\n",
    "        # self.conv1 = pyg_nn.SuperGATConv(in_channels, 2 * out_channels, heads= n_head) \n",
    "        # self.conv2 = pyg_nn.SuperGATConv(n_head * 2 * out_channels, out_channels, heads= n_head)\n",
    "        \n",
    "        self.feature_encoder = FeatureEncoding(features)\n",
    "\n",
    "        self.already_inited = False\n",
    "        self.prev_edge_index = None\n",
    "        self.prev_edge_attr = None\n",
    "\n",
    "    def forward(self, x, edge_index):\n",
    "        x = self.feature_encoder(x, dev)\n",
    "        #if not self.already_inited or self.prev_edge_index.data_ptr() != edge_index.data_ptr():\n",
    "        #    edge_index_np = edge_index.cpu().numpy()\n",
    "        #    val_indices = x_edge_np[edge_index_np[0, :], edge_index_np[1, :]]\n",
    "        #    vals = x_edge_vals[val_indices, :]\n",
    "        #    vals = vals.reshape((vals.shape[1], vals.shape[2]))\n",
    "        #    self.prev_edge_attr = vals.to(dev)\n",
    "        #    self.prev_edge_index = edge_index\n",
    "        #    self.already_inited = True\n",
    "        #x = self.lin(x)\n",
    "        x = F.elu(self.conv1(x, edge_index, ))\n",
    "        x = self.conv_gin(x, edge_index)\n",
    "        return self.conv2(x, edge_index)#, self.conv3(x, edge_index)\n",
    "    \n",
    "def randomize_add_noise(train_pos_edge_index, train_neg_edge_index):\n",
    "    pos_len = train_pos_edge_index.shape[1]\n",
    "    neg_len = train_neg_edge_index.shape[1]\n",
    "\n",
    "    pos_res_len = int((pos_len/2) - (pos_len/2) * pos_noise)\n",
    "    neg_res_len = int((neg_len/2) - (neg_len/2) * neg_noise)\n",
    "\n",
    "    all_pos = torch.arange(pos_len).reshape((int(pos_len/2), 2))\n",
    "    pos_keep = torch.randperm(int(pos_len/2))[:pos_res_len]\n",
    "    pos_keep = torch.sort(pos_keep).values\n",
    "    pos_pos_index = torch.flatten(all_pos[pos_keep, :])\n",
    "\n",
    "    all_neg = torch.arange(neg_len).reshape((int(neg_len/2), 2))\n",
    "    neg_keep = torch.randperm(int(neg_len/2))[neg_res_len:]\n",
    "    neg_keep = torch.sort(neg_keep).values\n",
    "    neg_pos_index = torch.flatten(all_neg[neg_keep, :])\n",
    "\n",
    "    pos_res = torch.cat((train_pos_edge_index[:, pos_pos_index], train_neg_edge_index[:, neg_pos_index]), dim=1)\n",
    "    print('orig_shape', train_pos_edge_index.shape)\n",
    "    print('final shape', pos_res.shape)\n",
    "\n",
    "    return pos_res    \n",
    "\n",
    "def train(epoch):\n",
    "    global optimizer, model, decoder, criterion, batch_size, targets, model2\n",
    "    total_loss = 0\n",
    "    tot_l1, tot_reg = 0,0\n",
    "    model.train()\n",
    "\n",
    "    train_pos_edge_index_permed = train_pos_edge_index[:, torch.randperm(train_pos_edge_index.shape[1])]\n",
    "    train_neg_edge_index_permed = train_neg_edge_index[:, torch.randperm(train_neg_edge_index.shape[1])]\n",
    "    # edge_index_seq_sent_neg_permed = edge_index_seq_sent_neg[:, torch.randperm(edge_index_seq_sent_neg.shape[1])]\n",
    "    # edge_index_seq_sent_permed = edge_index_seq_sent[:, torch.randperm(edge_index_seq_sent.shape[1])]\n",
    "\n",
    "    neg_pos_coeff = train_neg_edge_index.shape[1]/ train_pos_edge_index_permed.shape[1]\n",
    "    # seq_coeff = edge_index_seq_sent.shape[1]/ train_pos_edge_index_permed.shape[1]\n",
    "    # seq_coeff_neg = edge_index_seq_sent_neg.shape[1]/ train_pos_edge_index_permed.shape[1]\n",
    "\n",
    "    if (epoch) >= start_prune and (epoch) % 7 == 0:\n",
    "        print('updating weights')\n",
    "        torch.cuda.set_device(div2)  \n",
    "\n",
    "        #gc.collect()\n",
    "        #with torch.no_grad():\n",
    "        #    torch.cuda.empty_cache()\n",
    "\n",
    "        model2 = torch.load('/mounts/work/ayyoob/models/gnn/checkpoint/ckpt.t7.' + str(run), map_location=lambda storage, loc: storage.cuda(div2))['net']\n",
    "        \n",
    "        targets = targets.to(dev)\n",
    "        model2.eval()\n",
    "        z = model2.encode(x.to(dev), train_pos_edge_index.to(dev)) \n",
    "        criterion = criterion.to(dev)\n",
    "        batch_size *= 5\n",
    "        optimizer.zero_grad()\n",
    "        for i in tqdm(range(int(train_pos_edge_index.shape[1]/batch_size)+1)):\n",
    "            input = train_pos_edge_index[:,int(i*batch_size):int(batch_size*(i+1))].to(dev)\n",
    "            output = model2.decode(z, input)\n",
    "            indexes = model2.decoder.val_indices\n",
    "            tgt = torch.ones(input.shape[1], dtype=torch.int64).to(dev)\n",
    "            criterion.update_weight(output, tgt, indexes)\n",
    "        #for i in tqdm(range(int(indices_np.shape[1]/batch_size)+1)):\n",
    "        #    input = indices_np[:, int(i*batch_size):int((i+1)*batch_size)]\n",
    "        #    output = model2.decode(z, torch.from_numpy(input).to(dev))\n",
    "        #    indexes = np.arange(int(i*batch_size),int((i+1)*batch_size))\n",
    "        #    if input.shape[1] < indexes.shape[0]:\n",
    "        #        indexes = indexes[:input.shape[1]]\n",
    "            \n",
    "        #    tgt = targets[indexes]\n",
    "        #    criterion.update_weight2(output, tgt, indexes)\n",
    "\n",
    "        model2 = None\n",
    "        \n",
    "        torch.cuda.set_device(div1) \n",
    "        criterion = criterion.to(dev)\n",
    "        batch_size /= 5\n",
    "        targets = targets.to(dev)\n",
    "\n",
    "        gc.collect()\n",
    "        with torch.no_grad():\n",
    "            torch.cuda.empty_cache()\n",
    "    \n",
    "\n",
    "    \n",
    "    for i in tqdm(range(int(train_pos_edge_index_permed.shape[1]/batch_size)+1)):\n",
    "        optimizer.zero_grad()\n",
    "        z = model.encode(x, train_pos_edge_index) \n",
    "        loss1 = recon_loss(model, z, train_pos_edge_index_permed[:, int(i*batch_size):int((i+1)*batch_size)],\n",
    "                     train_neg_edge_index_permed[:, int(i*batch_size):int((i+1)*batch_size)]) #TODO try providing better neg edges\n",
    "       \n",
    "        loss = loss1 #+ (1 / x.shape[0]) * model.kl_loss() #+ reg_loss #\n",
    "        tot_l1 += loss1\n",
    "        #tot_reg += reg_loss\n",
    "        loss.backward()\n",
    "        optimizer.step()\n",
    "        total_loss += loss.item()\n",
    "\n",
    "        #if epoch > 0:\n",
    "        #    if i  % 80 == 0:\n",
    "        #        alignment_test(epoch, test_dataset.edge_index, editf1, editf2, test_verses, test_nodes_map,\n",
    "        #                dev, model, x_test, pros, surs, verse_alignments_inter, verse_alignments_gdfa, writer)\n",
    "        #        # decoder.set_objective('sequence_prediction')\n",
    "        #        # auc, ap = test(edge_index_seq_sent, edge_index_seq_sent_neg, epoch)\n",
    "        #        # print('Epoch: {:03d}, AUC: {:.4f}, AP: {:.4f}'.format(epoch, auc, ap))\n",
    "        #        # if epoch > 4:\n",
    "        #        #     decoder.set_objective('link_prediction')\n",
    "        #        model.train()\n",
    "        \n",
    "        if (i+1)*batch_size > train_pos_edge_index_permed.shape[1]:\n",
    "            break\n",
    "    print(f'classfication loss, regression loss: ', tot_l1.item())#, tot_reg.item())\n",
    "    #print(f\"sigmas: \", model.decoder.log_vars)\n",
    "    writer.add_scalar(\"loss\", total_loss, epoch)\n",
    "    # print(f\"train loss: {loss.item()}\")\n",
    "\n",
    "def test(pos_edge_index, neg_edge_index, epoch):\n",
    "    model.eval()\n",
    "    tot_auc = tot_ap = 0\n",
    "    with torch.no_grad():\n",
    "        z = model.encode(x_test, torch.cat((train_pos_edge_index, neg_edge_index), dim=1))\n",
    "        \n",
    "        neg_pos_coeff = neg_edge_index.shape[1]/ pos_edge_index.shape[1]\n",
    "        for i in (range(int(pos_edge_index.shape[1]/batch_size)+1)):\n",
    "            auc,ap = model.test(z, pos_edge_index[:, i*batch_size:(i+1)*batch_size],\n",
    "                                neg_edge_index[:, int(i*batch_size*neg_pos_coeff):int((i+1)*batch_size*neg_pos_coeff)])\n",
    "\n",
    "            tot_auc += auc * pos_edge_index[:, i*batch_size:(i+1)*batch_size].shape[1]\n",
    "            tot_ap += ap *  pos_edge_index[:, i*batch_size:(i+1)*batch_size].shape[1]\n",
    "\n",
    "\n",
    "    return tot_auc/pos_edge_index.shape[1], tot_ap/pos_edge_index.shape[1]\n",
    "\n"
   ],
   "outputs": [],
   "metadata": {}
  },
  {
   "cell_type": "code",
   "execution_count": null,
   "source": [
    "from torch_geometric.utils import (negative_sampling, remove_self_loops,\n",
    "                                   add_self_loops)\n",
    "EPS = 1e-15\n",
    "\n",
    "def recon_loss(model, z, pos_edge_index, neg_edge_index=None):\n",
    "    target_len = (pos_edge_index.shape[1], neg_edge_index.shape[1])\n",
    "    if target_len not in target_tensors:\n",
    "        res = torch.zeros(target_len[0]+target_len[1], dtype=torch.int64).to(dev)\n",
    "        res[:target_len[0]] = 1\n",
    "        #res = torch.zeros((target_len[0]+target_len[1], 2), dtype=torch.float).to(dev)\n",
    "        #res[:target_len[0], 1] = 1\n",
    "        #res[target_len[0]:, 0] = 1\n",
    "\n",
    "        target_tensors[target_len] = res\n",
    "\n",
    "    logits = model.decoder(z, torch.cat((pos_edge_index, neg_edge_index), dim=1), sigmoid=False) # I think for truncated loss we should not do the sigmoid\n",
    "    indexes = model.decoder.val_indices\n",
    "    # Do not include self-loops in negative samples\n",
    "    #pos_edge_index, _ = remove_self_loops(pos_edge_index)\n",
    "    #pos_edge_index, _ = add_self_loops(pos_edge_index)\n",
    "    #if neg_edge_index is None:\n",
    "    #    neg_edge_index = negative_sampling(pos_edge_index, z.size(0))\n",
    "    \n",
    "    #neg_res, neg_reg = model.decoder(z, neg_edge_index, sigmoid=True)\n",
    "    #neg_loss = -torch.log(1 - neg_res + EPS).mean()\n",
    "    \n",
    "    #loss_class = pos_loss+neg_loss\n",
    "    #loss_reg = pos_reg+neg_reg\n",
    "\n",
    "    #precision1 = torch.exp(-model.decoder.log_vars[0])\n",
    "    #precision2 = torch.exp(-model.decoder.log_vars[1])\n",
    "\n",
    "    #loss_class = precision1 *loss_class + model.decoder.log_vars[0]\n",
    "    #loss_reg = precision2 *loss_reg + model.decoder.log_vars[1]\n",
    "\n",
    "    #return F.binary_cross_entropy(logits, target_tensors[target_len])\n",
    "    return criterion(logits, target_tensors[target_len], indexes)\n",
    "\n"
   ],
   "outputs": [],
   "metadata": {}
  },
  {
   "cell_type": "code",
   "execution_count": null,
   "source": [
    "class Decoder(nn.Module):\n",
    "    def __init__(self, input_size, hidden_size, edge_features, use_edge_features = False):\n",
    "        super(Decoder, self).__init__()\n",
    "        self.features_size = len(edge_features)\n",
    "\n",
    "        self.transfer0 = nn.Sequential(nn.Linear(input_size , hidden_size*2), nn.ELU(), nn.Dropout(0.05))\n",
    "\n",
    "\n",
    "        #self.transfer1 = nn.Sequential(nn.Linear(hidden_size*2, hidden_size), nn.ELU(), nn.Dropout(drop_out),\n",
    "        #                                                    nn.Linear(hidden_size, 1))\n",
    "\n",
    "        self.transfer2 = nn.Sequential(nn.Linear(hidden_size*2, int(hidden_size)), nn.ELU(), nn.Dropout(0.03),\n",
    "                            nn.Linear(int(hidden_size), 2))\n",
    "        \n",
    "        #self.log_vars = nn.Parameter(torch.zeros((2)))\n",
    "        #self.loss_layer = torch.nn.SmoothL1Loss()\n",
    "        #self.loss_layer = torch.nn.MSELoss()\n",
    "        #self.loss_layer = torch.nn.L1Loss()\n",
    "        self.use_edge_features = use_edge_features\n",
    "        \n",
    "    def forward(self, z, edge_index, sigmoid = True ):\n",
    "\n",
    "        edge_index_np = edge_index.cpu().numpy()\n",
    "        self.val_indices = x_edge_np[edge_index_np[0, :], edge_index_np[1, :]]\n",
    "        self.val_indices = np.squeeze(np.asarray(self.val_indices))\n",
    "        #vals = x_edge_vals_d[val_indices, :]\n",
    "\n",
    "        #features = vals.to(dev)\n",
    "        h1 = z[edge_index[0, :]]\n",
    "        h2 = z[edge_index[1, :]]\n",
    "        \n",
    "        if self.use_edge_features :\n",
    "            res = self.transfer0(torch.cat((h1, h2, features), dim=1))\n",
    "            res = self.transfer1(res)\n",
    "        else:\n",
    "            h = torch.cat((h1, h2), dim=1)#, features), dim=1)\n",
    "            transfered = self.transfer0(h)\n",
    "\n",
    "            res = self.transfer2(transfered)\n",
    "            res = torch.sigmoid(res) if sigmoid else res\n",
    "            \n",
    "            #res_reg = torch.sigmoid(self.transfer1(transfered))\n",
    "            #reg_loss = self.loss_layer(res_reg, features)\n",
    "        return res #reg_loss\n"
   ],
   "outputs": [],
   "metadata": {}
  },
  {
   "cell_type": "code",
   "execution_count": null,
   "source": [
    "import pickle\n",
    "import gnn_utils.graph_utils as gutil\n",
    "importlib.reload(gutil)\n",
    "sys.setrecursionlimit(100000)\n",
    "\n",
    "train_verses = all_verses[:]\n",
    "test_verses = all_verses[:]\n",
    "editf1 = \"eng-x-bible-mixed\"\n",
    "editf2 = 'fra-x-bible-louissegond'\n",
    "\n",
    "small_editions = current_editions[:]\n",
    "#if editf1 not in small_editions:\n",
    "#    small_editions.append[editf1]\n",
    "#if editf2 not in small_editions:\n",
    "#    small_editions.append(editf2)\n",
    "\n",
    "if 'jpn-x-bible-newworld' in small_editions:\n",
    "    small_editions.remove('jpn-x-bible-newworld')\n",
    "if 'grc-x-bible-unaccented' in small_editions:\n",
    "    small_editions.remove('grc-x-bible-unaccented')\n",
    "\n",
    "\n",
    "#train_dataset = torch.load(\"/mounts/work/ayyoob/models/gnn/dataset_eng_fra_full_community.pickle\")\n",
    "train_dataset, train_nodes_map = gutil.create_dataset(train_verses, verse_alignments_inter, small_editions)\n",
    "torch.save(train_dataset, \"/mounts/work/ayyoob/models/gnn/dataset_helfi_train_community.pickle\")\n",
    "features = train_dataset.features\n",
    "train_nodes_map = train_dataset.nodes_map\n",
    "#edge_index_intra_sent = train_dataset.edge_index_intra_sent\n",
    "#test_edge_index_intra_sent = edge_index_intra_sent\n",
    "\n",
    "# test_dataset, test_nodes_map = create_dataset(test_verses, verse_alignments_inter, small_editions)\n",
    "test_dataset, test_nodes_map = train_dataset, train_nodes_map\n",
    "test_verses = train_verses\n",
    "print(train_dataset.x.shape, train_dataset.edge_index.shape, len(train_dataset.features))\n",
    "\n",
    "# augment_features(test_dataset)\n",
    "\n",
    "# x_edge, features_edge = create_edge_attribs(train_nodes_map, train_verses, small_editions, verse_alignments_inter, train_dataset.x.shape[0])\n",
    "# with open(\"./dataset.pickle\", 'wb') as of:\n",
    "#     pickle.dump(train_dataset, of)"
   ],
   "outputs": [
    {
     "output_type": "stream",
     "name": "stderr",
     "text": [
      "/mounts/Users/student/ayyoob/anaconda3/envs/multalign_graph/lib/python3.7/site-packages/gensim/similarities/__init__.py:15: UserWarning: The gensim.similarities.levenshtein submodule is disabled, because the optional Levenshtein package <https://pypi.org/project/python-Levenshtein/> is unavailable. Install Levenhstein (e.g. `pip install python-Levenshtein`) to suppress this warning.\n",
      "  warnings.warn(msg)\n",
      "2021-08-31 19:39:35,337 - analytics - INFO - adding verses\n",
      "2021-08-31 19:41:06,650 - analytics - INFO - augmenting node features\n",
      "2021-08-31 19:41:46,842 - analytics - INFO - adding centrality features, nodes: 1219, edges: 23663\n",
      "2021-08-31 19:41:46,917 - analytics - INFO - adding centrality features, nodes: 1682, edges: 27936\n",
      "2021-08-31 19:41:46,976 - analytics - INFO - adding centrality features, nodes: 1980, edges: 42068\n",
      "2021-08-31 19:41:46,982 - analytics - INFO - adding centrality features, nodes: 2090, edges: 53055\n",
      "2021-08-31 19:41:46,983 - analytics - INFO - adding centrality features, nodes: 1129, edges: 20658\n",
      "2021-08-31 19:41:46,991 - analytics - INFO - adding centrality features, nodes: 2255, edges: 34463\n",
      "2021-08-31 19:41:47,004 - analytics - INFO - adding centrality features, nodes: 2517, edges: 57838\n",
      "2021-08-31 19:41:47,020 - analytics - INFO - adding centrality features, nodes: 2024, edges: 34608\n",
      "2021-08-31 19:41:47,045 - analytics - INFO - adding centrality features, nodes: 2567, edges: 63371\n",
      "2021-08-31 19:41:47,047 - analytics - INFO - adding centrality features, nodes: 2355, edges: 52338\n",
      "2021-08-31 19:41:47,066 - analytics - INFO - adding centrality features, nodes: 1333, edges: 32697\n",
      "2021-08-31 19:41:47,079 - analytics - INFO - adding centrality features, nodes: 2288, edges: 51780\n",
      "2021-08-31 19:41:47,090 - analytics - INFO - adding centrality features, nodes: 2924, edges: 49821\n",
      "2021-08-31 19:41:47,103 - analytics - INFO - adding centrality features, nodes: 2610, edges: 55899\n",
      "2021-08-31 19:41:47,114 - analytics - INFO - adding centrality features, nodes: 1439, edges: 29916\n",
      "2021-08-31 19:41:47,116 - analytics - INFO - adding centrality features, nodes: 2902, edges: 50015\n",
      "2021-08-31 19:41:47,169 - analytics - INFO - adding centrality features, nodes: 2335, edges: 35645\n",
      "2021-08-31 19:41:47,168 - analytics - INFO - adding centrality features, nodes: 1638, edges: 32906\n",
      "2021-08-31 19:41:47,198 - analytics - INFO - adding centrality features, nodes: 2412, edges: 48035\n",
      "2021-08-31 19:41:47,199 - analytics - INFO - adding centrality features, nodes: 1440, edges: 31473\n",
      "2021-08-31 19:41:47,215 - analytics - INFO - adding centrality features, nodes: 1586, edges: 25300\n",
      "2021-08-31 19:41:47,223 - analytics - INFO - adding centrality features, nodes: 2436, edges: 42849\n",
      "2021-08-31 19:41:47,239 - analytics - INFO - adding centrality features, nodes: 1118, edges: 20488\n",
      "2021-08-31 19:41:47,242 - analytics - INFO - adding centrality features, nodes: 1160, edges: 23066\n",
      "2021-08-31 19:41:47,295 - analytics - INFO - adding centrality features, nodes: 1170, edges: 22302\n",
      "2021-08-31 19:41:47,304 - analytics - INFO - adding centrality features, nodes: 2907, edges: 49565\n",
      "2021-08-31 19:41:47,344 - analytics - INFO - adding centrality features, nodes: 3146, edges: 75100\n",
      "2021-08-31 19:41:47,349 - analytics - INFO - adding centrality features, nodes: 1244, edges: 29013\n",
      "2021-08-31 19:41:47,345 - analytics - INFO - adding centrality features, nodes: 2882, edges: 56345\n",
      "2021-08-31 19:41:47,338 - analytics - INFO - adding centrality features, nodes: 1362, edges: 22573\n",
      "2021-08-31 19:41:47,411 - analytics - INFO - adding centrality features, nodes: 1889, edges: 41248\n",
      "2021-08-31 19:41:47,417 - analytics - INFO - adding centrality features, nodes: 1928, edges: 39950\n",
      "2021-08-31 19:41:47,410 - analytics - INFO - adding centrality features, nodes: 2946, edges: 50014\n",
      "2021-08-31 19:41:47,453 - analytics - INFO - adding centrality features, nodes: 1842, edges: 42879\n",
      "2021-08-31 19:41:47,479 - analytics - INFO - adding centrality features, nodes: 1057, edges: 24421\n",
      "2021-08-31 19:41:47,514 - analytics - INFO - adding centrality features, nodes: 1740, edges: 35264\n",
      "2021-08-31 19:41:47,553 - analytics - INFO - adding centrality features, nodes: 1331, edges: 28086\n",
      "2021-08-31 19:41:47,598 - analytics - INFO - adding centrality features, nodes: 1384, edges: 35156\n",
      "2021-08-31 19:41:47,601 - analytics - INFO - adding centrality features, nodes: 1371, edges: 33554\n",
      "2021-08-31 19:41:47,596 - analytics - INFO - adding centrality features, nodes: 1221, edges: 23715\n",
      "2021-08-31 19:41:47,616 - analytics - INFO - adding centrality features, nodes: 985, edges: 16011\n",
      "2021-08-31 19:41:47,644 - analytics - INFO - adding centrality features, nodes: 895, edges: 16666\n",
      "2021-08-31 19:41:47,645 - analytics - INFO - adding centrality features, nodes: 1824, edges: 40567\n",
      "2021-08-31 19:41:47,698 - analytics - INFO - adding centrality features, nodes: 936, edges: 16530\n",
      "2021-08-31 19:41:47,761 - analytics - INFO - adding centrality features, nodes: 901, edges: 20068\n",
      "2021-08-31 19:41:47,734 - analytics - INFO - adding centrality features, nodes: 1835, edges: 34788\n",
      "2021-08-31 19:41:47,788 - analytics - INFO - adding centrality features, nodes: 1490, edges: 37373\n",
      "2021-08-31 19:41:47,777 - analytics - INFO - adding centrality features, nodes: 2531, edges: 41902\n",
      "2021-08-31 19:41:47,814 - analytics - INFO - adding centrality features, nodes: 1742, edges: 37779\n",
      "2021-08-31 19:41:47,826 - analytics - INFO - adding centrality features, nodes: 1048, edges: 26421\n",
      "2021-08-31 19:41:47,853 - analytics - INFO - adding centrality features, nodes: 2146, edges: 42641\n",
      "2021-08-31 19:41:47,822 - analytics - INFO - adding centrality features, nodes: 1315, edges: 24337\n",
      "2021-08-31 19:41:47,974 - analytics - INFO - adding centrality features, nodes: 2008, edges: 47183\n",
      "2021-08-31 19:41:47,958 - analytics - INFO - adding centrality features, nodes: 2137, edges: 57135\n",
      "2021-08-31 19:41:48,023 - analytics - INFO - adding centrality features, nodes: 2854, edges: 50423\n",
      "2021-08-31 19:41:48,126 - analytics - INFO - adding centrality features, nodes: 2725, edges: 48473\n",
      "2021-08-31 19:41:48,181 - analytics - INFO - adding centrality features, nodes: 2766, edges: 55634\n",
      "2021-08-31 19:41:48,130 - analytics - INFO - adding centrality features, nodes: 1977, edges: 37437\n",
      "2021-08-31 19:41:48,221 - analytics - INFO - adding centrality features, nodes: 2018, edges: 45429\n",
      "2021-08-31 19:41:48,247 - analytics - INFO - adding centrality features, nodes: 2371, edges: 47338\n",
      "2021-08-31 19:41:48,280 - analytics - INFO - adding centrality features, nodes: 2892, edges: 45950\n",
      "2021-08-31 19:41:48,310 - analytics - INFO - adding centrality features, nodes: 2148, edges: 44582\n",
      "2021-08-31 19:41:48,285 - analytics - INFO - adding centrality features, nodes: 2174, edges: 35825\n",
      "2021-08-31 19:41:48,380 - analytics - INFO - adding centrality features, nodes: 2174, edges: 43484\n",
      "2021-08-31 19:41:48,386 - analytics - INFO - adding centrality features, nodes: 1386, edges: 23169\n",
      "2021-08-31 19:41:48,441 - analytics - INFO - adding centrality features, nodes: 2140, edges: 47098\n",
      "2021-08-31 19:41:48,538 - analytics - INFO - adding centrality features, nodes: 1737, edges: 36179\n",
      "2021-08-31 19:41:48,611 - analytics - INFO - adding centrality features, nodes: 2731, edges: 48589\n",
      "2021-08-31 19:41:48,584 - analytics - INFO - adding centrality features, nodes: 2409, edges: 47284\n",
      "2021-08-31 19:41:48,604 - analytics - INFO - adding centrality features, nodes: 2524, edges: 52530\n",
      "2021-08-31 19:41:48,620 - analytics - INFO - adding centrality features, nodes: 3029, edges: 45742\n",
      "2021-08-31 19:41:48,655 - analytics - INFO - adding centrality features, nodes: 2133, edges: 44997\n",
      "2021-08-31 19:41:48,661 - analytics - INFO - adding centrality features, nodes: 1300, edges: 22723\n",
      "2021-08-31 19:41:48,640 - analytics - INFO - adding centrality features, nodes: 1440, edges: 33672\n",
      "2021-08-31 19:41:48,647 - analytics - INFO - adding centrality features, nodes: 2062, edges: 31849\n",
      "2021-08-31 19:41:48,744 - analytics - INFO - adding centrality features, nodes: 1165, edges: 20423\n",
      "2021-08-31 19:41:48,748 - analytics - INFO - adding centrality features, nodes: 1455, edges: 29602\n",
      "2021-08-31 19:41:48,709 - analytics - INFO - adding centrality features, nodes: 2161, edges: 50962\n",
      "2021-08-31 19:41:48,802 - analytics - INFO - adding centrality features, nodes: 883, edges: 12782\n",
      "2021-08-31 19:41:48,852 - analytics - INFO - adding centrality features, nodes: 1465, edges: 26385\n",
      "2021-08-31 19:41:48,864 - analytics - INFO - adding centrality features, nodes: 1928, edges: 40926\n",
      "2021-08-31 19:41:48,897 - analytics - INFO - adding centrality features, nodes: 2609, edges: 54706\n",
      "2021-08-31 19:41:48,861 - analytics - INFO - adding centrality features, nodes: 2103, edges: 47245\n",
      "2021-08-31 19:41:48,934 - analytics - INFO - adding centrality features, nodes: 1224, edges: 27157\n",
      "2021-08-31 19:41:48,944 - analytics - INFO - adding centrality features, nodes: 1661, edges: 29850\n",
      "2021-08-31 19:41:48,954 - analytics - INFO - adding centrality features, nodes: 871, edges: 14752\n",
      "2021-08-31 19:41:48,972 - analytics - INFO - adding centrality features, nodes: 1875, edges: 40849\n",
      "2021-08-31 19:41:48,958 - analytics - INFO - adding centrality features, nodes: 1932, edges: 26644\n",
      "2021-08-31 19:41:49,055 - analytics - INFO - adding centrality features, nodes: 939, edges: 24273\n",
      "2021-08-31 19:41:49,118 - analytics - INFO - adding centrality features, nodes: 2755, edges: 52767\n",
      "2021-08-31 19:41:49,126 - analytics - INFO - adding centrality features, nodes: 2186, edges: 46091\n",
      "2021-08-31 19:41:49,147 - analytics - INFO - adding centrality features, nodes: 3417, edges: 55281\n",
      "2021-08-31 19:41:49,163 - analytics - INFO - adding centrality features, nodes: 1884, edges: 48456\n",
      "2021-08-31 19:41:49,211 - analytics - INFO - adding centrality features, nodes: 2967, edges: 60721\n",
      "2021-08-31 19:41:49,185 - analytics - INFO - adding centrality features, nodes: 1252, edges: 22762\n",
      "2021-08-31 19:41:49,267 - analytics - INFO - adding centrality features, nodes: 1653, edges: 33322\n",
      "2021-08-31 19:41:49,472 - analytics - INFO - adding centrality features, nodes: 2307, edges: 47938\n",
      "2021-08-31 19:41:49,427 - analytics - INFO - adding centrality features, nodes: 1875, edges: 45014\n",
      "2021-08-31 19:41:49,543 - analytics - INFO - adding centrality features, nodes: 2362, edges: 49129\n",
      "2021-08-31 19:41:49,556 - analytics - INFO - adding centrality features, nodes: 2038, edges: 48984\n"
     ]
    },
    {
     "output_type": "stream",
     "name": "stdout",
     "text": [
      "creating communities\n",
      "creating communities\n"
     ]
    },
    {
     "output_type": "stream",
     "name": "stderr",
     "text": [
      "2021-08-31 19:43:11,480 - analytics - INFO - adding centrality features, nodes: 2122, edges: 45765\n",
      "2021-08-31 19:43:13,949 - analytics - INFO - adding centrality features, nodes: 1135, edges: 24314\n"
     ]
    },
    {
     "output_type": "stream",
     "name": "stdout",
     "text": [
      "creating communities\n"
     ]
    },
    {
     "output_type": "stream",
     "name": "stderr",
     "text": [
      "2021-08-31 19:43:34,191 - analytics - INFO - adding centrality features, nodes: 1927, edges: 41992\n"
     ]
    },
    {
     "output_type": "stream",
     "name": "stdout",
     "text": [
      "creating communities\n"
     ]
    },
    {
     "output_type": "stream",
     "name": "stderr",
     "text": [
      "2021-08-31 19:43:39,667 - analytics - INFO - adding centrality features, nodes: 1419, edges: 24830\n"
     ]
    },
    {
     "output_type": "stream",
     "name": "stdout",
     "text": [
      "creating communities\n",
      "creating communities\n"
     ]
    },
    {
     "output_type": "stream",
     "name": "stderr",
     "text": [
      "2021-08-31 19:43:48,650 - analytics - INFO - adding centrality features, nodes: 1271, edges: 25705\n",
      "2021-08-31 19:43:51,413 - analytics - INFO - adding centrality features, nodes: 2633, edges: 44026\n"
     ]
    },
    {
     "output_type": "stream",
     "name": "stdout",
     "text": [
      "creating communities\n"
     ]
    },
    {
     "output_type": "stream",
     "name": "stderr",
     "text": [
      "2021-08-31 19:43:56,823 - analytics - INFO - adding centrality features, nodes: 1878, edges: 46757\n"
     ]
    },
    {
     "output_type": "stream",
     "name": "stdout",
     "text": [
      "creating communities\n"
     ]
    },
    {
     "output_type": "stream",
     "name": "stderr",
     "text": [
      "2021-08-31 19:44:13,787 - analytics - INFO - adding centrality features, nodes: 2087, edges: 37945\n"
     ]
    },
    {
     "output_type": "stream",
     "name": "stdout",
     "text": [
      "creating communities\n",
      "creating communities\n"
     ]
    },
    {
     "output_type": "stream",
     "name": "stderr",
     "text": [
      "2021-08-31 19:44:30,539 - analytics - INFO - adding centrality features, nodes: 525, edges: 13774\n",
      "2021-08-31 19:44:33,498 - analytics - INFO - adding centrality features, nodes: 1457, edges: 27235\n"
     ]
    },
    {
     "output_type": "stream",
     "name": "stdout",
     "text": [
      "creating communities\n",
      "creating communities\n"
     ]
    },
    {
     "output_type": "stream",
     "name": "stderr",
     "text": [
      "2021-08-31 19:44:39,978 - analytics - INFO - adding centrality features, nodes: 2296, edges: 49913\n"
     ]
    },
    {
     "output_type": "stream",
     "name": "stdout",
     "text": [
      "creating communities\n",
      "creating communities\n"
     ]
    },
    {
     "output_type": "stream",
     "name": "stderr",
     "text": [
      "2021-08-31 19:44:45,178 - analytics - INFO - adding centrality features, nodes: 1700, edges: 30334\n",
      "2021-08-31 19:44:46,047 - analytics - INFO - adding centrality features, nodes: 1693, edges: 36022\n"
     ]
    },
    {
     "output_type": "stream",
     "name": "stdout",
     "text": [
      "creating communities\n"
     ]
    },
    {
     "output_type": "stream",
     "name": "stderr",
     "text": [
      "2021-08-31 19:44:48,106 - analytics - INFO - adding centrality features, nodes: 1635, edges: 39008\n"
     ]
    },
    {
     "output_type": "stream",
     "name": "stdout",
     "text": [
      "creating communities\n"
     ]
    },
    {
     "output_type": "stream",
     "name": "stderr",
     "text": [
      "2021-08-31 19:44:54,063 - analytics - INFO - adding centrality features, nodes: 1776, edges: 35050\n",
      "2021-08-31 19:44:55,301 - analytics - INFO - adding centrality features, nodes: 2943, edges: 50367\n"
     ]
    },
    {
     "output_type": "stream",
     "name": "stdout",
     "text": [
      "creating communities\n"
     ]
    },
    {
     "output_type": "stream",
     "name": "stderr",
     "text": [
      "2021-08-31 19:45:10,546 - analytics - INFO - adding centrality features, nodes: 2619, edges: 50728\n"
     ]
    },
    {
     "output_type": "stream",
     "name": "stdout",
     "text": [
      "creating communities\n",
      "creating communities\n"
     ]
    },
    {
     "output_type": "stream",
     "name": "stderr",
     "text": [
      "2021-08-31 19:45:18,251 - analytics - INFO - adding centrality features, nodes: 2641, edges: 47591\n",
      "2021-08-31 19:45:18,936 - analytics - INFO - adding centrality features, nodes: 649, edges: 14607\n"
     ]
    },
    {
     "output_type": "stream",
     "name": "stdout",
     "text": [
      "creating communities\n"
     ]
    },
    {
     "output_type": "stream",
     "name": "stderr",
     "text": [
      "2021-08-31 19:45:30,385 - analytics - INFO - adding centrality features, nodes: 1708, edges: 40176\n"
     ]
    },
    {
     "output_type": "stream",
     "name": "stdout",
     "text": [
      "creating communities\n"
     ]
    },
    {
     "output_type": "stream",
     "name": "stderr",
     "text": [
      "2021-08-31 19:45:38,556 - analytics - INFO - adding centrality features, nodes: 1993, edges: 38623\n"
     ]
    },
    {
     "output_type": "stream",
     "name": "stdout",
     "text": [
      "creating communities\n",
      "creating communities\n"
     ]
    },
    {
     "output_type": "stream",
     "name": "stderr",
     "text": [
      "2021-08-31 19:46:01,791 - analytics - INFO - adding centrality features, nodes: 1609, edges: 39824\n"
     ]
    },
    {
     "output_type": "stream",
     "name": "stdout",
     "text": [
      "creating communities\n"
     ]
    },
    {
     "output_type": "stream",
     "name": "stderr",
     "text": [
      "2021-08-31 19:46:06,631 - analytics - INFO - adding centrality features, nodes: 1164, edges: 23272\n"
     ]
    },
    {
     "output_type": "stream",
     "name": "stdout",
     "text": [
      "creating communities\n"
     ]
    },
    {
     "output_type": "stream",
     "name": "stderr",
     "text": [
      "2021-08-31 19:46:10,254 - analytics - INFO - adding centrality features, nodes: 1390, edges: 28753\n"
     ]
    },
    {
     "output_type": "stream",
     "name": "stdout",
     "text": [
      "creating communities\n"
     ]
    },
    {
     "output_type": "stream",
     "name": "stderr",
     "text": [
      "2021-08-31 19:46:15,665 - analytics - INFO - adding centrality features, nodes: 1870, edges: 26947\n"
     ]
    },
    {
     "output_type": "stream",
     "name": "stdout",
     "text": [
      "creating communities\n"
     ]
    },
    {
     "output_type": "stream",
     "name": "stderr",
     "text": [
      "2021-08-31 19:46:20,331 - analytics - INFO - adding centrality features, nodes: 2081, edges: 48895\n",
      "2021-08-31 19:46:20,652 - analytics - INFO - adding centrality features, nodes: 3232, edges: 65653\n"
     ]
    },
    {
     "output_type": "stream",
     "name": "stdout",
     "text": [
      "creating communities\n"
     ]
    },
    {
     "output_type": "stream",
     "name": "stderr",
     "text": [
      "2021-08-31 19:46:31,987 - analytics - INFO - adding centrality features, nodes: 1518, edges: 32625\n"
     ]
    },
    {
     "output_type": "stream",
     "name": "stdout",
     "text": [
      "creating communities\n"
     ]
    },
    {
     "output_type": "stream",
     "name": "stderr",
     "text": [
      "2021-08-31 19:47:09,958 - analytics - INFO - adding centrality features, nodes: 2105, edges: 31634\n"
     ]
    },
    {
     "output_type": "stream",
     "name": "stdout",
     "text": [
      "creating communities\n",
      "creating communities\n",
      "creating communities\n",
      "creating communities\n",
      "creating communities\n"
     ]
    },
    {
     "output_type": "stream",
     "name": "stderr",
     "text": [
      "2021-08-31 19:47:20,321 - analytics - INFO - adding centrality features, nodes: 1930, edges: 37263\n",
      "2021-08-31 19:47:21,591 - analytics - INFO - adding centrality features, nodes: 1986, edges: 31854\n",
      "2021-08-31 19:47:22,168 - analytics - INFO - adding centrality features, nodes: 1472, edges: 30542\n",
      "2021-08-31 19:47:22,328 - analytics - INFO - adding centrality features, nodes: 1685, edges: 25017\n"
     ]
    },
    {
     "output_type": "stream",
     "name": "stdout",
     "text": [
      "creating communities\n"
     ]
    },
    {
     "output_type": "stream",
     "name": "stderr",
     "text": [
      "2021-08-31 19:47:27,244 - analytics - INFO - adding centrality features, nodes: 648, edges: 14869\n"
     ]
    },
    {
     "output_type": "stream",
     "name": "stdout",
     "text": [
      "creating communities\n"
     ]
    },
    {
     "output_type": "stream",
     "name": "stderr",
     "text": [
      "2021-08-31 19:47:33,560 - analytics - INFO - adding centrality features, nodes: 2070, edges: 41947\n",
      "2021-08-31 19:47:36,828 - analytics - INFO - adding centrality features, nodes: 1480, edges: 36210\n"
     ]
    },
    {
     "output_type": "stream",
     "name": "stdout",
     "text": [
      "creating communities\n"
     ]
    },
    {
     "output_type": "stream",
     "name": "stderr",
     "text": [
      "2021-08-31 19:47:55,843 - analytics - INFO - adding centrality features, nodes: 2130, edges: 34295\n"
     ]
    },
    {
     "output_type": "stream",
     "name": "stdout",
     "text": [
      "creating communities\n"
     ]
    },
    {
     "output_type": "stream",
     "name": "stderr",
     "text": [
      "2021-08-31 19:48:18,594 - analytics - INFO - adding centrality features, nodes: 1670, edges: 30879\n"
     ]
    },
    {
     "output_type": "stream",
     "name": "stdout",
     "text": [
      "creating communities\n",
      "creating communities\n"
     ]
    },
    {
     "output_type": "stream",
     "name": "stderr",
     "text": [
      "2021-08-31 19:48:29,973 - analytics - INFO - adding centrality features, nodes: 1802, edges: 38576\n",
      "2021-08-31 19:48:30,963 - analytics - INFO - adding centrality features, nodes: 1359, edges: 27486\n"
     ]
    },
    {
     "output_type": "stream",
     "name": "stdout",
     "text": [
      "creating communities\n"
     ]
    },
    {
     "output_type": "stream",
     "name": "stderr",
     "text": [
      "2021-08-31 19:48:41,874 - analytics - INFO - adding centrality features, nodes: 2144, edges: 40894\n"
     ]
    },
    {
     "output_type": "stream",
     "name": "stdout",
     "text": [
      "creating communities\n",
      "creating communities\n",
      "creating communities\n"
     ]
    },
    {
     "output_type": "stream",
     "name": "stderr",
     "text": [
      "2021-08-31 19:48:53,963 - analytics - INFO - adding centrality features, nodes: 1318, edges: 27523\n",
      "2021-08-31 19:49:01,685 - analytics - INFO - adding centrality features, nodes: 2002, edges: 39653\n",
      "2021-08-31 19:49:06,707 - analytics - INFO - adding centrality features, nodes: 1979, edges: 35654\n"
     ]
    },
    {
     "output_type": "stream",
     "name": "stdout",
     "text": [
      "creating communities\n"
     ]
    },
    {
     "output_type": "stream",
     "name": "stderr",
     "text": [
      "2021-08-31 19:49:17,761 - analytics - INFO - adding centrality features, nodes: 1207, edges: 23559\n"
     ]
    },
    {
     "output_type": "stream",
     "name": "stdout",
     "text": [
      "creating communities\n",
      "creating communities\n"
     ]
    },
    {
     "output_type": "stream",
     "name": "stderr",
     "text": [
      "2021-08-31 19:49:40,981 - analytics - INFO - adding centrality features, nodes: 1150, edges: 21959\n",
      "2021-08-31 19:49:41,557 - analytics - INFO - adding centrality features, nodes: 1331, edges: 22330\n"
     ]
    },
    {
     "output_type": "stream",
     "name": "stdout",
     "text": [
      "creating communities\n",
      "creating communities\n",
      "creating communities\n"
     ]
    },
    {
     "output_type": "stream",
     "name": "stderr",
     "text": [
      "2021-08-31 19:50:01,703 - analytics - INFO - adding centrality features, nodes: 1550, edges: 30870\n",
      "2021-08-31 19:50:07,909 - analytics - INFO - adding centrality features, nodes: 1486, edges: 32887\n",
      "2021-08-31 19:50:08,476 - analytics - INFO - adding centrality features, nodes: 3477, edges: 51324\n"
     ]
    },
    {
     "output_type": "stream",
     "name": "stdout",
     "text": [
      "creating communities\n"
     ]
    },
    {
     "output_type": "stream",
     "name": "stderr",
     "text": [
      "2021-08-31 19:50:22,962 - analytics - INFO - adding centrality features, nodes: 1619, edges: 34480\n"
     ]
    },
    {
     "output_type": "stream",
     "name": "stdout",
     "text": [
      "creating communities\n"
     ]
    },
    {
     "output_type": "stream",
     "name": "stderr",
     "text": [
      "2021-08-31 19:50:54,063 - analytics - INFO - adding centrality features, nodes: 779, edges: 15811\n"
     ]
    },
    {
     "output_type": "stream",
     "name": "stdout",
     "text": [
      "creating communities\n"
     ]
    },
    {
     "output_type": "stream",
     "name": "stderr",
     "text": [
      "2021-08-31 19:51:03,834 - analytics - INFO - adding centrality features, nodes: 1581, edges: 32685\n"
     ]
    },
    {
     "output_type": "stream",
     "name": "stdout",
     "text": [
      "creating communities\n",
      "creating communities\n",
      "creating communities\n"
     ]
    },
    {
     "output_type": "stream",
     "name": "stderr",
     "text": [
      "2021-08-31 19:51:48,504 - analytics - INFO - adding centrality features, nodes: 2119, edges: 30927\n"
     ]
    },
    {
     "output_type": "stream",
     "name": "stdout",
     "text": [
      "creating communities\n"
     ]
    },
    {
     "output_type": "stream",
     "name": "stderr",
     "text": [
      "2021-08-31 19:51:56,041 - analytics - INFO - adding centrality features, nodes: 1812, edges: 31101\n"
     ]
    },
    {
     "output_type": "stream",
     "name": "stdout",
     "text": [
      "creating communities\n"
     ]
    },
    {
     "output_type": "stream",
     "name": "stderr",
     "text": [
      "2021-08-31 19:52:00,079 - analytics - INFO - adding centrality features, nodes: 1184, edges: 19111\n",
      "2021-08-31 19:52:02,548 - analytics - INFO - adding centrality features, nodes: 2923, edges: 64524\n"
     ]
    },
    {
     "output_type": "stream",
     "name": "stdout",
     "text": [
      "creating communities\n",
      "creating communities\n",
      "creating communities\n"
     ]
    },
    {
     "output_type": "stream",
     "name": "stderr",
     "text": [
      "2021-08-31 19:52:11,653 - analytics - INFO - adding centrality features, nodes: 1649, edges: 44171\n",
      "2021-08-31 19:52:13,322 - analytics - INFO - adding centrality features, nodes: 2610, edges: 54034\n",
      "2021-08-31 19:52:15,773 - analytics - INFO - adding centrality features, nodes: 1276, edges: 24657\n"
     ]
    },
    {
     "output_type": "stream",
     "name": "stdout",
     "text": [
      "creating communities\n"
     ]
    },
    {
     "output_type": "stream",
     "name": "stderr",
     "text": [
      "2021-08-31 19:52:19,397 - analytics - INFO - adding centrality features, nodes: 1013, edges: 22573\n"
     ]
    },
    {
     "output_type": "stream",
     "name": "stdout",
     "text": [
      "creating communities\n",
      "creating communities\n",
      "creating communities\n"
     ]
    },
    {
     "output_type": "stream",
     "name": "stderr",
     "text": [
      "2021-08-31 19:52:30,391 - analytics - INFO - adding centrality features, nodes: 2465, edges: 42371\n"
     ]
    },
    {
     "output_type": "stream",
     "name": "stdout",
     "text": [
      "creating communities\n"
     ]
    },
    {
     "output_type": "stream",
     "name": "stderr",
     "text": [
      "2021-08-31 19:52:33,789 - analytics - INFO - adding centrality features, nodes: 2690, edges: 58842\n"
     ]
    },
    {
     "output_type": "stream",
     "name": "stdout",
     "text": [
      "creating communities\n"
     ]
    },
    {
     "output_type": "stream",
     "name": "stderr",
     "text": [
      "2021-08-31 19:52:35,801 - analytics - INFO - adding centrality features, nodes: 2509, edges: 52228\n",
      "2021-08-31 19:52:39,326 - analytics - INFO - adding centrality features, nodes: 2904, edges: 60013\n"
     ]
    },
    {
     "output_type": "stream",
     "name": "stdout",
     "text": [
      "creating communities\n",
      "creating communities\n"
     ]
    },
    {
     "output_type": "stream",
     "name": "stderr",
     "text": [
      "2021-08-31 19:52:41,753 - analytics - INFO - adding centrality features, nodes: 1257, edges: 26154\n"
     ]
    },
    {
     "output_type": "stream",
     "name": "stdout",
     "text": [
      "creating communities\n"
     ]
    },
    {
     "output_type": "stream",
     "name": "stderr",
     "text": [
      "2021-08-31 19:52:45,891 - analytics - INFO - adding centrality features, nodes: 1584, edges: 33506\n",
      "2021-08-31 19:52:52,305 - analytics - INFO - adding centrality features, nodes: 1057, edges: 24174\n",
      "2021-08-31 19:52:53,924 - analytics - INFO - adding centrality features, nodes: 1833, edges: 38731\n"
     ]
    },
    {
     "output_type": "stream",
     "name": "stdout",
     "text": [
      "creating communities\n",
      "creating communities\n"
     ]
    },
    {
     "output_type": "stream",
     "name": "stderr",
     "text": [
      "2021-08-31 19:52:58,184 - analytics - INFO - adding centrality features, nodes: 2324, edges: 50322\n"
     ]
    },
    {
     "output_type": "stream",
     "name": "stdout",
     "text": [
      "creating communities\n",
      "creating communitiescreating communities\n",
      "\n"
     ]
    },
    {
     "output_type": "stream",
     "name": "stderr",
     "text": [
      "2021-08-31 19:53:01,332 - analytics - INFO - adding centrality features, nodes: 1683, edges: 34624\n"
     ]
    },
    {
     "output_type": "stream",
     "name": "stdout",
     "text": [
      "creating communities\n",
      "creating communities\n"
     ]
    },
    {
     "output_type": "stream",
     "name": "stderr",
     "text": [
      "2021-08-31 19:53:10,281 - analytics - INFO - adding centrality features, nodes: 869, edges: 17008\n"
     ]
    },
    {
     "output_type": "stream",
     "name": "stdout",
     "text": [
      "creating communities\n"
     ]
    },
    {
     "output_type": "stream",
     "name": "stderr",
     "text": [
      "2021-08-31 19:53:12,531 - analytics - INFO - adding centrality features, nodes: 1257, edges: 29298\n",
      "2021-08-31 19:53:13,155 - analytics - INFO - adding centrality features, nodes: 2292, edges: 46405\n",
      "2021-08-31 19:53:14,281 - analytics - INFO - adding centrality features, nodes: 2482, edges: 47745\n",
      "2021-08-31 19:53:15,037 - analytics - INFO - adding centrality features, nodes: 1274, edges: 23620\n",
      "2021-08-31 19:53:15,792 - analytics - INFO - adding centrality features, nodes: 1830, edges: 27951\n"
     ]
    },
    {
     "output_type": "stream",
     "name": "stdout",
     "text": [
      "creating communities\n"
     ]
    },
    {
     "output_type": "stream",
     "name": "stderr",
     "text": [
      "2021-08-31 19:53:20,609 - analytics - INFO - adding centrality features, nodes: 2164, edges: 39378\n",
      "2021-08-31 19:53:21,755 - analytics - INFO - adding centrality features, nodes: 1108, edges: 19893\n"
     ]
    },
    {
     "output_type": "stream",
     "name": "stdout",
     "text": [
      "creating communities\n",
      "creating communities\n"
     ]
    },
    {
     "output_type": "stream",
     "name": "stderr",
     "text": [
      "2021-08-31 19:53:42,796 - analytics - INFO - adding centrality features, nodes: 3361, edges: 57794\n"
     ]
    },
    {
     "output_type": "stream",
     "name": "stdout",
     "text": [
      "creating communities\n",
      "creating communities\n"
     ]
    },
    {
     "output_type": "stream",
     "name": "stderr",
     "text": [
      "2021-08-31 19:53:48,755 - analytics - INFO - adding centrality features, nodes: 2648, edges: 44329\n"
     ]
    },
    {
     "output_type": "stream",
     "name": "stdout",
     "text": [
      "creating communities\n",
      "creating communities\n"
     ]
    },
    {
     "output_type": "stream",
     "name": "stderr",
     "text": [
      "2021-08-31 19:54:00,413 - analytics - INFO - adding centrality features, nodes: 2363, edges: 56218\n",
      "2021-08-31 19:54:02,852 - analytics - INFO - adding centrality features, nodes: 1938, edges: 39104\n"
     ]
    },
    {
     "output_type": "stream",
     "name": "stdout",
     "text": [
      "creating communities\n",
      "creating communities\n"
     ]
    },
    {
     "output_type": "stream",
     "name": "stderr",
     "text": [
      "2021-08-31 19:54:09,887 - analytics - INFO - adding centrality features, nodes: 1701, edges: 39258\n",
      "2021-08-31 19:54:11,445 - analytics - INFO - adding centrality features, nodes: 1029, edges: 23092\n"
     ]
    },
    {
     "output_type": "stream",
     "name": "stdout",
     "text": [
      "creating communities\n"
     ]
    },
    {
     "output_type": "stream",
     "name": "stderr",
     "text": [
      "2021-08-31 19:54:13,537 - analytics - INFO - adding centrality features, nodes: 2520, edges: 50176\n",
      "2021-08-31 19:54:18,659 - analytics - INFO - adding centrality features, nodes: 1052, edges: 22062\n"
     ]
    },
    {
     "output_type": "stream",
     "name": "stdout",
     "text": [
      "creating communities\n"
     ]
    },
    {
     "output_type": "stream",
     "name": "stderr",
     "text": [
      "2021-08-31 19:54:22,846 - analytics - INFO - adding centrality features, nodes: 1504, edges: 24754\n"
     ]
    },
    {
     "output_type": "stream",
     "name": "stdout",
     "text": [
      "creating communities\n",
      "creating communities\n"
     ]
    },
    {
     "output_type": "stream",
     "name": "stderr",
     "text": [
      "2021-08-31 19:54:33,673 - analytics - INFO - adding centrality features, nodes: 1384, edges: 25748\n",
      "2021-08-31 19:54:35,184 - analytics - INFO - adding centrality features, nodes: 1243, edges: 27748\n",
      "2021-08-31 19:54:37,337 - analytics - INFO - adding centrality features, nodes: 2411, edges: 50438\n"
     ]
    },
    {
     "output_type": "stream",
     "name": "stdout",
     "text": [
      "creating communities\n",
      "creating communities\n",
      "creating communities\n",
      "creating communities\n",
      "creating communities\n",
      "creating communities\n"
     ]
    },
    {
     "output_type": "stream",
     "name": "stderr",
     "text": [
      "2021-08-31 19:54:49,221 - analytics - INFO - adding centrality features, nodes: 2046, edges: 29125\n",
      "2021-08-31 19:54:49,807 - analytics - INFO - adding centrality features, nodes: 854, edges: 21609\n",
      "2021-08-31 19:54:50,251 - analytics - INFO - adding centrality features, nodes: 2209, edges: 52620\n",
      "2021-08-31 19:54:50,842 - analytics - INFO - adding centrality features, nodes: 2486, edges: 53808\n",
      "2021-08-31 19:54:51,564 - analytics - INFO - adding centrality features, nodes: 1054, edges: 19216\n",
      "2021-08-31 19:54:55,843 - analytics - INFO - adding centrality features, nodes: 1545, edges: 29488\n"
     ]
    },
    {
     "output_type": "stream",
     "name": "stdout",
     "text": [
      "creating communities\n",
      "creating communities\n"
     ]
    },
    {
     "output_type": "stream",
     "name": "stderr",
     "text": [
      "2021-08-31 19:55:07,831 - analytics - INFO - adding centrality features, nodes: 1810, edges: 34750\n",
      "2021-08-31 19:55:17,135 - analytics - INFO - adding centrality features, nodes: 1754, edges: 36167\n"
     ]
    },
    {
     "output_type": "stream",
     "name": "stdout",
     "text": [
      "creating communities\n",
      "creating communities\n"
     ]
    },
    {
     "output_type": "stream",
     "name": "stderr",
     "text": [
      "2021-08-31 19:55:36,400 - analytics - INFO - adding centrality features, nodes: 3448, edges: 81531\n"
     ]
    },
    {
     "output_type": "stream",
     "name": "stdout",
     "text": [
      "creating communities\n",
      "creating communities\n",
      "creating communities\n"
     ]
    },
    {
     "output_type": "stream",
     "name": "stderr",
     "text": [
      "2021-08-31 19:55:41,714 - analytics - INFO - adding centrality features, nodes: 2183, edges: 36581\n"
     ]
    },
    {
     "output_type": "stream",
     "name": "stdout",
     "text": [
      "creating communities\n",
      "creating communities\n"
     ]
    },
    {
     "output_type": "stream",
     "name": "stderr",
     "text": [
      "2021-08-31 19:55:45,804 - analytics - INFO - adding centrality features, nodes: 2342, edges: 39522\n"
     ]
    },
    {
     "output_type": "stream",
     "name": "stdout",
     "text": [
      "creating communities\n",
      "creating communities\n"
     ]
    },
    {
     "output_type": "stream",
     "name": "stderr",
     "text": [
      "2021-08-31 19:55:51,485 - analytics - INFO - adding centrality features, nodes: 1998, edges: 44250\n",
      "2021-08-31 19:55:52,871 - analytics - INFO - adding centrality features, nodes: 2243, edges: 30186\n"
     ]
    },
    {
     "output_type": "stream",
     "name": "stdout",
     "text": [
      "creating communities\n"
     ]
    },
    {
     "output_type": "stream",
     "name": "stderr",
     "text": [
      "2021-08-31 19:55:55,362 - analytics - INFO - adding centrality features, nodes: 2139, edges: 38664\n",
      "2021-08-31 19:55:59,178 - analytics - INFO - adding centrality features, nodes: 2124, edges: 47458\n",
      "2021-08-31 19:56:00,078 - analytics - INFO - adding centrality features, nodes: 2860, edges: 42967\n",
      "2021-08-31 19:56:00,324 - analytics - INFO - adding centrality features, nodes: 1261, edges: 24313\n",
      "2021-08-31 19:56:03,988 - analytics - INFO - adding centrality features, nodes: 1494, edges: 32551\n"
     ]
    },
    {
     "output_type": "stream",
     "name": "stdout",
     "text": [
      "creating communities\n"
     ]
    },
    {
     "output_type": "stream",
     "name": "stderr",
     "text": [
      "2021-08-31 19:56:12,818 - analytics - INFO - adding centrality features, nodes: 1439, edges: 27956\n"
     ]
    },
    {
     "output_type": "stream",
     "name": "stdout",
     "text": [
      "creating communities\n",
      "creating communities\n"
     ]
    },
    {
     "output_type": "stream",
     "name": "stderr",
     "text": [
      "2021-08-31 19:56:22,143 - analytics - INFO - adding centrality features, nodes: 3029, edges: 63276\n"
     ]
    },
    {
     "output_type": "stream",
     "name": "stdout",
     "text": [
      "creating communities\n",
      "creating communities\n"
     ]
    },
    {
     "output_type": "stream",
     "name": "stderr",
     "text": [
      "2021-08-31 19:56:27,021 - analytics - INFO - adding centrality features, nodes: 1729, edges: 38223\n"
     ]
    },
    {
     "output_type": "stream",
     "name": "stdout",
     "text": [
      "creating communities\n"
     ]
    },
    {
     "output_type": "stream",
     "name": "stderr",
     "text": [
      "2021-08-31 19:56:29,930 - analytics - INFO - adding centrality features, nodes: 1904, edges: 37697\n"
     ]
    },
    {
     "output_type": "stream",
     "name": "stdout",
     "text": [
      "creating communities\n",
      "creating communities\n",
      "creating communities\n"
     ]
    },
    {
     "output_type": "stream",
     "name": "stderr",
     "text": [
      "2021-08-31 19:56:39,224 - analytics - INFO - adding centrality features, nodes: 1271, edges: 18332\n"
     ]
    },
    {
     "output_type": "stream",
     "name": "stdout",
     "text": [
      "creating communities\n",
      "creating communities\n"
     ]
    },
    {
     "output_type": "stream",
     "name": "stderr",
     "text": [
      "2021-08-31 19:56:40,284 - analytics - INFO - adding centrality features, nodes: 1858, edges: 38787\n",
      "2021-08-31 19:56:41,501 - analytics - INFO - adding centrality features, nodes: 1181, edges: 27139\n"
     ]
    },
    {
     "output_type": "stream",
     "name": "stdout",
     "text": [
      "creating communities\n",
      "creating communities\n"
     ]
    },
    {
     "output_type": "stream",
     "name": "stderr",
     "text": [
      "2021-08-31 19:56:48,602 - analytics - INFO - adding centrality features, nodes: 1961, edges: 33259\n",
      "2021-08-31 19:56:48,954 - analytics - INFO - adding centrality features, nodes: 2326, edges: 42288\n"
     ]
    },
    {
     "output_type": "stream",
     "name": "stdout",
     "text": [
      "creating communities\n"
     ]
    },
    {
     "output_type": "stream",
     "name": "stderr",
     "text": [
      "2021-08-31 19:56:51,346 - analytics - INFO - adding centrality features, nodes: 1238, edges: 23789\n",
      "2021-08-31 19:56:51,809 - analytics - INFO - adding centrality features, nodes: 760, edges: 16075\n"
     ]
    },
    {
     "output_type": "stream",
     "name": "stdout",
     "text": [
      "creating communities\n"
     ]
    },
    {
     "output_type": "stream",
     "name": "stderr",
     "text": [
      "2021-08-31 19:56:55,377 - analytics - INFO - adding centrality features, nodes: 1660, edges: 35466\n",
      "2021-08-31 19:56:57,255 - analytics - INFO - adding centrality features, nodes: 2350, edges: 48821\n",
      "2021-08-31 19:56:57,538 - analytics - INFO - adding centrality features, nodes: 1465, edges: 28451\n",
      "2021-08-31 19:56:57,581 - analytics - INFO - adding centrality features, nodes: 2792, edges: 43659\n"
     ]
    },
    {
     "output_type": "stream",
     "name": "stdout",
     "text": [
      "creating communities\n",
      "creating communities\n",
      "creating communities\n"
     ]
    },
    {
     "output_type": "stream",
     "name": "stderr",
     "text": [
      "2021-08-31 19:57:18,981 - analytics - INFO - adding centrality features, nodes: 1504, edges: 36461\n",
      "2021-08-31 19:57:22,488 - analytics - INFO - adding centrality features, nodes: 981, edges: 24740\n"
     ]
    },
    {
     "output_type": "stream",
     "name": "stdout",
     "text": [
      "creating communities\n",
      "creating communities\n"
     ]
    },
    {
     "output_type": "stream",
     "name": "stderr",
     "text": [
      "2021-08-31 19:57:26,589 - analytics - INFO - adding centrality features, nodes: 1870, edges: 44355\n"
     ]
    },
    {
     "output_type": "stream",
     "name": "stdout",
     "text": [
      "creating communities\n"
     ]
    },
    {
     "output_type": "stream",
     "name": "stderr",
     "text": [
      "2021-08-31 19:57:29,715 - analytics - INFO - adding centrality features, nodes: 2332, edges: 51836\n"
     ]
    },
    {
     "output_type": "stream",
     "name": "stdout",
     "text": [
      "creating communities\n"
     ]
    },
    {
     "output_type": "stream",
     "name": "stderr",
     "text": [
      "2021-08-31 19:57:37,230 - analytics - INFO - adding centrality features, nodes: 1876, edges: 38551\n",
      "2021-08-31 19:57:41,528 - analytics - INFO - adding centrality features, nodes: 1490, edges: 32431\n"
     ]
    },
    {
     "output_type": "stream",
     "name": "stdout",
     "text": [
      "creating communities\n"
     ]
    },
    {
     "output_type": "stream",
     "name": "stderr",
     "text": [
      "2021-08-31 19:57:51,392 - analytics - INFO - adding centrality features, nodes: 1937, edges: 42375\n",
      "2021-08-31 19:57:54,648 - analytics - INFO - adding centrality features, nodes: 2064, edges: 43181\n"
     ]
    },
    {
     "output_type": "stream",
     "name": "stdout",
     "text": [
      "creating communities\n"
     ]
    },
    {
     "output_type": "stream",
     "name": "stderr",
     "text": [
      "2021-08-31 19:58:20,390 - analytics - INFO - adding centrality features, nodes: 966, edges: 17638\n"
     ]
    },
    {
     "output_type": "stream",
     "name": "stdout",
     "text": [
      "creating communities\n",
      "creating communities\n"
     ]
    },
    {
     "output_type": "stream",
     "name": "stderr",
     "text": [
      "2021-08-31 19:58:33,288 - analytics - INFO - adding centrality features, nodes: 1483, edges: 28971\n"
     ]
    },
    {
     "output_type": "stream",
     "name": "stdout",
     "text": [
      "creating communities\n",
      "creating communities\n",
      "creating communities\n"
     ]
    },
    {
     "output_type": "stream",
     "name": "stderr",
     "text": [
      "2021-08-31 19:58:43,951 - analytics - INFO - adding centrality features, nodes: 2777, edges: 59594\n"
     ]
    },
    {
     "output_type": "stream",
     "name": "stdout",
     "text": [
      "creating communities\n"
     ]
    },
    {
     "output_type": "stream",
     "name": "stderr",
     "text": [
      "2021-08-31 19:58:47,804 - analytics - INFO - adding centrality features, nodes: 1788, edges: 32466\n",
      "2021-08-31 19:58:48,392 - analytics - INFO - adding centrality features, nodes: 2919, edges: 69457\n",
      "2021-08-31 19:58:50,208 - analytics - INFO - adding centrality features, nodes: 2164, edges: 45931\n",
      "2021-08-31 19:58:55,338 - analytics - INFO - adding centrality features, nodes: 1841, edges: 30741\n"
     ]
    },
    {
     "output_type": "stream",
     "name": "stdout",
     "text": [
      "creating communities\n",
      "creating communities\n",
      "creating communities\n"
     ]
    },
    {
     "output_type": "stream",
     "name": "stderr",
     "text": [
      "2021-08-31 19:59:10,111 - analytics - INFO - adding centrality features, nodes: 1407, edges: 26428\n",
      "2021-08-31 19:59:12,131 - analytics - INFO - adding centrality features, nodes: 1225, edges: 21177\n"
     ]
    },
    {
     "output_type": "stream",
     "name": "stdout",
     "text": [
      "creating communities\n"
     ]
    },
    {
     "output_type": "stream",
     "name": "stderr",
     "text": [
      "2021-08-31 19:59:23,350 - analytics - INFO - adding centrality features, nodes: 1974, edges: 35910\n"
     ]
    },
    {
     "output_type": "stream",
     "name": "stdout",
     "text": [
      "creating communities\n"
     ]
    },
    {
     "output_type": "stream",
     "name": "stderr",
     "text": [
      "2021-08-31 19:59:34,376 - analytics - INFO - adding centrality features, nodes: 2169, edges: 32234\n"
     ]
    },
    {
     "output_type": "stream",
     "name": "stdout",
     "text": [
      "creating communities\n"
     ]
    },
    {
     "output_type": "stream",
     "name": "stderr",
     "text": [
      "2021-08-31 19:59:43,972 - analytics - INFO - adding centrality features, nodes: 2296, edges: 50032\n"
     ]
    },
    {
     "output_type": "stream",
     "name": "stdout",
     "text": [
      "creating communities\n",
      "creating communities\n",
      "creating communities\n"
     ]
    },
    {
     "output_type": "stream",
     "name": "stderr",
     "text": [
      "2021-08-31 19:59:48,108 - analytics - INFO - adding centrality features, nodes: 2820, edges: 52693\n",
      "2021-08-31 19:59:51,552 - analytics - INFO - adding centrality features, nodes: 1495, edges: 19592\n",
      "2021-08-31 19:59:59,222 - analytics - INFO - adding centrality features, nodes: 1438, edges: 27371\n"
     ]
    },
    {
     "output_type": "stream",
     "name": "stdout",
     "text": [
      "creating communities\n"
     ]
    },
    {
     "output_type": "stream",
     "name": "stderr",
     "text": [
      "2021-08-31 20:00:01,220 - analytics - INFO - adding centrality features, nodes: 2222, edges: 48275\n"
     ]
    },
    {
     "output_type": "stream",
     "name": "stdout",
     "text": [
      "creating communities\n",
      "creating communities\n",
      "creating communities\n"
     ]
    },
    {
     "output_type": "stream",
     "name": "stderr",
     "text": [
      "2021-08-31 20:00:10,631 - analytics - INFO - adding centrality features, nodes: 2041, edges: 36047\n",
      "2021-08-31 20:00:12,662 - analytics - INFO - adding centrality features, nodes: 1963, edges: 45038\n"
     ]
    },
    {
     "output_type": "stream",
     "name": "stdout",
     "text": [
      "creating communities\n",
      "creating communities\n",
      "creating communities\n"
     ]
    },
    {
     "output_type": "stream",
     "name": "stderr",
     "text": [
      "2021-08-31 20:00:18,920 - analytics - INFO - adding centrality features, nodes: 1444, edges: 34871\n"
     ]
    },
    {
     "output_type": "stream",
     "name": "stdout",
     "text": [
      "creating communities\n",
      "creating communities\n"
     ]
    },
    {
     "output_type": "stream",
     "name": "stderr",
     "text": [
      "2021-08-31 20:00:21,379 - analytics - INFO - adding centrality features, nodes: 1770, edges: 33036\n",
      "2021-08-31 20:00:22,680 - analytics - INFO - adding centrality features, nodes: 1919, edges: 32678\n",
      "2021-08-31 20:00:22,922 - analytics - INFO - adding centrality features, nodes: 2102, edges: 51366\n"
     ]
    },
    {
     "output_type": "stream",
     "name": "stdout",
     "text": [
      "creating communities\n"
     ]
    },
    {
     "output_type": "stream",
     "name": "stderr",
     "text": [
      "2021-08-31 20:00:23,789 - analytics - INFO - adding centrality features, nodes: 2554, edges: 51476\n",
      "2021-08-31 20:00:27,603 - analytics - INFO - adding centrality features, nodes: 1795, edges: 44311\n",
      "2021-08-31 20:00:32,134 - analytics - INFO - adding centrality features, nodes: 1402, edges: 27782\n"
     ]
    },
    {
     "output_type": "stream",
     "name": "stdout",
     "text": [
      "creating communities\n",
      "creating communities\n",
      "creating communities\n"
     ]
    },
    {
     "output_type": "stream",
     "name": "stderr",
     "text": [
      "2021-08-31 20:00:49,648 - analytics - INFO - adding centrality features, nodes: 1254, edges: 28002\n",
      "2021-08-31 20:00:51,803 - analytics - INFO - adding centrality features, nodes: 3500, edges: 72466\n",
      "2021-08-31 20:00:55,761 - analytics - INFO - adding centrality features, nodes: 1575, edges: 31179\n"
     ]
    },
    {
     "output_type": "stream",
     "name": "stdout",
     "text": [
      "creating communities\n",
      "creating communities\n",
      "creating communities\n",
      "creating communities\n",
      "creating communities\n"
     ]
    },
    {
     "output_type": "stream",
     "name": "stderr",
     "text": [
      "2021-08-31 20:01:12,433 - analytics - INFO - adding centrality features, nodes: 2215, edges: 45815\n",
      "2021-08-31 20:01:14,818 - analytics - INFO - adding centrality features, nodes: 1665, edges: 27205\n",
      "2021-08-31 20:01:16,479 - analytics - INFO - adding centrality features, nodes: 1126, edges: 20273\n",
      "2021-08-31 20:01:17,429 - analytics - INFO - adding centrality features, nodes: 1619, edges: 30024\n"
     ]
    },
    {
     "output_type": "stream",
     "name": "stdout",
     "text": [
      "creating communities\n"
     ]
    },
    {
     "output_type": "stream",
     "name": "stderr",
     "text": [
      "2021-08-31 20:01:24,120 - analytics - INFO - adding centrality features, nodes: 1519, edges: 29286\n"
     ]
    },
    {
     "output_type": "stream",
     "name": "stdout",
     "text": [
      "creating communities\n"
     ]
    },
    {
     "output_type": "stream",
     "name": "stderr",
     "text": [
      "2021-08-31 20:01:34,371 - analytics - INFO - adding centrality features, nodes: 1610, edges: 33110\n"
     ]
    },
    {
     "output_type": "stream",
     "name": "stdout",
     "text": [
      "creating communities\n"
     ]
    },
    {
     "output_type": "stream",
     "name": "stderr",
     "text": [
      "2021-08-31 20:01:44,939 - analytics - INFO - adding centrality features, nodes: 2245, edges: 45934\n"
     ]
    },
    {
     "output_type": "stream",
     "name": "stdout",
     "text": [
      "creating communities\n"
     ]
    },
    {
     "output_type": "stream",
     "name": "stderr",
     "text": [
      "2021-08-31 20:01:51,637 - analytics - INFO - adding centrality features, nodes: 1031, edges: 18746\n"
     ]
    },
    {
     "output_type": "stream",
     "name": "stdout",
     "text": [
      "creating communities\n",
      "creating communities\n"
     ]
    },
    {
     "output_type": "stream",
     "name": "stderr",
     "text": [
      "2021-08-31 20:01:59,984 - analytics - INFO - adding centrality features, nodes: 1485, edges: 27158\n",
      "2021-08-31 20:02:07,272 - analytics - INFO - adding centrality features, nodes: 1555, edges: 31480\n",
      "2021-08-31 20:02:07,816 - analytics - INFO - adding centrality features, nodes: 2214, edges: 39867\n"
     ]
    },
    {
     "output_type": "stream",
     "name": "stdout",
     "text": [
      "creating communities\n",
      "creating communities\n"
     ]
    },
    {
     "output_type": "stream",
     "name": "stderr",
     "text": [
      "2021-08-31 20:02:15,002 - analytics - INFO - adding centrality features, nodes: 728, edges: 17397\n"
     ]
    },
    {
     "output_type": "stream",
     "name": "stdout",
     "text": [
      "creating communities\n"
     ]
    },
    {
     "output_type": "stream",
     "name": "stderr",
     "text": [
      "2021-08-31 20:02:17,591 - analytics - INFO - adding centrality features, nodes: 2867, edges: 56797\n"
     ]
    },
    {
     "output_type": "stream",
     "name": "stdout",
     "text": [
      "creating communities\n"
     ]
    },
    {
     "output_type": "stream",
     "name": "stderr",
     "text": [
      "2021-08-31 20:02:20,700 - analytics - INFO - adding centrality features, nodes: 1778, edges: 34877\n",
      "2021-08-31 20:02:25,381 - analytics - INFO - adding centrality features, nodes: 1511, edges: 34227\n"
     ]
    },
    {
     "output_type": "stream",
     "name": "stdout",
     "text": [
      "creating communities\n"
     ]
    },
    {
     "output_type": "stream",
     "name": "stderr",
     "text": [
      "2021-08-31 20:02:36,608 - analytics - INFO - adding centrality features, nodes: 1313, edges: 21146\n",
      "2021-08-31 20:02:42,806 - analytics - INFO - adding centrality features, nodes: 2970, edges: 52317\n"
     ]
    },
    {
     "output_type": "stream",
     "name": "stdout",
     "text": [
      "creating communities\n",
      "creating communities\n",
      "creating communities\n"
     ]
    },
    {
     "output_type": "stream",
     "name": "stderr",
     "text": [
      "2021-08-31 20:03:13,368 - analytics - INFO - adding centrality features, nodes: 1056, edges: 22366\n",
      "2021-08-31 20:03:18,831 - analytics - INFO - adding centrality features, nodes: 2034, edges: 42856\n",
      "2021-08-31 20:03:19,557 - analytics - INFO - adding centrality features, nodes: 1484, edges: 30524\n"
     ]
    },
    {
     "output_type": "stream",
     "name": "stdout",
     "text": [
      "creating communities\n",
      "creating communities\n",
      "creating communities\n",
      "creating communities\n"
     ]
    },
    {
     "output_type": "stream",
     "name": "stderr",
     "text": [
      "2021-08-31 20:03:35,433 - analytics - INFO - adding centrality features, nodes: 1750, edges: 30017\n"
     ]
    },
    {
     "output_type": "stream",
     "name": "stdout",
     "text": [
      "creating communities\n"
     ]
    },
    {
     "output_type": "stream",
     "name": "stderr",
     "text": [
      "2021-08-31 20:03:40,533 - analytics - INFO - adding centrality features, nodes: 1048, edges: 18592\n",
      "2021-08-31 20:03:40,979 - analytics - INFO - adding centrality features, nodes: 650, edges: 13333\n"
     ]
    },
    {
     "output_type": "stream",
     "name": "stdout",
     "text": [
      "creating communities\n",
      "creating communities\n",
      "creating communities\n"
     ]
    },
    {
     "output_type": "stream",
     "name": "stderr",
     "text": [
      "2021-08-31 20:03:46,458 - analytics - INFO - adding centrality features, nodes: 2363, edges: 43720\n"
     ]
    },
    {
     "output_type": "stream",
     "name": "stdout",
     "text": [
      "creating communities\n"
     ]
    },
    {
     "output_type": "stream",
     "name": "stderr",
     "text": [
      "2021-08-31 20:03:49,296 - analytics - INFO - adding centrality features, nodes: 1971, edges: 38328\n",
      "2021-08-31 20:03:51,351 - analytics - INFO - adding centrality features, nodes: 2735, edges: 67701\n"
     ]
    },
    {
     "output_type": "stream",
     "name": "stdout",
     "text": [
      "creating communities\n",
      "creating communities\n"
     ]
    },
    {
     "output_type": "stream",
     "name": "stderr",
     "text": [
      "2021-08-31 20:03:57,800 - analytics - INFO - adding centrality features, nodes: 1665, edges: 33615\n",
      "2021-08-31 20:03:58,404 - analytics - INFO - adding centrality features, nodes: 884, edges: 20044\n",
      "2021-08-31 20:03:59,142 - analytics - INFO - adding centrality features, nodes: 1543, edges: 30180\n"
     ]
    },
    {
     "output_type": "stream",
     "name": "stdout",
     "text": [
      "creating communities\n",
      "creating communities\n"
     ]
    },
    {
     "output_type": "stream",
     "name": "stderr",
     "text": [
      "2021-08-31 20:04:11,087 - analytics - INFO - adding centrality features, nodes: 2357, edges: 39601\n",
      "2021-08-31 20:04:12,230 - analytics - INFO - adding centrality features, nodes: 2223, edges: 46992\n",
      "2021-08-31 20:04:13,480 - analytics - INFO - adding centrality features, nodes: 2033, edges: 44034\n",
      "2021-08-31 20:04:13,983 - analytics - INFO - adding centrality features, nodes: 2493, edges: 38753\n"
     ]
    },
    {
     "output_type": "stream",
     "name": "stdout",
     "text": [
      "creating communities\n",
      "creating communities\n",
      "creating communities\n"
     ]
    },
    {
     "output_type": "stream",
     "name": "stderr",
     "text": [
      "2021-08-31 20:04:20,149 - analytics - INFO - adding centrality features, nodes: 1709, edges: 32715\n",
      "2021-08-31 20:04:20,593 - analytics - INFO - adding centrality features, nodes: 985, edges: 24821\n",
      "2021-08-31 20:04:27,443 - analytics - INFO - adding centrality features, nodes: 1033, edges: 21954\n"
     ]
    },
    {
     "output_type": "stream",
     "name": "stdout",
     "text": [
      "creating communities\n"
     ]
    },
    {
     "output_type": "stream",
     "name": "stderr",
     "text": [
      "2021-08-31 20:04:43,486 - analytics - INFO - adding centrality features, nodes: 1326, edges: 23921\n"
     ]
    },
    {
     "output_type": "stream",
     "name": "stdout",
     "text": [
      "creating communities\n",
      "creating communities\n",
      "creating communities\n"
     ]
    },
    {
     "output_type": "stream",
     "name": "stderr",
     "text": [
      "2021-08-31 20:04:58,661 - analytics - INFO - adding centrality features, nodes: 1916, edges: 43796\n",
      "2021-08-31 20:04:59,420 - analytics - INFO - adding centrality features, nodes: 1455, edges: 31771\n",
      "2021-08-31 20:05:08,054 - analytics - INFO - adding centrality features, nodes: 1399, edges: 28969\n"
     ]
    },
    {
     "output_type": "stream",
     "name": "stdout",
     "text": [
      "creating communities\n",
      "creating communities\n",
      "creating communities\n"
     ]
    },
    {
     "output_type": "stream",
     "name": "stderr",
     "text": [
      "2021-08-31 20:05:24,404 - analytics - INFO - adding centrality features, nodes: 1124, edges: 27818\n",
      "2021-08-31 20:05:24,573 - analytics - INFO - adding centrality features, nodes: 985, edges: 22450\n"
     ]
    },
    {
     "output_type": "stream",
     "name": "stdout",
     "text": [
      "creating communities\n"
     ]
    },
    {
     "output_type": "stream",
     "name": "stderr",
     "text": [
      "2021-08-31 20:05:30,766 - analytics - INFO - adding centrality features, nodes: 3007, edges: 65579\n",
      "2021-08-31 20:05:33,011 - analytics - INFO - adding centrality features, nodes: 1617, edges: 29191\n"
     ]
    },
    {
     "output_type": "stream",
     "name": "stdout",
     "text": [
      "creating communities\n",
      "creating communities\n"
     ]
    },
    {
     "output_type": "stream",
     "name": "stderr",
     "text": [
      "2021-08-31 20:05:48,284 - analytics - INFO - adding centrality features, nodes: 2935, edges: 67624\n"
     ]
    },
    {
     "output_type": "stream",
     "name": "stdout",
     "text": [
      "creating communities\n"
     ]
    },
    {
     "output_type": "stream",
     "name": "stderr",
     "text": [
      "2021-08-31 20:05:52,798 - analytics - INFO - adding centrality features, nodes: 1674, edges: 28404\n"
     ]
    },
    {
     "output_type": "stream",
     "name": "stdout",
     "text": [
      "creating communities\n",
      "creating communities\n"
     ]
    },
    {
     "output_type": "stream",
     "name": "stderr",
     "text": [
      "2021-08-31 20:06:03,522 - analytics - INFO - adding centrality features, nodes: 3652, edges: 67400\n",
      "2021-08-31 20:06:05,802 - analytics - INFO - adding centrality features, nodes: 2083, edges: 46634\n"
     ]
    },
    {
     "output_type": "stream",
     "name": "stdout",
     "text": [
      "creating communities\n"
     ]
    },
    {
     "output_type": "stream",
     "name": "stderr",
     "text": [
      "2021-08-31 20:06:09,127 - analytics - INFO - adding centrality features, nodes: 743, edges: 16544\n"
     ]
    },
    {
     "output_type": "stream",
     "name": "stdout",
     "text": [
      "creating communities\n"
     ]
    },
    {
     "output_type": "stream",
     "name": "stderr",
     "text": [
      "2021-08-31 20:06:16,039 - analytics - INFO - adding centrality features, nodes: 1700, edges: 32512\n"
     ]
    },
    {
     "output_type": "stream",
     "name": "stdout",
     "text": [
      "creating communities\n"
     ]
    },
    {
     "output_type": "stream",
     "name": "stderr",
     "text": [
      "2021-08-31 20:06:29,981 - analytics - INFO - adding centrality features, nodes: 2672, edges: 43441\n"
     ]
    },
    {
     "output_type": "stream",
     "name": "stdout",
     "text": [
      "creating communities\n",
      "creating communities\n"
     ]
    },
    {
     "output_type": "stream",
     "name": "stderr",
     "text": [
      "2021-08-31 20:06:32,453 - analytics - INFO - adding centrality features, nodes: 3383, edges: 69282\n",
      "2021-08-31 20:06:35,813 - analytics - INFO - adding centrality features, nodes: 1688, edges: 29891\n",
      "2021-08-31 20:06:40,633 - analytics - INFO - adding centrality features, nodes: 1370, edges: 33075\n"
     ]
    },
    {
     "output_type": "stream",
     "name": "stdout",
     "text": [
      "creating communities\n",
      "creating communities\n",
      "creating communities\n",
      "creating communities\n",
      "creating communities\n"
     ]
    },
    {
     "output_type": "stream",
     "name": "stderr",
     "text": [
      "2021-08-31 20:06:54,285 - analytics - INFO - adding centrality features, nodes: 1948, edges: 40370\n"
     ]
    },
    {
     "output_type": "stream",
     "name": "stdout",
     "text": [
      "creating communities\n",
      "creating communities\n"
     ]
    },
    {
     "output_type": "stream",
     "name": "stderr",
     "text": [
      "2021-08-31 20:07:00,988 - analytics - INFO - adding centrality features, nodes: 2480, edges: 31402\n",
      "2021-08-31 20:07:01,658 - analytics - INFO - adding centrality features, nodes: 1427, edges: 36010\n",
      "2021-08-31 20:07:02,470 - analytics - INFO - adding centrality features, nodes: 2484, edges: 39876\n",
      "2021-08-31 20:07:04,502 - analytics - INFO - adding centrality features, nodes: 2115, edges: 35679\n"
     ]
    },
    {
     "output_type": "stream",
     "name": "stdout",
     "text": [
      "creating communities\n"
     ]
    },
    {
     "output_type": "stream",
     "name": "stderr",
     "text": [
      "2021-08-31 20:07:07,847 - analytics - INFO - adding centrality features, nodes: 1211, edges: 24332\n",
      "2021-08-31 20:07:08,302 - analytics - INFO - adding centrality features, nodes: 1290, edges: 22041\n"
     ]
    },
    {
     "output_type": "stream",
     "name": "stdout",
     "text": [
      "creating communities\n",
      "creating communities\n"
     ]
    },
    {
     "output_type": "stream",
     "name": "stderr",
     "text": [
      "2021-08-31 20:07:11,955 - analytics - INFO - adding centrality features, nodes: 2689, edges: 52404\n"
     ]
    },
    {
     "output_type": "stream",
     "name": "stdout",
     "text": [
      "creating communities\n"
     ]
    },
    {
     "output_type": "stream",
     "name": "stderr",
     "text": [
      "2021-08-31 20:07:17,313 - analytics - INFO - adding centrality features, nodes: 894, edges: 18187\n"
     ]
    },
    {
     "output_type": "stream",
     "name": "stdout",
     "text": [
      "creating communities\n"
     ]
    },
    {
     "output_type": "stream",
     "name": "stderr",
     "text": [
      "2021-08-31 20:07:19,696 - analytics - INFO - adding centrality features, nodes: 2324, edges: 50600\n"
     ]
    },
    {
     "output_type": "stream",
     "name": "stdout",
     "text": [
      "creating communities\n",
      "creating communities\n"
     ]
    },
    {
     "output_type": "stream",
     "name": "stderr",
     "text": [
      "2021-08-31 20:07:23,492 - analytics - INFO - adding centrality features, nodes: 944, edges: 16416\n",
      "2021-08-31 20:07:25,088 - analytics - INFO - adding centrality features, nodes: 1028, edges: 21981\n",
      "2021-08-31 20:07:26,990 - analytics - INFO - adding centrality features, nodes: 3676, edges: 82581\n",
      "2021-08-31 20:07:31,471 - analytics - INFO - adding centrality features, nodes: 2479, edges: 35509\n"
     ]
    },
    {
     "output_type": "stream",
     "name": "stdout",
     "text": [
      "creating communities\n",
      "creating communities\n",
      "creating communities\n"
     ]
    },
    {
     "output_type": "stream",
     "name": "stderr",
     "text": [
      "2021-08-31 20:07:55,372 - analytics - INFO - adding centrality features, nodes: 1804, edges: 41882\n"
     ]
    },
    {
     "output_type": "stream",
     "name": "stdout",
     "text": [
      "creating communities\n"
     ]
    },
    {
     "output_type": "stream",
     "name": "stderr",
     "text": [
      "2021-08-31 20:07:57,055 - analytics - INFO - adding centrality features, nodes: 1585, edges: 32877\n",
      "2021-08-31 20:08:06,948 - analytics - INFO - adding centrality features, nodes: 2235, edges: 35486\n",
      "2021-08-31 20:08:07,915 - analytics - INFO - adding centrality features, nodes: 2011, edges: 52984\n"
     ]
    },
    {
     "output_type": "stream",
     "name": "stdout",
     "text": [
      "creating communities\n"
     ]
    },
    {
     "output_type": "stream",
     "name": "stderr",
     "text": [
      "2021-08-31 20:08:31,224 - analytics - INFO - adding centrality features, nodes: 2868, edges: 68353\n"
     ]
    },
    {
     "output_type": "stream",
     "name": "stdout",
     "text": [
      "creating communities\n",
      "creating communities\n",
      "creating communities\n",
      "creating communities\n"
     ]
    },
    {
     "output_type": "stream",
     "name": "stderr",
     "text": [
      "2021-08-31 20:08:38,513 - analytics - INFO - adding centrality features, nodes: 2051, edges: 38430\n",
      "2021-08-31 20:08:44,678 - analytics - INFO - adding centrality features, nodes: 1207, edges: 25655\n"
     ]
    },
    {
     "output_type": "stream",
     "name": "stdout",
     "text": [
      "creating communities\n",
      "creating communities\n"
     ]
    },
    {
     "output_type": "stream",
     "name": "stderr",
     "text": [
      "2021-08-31 20:08:47,170 - analytics - INFO - adding centrality features, nodes: 2470, edges: 34238\n"
     ]
    },
    {
     "output_type": "stream",
     "name": "stdout",
     "text": [
      "creating communities\n",
      "creating communities\n"
     ]
    },
    {
     "output_type": "stream",
     "name": "stderr",
     "text": [
      "2021-08-31 20:08:50,907 - analytics - INFO - adding centrality features, nodes: 1287, edges: 22706\n",
      "2021-08-31 20:08:51,099 - analytics - INFO - adding centrality features, nodes: 1036, edges: 23388\n"
     ]
    },
    {
     "output_type": "stream",
     "name": "stdout",
     "text": [
      "creating communities\n"
     ]
    },
    {
     "output_type": "stream",
     "name": "stderr",
     "text": [
      "2021-08-31 20:08:54,447 - analytics - INFO - adding centrality features, nodes: 1534, edges: 29774\n"
     ]
    },
    {
     "output_type": "stream",
     "name": "stdout",
     "text": [
      "creating communities\n"
     ]
    },
    {
     "output_type": "stream",
     "name": "stderr",
     "text": [
      "2021-08-31 20:08:57,731 - analytics - INFO - adding centrality features, nodes: 2322, edges: 40521\n",
      "2021-08-31 20:08:59,346 - analytics - INFO - adding centrality features, nodes: 1306, edges: 22471\n"
     ]
    },
    {
     "output_type": "stream",
     "name": "stdout",
     "text": [
      "creating communities\n"
     ]
    },
    {
     "output_type": "stream",
     "name": "stderr",
     "text": [
      "2021-08-31 20:09:03,287 - analytics - INFO - adding centrality features, nodes: 771, edges: 16856\n",
      "2021-08-31 20:09:03,538 - analytics - INFO - adding centrality features, nodes: 1558, edges: 23874\n",
      "2021-08-31 20:09:03,576 - analytics - INFO - adding centrality features, nodes: 1530, edges: 32818\n"
     ]
    },
    {
     "output_type": "stream",
     "name": "stdout",
     "text": [
      "creating communities\n",
      "creating communities\n"
     ]
    },
    {
     "output_type": "stream",
     "name": "stderr",
     "text": [
      "2021-08-31 20:09:20,390 - analytics - INFO - adding centrality features, nodes: 1880, edges: 39601\n"
     ]
    },
    {
     "output_type": "stream",
     "name": "stdout",
     "text": [
      "creating communities\n",
      "creating communities\n"
     ]
    },
    {
     "output_type": "stream",
     "name": "stderr",
     "text": [
      "2021-08-31 20:09:36,427 - analytics - INFO - adding centrality features, nodes: 2196, edges: 41411\n",
      "2021-08-31 20:09:39,809 - analytics - INFO - adding centrality features, nodes: 2846, edges: 53563\n"
     ]
    },
    {
     "output_type": "stream",
     "name": "stdout",
     "text": [
      "creating communities\n"
     ]
    },
    {
     "output_type": "stream",
     "name": "stderr",
     "text": [
      "2021-08-31 20:09:41,723 - analytics - INFO - adding centrality features, nodes: 1786, edges: 27670\n",
      "2021-08-31 20:09:53,236 - analytics - INFO - adding centrality features, nodes: 1154, edges: 20681\n"
     ]
    },
    {
     "output_type": "stream",
     "name": "stdout",
     "text": [
      "creating communities\n"
     ]
    },
    {
     "output_type": "stream",
     "name": "stderr",
     "text": [
      "2021-08-31 20:09:59,327 - analytics - INFO - adding centrality features, nodes: 1480, edges: 32959\n"
     ]
    },
    {
     "output_type": "stream",
     "name": "stdout",
     "text": [
      "creating communities\n",
      "creating communities\n",
      "creating communities\n",
      "creating communities\n"
     ]
    },
    {
     "output_type": "stream",
     "name": "stderr",
     "text": [
      "2021-08-31 20:10:08,473 - analytics - INFO - adding centrality features, nodes: 1665, edges: 27107\n"
     ]
    },
    {
     "output_type": "stream",
     "name": "stdout",
     "text": [
      "creating communities\n",
      "creating communities\n",
      "creating communities\n"
     ]
    },
    {
     "output_type": "stream",
     "name": "stderr",
     "text": [
      "2021-08-31 20:10:17,070 - analytics - INFO - adding centrality features, nodes: 828, edges: 20427\n",
      "2021-08-31 20:10:17,096 - analytics - INFO - adding centrality features, nodes: 1474, edges: 26362\n"
     ]
    },
    {
     "output_type": "stream",
     "name": "stdout",
     "text": [
      "creating communities\n"
     ]
    },
    {
     "output_type": "stream",
     "name": "stderr",
     "text": [
      "2021-08-31 20:10:19,822 - analytics - INFO - adding centrality features, nodes: 1364, edges: 28077\n",
      "2021-08-31 20:10:21,373 - analytics - INFO - adding centrality features, nodes: 2096, edges: 40447\n"
     ]
    },
    {
     "output_type": "stream",
     "name": "stdout",
     "text": [
      "creating communities\n",
      "creating communities\n"
     ]
    },
    {
     "output_type": "stream",
     "name": "stderr",
     "text": [
      "2021-08-31 20:10:26,268 - analytics - INFO - adding centrality features, nodes: 2303, edges: 41193\n",
      "2021-08-31 20:10:26,738 - analytics - INFO - adding centrality features, nodes: 1925, edges: 44476\n",
      "2021-08-31 20:10:30,418 - analytics - INFO - adding centrality features, nodes: 3397, edges: 39036\n",
      "2021-08-31 20:10:31,049 - analytics - INFO - adding centrality features, nodes: 2299, edges: 50489\n"
     ]
    },
    {
     "output_type": "stream",
     "name": "stdout",
     "text": [
      "creating communities\n"
     ]
    },
    {
     "output_type": "stream",
     "name": "stderr",
     "text": [
      "2021-08-31 20:10:37,985 - analytics - INFO - adding centrality features, nodes: 2884, edges: 47497\n"
     ]
    },
    {
     "output_type": "stream",
     "name": "stdout",
     "text": [
      "creating communities\n"
     ]
    },
    {
     "output_type": "stream",
     "name": "stderr",
     "text": [
      "2021-08-31 20:10:43,206 - analytics - INFO - adding centrality features, nodes: 1850, edges: 31478\n"
     ]
    },
    {
     "output_type": "stream",
     "name": "stdout",
     "text": [
      "creating communities\n",
      "creating communities\n"
     ]
    },
    {
     "output_type": "stream",
     "name": "stderr",
     "text": [
      "2021-08-31 20:10:48,793 - analytics - INFO - adding centrality features, nodes: 1822, edges: 39991\n"
     ]
    },
    {
     "output_type": "stream",
     "name": "stdout",
     "text": [
      "creating communities\n"
     ]
    },
    {
     "output_type": "stream",
     "name": "stderr",
     "text": [
      "2021-08-31 20:10:52,419 - analytics - INFO - adding centrality features, nodes: 1460, edges: 32477\n",
      "2021-08-31 20:10:57,480 - analytics - INFO - adding centrality features, nodes: 1126, edges: 18996\n",
      "2021-08-31 20:11:08,181 - analytics - INFO - adding centrality features, nodes: 1567, edges: 28859\n"
     ]
    },
    {
     "output_type": "stream",
     "name": "stdout",
     "text": [
      "creating communities\n",
      "creating communities\n",
      "creating communities\n"
     ]
    },
    {
     "output_type": "stream",
     "name": "stderr",
     "text": [
      "2021-08-31 20:11:18,159 - analytics - INFO - adding centrality features, nodes: 3055, edges: 50540\n",
      "2021-08-31 20:11:18,748 - analytics - INFO - adding centrality features, nodes: 1382, edges: 25542\n",
      "2021-08-31 20:11:23,587 - analytics - INFO - adding centrality features, nodes: 922, edges: 20408\n"
     ]
    },
    {
     "output_type": "stream",
     "name": "stdout",
     "text": [
      "creating communities\n",
      "creating communities\n",
      "creating communities\n",
      "creating communities\n",
      "creating communities\n",
      "creating communities\n"
     ]
    },
    {
     "output_type": "stream",
     "name": "stderr",
     "text": [
      "2021-08-31 20:11:40,841 - analytics - INFO - adding centrality features, nodes: 2379, edges: 45214\n"
     ]
    },
    {
     "output_type": "stream",
     "name": "stdout",
     "text": [
      "creating communities\n"
     ]
    },
    {
     "output_type": "stream",
     "name": "stderr",
     "text": [
      "2021-08-31 20:11:44,841 - analytics - INFO - adding centrality features, nodes: 1452, edges: 24086\n",
      "2021-08-31 20:11:45,395 - analytics - INFO - adding centrality features, nodes: 2391, edges: 40443\n",
      "2021-08-31 20:11:49,045 - analytics - INFO - adding centrality features, nodes: 1421, edges: 23486\n"
     ]
    },
    {
     "output_type": "stream",
     "name": "stdout",
     "text": [
      "creating communities\n"
     ]
    },
    {
     "output_type": "stream",
     "name": "stderr",
     "text": [
      "2021-08-31 20:11:55,788 - analytics - INFO - adding centrality features, nodes: 1749, edges: 28831\n",
      "2021-08-31 20:11:58,719 - analytics - INFO - adding centrality features, nodes: 1646, edges: 43537\n",
      "2021-08-31 20:12:04,987 - analytics - INFO - adding centrality features, nodes: 1818, edges: 28397\n"
     ]
    },
    {
     "output_type": "stream",
     "name": "stdout",
     "text": [
      "creating communities\n"
     ]
    },
    {
     "output_type": "stream",
     "name": "stderr",
     "text": [
      "2021-08-31 20:12:14,516 - analytics - INFO - adding centrality features, nodes: 1838, edges: 36646\n",
      "2021-08-31 20:12:15,803 - analytics - INFO - adding centrality features, nodes: 2515, edges: 42738\n"
     ]
    },
    {
     "output_type": "stream",
     "name": "stdout",
     "text": [
      "creating communities\n",
      "creating communities\n",
      "creating communities\n"
     ]
    },
    {
     "output_type": "stream",
     "name": "stderr",
     "text": [
      "2021-08-31 20:12:25,723 - analytics - INFO - adding centrality features, nodes: 2689, edges: 66276\n"
     ]
    },
    {
     "output_type": "stream",
     "name": "stdout",
     "text": [
      "creating communities\n"
     ]
    },
    {
     "output_type": "stream",
     "name": "stderr",
     "text": [
      "2021-08-31 20:12:27,375 - analytics - INFO - adding centrality features, nodes: 3283, edges: 64069\n",
      "2021-08-31 20:12:28,250 - analytics - INFO - adding centrality features, nodes: 783, edges: 16203\n",
      "2021-08-31 20:12:34,412 - analytics - INFO - adding centrality features, nodes: 1400, edges: 23245\n"
     ]
    },
    {
     "output_type": "stream",
     "name": "stdout",
     "text": [
      "creating communities\n",
      "creating communities\n",
      "creating communities\n"
     ]
    },
    {
     "output_type": "stream",
     "name": "stderr",
     "text": [
      "2021-08-31 20:12:51,997 - analytics - INFO - adding centrality features, nodes: 1645, edges: 27615\n"
     ]
    },
    {
     "output_type": "stream",
     "name": "stdout",
     "text": [
      "creating communities\n"
     ]
    },
    {
     "output_type": "stream",
     "name": "stderr",
     "text": [
      "2021-08-31 20:13:01,103 - analytics - INFO - adding centrality features, nodes: 1126, edges: 25083\n",
      "2021-08-31 20:13:06,049 - analytics - INFO - adding centrality features, nodes: 1397, edges: 21768\n",
      "2021-08-31 20:13:06,555 - analytics - INFO - adding centrality features, nodes: 2807, edges: 58858\n"
     ]
    },
    {
     "output_type": "stream",
     "name": "stdout",
     "text": [
      "creating communities\n",
      "creating communities\n",
      "creating communities\n"
     ]
    },
    {
     "output_type": "stream",
     "name": "stderr",
     "text": [
      "2021-08-31 20:13:28,329 - analytics - INFO - adding centrality features, nodes: 1473, edges: 32638\n",
      "2021-08-31 20:13:30,974 - analytics - INFO - adding centrality features, nodes: 2226, edges: 35274\n"
     ]
    },
    {
     "output_type": "stream",
     "name": "stdout",
     "text": [
      "creating communities\n",
      "creating communities\n",
      "creating communities\n"
     ]
    },
    {
     "output_type": "stream",
     "name": "stderr",
     "text": [
      "2021-08-31 20:13:39,253 - analytics - INFO - adding centrality features, nodes: 1268, edges: 28788\n",
      "2021-08-31 20:13:40,108 - analytics - INFO - adding centrality features, nodes: 2044, edges: 33316\n"
     ]
    },
    {
     "output_type": "stream",
     "name": "stdout",
     "text": [
      "creating communities\n"
     ]
    },
    {
     "output_type": "stream",
     "name": "stderr",
     "text": [
      "2021-08-31 20:13:44,622 - analytics - INFO - adding centrality features, nodes: 2158, edges: 40025\n"
     ]
    },
    {
     "output_type": "stream",
     "name": "stdout",
     "text": [
      "creating communities\n",
      "creating communities\n"
     ]
    },
    {
     "output_type": "stream",
     "name": "stderr",
     "text": [
      "2021-08-31 20:13:48,965 - analytics - INFO - adding centrality features, nodes: 1956, edges: 41259\n"
     ]
    },
    {
     "output_type": "stream",
     "name": "stdout",
     "text": [
      "creating communities\n"
     ]
    },
    {
     "output_type": "stream",
     "name": "stderr",
     "text": [
      "2021-08-31 20:13:51,480 - analytics - INFO - adding centrality features, nodes: 1809, edges: 38353\n",
      "2021-08-31 20:13:55,466 - analytics - INFO - adding centrality features, nodes: 3038, edges: 71944\n",
      "2021-08-31 20:13:59,283 - analytics - INFO - adding centrality features, nodes: 1031, edges: 26770\n"
     ]
    },
    {
     "output_type": "stream",
     "name": "stdout",
     "text": [
      "creating communities\n",
      "creating communities\n"
     ]
    },
    {
     "output_type": "stream",
     "name": "stderr",
     "text": [
      "2021-08-31 20:14:04,972 - analytics - INFO - adding centrality features, nodes: 1290, edges: 19989\n",
      "2021-08-31 20:14:10,754 - analytics - INFO - adding centrality features, nodes: 2303, edges: 41954\n",
      "2021-08-31 20:14:14,010 - analytics - INFO - adding centrality features, nodes: 1771, edges: 34841\n"
     ]
    },
    {
     "output_type": "stream",
     "name": "stdout",
     "text": [
      "creating communities\n",
      "creating communities\n",
      "creating communities\n"
     ]
    },
    {
     "output_type": "stream",
     "name": "stderr",
     "text": [
      "2021-08-31 20:14:39,641 - analytics - INFO - adding centrality features, nodes: 1876, edges: 45017\n",
      "2021-08-31 20:14:40,599 - analytics - INFO - adding centrality features, nodes: 1987, edges: 32948\n",
      "2021-08-31 20:14:47,992 - analytics - INFO - adding centrality features, nodes: 1280, edges: 26859\n"
     ]
    },
    {
     "output_type": "stream",
     "name": "stdout",
     "text": [
      "creating communities\n"
     ]
    },
    {
     "output_type": "stream",
     "name": "stderr",
     "text": [
      "2021-08-31 20:15:00,370 - analytics - INFO - adding centrality features, nodes: 3255, edges: 46592\n"
     ]
    },
    {
     "output_type": "stream",
     "name": "stdout",
     "text": [
      "creating communities\n"
     ]
    },
    {
     "output_type": "stream",
     "name": "stderr",
     "text": [
      "2021-08-31 20:15:09,695 - analytics - INFO - adding centrality features, nodes: 1006, edges: 24917\n"
     ]
    },
    {
     "output_type": "stream",
     "name": "stdout",
     "text": [
      "creating communities\n",
      "creating communities\n",
      "creating communities\n",
      "creating communities\n",
      "creating communities\n",
      "creating communities\n"
     ]
    },
    {
     "output_type": "stream",
     "name": "stderr",
     "text": [
      "2021-08-31 20:15:23,401 - analytics - INFO - adding centrality features, nodes: 1057, edges: 23316\n",
      "2021-08-31 20:15:28,789 - analytics - INFO - adding centrality features, nodes: 1755, edges: 44008\n",
      "2021-08-31 20:15:29,215 - analytics - INFO - adding centrality features, nodes: 2697, edges: 49883\n",
      "2021-08-31 20:15:31,967 - analytics - INFO - adding centrality features, nodes: 1133, edges: 26495\n",
      "2021-08-31 20:15:35,372 - analytics - INFO - adding centrality features, nodes: 1591, edges: 28353\n"
     ]
    },
    {
     "output_type": "stream",
     "name": "stdout",
     "text": [
      "creating communities\n"
     ]
    },
    {
     "output_type": "stream",
     "name": "stderr",
     "text": [
      "2021-08-31 20:15:36,853 - analytics - INFO - adding centrality features, nodes: 1797, edges: 33283\n"
     ]
    },
    {
     "output_type": "stream",
     "name": "stdout",
     "text": [
      "creating communities\n"
     ]
    },
    {
     "output_type": "stream",
     "name": "stderr",
     "text": [
      "2021-08-31 20:15:44,696 - analytics - INFO - adding centrality features, nodes: 1806, edges: 31490\n",
      "2021-08-31 20:15:50,838 - analytics - INFO - adding centrality features, nodes: 1468, edges: 32182\n"
     ]
    },
    {
     "output_type": "stream",
     "name": "stdout",
     "text": [
      "creating communities\n"
     ]
    },
    {
     "output_type": "stream",
     "name": "stderr",
     "text": [
      "2021-08-31 20:15:58,153 - analytics - INFO - adding centrality features, nodes: 1206, edges: 28401\n"
     ]
    },
    {
     "output_type": "stream",
     "name": "stdout",
     "text": [
      "creating communities\n",
      "creating communities\n",
      "creating communities\n",
      "creating communities\n"
     ]
    },
    {
     "output_type": "stream",
     "name": "stderr",
     "text": [
      "2021-08-31 20:16:17,267 - analytics - INFO - adding centrality features, nodes: 1806, edges: 41669\n"
     ]
    },
    {
     "output_type": "stream",
     "name": "stdout",
     "text": [
      "creating communities\n"
     ]
    },
    {
     "output_type": "stream",
     "name": "stderr",
     "text": [
      "2021-08-31 20:16:22,417 - analytics - INFO - adding centrality features, nodes: 1620, edges: 29568\n",
      "2021-08-31 20:16:24,390 - analytics - INFO - adding centrality features, nodes: 1742, edges: 33234\n",
      "2021-08-31 20:16:27,898 - analytics - INFO - adding centrality features, nodes: 1703, edges: 35199\n"
     ]
    },
    {
     "output_type": "stream",
     "name": "stdout",
     "text": [
      "creating communities\n",
      "creating communities\n"
     ]
    },
    {
     "output_type": "stream",
     "name": "stderr",
     "text": [
      "2021-08-31 20:16:31,019 - analytics - INFO - adding centrality features, nodes: 1986, edges: 37299\n"
     ]
    },
    {
     "output_type": "stream",
     "name": "stdout",
     "text": [
      "creating communities\n",
      "creating communities\n",
      "creating communities\n"
     ]
    },
    {
     "output_type": "stream",
     "name": "stderr",
     "text": [
      "2021-08-31 20:16:37,776 - analytics - INFO - adding centrality features, nodes: 2794, edges: 43076\n"
     ]
    },
    {
     "output_type": "stream",
     "name": "stdout",
     "text": [
      "creating communities\n"
     ]
    },
    {
     "output_type": "stream",
     "name": "stderr",
     "text": [
      "2021-08-31 20:16:43,618 - analytics - INFO - adding centrality features, nodes: 1304, edges: 27840\n",
      "2021-08-31 20:16:44,126 - analytics - INFO - adding centrality features, nodes: 1765, edges: 35360\n",
      "2021-08-31 20:16:46,604 - analytics - INFO - adding centrality features, nodes: 1473, edges: 29211\n",
      "2021-08-31 20:16:50,961 - analytics - INFO - adding centrality features, nodes: 2044, edges: 41324\n",
      "2021-08-31 20:16:52,363 - analytics - INFO - adding centrality features, nodes: 1513, edges: 30882\n"
     ]
    },
    {
     "output_type": "stream",
     "name": "stdout",
     "text": [
      "creating communities\n",
      "creating communities\n",
      "creating communities\n",
      "creating communities\n"
     ]
    },
    {
     "output_type": "stream",
     "name": "stderr",
     "text": [
      "2021-08-31 20:17:05,759 - analytics - INFO - adding centrality features, nodes: 1603, edges: 27458\n",
      "2021-08-31 20:17:07,777 - analytics - INFO - adding centrality features, nodes: 1862, edges: 33964\n",
      "2021-08-31 20:17:08,765 - analytics - INFO - adding centrality features, nodes: 1847, edges: 36462\n",
      "2021-08-31 20:17:18,016 - analytics - INFO - adding centrality features, nodes: 931, edges: 19476\n"
     ]
    },
    {
     "output_type": "stream",
     "name": "stdout",
     "text": [
      "creating communities\n",
      "creating communities\n",
      "creating communities\n"
     ]
    },
    {
     "output_type": "stream",
     "name": "stderr",
     "text": [
      "2021-08-31 20:17:28,110 - analytics - INFO - adding centrality features, nodes: 1777, edges: 42210\n"
     ]
    },
    {
     "output_type": "stream",
     "name": "stdout",
     "text": [
      "creating communities\n",
      "creating communities\n",
      "creating communities\n"
     ]
    },
    {
     "output_type": "stream",
     "name": "stderr",
     "text": [
      "2021-08-31 20:17:36,132 - analytics - INFO - adding centrality features, nodes: 1496, edges: 26101\n",
      "2021-08-31 20:17:39,269 - analytics - INFO - adding centrality features, nodes: 2115, edges: 30467\n",
      "2021-08-31 20:17:46,349 - analytics - INFO - adding centrality features, nodes: 1044, edges: 16732\n"
     ]
    },
    {
     "output_type": "stream",
     "name": "stdout",
     "text": [
      "creating communities\n"
     ]
    },
    {
     "output_type": "stream",
     "name": "stderr",
     "text": [
      "2021-08-31 20:17:47,153 - analytics - INFO - adding centrality features, nodes: 1410, edges: 24899\n"
     ]
    },
    {
     "output_type": "stream",
     "name": "stdout",
     "text": [
      "creating communities\n"
     ]
    },
    {
     "output_type": "stream",
     "name": "stderr",
     "text": [
      "2021-08-31 20:17:58,770 - analytics - INFO - adding centrality features, nodes: 1134, edges: 22670\n"
     ]
    },
    {
     "output_type": "stream",
     "name": "stdout",
     "text": [
      "creating communities\n",
      "creating communities\n",
      "creating communities\n"
     ]
    },
    {
     "output_type": "stream",
     "name": "stderr",
     "text": [
      "2021-08-31 20:18:03,632 - analytics - INFO - adding centrality features, nodes: 2336, edges: 54022\n",
      "2021-08-31 20:18:05,531 - analytics - INFO - adding centrality features, nodes: 2389, edges: 38828\n"
     ]
    },
    {
     "output_type": "stream",
     "name": "stdout",
     "text": [
      "creating communities\n"
     ]
    },
    {
     "output_type": "stream",
     "name": "stderr",
     "text": [
      "2021-08-31 20:18:12,146 - analytics - INFO - adding centrality features, nodes: 2924, edges: 58516\n"
     ]
    },
    {
     "output_type": "stream",
     "name": "stdout",
     "text": [
      "creating communities\n"
     ]
    },
    {
     "output_type": "stream",
     "name": "stderr",
     "text": [
      "2021-08-31 20:18:14,338 - analytics - INFO - adding centrality features, nodes: 1839, edges: 32501\n",
      "2021-08-31 20:18:14,903 - analytics - INFO - adding centrality features, nodes: 2418, edges: 45763\n"
     ]
    },
    {
     "output_type": "stream",
     "name": "stdout",
     "text": [
      "creating communities\n"
     ]
    },
    {
     "output_type": "stream",
     "name": "stderr",
     "text": [
      "2021-08-31 20:18:16,149 - analytics - INFO - adding centrality features, nodes: 1955, edges: 40761\n",
      "2021-08-31 20:18:23,557 - analytics - INFO - adding centrality features, nodes: 2403, edges: 49553\n"
     ]
    },
    {
     "output_type": "stream",
     "name": "stdout",
     "text": [
      "creating communities\n"
     ]
    },
    {
     "output_type": "stream",
     "name": "stderr",
     "text": [
      "2021-08-31 20:18:43,586 - analytics - INFO - adding centrality features, nodes: 1252, edges: 24138\n"
     ]
    },
    {
     "output_type": "stream",
     "name": "stdout",
     "text": [
      "creating communities\n",
      "creating communities\n",
      "creating communities\n"
     ]
    },
    {
     "output_type": "stream",
     "name": "stderr",
     "text": [
      "2021-08-31 20:18:53,771 - analytics - INFO - adding centrality features, nodes: 1053, edges: 24584\n",
      "2021-08-31 20:18:56,915 - analytics - INFO - adding centrality features, nodes: 723, edges: 16994\n"
     ]
    },
    {
     "output_type": "stream",
     "name": "stdout",
     "text": [
      "creating communities\n"
     ]
    },
    {
     "output_type": "stream",
     "name": "stderr",
     "text": [
      "2021-08-31 20:19:01,887 - analytics - INFO - adding centrality features, nodes: 1834, edges: 32341\n"
     ]
    },
    {
     "output_type": "stream",
     "name": "stdout",
     "text": [
      "creating communities\n"
     ]
    },
    {
     "output_type": "stream",
     "name": "stderr",
     "text": [
      "2021-08-31 20:19:06,070 - analytics - INFO - adding centrality features, nodes: 2022, edges: 39583\n",
      "2021-08-31 20:19:06,177 - analytics - INFO - adding centrality features, nodes: 1790, edges: 34399\n"
     ]
    },
    {
     "output_type": "stream",
     "name": "stdout",
     "text": [
      "creating communities\n",
      "creating communities\n",
      "creating communities\n",
      "creating communities\n",
      "creating communities\n"
     ]
    },
    {
     "output_type": "stream",
     "name": "stderr",
     "text": [
      "2021-08-31 20:19:16,953 - analytics - INFO - adding centrality features, nodes: 1325, edges: 22574\n",
      "2021-08-31 20:19:18,835 - analytics - INFO - adding centrality features, nodes: 1901, edges: 34933\n",
      "2021-08-31 20:19:21,957 - analytics - INFO - adding centrality features, nodes: 1361, edges: 30025\n",
      "2021-08-31 20:19:22,906 - analytics - INFO - adding centrality features, nodes: 3027, edges: 66147\n",
      "2021-08-31 20:19:24,712 - analytics - INFO - adding centrality features, nodes: 2121, edges: 36375\n",
      "2021-08-31 20:19:27,983 - analytics - INFO - adding centrality features, nodes: 2085, edges: 37262\n"
     ]
    },
    {
     "output_type": "stream",
     "name": "stdout",
     "text": [
      "creating communities\n"
     ]
    },
    {
     "output_type": "stream",
     "name": "stderr",
     "text": [
      "2021-08-31 20:19:43,707 - analytics - INFO - adding centrality features, nodes: 816, edges: 19807\n"
     ]
    },
    {
     "output_type": "stream",
     "name": "stdout",
     "text": [
      "creating communities\n"
     ]
    },
    {
     "output_type": "stream",
     "name": "stderr",
     "text": [
      "2021-08-31 20:19:54,864 - analytics - INFO - adding centrality features, nodes: 1800, edges: 28906\n"
     ]
    },
    {
     "output_type": "stream",
     "name": "stdout",
     "text": [
      "creating communities\n",
      "creating communities\n"
     ]
    },
    {
     "output_type": "stream",
     "name": "stderr",
     "text": [
      "2021-08-31 20:20:07,462 - analytics - INFO - adding centrality features, nodes: 1320, edges: 21604\n",
      "2021-08-31 20:20:09,038 - analytics - INFO - adding centrality features, nodes: 2353, edges: 61067\n"
     ]
    },
    {
     "output_type": "stream",
     "name": "stdout",
     "text": [
      "creating communities\n",
      "creating communities\n",
      "creating communities\n",
      "creating communities\n"
     ]
    },
    {
     "output_type": "stream",
     "name": "stderr",
     "text": [
      "2021-08-31 20:20:38,357 - analytics - INFO - adding centrality features, nodes: 1606, edges: 22338\n",
      "2021-08-31 20:20:40,459 - analytics - INFO - adding centrality features, nodes: 3598, edges: 77873\n",
      "2021-08-31 20:20:44,759 - analytics - INFO - adding centrality features, nodes: 2763, edges: 43409\n",
      "2021-08-31 20:20:46,476 - analytics - INFO - adding centrality features, nodes: 1662, edges: 33717\n"
     ]
    },
    {
     "output_type": "stream",
     "name": "stdout",
     "text": [
      "creating communities\n",
      "creating communities\n",
      "creating communities\n"
     ]
    },
    {
     "output_type": "stream",
     "name": "stderr",
     "text": [
      "2021-08-31 20:21:06,299 - analytics - INFO - adding centrality features, nodes: 1618, edges: 38148\n",
      "2021-08-31 20:21:07,738 - analytics - INFO - adding centrality features, nodes: 1753, edges: 40347\n",
      "2021-08-31 20:21:09,355 - analytics - INFO - adding centrality features, nodes: 1356, edges: 25326\n"
     ]
    },
    {
     "output_type": "stream",
     "name": "stdout",
     "text": [
      "creating communities\n",
      "creating communities\n"
     ]
    },
    {
     "output_type": "stream",
     "name": "stderr",
     "text": [
      "2021-08-31 20:21:18,436 - analytics - INFO - adding centrality features, nodes: 1878, edges: 43873\n"
     ]
    },
    {
     "output_type": "stream",
     "name": "stdout",
     "text": [
      "creating communities\n",
      "creating communities\n",
      "creating communities\n"
     ]
    },
    {
     "output_type": "stream",
     "name": "stderr",
     "text": [
      "2021-08-31 20:21:23,384 - analytics - INFO - adding centrality features, nodes: 1210, edges: 27180\n",
      "2021-08-31 20:21:26,269 - analytics - INFO - adding centrality features, nodes: 1194, edges: 32818\n"
     ]
    },
    {
     "output_type": "stream",
     "name": "stdout",
     "text": [
      "creating communities\n"
     ]
    },
    {
     "output_type": "stream",
     "name": "stderr",
     "text": [
      "2021-08-31 20:21:36,266 - analytics - INFO - adding centrality features, nodes: 2309, edges: 32661\n",
      "2021-08-31 20:21:37,579 - analytics - INFO - adding centrality features, nodes: 2549, edges: 65994\n"
     ]
    },
    {
     "output_type": "stream",
     "name": "stdout",
     "text": [
      "creating communities\n"
     ]
    },
    {
     "output_type": "stream",
     "name": "stderr",
     "text": [
      "2021-08-31 20:21:41,674 - analytics - INFO - adding centrality features, nodes: 2433, edges: 51386\n"
     ]
    },
    {
     "output_type": "stream",
     "name": "stdout",
     "text": [
      "creating communities\n"
     ]
    },
    {
     "output_type": "stream",
     "name": "stderr",
     "text": [
      "2021-08-31 20:21:45,462 - analytics - INFO - adding centrality features, nodes: 2471, edges: 45070\n"
     ]
    },
    {
     "output_type": "stream",
     "name": "stdout",
     "text": [
      "creating communities\n",
      "creating communities\n"
     ]
    },
    {
     "output_type": "stream",
     "name": "stderr",
     "text": [
      "2021-08-31 20:21:51,872 - analytics - INFO - adding centrality features, nodes: 2957, edges: 56289\n"
     ]
    },
    {
     "output_type": "stream",
     "name": "stdout",
     "text": [
      "creating communities\n"
     ]
    },
    {
     "output_type": "stream",
     "name": "stderr",
     "text": [
      "2021-08-31 20:21:53,073 - analytics - INFO - adding centrality features, nodes: 1607, edges: 30544\n"
     ]
    },
    {
     "output_type": "stream",
     "name": "stdout",
     "text": [
      "creating communities\n",
      "creating communities\n"
     ]
    },
    {
     "output_type": "stream",
     "name": "stderr",
     "text": [
      "2021-08-31 20:22:01,387 - analytics - INFO - adding centrality features, nodes: 1499, edges: 32297\n",
      "2021-08-31 20:22:01,582 - analytics - INFO - adding centrality features, nodes: 1915, edges: 43134\n"
     ]
    },
    {
     "output_type": "stream",
     "name": "stdout",
     "text": [
      "creating communities\n",
      "creating communities\n"
     ]
    },
    {
     "output_type": "stream",
     "name": "stderr",
     "text": [
      "2021-08-31 20:22:08,741 - analytics - INFO - adding centrality features, nodes: 1003, edges: 20741\n",
      "2021-08-31 20:22:09,262 - analytics - INFO - adding centrality features, nodes: 1418, edges: 25448\n"
     ]
    },
    {
     "output_type": "stream",
     "name": "stdout",
     "text": [
      "creating communities\n",
      "creating communities\n"
     ]
    },
    {
     "output_type": "stream",
     "name": "stderr",
     "text": [
      "2021-08-31 20:22:17,292 - analytics - INFO - adding centrality features, nodes: 1945, edges: 42334\n",
      "2021-08-31 20:22:18,816 - analytics - INFO - adding centrality features, nodes: 1266, edges: 22629\n",
      "2021-08-31 20:22:21,692 - analytics - INFO - adding centrality features, nodes: 1941, edges: 35943\n",
      "2021-08-31 20:22:25,658 - analytics - INFO - adding centrality features, nodes: 2045, edges: 38332\n"
     ]
    },
    {
     "output_type": "stream",
     "name": "stdout",
     "text": [
      "creating communities\n",
      "creating communities\n"
     ]
    },
    {
     "output_type": "stream",
     "name": "stderr",
     "text": [
      "2021-08-31 20:22:45,509 - analytics - INFO - adding centrality features, nodes: 1555, edges: 35726\n"
     ]
    },
    {
     "output_type": "stream",
     "name": "stdout",
     "text": [
      "creating communities\n"
     ]
    },
    {
     "output_type": "stream",
     "name": "stderr",
     "text": [
      "2021-08-31 20:22:51,636 - analytics - INFO - adding centrality features, nodes: 2376, edges: 56631\n"
     ]
    },
    {
     "output_type": "stream",
     "name": "stdout",
     "text": [
      "creating communities\n",
      "creating communities\n"
     ]
    },
    {
     "output_type": "stream",
     "name": "stderr",
     "text": [
      "2021-08-31 20:23:00,586 - analytics - INFO - adding centrality features, nodes: 2222, edges: 46140\n",
      "2021-08-31 20:23:01,912 - analytics - INFO - adding centrality features, nodes: 2886, edges: 48798\n"
     ]
    },
    {
     "output_type": "stream",
     "name": "stdout",
     "text": [
      "creating communities\n"
     ]
    },
    {
     "output_type": "stream",
     "name": "stderr",
     "text": [
      "2021-08-31 20:23:07,151 - analytics - INFO - adding centrality features, nodes: 2263, edges: 43768\n",
      "2021-08-31 20:23:10,076 - analytics - INFO - adding centrality features, nodes: 1740, edges: 34178\n"
     ]
    },
    {
     "output_type": "stream",
     "name": "stdout",
     "text": [
      "creating communities\n",
      "creating communities\n",
      "creating communities\n",
      "creating communities\n"
     ]
    },
    {
     "output_type": "stream",
     "name": "stderr",
     "text": [
      "2021-08-31 20:23:24,103 - analytics - INFO - adding centrality features, nodes: 2142, edges: 52863\n"
     ]
    },
    {
     "output_type": "stream",
     "name": "stdout",
     "text": [
      "creating communities\n"
     ]
    },
    {
     "output_type": "stream",
     "name": "stderr",
     "text": [
      "2021-08-31 20:23:29,630 - analytics - INFO - adding centrality features, nodes: 1517, edges: 31558\n",
      "2021-08-31 20:23:32,006 - analytics - INFO - adding centrality features, nodes: 1937, edges: 37287\n"
     ]
    },
    {
     "output_type": "stream",
     "name": "stdout",
     "text": [
      "creating communities\n"
     ]
    },
    {
     "output_type": "stream",
     "name": "stderr",
     "text": [
      "2021-08-31 20:23:41,568 - analytics - INFO - adding centrality features, nodes: 2476, edges: 46013\n"
     ]
    },
    {
     "output_type": "stream",
     "name": "stdout",
     "text": [
      "creating communities\n"
     ]
    },
    {
     "output_type": "stream",
     "name": "stderr",
     "text": [
      "2021-08-31 20:23:47,503 - analytics - INFO - adding centrality features, nodes: 1981, edges: 36398\n"
     ]
    },
    {
     "output_type": "stream",
     "name": "stdout",
     "text": [
      "creating communities\n",
      "creating communities\n"
     ]
    },
    {
     "output_type": "stream",
     "name": "stderr",
     "text": [
      "2021-08-31 20:23:55,334 - analytics - INFO - adding centrality features, nodes: 994, edges: 13742\n"
     ]
    },
    {
     "output_type": "stream",
     "name": "stdout",
     "text": [
      "creating communities\n",
      "creating communities\n"
     ]
    },
    {
     "output_type": "stream",
     "name": "stderr",
     "text": [
      "2021-08-31 20:24:03,082 - analytics - INFO - adding centrality features, nodes: 1118, edges: 20128\n",
      "2021-08-31 20:24:06,193 - analytics - INFO - adding centrality features, nodes: 3351, edges: 63285\n"
     ]
    },
    {
     "output_type": "stream",
     "name": "stdout",
     "text": [
      "creating communities\n"
     ]
    },
    {
     "output_type": "stream",
     "name": "stderr",
     "text": [
      "2021-08-31 20:24:08,764 - analytics - INFO - adding centrality features, nodes: 1308, edges: 29877\n",
      "2021-08-31 20:24:11,561 - analytics - INFO - adding centrality features, nodes: 3020, edges: 66516\n"
     ]
    },
    {
     "output_type": "stream",
     "name": "stdout",
     "text": [
      "creating communities\n"
     ]
    },
    {
     "output_type": "stream",
     "name": "stderr",
     "text": [
      "2021-08-31 20:24:22,491 - analytics - INFO - adding centrality features, nodes: 1941, edges: 26139\n"
     ]
    },
    {
     "output_type": "stream",
     "name": "stdout",
     "text": [
      "creating communities\n"
     ]
    },
    {
     "output_type": "stream",
     "name": "stderr",
     "text": [
      "2021-08-31 20:24:26,172 - analytics - INFO - adding centrality features, nodes: 1466, edges: 37446\n"
     ]
    },
    {
     "output_type": "stream",
     "name": "stdout",
     "text": [
      "creating communities\n",
      "creating communities\n"
     ]
    },
    {
     "output_type": "stream",
     "name": "stderr",
     "text": [
      "2021-08-31 20:24:31,240 - analytics - INFO - adding centrality features, nodes: 1079, edges: 24941\n"
     ]
    },
    {
     "output_type": "stream",
     "name": "stdout",
     "text": [
      "creating communities\n"
     ]
    },
    {
     "output_type": "stream",
     "name": "stderr",
     "text": [
      "2021-08-31 20:24:38,768 - analytics - INFO - adding centrality features, nodes: 2982, edges: 68873\n",
      "2021-08-31 20:24:39,210 - analytics - INFO - adding centrality features, nodes: 1496, edges: 35623\n",
      "2021-08-31 20:24:39,790 - analytics - INFO - adding centrality features, nodes: 1773, edges: 41335\n"
     ]
    },
    {
     "output_type": "stream",
     "name": "stdout",
     "text": [
      "creating communities\n"
     ]
    },
    {
     "output_type": "stream",
     "name": "stderr",
     "text": [
      "2021-08-31 20:24:49,985 - analytics - INFO - adding centrality features, nodes: 2605, edges: 49350\n"
     ]
    },
    {
     "output_type": "stream",
     "name": "stdout",
     "text": [
      "creating communities\n"
     ]
    },
    {
     "output_type": "stream",
     "name": "stderr",
     "text": [
      "2021-08-31 20:24:58,006 - analytics - INFO - adding centrality features, nodes: 1965, edges: 37877\n",
      "2021-08-31 20:25:00,339 - analytics - INFO - adding centrality features, nodes: 1990, edges: 45971\n"
     ]
    },
    {
     "output_type": "stream",
     "name": "stdout",
     "text": [
      "creating communities\n",
      "creating communities\n",
      "creating communities\n"
     ]
    },
    {
     "output_type": "stream",
     "name": "stderr",
     "text": [
      "2021-08-31 20:25:16,022 - analytics - INFO - adding centrality features, nodes: 1221, edges: 22013\n"
     ]
    },
    {
     "output_type": "stream",
     "name": "stdout",
     "text": [
      "creating communities\n",
      "creating communities\n"
     ]
    },
    {
     "output_type": "stream",
     "name": "stderr",
     "text": [
      "2021-08-31 20:25:23,223 - analytics - INFO - adding centrality features, nodes: 1123, edges: 20726\n"
     ]
    },
    {
     "output_type": "stream",
     "name": "stdout",
     "text": [
      "creating communities\n",
      "creating communities\n"
     ]
    },
    {
     "output_type": "stream",
     "name": "stderr",
     "text": [
      "2021-08-31 20:25:28,599 - analytics - INFO - adding centrality features, nodes: 1654, edges: 24410\n"
     ]
    },
    {
     "output_type": "stream",
     "name": "stdout",
     "text": [
      "creating communities\n"
     ]
    },
    {
     "output_type": "stream",
     "name": "stderr",
     "text": [
      "2021-08-31 20:25:33,365 - analytics - INFO - adding centrality features, nodes: 1207, edges: 24465\n",
      "2021-08-31 20:25:34,630 - analytics - INFO - adding centrality features, nodes: 1153, edges: 24886\n",
      "2021-08-31 20:25:34,857 - analytics - INFO - adding centrality features, nodes: 2734, edges: 58743\n",
      "2021-08-31 20:25:36,065 - analytics - INFO - adding centrality features, nodes: 2868, edges: 48856\n"
     ]
    },
    {
     "output_type": "stream",
     "name": "stdout",
     "text": [
      "creating communities\n"
     ]
    },
    {
     "output_type": "stream",
     "name": "stderr",
     "text": [
      "2021-08-31 20:25:38,436 - analytics - INFO - adding centrality features, nodes: 2546, edges: 58063\n"
     ]
    },
    {
     "output_type": "stream",
     "name": "stdout",
     "text": [
      "creating communities\n",
      "creating communities\n"
     ]
    },
    {
     "output_type": "stream",
     "name": "stderr",
     "text": [
      "2021-08-31 20:25:47,692 - analytics - INFO - adding centrality features, nodes: 1775, edges: 34633\n",
      "2021-08-31 20:25:47,820 - analytics - INFO - adding centrality features, nodes: 2337, edges: 48625\n",
      "2021-08-31 20:25:55,527 - analytics - INFO - adding centrality features, nodes: 2614, edges: 45563\n"
     ]
    },
    {
     "output_type": "stream",
     "name": "stdout",
     "text": [
      "creating communities\n",
      "creating communities\n"
     ]
    },
    {
     "output_type": "stream",
     "name": "stderr",
     "text": [
      "2021-08-31 20:26:06,641 - analytics - INFO - adding centrality features, nodes: 1461, edges: 30000\n",
      "2021-08-31 20:26:15,427 - analytics - INFO - adding centrality features, nodes: 1816, edges: 37189\n"
     ]
    },
    {
     "output_type": "stream",
     "name": "stdout",
     "text": [
      "creating communities\n",
      "creating communities\n",
      "creating communities\n"
     ]
    },
    {
     "output_type": "stream",
     "name": "stderr",
     "text": [
      "2021-08-31 20:26:45,097 - analytics - INFO - adding centrality features, nodes: 2158, edges: 46813\n"
     ]
    },
    {
     "output_type": "stream",
     "name": "stdout",
     "text": [
      "creating communities\n",
      "creating communities\n"
     ]
    },
    {
     "output_type": "stream",
     "name": "stderr",
     "text": [
      "2021-08-31 20:26:48,785 - analytics - INFO - adding centrality features, nodes: 1764, edges: 37776\n",
      "2021-08-31 20:26:50,626 - analytics - INFO - adding centrality features, nodes: 2004, edges: 43818\n"
     ]
    },
    {
     "output_type": "stream",
     "name": "stdout",
     "text": [
      "creating communities\n"
     ]
    },
    {
     "output_type": "stream",
     "name": "stderr",
     "text": [
      "2021-08-31 20:26:54,769 - analytics - INFO - adding centrality features, nodes: 4291, edges: 102328\n"
     ]
    },
    {
     "output_type": "stream",
     "name": "stdout",
     "text": [
      "creating communities\n",
      "creating communities\n"
     ]
    },
    {
     "output_type": "stream",
     "name": "stderr",
     "text": [
      "2021-08-31 20:26:59,448 - analytics - INFO - adding centrality features, nodes: 2736, edges: 29244\n",
      "2021-08-31 20:27:02,864 - analytics - INFO - adding centrality features, nodes: 1584, edges: 39054\n",
      "2021-08-31 20:27:08,060 - analytics - INFO - adding centrality features, nodes: 2010, edges: 43922\n"
     ]
    },
    {
     "output_type": "stream",
     "name": "stdout",
     "text": [
      "creating communities\n"
     ]
    },
    {
     "output_type": "stream",
     "name": "stderr",
     "text": [
      "2021-08-31 20:27:15,685 - analytics - INFO - adding centrality features, nodes: 2269, edges: 42552\n"
     ]
    },
    {
     "output_type": "stream",
     "name": "stdout",
     "text": [
      "creating communities\n",
      "creating communities\n",
      "creating communities\n"
     ]
    },
    {
     "output_type": "stream",
     "name": "stderr",
     "text": [
      "2021-08-31 20:27:23,111 - analytics - INFO - adding centrality features, nodes: 1896, edges: 37219\n"
     ]
    },
    {
     "output_type": "stream",
     "name": "stdout",
     "text": [
      "creating communities\n",
      "creating communities\n"
     ]
    },
    {
     "output_type": "stream",
     "name": "stderr",
     "text": [
      "2021-08-31 20:27:34,118 - analytics - INFO - adding centrality features, nodes: 1048, edges: 19902\n",
      "2021-08-31 20:27:35,564 - analytics - INFO - adding centrality features, nodes: 1741, edges: 26307\n",
      "2021-08-31 20:27:38,316 - analytics - INFO - adding centrality features, nodes: 2010, edges: 38339\n",
      "2021-08-31 20:27:40,511 - analytics - INFO - adding centrality features, nodes: 2069, edges: 49276\n",
      "2021-08-31 20:27:48,122 - analytics - INFO - adding centrality features, nodes: 3124, edges: 54906\n"
     ]
    },
    {
     "output_type": "stream",
     "name": "stdout",
     "text": [
      "creating communities\n",
      "creating communities\n"
     ]
    },
    {
     "output_type": "stream",
     "name": "stderr",
     "text": [
      "2021-08-31 20:27:54,337 - analytics - INFO - adding centrality features, nodes: 1510, edges: 29419\n"
     ]
    },
    {
     "output_type": "stream",
     "name": "stdout",
     "text": [
      "creating communities\n"
     ]
    },
    {
     "output_type": "stream",
     "name": "stderr",
     "text": [
      "2021-08-31 20:27:57,357 - analytics - INFO - adding centrality features, nodes: 1486, edges: 30124\n"
     ]
    },
    {
     "output_type": "stream",
     "name": "stdout",
     "text": [
      "creating communities\n"
     ]
    },
    {
     "output_type": "stream",
     "name": "stderr",
     "text": [
      "2021-08-31 20:28:01,295 - analytics - INFO - adding centrality features, nodes: 1728, edges: 35833\n"
     ]
    },
    {
     "output_type": "stream",
     "name": "stdout",
     "text": [
      "creating communities\n",
      "creating communities\n",
      "creating communities\n",
      "creating communities\n"
     ]
    },
    {
     "output_type": "stream",
     "name": "stderr",
     "text": [
      "2021-08-31 20:28:12,853 - analytics - INFO - adding centrality features, nodes: 1344, edges: 26510\n",
      "2021-08-31 20:28:14,853 - analytics - INFO - adding centrality features, nodes: 1572, edges: 27748\n",
      "2021-08-31 20:28:15,534 - analytics - INFO - adding centrality features, nodes: 3117, edges: 76811\n"
     ]
    },
    {
     "output_type": "stream",
     "name": "stdout",
     "text": [
      "creating communities\n"
     ]
    },
    {
     "output_type": "stream",
     "name": "stderr",
     "text": [
      "2021-08-31 20:28:16,307 - analytics - INFO - adding centrality features, nodes: 1484, edges: 27410\n"
     ]
    },
    {
     "output_type": "stream",
     "name": "stdout",
     "text": [
      "creating communities\n"
     ]
    },
    {
     "output_type": "stream",
     "name": "stderr",
     "text": [
      "2021-08-31 20:28:26,792 - analytics - INFO - adding centrality features, nodes: 941, edges: 23413\n",
      "2021-08-31 20:28:27,607 - analytics - INFO - adding centrality features, nodes: 1932, edges: 32665\n",
      "2021-08-31 20:28:33,667 - analytics - INFO - adding centrality features, nodes: 1554, edges: 27684\n"
     ]
    },
    {
     "output_type": "stream",
     "name": "stdout",
     "text": [
      "creating communities\n",
      "creating communities\n",
      "creating communities\n"
     ]
    },
    {
     "output_type": "stream",
     "name": "stderr",
     "text": [
      "2021-08-31 20:28:51,099 - analytics - INFO - adding centrality features, nodes: 1158, edges: 20897\n",
      "2021-08-31 20:28:52,999 - analytics - INFO - adding centrality features, nodes: 1377, edges: 26002\n",
      "2021-08-31 20:28:58,852 - analytics - INFO - adding centrality features, nodes: 1793, edges: 32604\n"
     ]
    },
    {
     "output_type": "stream",
     "name": "stdout",
     "text": [
      "creating communities\n",
      "creating communities\n"
     ]
    },
    {
     "output_type": "stream",
     "name": "stderr",
     "text": [
      "2021-08-31 20:29:05,752 - analytics - INFO - adding centrality features, nodes: 1224, edges: 25568\n",
      "2021-08-31 20:29:18,360 - analytics - INFO - adding centrality features, nodes: 1711, edges: 30590\n"
     ]
    },
    {
     "output_type": "stream",
     "name": "stdout",
     "text": [
      "creating communities\n",
      "creating communities\n"
     ]
    },
    {
     "output_type": "stream",
     "name": "stderr",
     "text": [
      "2021-08-31 20:29:41,978 - analytics - INFO - adding centrality features, nodes: 1413, edges: 24625\n"
     ]
    },
    {
     "output_type": "stream",
     "name": "stdout",
     "text": [
      "creating communities\n",
      "creating communities\n"
     ]
    },
    {
     "output_type": "stream",
     "name": "stderr",
     "text": [
      "2021-08-31 20:29:55,116 - analytics - INFO - adding centrality features, nodes: 1861, edges: 45080\n",
      "2021-08-31 20:29:55,235 - analytics - INFO - adding centrality features, nodes: 2423, edges: 40410\n"
     ]
    },
    {
     "output_type": "stream",
     "name": "stdout",
     "text": [
      "creating communities\n"
     ]
    },
    {
     "output_type": "stream",
     "name": "stderr",
     "text": [
      "2021-08-31 20:29:59,006 - analytics - INFO - adding centrality features, nodes: 1713, edges: 41941\n"
     ]
    },
    {
     "output_type": "stream",
     "name": "stdout",
     "text": [
      "creating communities\n"
     ]
    },
    {
     "output_type": "stream",
     "name": "stderr",
     "text": [
      "2021-08-31 20:30:03,241 - analytics - INFO - adding centrality features, nodes: 1595, edges: 19150\n",
      "2021-08-31 20:30:05,861 - analytics - INFO - adding centrality features, nodes: 1770, edges: 38925\n"
     ]
    },
    {
     "output_type": "stream",
     "name": "stdout",
     "text": [
      "creating communities\n"
     ]
    },
    {
     "output_type": "stream",
     "name": "stderr",
     "text": [
      "2021-08-31 20:30:57,068 - analytics - INFO - adding centrality features, nodes: 896, edges: 19023\n"
     ]
    },
    {
     "output_type": "stream",
     "name": "stdout",
     "text": [
      "creating communities\n",
      "creating communities\n",
      "creating communities\n"
     ]
    },
    {
     "output_type": "stream",
     "name": "stderr",
     "text": [
      "2021-08-31 20:31:14,921 - analytics - INFO - adding centrality features, nodes: 2018, edges: 38294\n"
     ]
    },
    {
     "output_type": "stream",
     "name": "stdout",
     "text": [
      "creating communities\n",
      "creating communities\n"
     ]
    },
    {
     "output_type": "stream",
     "name": "stderr",
     "text": [
      "2021-08-31 20:31:21,121 - analytics - INFO - adding centrality features, nodes: 1997, edges: 38430\n",
      "2021-08-31 20:31:23,296 - analytics - INFO - adding centrality features, nodes: 2174, edges: 49866\n",
      "2021-08-31 20:31:23,507 - analytics - INFO - adding centrality features, nodes: 2360, edges: 48743\n",
      "2021-08-31 20:31:23,594 - analytics - INFO - adding centrality features, nodes: 2138, edges: 41902\n"
     ]
    },
    {
     "output_type": "stream",
     "name": "stdout",
     "text": [
      "creating communities\n",
      "creating communities\n",
      "creating communities\n",
      "creating communities\n",
      "creating communities\n"
     ]
    },
    {
     "output_type": "stream",
     "name": "stderr",
     "text": [
      "2021-08-31 20:31:50,846 - analytics - INFO - adding centrality features, nodes: 1717, edges: 31495\n",
      "2021-08-31 20:31:51,872 - analytics - INFO - adding centrality features, nodes: 2668, edges: 56263\n",
      "2021-08-31 20:31:52,748 - analytics - INFO - adding centrality features, nodes: 1464, edges: 30723\n"
     ]
    },
    {
     "output_type": "stream",
     "name": "stdout",
     "text": [
      "creating communities\n"
     ]
    },
    {
     "output_type": "stream",
     "name": "stderr",
     "text": [
      "2021-08-31 20:31:58,255 - analytics - INFO - adding centrality features, nodes: 2729, edges: 53672\n",
      "2021-08-31 20:32:04,056 - analytics - INFO - adding centrality features, nodes: 851, edges: 16164\n",
      "2021-08-31 20:32:18,556 - analytics - INFO - adding centrality features, nodes: 2272, edges: 45231\n"
     ]
    },
    {
     "output_type": "stream",
     "name": "stdout",
     "text": [
      "creating communities\n",
      "creating communities\n",
      "creating communities\n"
     ]
    },
    {
     "output_type": "stream",
     "name": "stderr",
     "text": [
      "2021-08-31 20:32:42,004 - analytics - INFO - adding centrality features, nodes: 1866, edges: 24783\n"
     ]
    },
    {
     "output_type": "stream",
     "name": "stdout",
     "text": [
      "creating communities\n",
      "creating communities\n"
     ]
    },
    {
     "output_type": "stream",
     "name": "stderr",
     "text": [
      "2021-08-31 20:32:49,243 - analytics - INFO - adding centrality features, nodes: 2304, edges: 35577\n"
     ]
    },
    {
     "output_type": "stream",
     "name": "stdout",
     "text": [
      "creating communities\n",
      "creating communities\n"
     ]
    },
    {
     "output_type": "stream",
     "name": "stderr",
     "text": [
      "2021-08-31 20:32:52,385 - analytics - INFO - adding centrality features, nodes: 1781, edges: 35226\n",
      "2021-08-31 20:32:53,274 - analytics - INFO - adding centrality features, nodes: 3028, edges: 47460\n",
      "2021-08-31 20:33:00,356 - analytics - INFO - adding centrality features, nodes: 2016, edges: 38700\n",
      "2021-08-31 20:33:01,134 - analytics - INFO - adding centrality features, nodes: 2058, edges: 35777\n",
      "2021-08-31 20:33:01,765 - analytics - INFO - adding centrality features, nodes: 2653, edges: 53315\n"
     ]
    },
    {
     "output_type": "stream",
     "name": "stdout",
     "text": [
      "creating communities\n",
      "creating communities\n",
      "creating communities\n",
      "creating communities\n"
     ]
    },
    {
     "output_type": "stream",
     "name": "stderr",
     "text": [
      "2021-08-31 20:33:13,662 - analytics - INFO - adding centrality features, nodes: 1396, edges: 32167\n"
     ]
    },
    {
     "output_type": "stream",
     "name": "stdout",
     "text": [
      "creating communities\n"
     ]
    },
    {
     "output_type": "stream",
     "name": "stderr",
     "text": [
      "2021-08-31 20:33:15,785 - analytics - INFO - adding centrality features, nodes: 2939, edges: 53384\n"
     ]
    },
    {
     "output_type": "stream",
     "name": "stdout",
     "text": [
      "creating communities\n",
      "creating communities\n"
     ]
    },
    {
     "output_type": "stream",
     "name": "stderr",
     "text": [
      "2021-08-31 20:33:24,910 - analytics - INFO - adding centrality features, nodes: 2244, edges: 35903\n",
      "2021-08-31 20:33:26,351 - analytics - INFO - adding centrality features, nodes: 1050, edges: 20414\n"
     ]
    },
    {
     "output_type": "stream",
     "name": "stdout",
     "text": [
      "creating communities\n",
      "creating communities\n"
     ]
    },
    {
     "output_type": "stream",
     "name": "stderr",
     "text": [
      "2021-08-31 20:33:27,628 - analytics - INFO - adding centrality features, nodes: 2027, edges: 35016\n",
      "2021-08-31 20:33:28,397 - analytics - INFO - adding centrality features, nodes: 1616, edges: 27025\n"
     ]
    },
    {
     "output_type": "stream",
     "name": "stdout",
     "text": [
      "creating communities\n"
     ]
    },
    {
     "output_type": "stream",
     "name": "stderr",
     "text": [
      "2021-08-31 20:33:30,063 - analytics - INFO - adding centrality features, nodes: 1518, edges: 34384\n"
     ]
    },
    {
     "output_type": "stream",
     "name": "stdout",
     "text": [
      "creating communities\n",
      "creating communities\n"
     ]
    },
    {
     "output_type": "stream",
     "name": "stderr",
     "text": [
      "2021-08-31 20:33:37,456 - analytics - INFO - adding centrality features, nodes: 1615, edges: 30602\n"
     ]
    },
    {
     "output_type": "stream",
     "name": "stdout",
     "text": [
      "creating communities\n"
     ]
    },
    {
     "output_type": "stream",
     "name": "stderr",
     "text": [
      "2021-08-31 20:33:38,838 - analytics - INFO - adding centrality features, nodes: 1550, edges: 42792\n"
     ]
    },
    {
     "output_type": "stream",
     "name": "stdout",
     "text": [
      "creating communities\n"
     ]
    },
    {
     "output_type": "stream",
     "name": "stderr",
     "text": [
      "2021-08-31 20:33:42,200 - analytics - INFO - adding centrality features, nodes: 1743, edges: 29264\n"
     ]
    },
    {
     "output_type": "stream",
     "name": "stdout",
     "text": [
      "creating communities\n"
     ]
    },
    {
     "output_type": "stream",
     "name": "stderr",
     "text": [
      "2021-08-31 20:33:45,912 - analytics - INFO - adding centrality features, nodes: 1808, edges: 32969\n"
     ]
    },
    {
     "output_type": "stream",
     "name": "stdout",
     "text": [
      "creating communities\n"
     ]
    },
    {
     "output_type": "stream",
     "name": "stderr",
     "text": [
      "2021-08-31 20:33:48,304 - analytics - INFO - adding centrality features, nodes: 3133, edges: 61906\n",
      "2021-08-31 20:33:49,170 - analytics - INFO - adding centrality features, nodes: 1386, edges: 33075\n"
     ]
    },
    {
     "output_type": "stream",
     "name": "stdout",
     "text": [
      "creating communities\n",
      "creating communities\n"
     ]
    },
    {
     "output_type": "stream",
     "name": "stderr",
     "text": [
      "2021-08-31 20:33:53,886 - analytics - INFO - adding centrality features, nodes: 4096, edges: 79766\n"
     ]
    },
    {
     "output_type": "stream",
     "name": "stdout",
     "text": [
      "creating communities\n"
     ]
    },
    {
     "output_type": "stream",
     "name": "stderr",
     "text": [
      "2021-08-31 20:33:57,552 - analytics - INFO - adding centrality features, nodes: 2558, edges: 51875\n",
      "2021-08-31 20:34:01,762 - analytics - INFO - adding centrality features, nodes: 1362, edges: 28292\n",
      "2021-08-31 20:34:02,115 - analytics - INFO - adding centrality features, nodes: 802, edges: 19895\n",
      "2021-08-31 20:34:12,037 - analytics - INFO - adding centrality features, nodes: 2213, edges: 50069\n",
      "2021-08-31 20:34:14,936 - analytics - INFO - adding centrality features, nodes: 1402, edges: 36326\n"
     ]
    },
    {
     "output_type": "stream",
     "name": "stdout",
     "text": [
      "creating communities\n",
      "creating communities\n",
      "creating communities\n",
      "creating communities\n"
     ]
    },
    {
     "output_type": "stream",
     "name": "stderr",
     "text": [
      "2021-08-31 20:34:25,656 - analytics - INFO - adding centrality features, nodes: 2425, edges: 44662\n",
      "2021-08-31 20:34:27,025 - analytics - INFO - adding centrality features, nodes: 676, edges: 12085\n"
     ]
    },
    {
     "output_type": "stream",
     "name": "stdout",
     "text": [
      "creating communities\n",
      "creating communities\n",
      "creating communities\n"
     ]
    },
    {
     "output_type": "stream",
     "name": "stderr",
     "text": [
      "2021-08-31 20:34:36,276 - analytics - INFO - adding centrality features, nodes: 2396, edges: 49835\n",
      "2021-08-31 20:34:38,318 - analytics - INFO - adding centrality features, nodes: 1397, edges: 28313\n",
      "2021-08-31 20:34:42,095 - analytics - INFO - adding centrality features, nodes: 1440, edges: 31331\n",
      "2021-08-31 20:34:44,086 - analytics - INFO - adding centrality features, nodes: 1881, edges: 37127\n"
     ]
    },
    {
     "output_type": "stream",
     "name": "stdout",
     "text": [
      "creating communities\n"
     ]
    },
    {
     "output_type": "stream",
     "name": "stderr",
     "text": [
      "2021-08-31 20:34:52,172 - analytics - INFO - adding centrality features, nodes: 2446, edges: 41178\n"
     ]
    },
    {
     "output_type": "stream",
     "name": "stdout",
     "text": [
      "creating communities\n"
     ]
    },
    {
     "output_type": "stream",
     "name": "stderr",
     "text": [
      "2021-08-31 20:34:58,133 - analytics - INFO - adding centrality features, nodes: 1613, edges: 31399\n"
     ]
    },
    {
     "output_type": "stream",
     "name": "stdout",
     "text": [
      "creating communities\n"
     ]
    },
    {
     "output_type": "stream",
     "name": "stderr",
     "text": [
      "2021-08-31 20:35:10,402 - analytics - INFO - adding centrality features, nodes: 1692, edges: 37947\n",
      "2021-08-31 20:35:14,735 - analytics - INFO - adding centrality features, nodes: 1129, edges: 21848\n"
     ]
    },
    {
     "output_type": "stream",
     "name": "stdout",
     "text": [
      "creating communities\n",
      "creating communities\n"
     ]
    },
    {
     "output_type": "stream",
     "name": "stderr",
     "text": [
      "2021-08-31 20:35:21,053 - analytics - INFO - adding centrality features, nodes: 3443, edges: 50088\n"
     ]
    },
    {
     "output_type": "stream",
     "name": "stdout",
     "text": [
      "creating communities\n"
     ]
    },
    {
     "output_type": "stream",
     "name": "stderr",
     "text": [
      "2021-08-31 20:35:42,445 - analytics - INFO - adding centrality features, nodes: 2621, edges: 39121\n"
     ]
    },
    {
     "output_type": "stream",
     "name": "stdout",
     "text": [
      "creating communities\n",
      "creating communities\n"
     ]
    },
    {
     "output_type": "stream",
     "name": "stderr",
     "text": [
      "2021-08-31 20:35:52,485 - analytics - INFO - adding centrality features, nodes: 1945, edges: 49790\n"
     ]
    },
    {
     "output_type": "stream",
     "name": "stdout",
     "text": [
      "creating communities\n"
     ]
    },
    {
     "output_type": "stream",
     "name": "stderr",
     "text": [
      "2021-08-31 20:35:54,579 - analytics - INFO - adding centrality features, nodes: 1513, edges: 25752\n",
      "2021-08-31 20:35:57,195 - analytics - INFO - adding centrality features, nodes: 2757, edges: 58524\n"
     ]
    },
    {
     "output_type": "stream",
     "name": "stdout",
     "text": [
      "creating communities\n",
      "creating communities\n",
      "creating communities\n"
     ]
    },
    {
     "output_type": "stream",
     "name": "stderr",
     "text": [
      "2021-08-31 20:36:03,570 - analytics - INFO - adding centrality features, nodes: 1412, edges: 37208\n"
     ]
    },
    {
     "output_type": "stream",
     "name": "stdout",
     "text": [
      "creating communities\n"
     ]
    },
    {
     "output_type": "stream",
     "name": "stderr",
     "text": [
      "2021-08-31 20:36:15,743 - analytics - INFO - adding centrality features, nodes: 1110, edges: 19026\n",
      "2021-08-31 20:36:15,915 - analytics - INFO - adding centrality features, nodes: 1165, edges: 18835\n",
      "2021-08-31 20:36:18,335 - analytics - INFO - adding centrality features, nodes: 2927, edges: 66930\n"
     ]
    },
    {
     "output_type": "stream",
     "name": "stdout",
     "text": [
      "creating communities\n"
     ]
    },
    {
     "output_type": "stream",
     "name": "stderr",
     "text": [
      "2021-08-31 20:36:22,616 - analytics - INFO - adding centrality features, nodes: 1591, edges: 28421\n"
     ]
    },
    {
     "output_type": "stream",
     "name": "stdout",
     "text": [
      "creating communities\n"
     ]
    },
    {
     "output_type": "stream",
     "name": "stderr",
     "text": [
      "2021-08-31 20:36:29,865 - analytics - INFO - adding centrality features, nodes: 1909, edges: 41148\n"
     ]
    },
    {
     "output_type": "stream",
     "name": "stdout",
     "text": [
      "creating communities\n"
     ]
    },
    {
     "output_type": "stream",
     "name": "stderr",
     "text": [
      "2021-08-31 20:36:41,465 - analytics - INFO - adding centrality features, nodes: 2153, edges: 49594\n",
      "2021-08-31 20:36:47,254 - analytics - INFO - adding centrality features, nodes: 1567, edges: 35411\n"
     ]
    },
    {
     "output_type": "stream",
     "name": "stdout",
     "text": [
      "creating communities\n",
      "creating communities\n",
      "creating communities\n",
      "creating communities\n"
     ]
    },
    {
     "output_type": "stream",
     "name": "stderr",
     "text": [
      "2021-08-31 20:37:06,067 - analytics - INFO - adding centrality features, nodes: 2609, edges: 46545\n"
     ]
    },
    {
     "output_type": "stream",
     "name": "stdout",
     "text": [
      "creating communities\n"
     ]
    },
    {
     "output_type": "stream",
     "name": "stderr",
     "text": [
      "2021-08-31 20:37:10,829 - analytics - INFO - adding centrality features, nodes: 2556, edges: 56509\n",
      "2021-08-31 20:37:11,445 - analytics - INFO - adding centrality features, nodes: 2544, edges: 33832\n",
      "2021-08-31 20:37:14,071 - analytics - INFO - adding centrality features, nodes: 1450, edges: 33072\n",
      "2021-08-31 20:37:22,026 - analytics - INFO - adding centrality features, nodes: 1642, edges: 28986\n"
     ]
    },
    {
     "output_type": "stream",
     "name": "stdout",
     "text": [
      "creating communities\n",
      "creating communities\n"
     ]
    },
    {
     "output_type": "stream",
     "name": "stderr",
     "text": [
      "2021-08-31 20:37:56,211 - analytics - INFO - adding centrality features, nodes: 1893, edges: 33496\n",
      "2021-08-31 20:37:59,878 - analytics - INFO - adding centrality features, nodes: 1731, edges: 40364\n"
     ]
    },
    {
     "output_type": "stream",
     "name": "stdout",
     "text": [
      "creating communities\n",
      "creating communities\n",
      "creating communities\n"
     ]
    },
    {
     "output_type": "stream",
     "name": "stderr",
     "text": [
      "2021-08-31 20:38:10,911 - analytics - INFO - adding centrality features, nodes: 2054, edges: 23977\n",
      "2021-08-31 20:38:13,774 - analytics - INFO - adding centrality features, nodes: 1522, edges: 31069\n",
      "2021-08-31 20:38:18,304 - analytics - INFO - adding centrality features, nodes: 1114, edges: 25118\n"
     ]
    },
    {
     "output_type": "stream",
     "name": "stdout",
     "text": [
      "creating communities\n",
      "creating communities\n",
      "creating communities\n",
      "creating communities\n"
     ]
    },
    {
     "output_type": "stream",
     "name": "stderr",
     "text": [
      "2021-08-31 20:38:34,669 - analytics - INFO - adding centrality features, nodes: 1680, edges: 41573\n",
      "2021-08-31 20:38:34,896 - analytics - INFO - adding centrality features, nodes: 1367, edges: 23444\n"
     ]
    },
    {
     "output_type": "stream",
     "name": "stdout",
     "text": [
      "creating communities\n"
     ]
    },
    {
     "output_type": "stream",
     "name": "stderr",
     "text": [
      "2021-08-31 20:38:36,875 - analytics - INFO - adding centrality features, nodes: 1959, edges: 41825\n"
     ]
    },
    {
     "output_type": "stream",
     "name": "stdout",
     "text": [
      "creating communities\n",
      "creating communities\n"
     ]
    },
    {
     "output_type": "stream",
     "name": "stderr",
     "text": [
      "2021-08-31 20:38:44,316 - analytics - INFO - adding centrality features, nodes: 1563, edges: 31553\n",
      "2021-08-31 20:38:46,192 - analytics - INFO - adding centrality features, nodes: 2851, edges: 41454\n"
     ]
    },
    {
     "output_type": "stream",
     "name": "stdout",
     "text": [
      "creating communities\n"
     ]
    },
    {
     "output_type": "stream",
     "name": "stderr",
     "text": [
      "2021-08-31 20:38:50,458 - analytics - INFO - adding centrality features, nodes: 1037, edges: 24269\n",
      "2021-08-31 20:38:52,929 - analytics - INFO - adding centrality features, nodes: 1933, edges: 36403\n"
     ]
    },
    {
     "output_type": "stream",
     "name": "stdout",
     "text": [
      "creating communities\n"
     ]
    },
    {
     "output_type": "stream",
     "name": "stderr",
     "text": [
      "2021-08-31 20:38:59,742 - analytics - INFO - adding centrality features, nodes: 1307, edges: 27696\n"
     ]
    },
    {
     "output_type": "stream",
     "name": "stdout",
     "text": [
      "creating communities\n"
     ]
    },
    {
     "output_type": "stream",
     "name": "stderr",
     "text": [
      "2021-08-31 20:39:12,942 - analytics - INFO - adding centrality features, nodes: 2529, edges: 44780\n"
     ]
    },
    {
     "output_type": "stream",
     "name": "stdout",
     "text": [
      "creating communities\n"
     ]
    },
    {
     "output_type": "stream",
     "name": "stderr",
     "text": [
      "2021-08-31 20:39:14,756 - analytics - INFO - adding centrality features, nodes: 1583, edges: 32806\n"
     ]
    },
    {
     "output_type": "stream",
     "name": "stdout",
     "text": [
      "creating communities\n"
     ]
    },
    {
     "output_type": "stream",
     "name": "stderr",
     "text": [
      "2021-08-31 20:39:20,711 - analytics - INFO - adding centrality features, nodes: 1563, edges: 32016\n"
     ]
    },
    {
     "output_type": "stream",
     "name": "stdout",
     "text": [
      "creating communitiescreating communities\n",
      "creating communities\n",
      "\n"
     ]
    },
    {
     "output_type": "stream",
     "name": "stderr",
     "text": [
      "2021-08-31 20:39:27,245 - analytics - INFO - adding centrality features, nodes: 998, edges: 21514\n",
      "2021-08-31 20:39:28,583 - analytics - INFO - adding centrality features, nodes: 2559, edges: 39535\n",
      "2021-08-31 20:39:32,388 - analytics - INFO - adding centrality features, nodes: 2333, edges: 44197\n",
      "2021-08-31 20:39:35,199 - analytics - INFO - adding centrality features, nodes: 1113, edges: 22183\n"
     ]
    },
    {
     "output_type": "stream",
     "name": "stdout",
     "text": [
      "creating communities\n"
     ]
    },
    {
     "output_type": "stream",
     "name": "stderr",
     "text": [
      "2021-08-31 20:39:53,673 - analytics - INFO - adding centrality features, nodes: 1040, edges: 19596\n"
     ]
    },
    {
     "output_type": "stream",
     "name": "stdout",
     "text": [
      "creating communities\n",
      "creating communities\n",
      "creating communities\n"
     ]
    },
    {
     "output_type": "stream",
     "name": "stderr",
     "text": [
      "2021-08-31 20:40:03,838 - analytics - INFO - adding centrality features, nodes: 2178, edges: 37779\n"
     ]
    },
    {
     "output_type": "stream",
     "name": "stdout",
     "text": [
      "creating communities\n"
     ]
    },
    {
     "output_type": "stream",
     "name": "stderr",
     "text": [
      "2021-08-31 20:40:18,464 - analytics - INFO - adding centrality features, nodes: 1088, edges: 23759\n"
     ]
    },
    {
     "output_type": "stream",
     "name": "stdout",
     "text": [
      "creating communities\n"
     ]
    },
    {
     "output_type": "stream",
     "name": "stderr",
     "text": [
      "2021-08-31 20:40:21,625 - analytics - INFO - adding centrality features, nodes: 2226, edges: 50748\n"
     ]
    },
    {
     "output_type": "stream",
     "name": "stdout",
     "text": [
      "creating communities\n"
     ]
    },
    {
     "output_type": "stream",
     "name": "stderr",
     "text": [
      "2021-08-31 20:40:26,470 - analytics - INFO - adding centrality features, nodes: 1400, edges: 26509\n",
      "2021-08-31 20:40:28,035 - analytics - INFO - adding centrality features, nodes: 1312, edges: 27819\n",
      "2021-08-31 20:40:30,400 - analytics - INFO - adding centrality features, nodes: 1788, edges: 37668\n"
     ]
    },
    {
     "output_type": "stream",
     "name": "stdout",
     "text": [
      "creating communities\n",
      "creating communities\n",
      "creating communities\n",
      "creating communities\n",
      "creating communities\n"
     ]
    },
    {
     "output_type": "stream",
     "name": "stderr",
     "text": [
      "2021-08-31 20:40:45,601 - analytics - INFO - adding centrality features, nodes: 2879, edges: 53060\n"
     ]
    },
    {
     "output_type": "stream",
     "name": "stdout",
     "text": [
      "creating communities\n",
      "creating communities\n"
     ]
    },
    {
     "output_type": "stream",
     "name": "stderr",
     "text": [
      "2021-08-31 20:40:52,287 - analytics - INFO - adding centrality features, nodes: 2036, edges: 32654\n",
      "2021-08-31 20:40:58,231 - analytics - INFO - adding centrality features, nodes: 2207, edges: 39149\n",
      "2021-08-31 20:40:59,683 - analytics - INFO - adding centrality features, nodes: 872, edges: 18324\n",
      "2021-08-31 20:40:59,837 - analytics - INFO - adding centrality features, nodes: 2025, edges: 38533\n",
      "2021-08-31 20:40:59,939 - analytics - INFO - adding centrality features, nodes: 1315, edges: 23701\n"
     ]
    },
    {
     "output_type": "stream",
     "name": "stdout",
     "text": [
      "creating communities\n",
      "creating communities\n",
      "creating communities\n"
     ]
    },
    {
     "output_type": "stream",
     "name": "stderr",
     "text": [
      "2021-08-31 20:41:19,444 - analytics - INFO - adding centrality features, nodes: 1438, edges: 31171\n",
      "2021-08-31 20:41:21,580 - analytics - INFO - adding centrality features, nodes: 2469, edges: 44607\n",
      "2021-08-31 20:41:22,634 - analytics - INFO - adding centrality features, nodes: 1880, edges: 41803\n"
     ]
    },
    {
     "output_type": "stream",
     "name": "stdout",
     "text": [
      "creating communities\n",
      "creating communities\n"
     ]
    },
    {
     "output_type": "stream",
     "name": "stderr",
     "text": [
      "2021-08-31 20:41:28,409 - analytics - INFO - adding centrality features, nodes: 2222, edges: 44565\n",
      "2021-08-31 20:41:31,435 - analytics - INFO - adding centrality features, nodes: 1528, edges: 34467\n",
      "2021-08-31 20:41:31,807 - analytics - INFO - adding centrality features, nodes: 1341, edges: 29083\n"
     ]
    },
    {
     "output_type": "stream",
     "name": "stdout",
     "text": [
      "creating communities\n",
      "creating communities\n"
     ]
    },
    {
     "output_type": "stream",
     "name": "stderr",
     "text": [
      "2021-08-31 20:41:40,230 - analytics - INFO - adding centrality features, nodes: 1858, edges: 29680\n",
      "2021-08-31 20:41:44,684 - analytics - INFO - adding centrality features, nodes: 4212, edges: 106762\n"
     ]
    },
    {
     "output_type": "stream",
     "name": "stdout",
     "text": [
      "creating communities\n",
      "creating communities\n"
     ]
    },
    {
     "output_type": "stream",
     "name": "stderr",
     "text": [
      "2021-08-31 20:41:55,739 - analytics - INFO - adding centrality features, nodes: 2482, edges: 42986\n",
      "2021-08-31 20:41:55,748 - analytics - INFO - adding centrality features, nodes: 1362, edges: 24764\n"
     ]
    },
    {
     "output_type": "stream",
     "name": "stdout",
     "text": [
      "creating communities\n"
     ]
    },
    {
     "output_type": "stream",
     "name": "stderr",
     "text": [
      "2021-08-31 20:42:05,379 - analytics - INFO - adding centrality features, nodes: 4121, edges: 67254\n"
     ]
    },
    {
     "output_type": "stream",
     "name": "stdout",
     "text": [
      "creating communities\n"
     ]
    },
    {
     "output_type": "stream",
     "name": "stderr",
     "text": [
      "2021-08-31 20:42:19,969 - analytics - INFO - adding centrality features, nodes: 1935, edges: 44746\n"
     ]
    },
    {
     "output_type": "stream",
     "name": "stdout",
     "text": [
      "creating communities\n",
      "creating communities\n"
     ]
    },
    {
     "output_type": "stream",
     "name": "stderr",
     "text": [
      "2021-08-31 20:42:30,197 - analytics - INFO - adding centrality features, nodes: 1764, edges: 39157\n"
     ]
    },
    {
     "output_type": "stream",
     "name": "stdout",
     "text": [
      "creating communities\n"
     ]
    },
    {
     "output_type": "stream",
     "name": "stderr",
     "text": [
      "2021-08-31 20:42:33,819 - analytics - INFO - adding centrality features, nodes: 982, edges: 21730\n"
     ]
    },
    {
     "output_type": "stream",
     "name": "stdout",
     "text": [
      "creating communities\n",
      "creating communities\n"
     ]
    },
    {
     "output_type": "stream",
     "name": "stderr",
     "text": [
      "2021-08-31 20:42:41,368 - analytics - INFO - adding centrality features, nodes: 2235, edges: 43398\n"
     ]
    },
    {
     "output_type": "stream",
     "name": "stdout",
     "text": [
      "creating communities\n",
      "creating communities\n"
     ]
    },
    {
     "output_type": "stream",
     "name": "stderr",
     "text": [
      "2021-08-31 20:42:43,778 - analytics - INFO - adding centrality features, nodes: 1471, edges: 19701\n",
      "2021-08-31 20:42:44,322 - analytics - INFO - adding centrality features, nodes: 1841, edges: 39464\n"
     ]
    },
    {
     "output_type": "stream",
     "name": "stdout",
     "text": [
      "creating communities\n"
     ]
    },
    {
     "output_type": "stream",
     "name": "stderr",
     "text": [
      "2021-08-31 20:42:47,038 - analytics - INFO - adding centrality features, nodes: 1868, edges: 39432\n"
     ]
    },
    {
     "output_type": "stream",
     "name": "stdout",
     "text": [
      "creating communities\n",
      "creating communities\n",
      "creating communities\n",
      "creating communities\n"
     ]
    },
    {
     "output_type": "stream",
     "name": "stderr",
     "text": [
      "2021-08-31 20:42:57,417 - analytics - INFO - adding centrality features, nodes: 2301, edges: 44776\n"
     ]
    },
    {
     "output_type": "stream",
     "name": "stdout",
     "text": [
      "creating communities\n"
     ]
    },
    {
     "output_type": "stream",
     "name": "stderr",
     "text": [
      "2021-08-31 20:42:58,158 - analytics - INFO - adding centrality features, nodes: 2432, edges: 58019\n"
     ]
    },
    {
     "output_type": "stream",
     "name": "stdout",
     "text": [
      "creating communities"
     ]
    },
    {
     "output_type": "stream",
     "name": "stderr",
     "text": [
      "2021-08-31 20:43:02,833 - analytics - INFO - adding centrality features, nodes: 2122, edges: 46918\n"
     ]
    },
    {
     "output_type": "stream",
     "name": "stdout",
     "text": [
      "\n"
     ]
    },
    {
     "output_type": "stream",
     "name": "stderr",
     "text": [
      "2021-08-31 20:43:04,926 - analytics - INFO - adding centrality features, nodes: 2095, edges: 37311\n"
     ]
    },
    {
     "output_type": "stream",
     "name": "stdout",
     "text": [
      "creating communities\n",
      "creating communities\n",
      "creating communities\n",
      "creating communities\n"
     ]
    },
    {
     "output_type": "stream",
     "name": "stderr",
     "text": [
      "2021-08-31 20:43:13,888 - analytics - INFO - adding centrality features, nodes: 1667, edges: 26003\n",
      "2021-08-31 20:43:14,222 - analytics - INFO - adding centrality features, nodes: 1209, edges: 20445\n"
     ]
    },
    {
     "output_type": "stream",
     "name": "stdout",
     "text": [
      "creating communities\n"
     ]
    },
    {
     "output_type": "stream",
     "name": "stderr",
     "text": [
      "2021-08-31 20:43:16,145 - analytics - INFO - adding centrality features, nodes: 1953, edges: 44718\n",
      "2021-08-31 20:43:16,232 - analytics - INFO - adding centrality features, nodes: 2001, edges: 33044\n"
     ]
    },
    {
     "output_type": "stream",
     "name": "stdout",
     "text": [
      "creating communities\n"
     ]
    },
    {
     "output_type": "stream",
     "name": "stderr",
     "text": [
      "2021-08-31 20:43:18,537 - analytics - INFO - adding centrality features, nodes: 2114, edges: 46567\n",
      "2021-08-31 20:43:22,587 - analytics - INFO - adding centrality features, nodes: 2651, edges: 34619\n",
      "2021-08-31 20:43:24,088 - analytics - INFO - adding centrality features, nodes: 2441, edges: 44481\n"
     ]
    },
    {
     "output_type": "stream",
     "name": "stdout",
     "text": [
      "creating communities\n",
      "creating communities\n",
      "creating communities\n"
     ]
    },
    {
     "output_type": "stream",
     "name": "stderr",
     "text": [
      "2021-08-31 20:43:38,283 - analytics - INFO - adding centrality features, nodes: 1943, edges: 33827\n"
     ]
    },
    {
     "output_type": "stream",
     "name": "stdout",
     "text": [
      "creating communities\n"
     ]
    },
    {
     "output_type": "stream",
     "name": "stderr",
     "text": [
      "2021-08-31 20:43:39,037 - analytics - INFO - adding centrality features, nodes: 1815, edges: 41213\n",
      "2021-08-31 20:43:40,706 - analytics - INFO - adding centrality features, nodes: 1302, edges: 29616\n",
      "2021-08-31 20:43:43,854 - analytics - INFO - adding centrality features, nodes: 2554, edges: 28586\n",
      "2021-08-31 20:43:46,693 - analytics - INFO - adding centrality features, nodes: 1215, edges: 20926\n",
      "2021-08-31 20:43:46,812 - analytics - INFO - adding centrality features, nodes: 999, edges: 26959\n",
      "2021-08-31 20:43:55,216 - analytics - INFO - adding centrality features, nodes: 2189, edges: 47597\n"
     ]
    },
    {
     "output_type": "stream",
     "name": "stdout",
     "text": [
      "creating communities\n"
     ]
    },
    {
     "output_type": "stream",
     "name": "stderr",
     "text": [
      "2021-08-31 20:44:07,853 - analytics - INFO - adding centrality features, nodes: 1220, edges: 28750\n"
     ]
    },
    {
     "output_type": "stream",
     "name": "stdout",
     "text": [
      "creating communities\n",
      "creating communities\n"
     ]
    },
    {
     "output_type": "stream",
     "name": "stderr",
     "text": [
      "2021-08-31 20:44:52,264 - analytics - INFO - adding centrality features, nodes: 2371, edges: 53743\n"
     ]
    },
    {
     "output_type": "stream",
     "name": "stdout",
     "text": [
      "creating communities\n",
      "creating communities\n",
      "creating communities\n",
      "creating communities\n",
      "creating communities\n"
     ]
    },
    {
     "output_type": "stream",
     "name": "stderr",
     "text": [
      "2021-08-31 20:45:02,863 - analytics - INFO - adding centrality features, nodes: 1358, edges: 25139\n",
      "2021-08-31 20:45:04,960 - analytics - INFO - adding centrality features, nodes: 1255, edges: 28544\n",
      "2021-08-31 20:45:05,381 - analytics - INFO - adding centrality features, nodes: 1115, edges: 24525\n"
     ]
    },
    {
     "output_type": "stream",
     "name": "stdout",
     "text": [
      "creating communities\n",
      "creating communities\n"
     ]
    },
    {
     "output_type": "stream",
     "name": "stderr",
     "text": [
      "2021-08-31 20:45:12,588 - analytics - INFO - adding centrality features, nodes: 676, edges: 16038\n",
      "2021-08-31 20:45:15,713 - analytics - INFO - adding centrality features, nodes: 1553, edges: 23290\n",
      "2021-08-31 20:45:16,168 - analytics - INFO - adding centrality features, nodes: 2649, edges: 56999\n",
      "2021-08-31 20:45:19,538 - analytics - INFO - adding centrality features, nodes: 981, edges: 19533\n",
      "2021-08-31 20:45:25,674 - analytics - INFO - adding centrality features, nodes: 1067, edges: 21337\n"
     ]
    },
    {
     "output_type": "stream",
     "name": "stdout",
     "text": [
      "creating communities\n",
      "creating communities\n",
      "creating communities\n"
     ]
    },
    {
     "output_type": "stream",
     "name": "stderr",
     "text": [
      "2021-08-31 20:45:49,351 - analytics - INFO - adding centrality features, nodes: 1779, edges: 36885\n",
      "2021-08-31 20:45:52,046 - analytics - INFO - adding centrality features, nodes: 1675, edges: 36253\n"
     ]
    },
    {
     "output_type": "stream",
     "name": "stdout",
     "text": [
      "creating communities\n"
     ]
    },
    {
     "output_type": "stream",
     "name": "stderr",
     "text": [
      "2021-08-31 20:45:58,809 - analytics - INFO - adding centrality features, nodes: 1268, edges: 20572\n",
      "2021-08-31 20:46:03,079 - analytics - INFO - adding centrality features, nodes: 3059, edges: 59627\n"
     ]
    },
    {
     "output_type": "stream",
     "name": "stdout",
     "text": [
      "creating communities\n",
      "creating communities\n",
      "creating communities\n",
      "creating communities\n"
     ]
    },
    {
     "output_type": "stream",
     "name": "stderr",
     "text": [
      "2021-08-31 20:46:14,265 - analytics - INFO - adding centrality features, nodes: 1817, edges: 42058\n",
      "2021-08-31 20:46:14,574 - analytics - INFO - adding centrality features, nodes: 2620, edges: 48945\n",
      "2021-08-31 20:46:14,588 - analytics - INFO - adding centrality features, nodes: 1380, edges: 22091\n"
     ]
    },
    {
     "output_type": "stream",
     "name": "stdout",
     "text": [
      "creating communities\n"
     ]
    },
    {
     "output_type": "stream",
     "name": "stderr",
     "text": [
      "2021-08-31 20:46:21,190 - analytics - INFO - adding centrality features, nodes: 2675, edges: 52269\n"
     ]
    },
    {
     "output_type": "stream",
     "name": "stdout",
     "text": [
      "creating communities\n",
      "creating communities\n",
      "creating communities\n",
      "creating communities\n"
     ]
    },
    {
     "output_type": "stream",
     "name": "stderr",
     "text": [
      "2021-08-31 20:46:33,054 - analytics - INFO - adding centrality features, nodes: 1034, edges: 22593\n",
      "2021-08-31 20:46:33,197 - analytics - INFO - adding centrality features, nodes: 1109, edges: 17093\n",
      "2021-08-31 20:46:34,671 - analytics - INFO - adding centrality features, nodes: 1553, edges: 30469\n"
     ]
    },
    {
     "output_type": "stream",
     "name": "stdout",
     "text": [
      "creating communities\n",
      "creating communities\n",
      "creating communities\n"
     ]
    },
    {
     "output_type": "stream",
     "name": "stderr",
     "text": [
      "2021-08-31 20:46:43,381 - analytics - INFO - adding centrality features, nodes: 3339, edges: 77522\n",
      "2021-08-31 20:46:43,712 - analytics - INFO - adding centrality features, nodes: 1153, edges: 23996\n"
     ]
    },
    {
     "output_type": "stream",
     "name": "stdout",
     "text": [
      "creating communities\n",
      "creating communities\n",
      "creating communities\n"
     ]
    },
    {
     "output_type": "stream",
     "name": "stderr",
     "text": [
      "2021-08-31 20:46:52,800 - analytics - INFO - adding centrality features, nodes: 606, edges: 12771\n"
     ]
    },
    {
     "output_type": "stream",
     "name": "stdout",
     "text": [
      "creating communities\n"
     ]
    },
    {
     "output_type": "stream",
     "name": "stderr",
     "text": [
      "2021-08-31 20:46:54,138 - analytics - INFO - adding centrality features, nodes: 2136, edges: 49986\n",
      "2021-08-31 20:46:54,297 - analytics - INFO - adding centrality features, nodes: 1970, edges: 32297\n",
      "2021-08-31 20:46:56,000 - analytics - INFO - adding centrality features, nodes: 910, edges: 17536\n",
      "2021-08-31 20:46:59,295 - analytics - INFO - adding centrality features, nodes: 1171, edges: 23203\n",
      "2021-08-31 20:47:01,546 - analytics - INFO - adding centrality features, nodes: 2592, edges: 54425\n"
     ]
    },
    {
     "output_type": "stream",
     "name": "stdout",
     "text": [
      "creating communities\n"
     ]
    },
    {
     "output_type": "stream",
     "name": "stderr",
     "text": [
      "2021-08-31 20:47:06,160 - analytics - INFO - adding centrality features, nodes: 2084, edges: 38253\n",
      "2021-08-31 20:47:10,348 - analytics - INFO - adding centrality features, nodes: 865, edges: 12501\n"
     ]
    },
    {
     "output_type": "stream",
     "name": "stdout",
     "text": [
      "creating communities\n",
      "creating communities\n",
      "creating communities\n",
      "creating communities\n"
     ]
    },
    {
     "output_type": "stream",
     "name": "stderr",
     "text": [
      "2021-08-31 20:47:37,035 - analytics - INFO - adding centrality features, nodes: 1375, edges: 29000\n",
      "2021-08-31 20:47:38,221 - analytics - INFO - adding centrality features, nodes: 3078, edges: 66901\n",
      "2021-08-31 20:47:38,848 - analytics - INFO - adding centrality features, nodes: 2062, edges: 41514\n",
      "2021-08-31 20:47:39,139 - analytics - INFO - adding centrality features, nodes: 1588, edges: 28856\n"
     ]
    },
    {
     "output_type": "stream",
     "name": "stdout",
     "text": [
      "creating communities\n",
      "creating communities\n"
     ]
    },
    {
     "output_type": "stream",
     "name": "stderr",
     "text": [
      "2021-08-31 20:48:05,089 - analytics - INFO - adding centrality features, nodes: 2551, edges: 44772\n"
     ]
    },
    {
     "output_type": "stream",
     "name": "stdout",
     "text": [
      "creating communities\n",
      "creating communities\n"
     ]
    },
    {
     "output_type": "stream",
     "name": "stderr",
     "text": [
      "2021-08-31 20:48:09,601 - analytics - INFO - adding centrality features, nodes: 2083, edges: 46584\n",
      "2021-08-31 20:48:13,439 - analytics - INFO - adding centrality features, nodes: 1119, edges: 23676\n"
     ]
    },
    {
     "output_type": "stream",
     "name": "stdout",
     "text": [
      "creating communities\n",
      "creating communities\n"
     ]
    },
    {
     "output_type": "stream",
     "name": "stderr",
     "text": [
      "2021-08-31 20:48:19,435 - analytics - INFO - adding centrality features, nodes: 1889, edges: 32188\n",
      "2021-08-31 20:48:22,764 - analytics - INFO - adding centrality features, nodes: 1595, edges: 28369\n",
      "2021-08-31 20:48:26,824 - analytics - INFO - adding centrality features, nodes: 1623, edges: 28846\n"
     ]
    },
    {
     "output_type": "stream",
     "name": "stdout",
     "text": [
      "creating communities\n",
      "creating communities\n"
     ]
    },
    {
     "output_type": "stream",
     "name": "stderr",
     "text": [
      "2021-08-31 20:48:33,205 - analytics - INFO - adding centrality features, nodes: 2368, edges: 37702\n"
     ]
    },
    {
     "output_type": "stream",
     "name": "stdout",
     "text": [
      "creating communities\n"
     ]
    },
    {
     "output_type": "stream",
     "name": "stderr",
     "text": [
      "2021-08-31 20:48:46,937 - analytics - INFO - adding centrality features, nodes: 1723, edges: 33223\n"
     ]
    },
    {
     "output_type": "stream",
     "name": "stdout",
     "text": [
      "creating communities\n",
      "creating communities\n"
     ]
    },
    {
     "output_type": "stream",
     "name": "stderr",
     "text": [
      "2021-08-31 20:48:50,531 - analytics - INFO - adding centrality features, nodes: 1590, edges: 32847\n",
      "2021-08-31 20:48:54,163 - analytics - INFO - adding centrality features, nodes: 1726, edges: 26476\n",
      "2021-08-31 20:48:57,195 - analytics - INFO - adding centrality features, nodes: 1342, edges: 34739\n"
     ]
    },
    {
     "output_type": "stream",
     "name": "stdout",
     "text": [
      "creating communities\n",
      "creating communities\n",
      "creating communities\n",
      "creating communities\n"
     ]
    },
    {
     "output_type": "stream",
     "name": "stderr",
     "text": [
      "2021-08-31 20:49:13,687 - analytics - INFO - adding centrality features, nodes: 1248, edges: 26613\n",
      "2021-08-31 20:49:13,993 - analytics - INFO - adding centrality features, nodes: 1504, edges: 28950\n"
     ]
    },
    {
     "output_type": "stream",
     "name": "stdout",
     "text": [
      "creating communities\n",
      "creating communities\n",
      "creating communities\n"
     ]
    },
    {
     "output_type": "stream",
     "name": "stderr",
     "text": [
      "2021-08-31 20:49:17,236 - analytics - INFO - adding centrality features, nodes: 1737, edges: 29415\n"
     ]
    },
    {
     "output_type": "stream",
     "name": "stdout",
     "text": [
      "creating communities\n"
     ]
    },
    {
     "output_type": "stream",
     "name": "stderr",
     "text": [
      "2021-08-31 20:49:22,900 - analytics - INFO - adding centrality features, nodes: 1702, edges: 32137\n",
      "2021-08-31 20:49:23,322 - analytics - INFO - adding centrality features, nodes: 1915, edges: 29812\n",
      "2021-08-31 20:49:27,237 - analytics - INFO - adding centrality features, nodes: 1769, edges: 36791\n"
     ]
    },
    {
     "output_type": "stream",
     "name": "stdout",
     "text": [
      "creating communities\n",
      "creating communities\n"
     ]
    },
    {
     "output_type": "stream",
     "name": "stderr",
     "text": [
      "2021-08-31 20:49:59,320 - analytics - INFO - adding centrality features, nodes: 1233, edges: 29939\n",
      "2021-08-31 20:50:02,790 - analytics - INFO - adding centrality features, nodes: 3323, edges: 52624\n"
     ]
    },
    {
     "output_type": "stream",
     "name": "stdout",
     "text": [
      "creating communities\n",
      "creating communities\n",
      "creating communities\n"
     ]
    },
    {
     "output_type": "stream",
     "name": "stderr",
     "text": [
      "2021-08-31 20:50:17,335 - analytics - INFO - adding centrality features, nodes: 1381, edges: 25515\n",
      "2021-08-31 20:50:20,211 - analytics - INFO - adding centrality features, nodes: 3150, edges: 69612\n"
     ]
    },
    {
     "output_type": "stream",
     "name": "stdout",
     "text": [
      "creating communities\n",
      "creating communities\n",
      "creating communities\n",
      "creating communities\n",
      "creating communities\n"
     ]
    },
    {
     "output_type": "stream",
     "name": "stderr",
     "text": [
      "2021-08-31 20:50:42,921 - analytics - INFO - adding centrality features, nodes: 986, edges: 20467\n",
      "2021-08-31 20:50:48,213 - analytics - INFO - adding centrality features, nodes: 898, edges: 22622\n"
     ]
    },
    {
     "output_type": "stream",
     "name": "stdout",
     "text": [
      "creating communities\n"
     ]
    },
    {
     "output_type": "stream",
     "name": "stderr",
     "text": [
      "2021-08-31 20:50:54,824 - analytics - INFO - adding centrality features, nodes: 2919, edges: 47747\n"
     ]
    },
    {
     "output_type": "stream",
     "name": "stdout",
     "text": [
      "creating communities\n",
      "creating communities\n",
      "creating communities\n"
     ]
    },
    {
     "output_type": "stream",
     "name": "stderr",
     "text": [
      "2021-08-31 20:51:13,123 - analytics - INFO - adding centrality features, nodes: 1654, edges: 37772\n"
     ]
    },
    {
     "output_type": "stream",
     "name": "stdout",
     "text": [
      "creating communities\n",
      "creating communities\n",
      "creating communities\n",
      "creating communitiescreating communities\n",
      "\n"
     ]
    },
    {
     "output_type": "stream",
     "name": "stderr",
     "text": [
      "2021-08-31 20:51:42,472 - analytics - INFO - adding centrality features, nodes: 2226, edges: 46114\n"
     ]
    },
    {
     "output_type": "stream",
     "name": "stdout",
     "text": [
      "creating communities\n",
      "creating communities\n"
     ]
    },
    {
     "output_type": "stream",
     "name": "stderr",
     "text": [
      "2021-08-31 20:51:48,924 - analytics - INFO - adding centrality features, nodes: 1635, edges: 36510\n"
     ]
    },
    {
     "output_type": "stream",
     "name": "stdout",
     "text": [
      "creating communities\n"
     ]
    },
    {
     "output_type": "stream",
     "name": "stderr",
     "text": [
      "2021-08-31 20:51:57,129 - analytics - INFO - adding centrality features, nodes: 1514, edges: 33626\n"
     ]
    },
    {
     "output_type": "stream",
     "name": "stdout",
     "text": [
      "creating communities\n"
     ]
    },
    {
     "output_type": "stream",
     "name": "stderr",
     "text": [
      "2021-08-31 20:52:07,742 - analytics - INFO - adding centrality features, nodes: 897, edges: 18116\n"
     ]
    },
    {
     "output_type": "stream",
     "name": "stdout",
     "text": [
      "creating communities\n",
      "creating communities\n"
     ]
    },
    {
     "output_type": "stream",
     "name": "stderr",
     "text": [
      "2021-08-31 20:52:22,284 - analytics - INFO - adding centrality features, nodes: 2217, edges: 47689\n"
     ]
    },
    {
     "output_type": "stream",
     "name": "stdout",
     "text": [
      "creating communities\n",
      "creating communities\n",
      "creating communities\n",
      "creating communities\n",
      "creating communities\n"
     ]
    },
    {
     "output_type": "stream",
     "name": "stderr",
     "text": [
      "2021-08-31 20:52:49,647 - analytics - INFO - adding centrality features, nodes: 845, edges: 18678\n"
     ]
    },
    {
     "output_type": "stream",
     "name": "stdout",
     "text": [
      "creating communities\n",
      "creating communities\n"
     ]
    },
    {
     "output_type": "stream",
     "name": "stderr",
     "text": [
      "2021-08-31 20:52:55,105 - analytics - INFO - adding centrality features, nodes: 3819, edges: 75933\n"
     ]
    },
    {
     "output_type": "stream",
     "name": "stdout",
     "text": [
      "creating communities\n",
      "creating communities\n",
      "creating communities\n",
      "creating communities\n"
     ]
    },
    {
     "output_type": "stream",
     "name": "stderr",
     "text": [
      "2021-08-31 20:53:04,625 - analytics - INFO - adding centrality features, nodes: 2298, edges: 46924\n"
     ]
    },
    {
     "output_type": "stream",
     "name": "stdout",
     "text": [
      "creating communities\n"
     ]
    },
    {
     "output_type": "stream",
     "name": "stderr",
     "text": [
      "2021-08-31 20:53:13,870 - analytics - INFO - adding centrality features, nodes: 2070, edges: 39059\n",
      "2021-08-31 20:53:14,579 - analytics - INFO - adding centrality features, nodes: 2142, edges: 42652\n"
     ]
    },
    {
     "output_type": "stream",
     "name": "stdout",
     "text": [
      "creating communities\n",
      "creating communities\n",
      "creating communities\n"
     ]
    },
    {
     "output_type": "stream",
     "name": "stderr",
     "text": [
      "2021-08-31 20:53:35,370 - analytics - INFO - adding centrality features, nodes: 1916, edges: 28825\n"
     ]
    },
    {
     "output_type": "stream",
     "name": "stdout",
     "text": [
      "creating communities\n",
      "creating communities\n",
      "creating communities\n"
     ]
    },
    {
     "output_type": "stream",
     "name": "stderr",
     "text": [
      "2021-08-31 20:53:48,555 - analytics - INFO - adding centrality features, nodes: 2156, edges: 42229\n"
     ]
    },
    {
     "output_type": "stream",
     "name": "stdout",
     "text": [
      "creating communities\n",
      "creating communities\n",
      "creating communities\n",
      "creating communities\n",
      "creating communities\n",
      "creating communities\n"
     ]
    },
    {
     "output_type": "stream",
     "name": "stderr",
     "text": [
      "2021-08-31 20:53:58,580 - analytics - INFO - adding centrality features, nodes: 756, edges: 18483\n",
      "2021-08-31 20:54:02,822 - analytics - INFO - adding centrality features, nodes: 2018, edges: 38103\n"
     ]
    },
    {
     "output_type": "stream",
     "name": "stdout",
     "text": [
      "creating communities\n",
      "creating communities\n",
      "creating communities\n",
      "creating communities\n"
     ]
    },
    {
     "output_type": "stream",
     "name": "stderr",
     "text": [
      "2021-08-31 20:54:15,458 - analytics - INFO - adding centrality features, nodes: 1884, edges: 31464\n"
     ]
    },
    {
     "output_type": "stream",
     "name": "stdout",
     "text": [
      "creating communities\n",
      "creating communities\n",
      "creating communities\n",
      "creating communities\n",
      "creating communities\n"
     ]
    },
    {
     "output_type": "stream",
     "name": "stderr",
     "text": [
      "2021-08-31 20:54:42,497 - analytics - INFO - adding centrality features, nodes: 1275, edges: 14275\n",
      "2021-08-31 20:54:42,702 - analytics - INFO - adding centrality features, nodes: 1788, edges: 43960\n"
     ]
    },
    {
     "output_type": "stream",
     "name": "stdout",
     "text": [
      "creating communities\n",
      "creating communities\n",
      "creating communities\n"
     ]
    },
    {
     "output_type": "stream",
     "name": "stderr",
     "text": [
      "2021-08-31 20:54:51,192 - analytics - INFO - adding centrality features, nodes: 1198, edges: 20452\n",
      "2021-08-31 20:54:52,672 - analytics - INFO - adding centrality features, nodes: 894, edges: 16404\n"
     ]
    },
    {
     "output_type": "stream",
     "name": "stdout",
     "text": [
      "creating communities\n",
      "creating communities\n",
      "creating communities\n",
      "creating communities\n",
      "creating communities\n",
      "creating communities\n",
      "creating communities\n",
      "creating communities\n",
      "creating communities\n"
     ]
    },
    {
     "output_type": "stream",
     "name": "stderr",
     "text": [
      "2021-08-31 20:55:28,371 - analytics - INFO - adding centrality features, nodes: 2269, edges: 41895\n",
      "2021-08-31 20:55:30,181 - analytics - INFO - adding centrality features, nodes: 2206, edges: 49145\n",
      "2021-08-31 20:55:32,856 - analytics - INFO - adding centrality features, nodes: 1613, edges: 29814\n",
      "2021-08-31 20:55:33,551 - analytics - INFO - adding centrality features, nodes: 1698, edges: 41137\n"
     ]
    },
    {
     "output_type": "stream",
     "name": "stdout",
     "text": [
      "creating communities\n",
      "creating communities\n",
      "creating communities\n",
      "creating communities\n",
      "creating communities\n"
     ]
    },
    {
     "output_type": "stream",
     "name": "stderr",
     "text": [
      "2021-08-31 20:55:42,340 - analytics - INFO - adding centrality features, nodes: 768, edges: 16880\n"
     ]
    },
    {
     "output_type": "stream",
     "name": "stdout",
     "text": [
      "creating communities\n",
      "creating communities\n"
     ]
    },
    {
     "output_type": "stream",
     "name": "stderr",
     "text": [
      "2021-08-31 20:55:51,177 - analytics - INFO - adding centrality features, nodes: 1787, edges: 38341\n"
     ]
    },
    {
     "output_type": "stream",
     "name": "stdout",
     "text": [
      "creating communities\n",
      "creating communities\n",
      "creating communities\n",
      "creating communities\n",
      "creating communities\n"
     ]
    },
    {
     "output_type": "stream",
     "name": "stderr",
     "text": [
      "2021-08-31 20:56:13,642 - analytics - INFO - adding centrality features, nodes: 1369, edges: 32353\n",
      "2021-08-31 20:56:18,484 - analytics - INFO - adding centrality features, nodes: 2214, edges: 38247\n"
     ]
    },
    {
     "output_type": "stream",
     "name": "stdout",
     "text": [
      "creating communities\n",
      "creating communities\n",
      "creating communities\n",
      "creating communities\n",
      "creating communities\n"
     ]
    },
    {
     "output_type": "stream",
     "name": "stderr",
     "text": [
      "2021-08-31 20:56:36,469 - analytics - INFO - adding centrality features, nodes: 2308, edges: 39364\n"
     ]
    },
    {
     "output_type": "stream",
     "name": "stdout",
     "text": [
      "creating communities\n",
      "creating communities\n"
     ]
    },
    {
     "output_type": "stream",
     "name": "stderr",
     "text": [
      "2021-08-31 20:56:40,970 - analytics - INFO - adding centrality features, nodes: 1981, edges: 41236\n"
     ]
    },
    {
     "output_type": "stream",
     "name": "stdout",
     "text": [
      "creating communities\n",
      "creating communities\n",
      "creating communities\n",
      "creating communities\n",
      "creating communities\n",
      "creating communities\n",
      "creating communities\n",
      "creating communities\n",
      "creating communities\n"
     ]
    },
    {
     "output_type": "stream",
     "name": "stderr",
     "text": [
      "2021-08-31 20:57:49,277 - analytics - INFO - adding centrality features, nodes: 1858, edges: 41260\n"
     ]
    },
    {
     "output_type": "stream",
     "name": "stdout",
     "text": [
      "creating communities\n",
      "creating communities\n",
      "creating communities\n",
      "creating communities\n",
      "creating communities\n"
     ]
    },
    {
     "output_type": "stream",
     "name": "stderr",
     "text": [
      "2021-08-31 20:58:32,339 - analytics - INFO - adding centrality features, nodes: 1739, edges: 36013\n"
     ]
    },
    {
     "output_type": "stream",
     "name": "stdout",
     "text": [
      "creating communities\n"
     ]
    },
    {
     "output_type": "stream",
     "name": "stderr",
     "text": [
      "2021-08-31 20:58:35,333 - analytics - INFO - adding centrality features, nodes: 1550, edges: 32445\n"
     ]
    },
    {
     "output_type": "stream",
     "name": "stdout",
     "text": [
      "creating communities\n",
      "creating communities\n",
      "creating communities\n",
      "creating communities\n",
      "creating communities\n"
     ]
    },
    {
     "output_type": "stream",
     "name": "stderr",
     "text": [
      "2021-08-31 20:59:14,673 - analytics - INFO - adding centrality features, nodes: 2541, edges: 59429\n"
     ]
    },
    {
     "output_type": "stream",
     "name": "stdout",
     "text": [
      "creating communities\n"
     ]
    },
    {
     "output_type": "stream",
     "name": "stderr",
     "text": [
      "2021-08-31 20:59:31,851 - analytics - INFO - adding centrality features, nodes: 1194, edges: 23654\n"
     ]
    },
    {
     "output_type": "stream",
     "name": "stdout",
     "text": [
      "creating communities\n",
      "creating communities\n",
      "creating communities\n",
      "creating communities\n",
      "creating communities\n",
      "creating communities\n",
      "creating communities\n",
      "creating communities\n",
      "creating communities\n",
      "creating communities\n",
      "creating communities\n",
      "creating communities\n",
      "creating communities\n",
      "creating communities\n",
      "creating communities\n",
      "creating communities\n",
      "creating communities\n",
      "creating communities\n",
      "creating communities\n"
     ]
    },
    {
     "output_type": "stream",
     "name": "stderr",
     "text": [
      "2021-08-31 21:02:14,817 - analytics - INFO - adding centrality features, nodes: 1595, edges: 30055\n"
     ]
    },
    {
     "output_type": "stream",
     "name": "stdout",
     "text": [
      "creating communities\n",
      "creating communities\n",
      "creating communities\n",
      "creating communities\n",
      "creating communities\n",
      "creating communities\n"
     ]
    },
    {
     "output_type": "stream",
     "name": "stderr",
     "text": [
      "2021-08-31 21:06:19,233 - analytics - INFO - adding centrality features, nodes: 965, edges: 21718\n"
     ]
    },
    {
     "output_type": "stream",
     "name": "stdout",
     "text": [
      "creating communities\n",
      "creating communities\n",
      "creating communities\n",
      "creating communities\n",
      "creating communities\n",
      "creating communities\n",
      "creating communities\n",
      "torch.Size([1452185, 9]) torch.Size([2, 57299834]) 9\n"
     ]
    }
   ],
   "metadata": {
    "tags": []
   }
  },
  {
   "cell_type": "code",
   "execution_count": null,
   "source": [
    "# edges_intra_sent, edges_seq_sent = get_inter_sentence_connections(train_dataset.nodes_map)\n",
    "# edge_index_seq_sent = torch.tensor(edges_seq_sent, dtype=torch.long)\n",
    "# train_dataset.edge_index_seq_sent = edge_index_seq_sent\n",
    "# torch.cuda.set_device(int(free_gpu1))\n",
    "# edge_index_intra_sent = torch.tensor(edges_intra_sent, dtype=torch.long)\n",
    "# train_dataset.edge_index_intra_sent = edge_index_intra_sent\n",
    "# test_edge_index_intra_sent = train_dataset.edge_index_intra_sent\n",
    "# print(train_dataset.edge_index_intra_sent.shape)"
   ],
   "outputs": [],
   "metadata": {
    "tags": []
   }
  },
  {
   "cell_type": "code",
   "execution_count": null,
   "source": [
    "#import pickle\n",
    "#import torch\n",
    "## with open(\"./features_edge.pickle\", 'wb') as of:\n",
    "##     pickle.dump(features_edge, of)\n",
    "\n",
    "## print('done first')\n",
    "## with open(\"/mounts/work/ayyoob/models/gnn//x_edge.pickle\", 'wb') as of:\n",
    "##     pickle.dump(x_edge, of)\n",
    "\n",
    "#with open(\"./features_edge.pickle\", 'rb') as inf:\n",
    "#    features_edge = pickle.load(inf)\n",
    "\n",
    "\n",
    "## indices = [[],[]]\n",
    "## values = []\n",
    "\n",
    "## print('going to create sparse matrix representation')\n",
    "## for i in range(len(ss)):\n",
    "##     print(i)\n",
    "##     for j in range(len(ss)):\n",
    "##         if ss[i][j] != None and ss[i][j] != []:\n",
    "##             indices[0].append(i)\n",
    "##             indices[1].append(j)\n",
    "##             values.append(ss[i][j])\n",
    "\n",
    "\n",
    "## with open(\"./edge_attribs_sparse_indices.pickle\", 'wb') as of:\n",
    "##     pickle.dump(indices, of)\n",
    "\n",
    "## with open(\"./edge_attribs_sparse_values.pickle\", 'wb') as of:\n",
    "##     pickle.dump(values, of)\n",
    "\n",
    "## print('loading indices')\n",
    "## with open(\"./edge_attribs_sparse_indices.pickle\", 'rb') as inf:\n",
    "##     indices = pickle.load(inf)\n",
    "\n",
    "## print('loading values')\n",
    "## with open(\"./edge_attribs_sparse_values.pickle\", 'rb') as inf:\n",
    "##     values = pickle.load(inf)\n",
    "\n",
    "## print('creating sparse tensor')\n",
    "## s = torch.sparse_coo_tensor(indices, values, (67800, 67800, len(ff)), dtype=torch.float16)\n",
    "## print('saving sparse matrix')\n",
    "## torch.save(s, \"/mounts/work/ayyoob/models/gnn/edge_attribs_tensor16.pickle\")\n",
    "\n",
    "#print('loading sparse matrix')\n",
    "#x_edge = torch.load(\"/mounts/work/ayyoob/models/gnn/edge_attribs_tensor.pickle\")\n",
    "\n",
    "\n",
    "#train_dataset.features_edge = features_edge\n",
    "\n"
   ],
   "outputs": [],
   "metadata": {
    "tags": []
   }
  },
  {
   "cell_type": "code",
   "execution_count": null,
   "source": [
    "#from scipy.sparse import csr_matrix\n",
    "#import numpy as np\n",
    "\n",
    "#x_edge = x_edge.coalesce()\n",
    "#torch.cuda.set_device(1)\n",
    "#x_edge_vals = x_edge.values()\n",
    "#indices_np = x_edge.indices().numpy()\n",
    "#print(indices_np.shape)\n",
    "#x_edge_np = csr_matrix((np.arange(indices_np.shape[1]), (indices_np[0, :], indices_np[1,:])), shape=(67800, 67800))\n",
    "#print(\"done\")"
   ],
   "outputs": [],
   "metadata": {}
  },
  {
   "cell_type": "code",
   "execution_count": null,
   "source": [
    "##x_edge_vals = x_edge_vals.cpu()\n",
    "##maxes = torch.max(x_edge_vals,0)\n",
    "##mins = torch.min(x_edge_vals,0)\n",
    "##x_edge_vals_d = torch.div(x_edge_vals, maxes.values)\n",
    "\n",
    "#targets = torch.zeros(indices_np.shape[1], dtype=torch.int64)\n",
    "#pos_indices = x_edge_np[train_dataset.edge_index.cpu().numpy()[0,:], train_dataset.edge_index.cpu().numpy()[1,:]]\n",
    "#pos_indices = np.squeeze(np.asarray(pos_indices))\n",
    "#targets[pos_indices] = 1"
   ],
   "outputs": [],
   "metadata": {}
  },
  {
   "cell_type": "code",
   "execution_count": null,
   "source": [
    "#run on delta, extract w2v features\n",
    "sys.path.insert(0, '../')\n",
    "import pickle\n",
    "from gensim.models import Word2Vec\n",
    "from app import document_retrieval\n",
    "from my_utils import utils\n",
    "config_file = \"/mounts/Users/student/ayyoob/Dokumente/code/pbc-ui-demo/config_pbc.ini\"\n",
    "utils.setup(config_file)\n",
    "import torch\n",
    "import my_utils.alignment_features as feat_utils\n",
    "importlib.reload(document_retrieval)\n",
    "\n",
    "doc_retriever = document_retrieval.DocumentRetriever()\n",
    "\n",
    "model_w2v = Word2Vec.load(\"/mounts/work/ayyoob/models/w2v/word2vec_helfi_langs_15e.model\")\n",
    "#train_dataset = torch.load(\"/mounts/work/ayyoob/models/gnn/dataset_hib_fin_full.pickle\")\n",
    "nodes_map = train_dataset.nodes_map\n",
    "\n",
    "x = [[] for i in range(train_dataset.x.shape[0])]\n",
    "for edition_f in nodes_map:\n",
    "    utils.LOG.info(f\"processing edition {edition_f}\")\n",
    "    for verse in nodes_map[edition_f]:         #toknom nodecount\n",
    "        line = doc_retriever.retrieve_document(f'{verse}@{edition_f}')\n",
    "        line = line.strip().split()\n",
    "\n",
    "        for tok in nodes_map[edition_f][verse]:\n",
    "            w_emb = model_w2v.wv[f'{edition_f[:3]}:{line[tok]}']\n",
    "            x[nodes_map[edition_f][verse][tok]].extend(w_emb)\n",
    "\n",
    "x = torch.tensor(x, dtype=torch.float)\n",
    "train_dataset.x = torch.cat((train_dataset.x, x), dim=1)\n",
    "train_dataset.features.append(feat_utils.ForwardFeature(100, 100, 'W2v'))\n",
    "\n",
    "print(x.shape, train_dataset.x.shape, len(train_dataset.features))\n",
    "\n",
    "torch.save(train_dataset, \"/mounts/work/ayyoob/models/gnn/dataset_helfi_train_community.pickle\")"
   ],
   "outputs": [
    {
     "output_type": "stream",
     "name": "stderr",
     "text": [
      "2021-08-31 21:14:20,872 - analytics - INFO - processing edition eng-x-bible-mixed\n",
      "2021-08-31 21:14:20,872 - analytics - INFO - processing edition eng-x-bible-mixed\n",
      "2021-08-31 21:14:23,572 - analytics - INFO - processing edition deu-x-bible-newworld\n",
      "2021-08-31 21:14:23,572 - analytics - INFO - processing edition deu-x-bible-newworld\n",
      "2021-08-31 21:14:26,350 - analytics - INFO - processing edition ces-x-bible-newworld\n",
      "2021-08-31 21:14:26,350 - analytics - INFO - processing edition ces-x-bible-newworld\n",
      "2021-08-31 21:14:28,971 - analytics - INFO - processing edition fra-x-bible-louissegond\n",
      "2021-08-31 21:14:28,971 - analytics - INFO - processing edition fra-x-bible-louissegond\n",
      "2021-08-31 21:14:31,638 - analytics - INFO - processing edition ita-x-bible-2009\n",
      "2021-08-31 21:14:31,638 - analytics - INFO - processing edition ita-x-bible-2009\n",
      "2021-08-31 21:14:34,176 - analytics - INFO - processing edition spa-x-bible-newworld\n",
      "2021-08-31 21:14:34,176 - analytics - INFO - processing edition spa-x-bible-newworld\n",
      "2021-08-31 21:14:36,790 - analytics - INFO - processing edition prs-x-bible-goodnews\n",
      "2021-08-31 21:14:36,790 - analytics - INFO - processing edition prs-x-bible-goodnews\n",
      "2021-08-31 21:14:39,411 - analytics - INFO - processing edition ron-x-bible-2006\n",
      "2021-08-31 21:14:39,411 - analytics - INFO - processing edition ron-x-bible-2006\n",
      "2021-08-31 21:14:42,048 - analytics - INFO - processing edition hin-x-bible-newworld\n",
      "2021-08-31 21:14:42,048 - analytics - INFO - processing edition hin-x-bible-newworld\n",
      "2021-08-31 21:14:44,750 - analytics - INFO - processing edition zho-x-bible-newworld\n",
      "2021-08-31 21:14:44,750 - analytics - INFO - processing edition zho-x-bible-newworld\n",
      "2021-08-31 21:14:47,342 - analytics - INFO - processing edition afr-x-bible-newworld\n",
      "2021-08-31 21:14:47,342 - analytics - INFO - processing edition afr-x-bible-newworld\n",
      "2021-08-31 21:14:50,102 - analytics - INFO - processing edition sqi-x-bible\n",
      "2021-08-31 21:14:50,102 - analytics - INFO - processing edition sqi-x-bible\n",
      "2021-08-31 21:14:52,700 - analytics - INFO - processing edition arb-x-bible\n",
      "2021-08-31 21:14:52,700 - analytics - INFO - processing edition arb-x-bible\n",
      "2021-08-31 21:14:55,319 - analytics - INFO - processing edition hye-x-bible-newworld\n",
      "2021-08-31 21:14:55,319 - analytics - INFO - processing edition hye-x-bible-newworld\n",
      "2021-08-31 21:14:57,979 - analytics - INFO - processing edition aze-x-bible-newworld\n",
      "2021-08-31 21:14:57,979 - analytics - INFO - processing edition aze-x-bible-newworld\n",
      "2021-08-31 21:15:00,648 - analytics - INFO - processing edition bak-x-bible\n",
      "2021-08-31 21:15:00,648 - analytics - INFO - processing edition bak-x-bible\n",
      "2021-08-31 21:15:03,292 - analytics - INFO - processing edition eus-x-bible-batua\n",
      "2021-08-31 21:15:03,292 - analytics - INFO - processing edition eus-x-bible-batua\n",
      "2021-08-31 21:15:05,755 - analytics - INFO - processing edition bel-x-bible-bokun\n",
      "2021-08-31 21:15:05,755 - analytics - INFO - processing edition bel-x-bible-bokun\n",
      "2021-08-31 21:15:08,418 - analytics - INFO - processing edition ben-x-bible-common\n",
      "2021-08-31 21:15:08,418 - analytics - INFO - processing edition ben-x-bible-common\n",
      "2021-08-31 21:15:11,088 - analytics - INFO - processing edition bul-x-bible-newworld\n",
      "2021-08-31 21:15:11,088 - analytics - INFO - processing edition bul-x-bible-newworld\n",
      "2021-08-31 21:15:13,862 - analytics - INFO - processing edition mya-x-bible-newworld\n",
      "2021-08-31 21:15:13,862 - analytics - INFO - processing edition mya-x-bible-newworld\n",
      "2021-08-31 21:15:16,369 - analytics - INFO - processing edition cat-x-bible-evangelica\n",
      "2021-08-31 21:15:16,369 - analytics - INFO - processing edition cat-x-bible-evangelica\n",
      "2021-08-31 21:15:19,045 - analytics - INFO - processing edition ceb-x-bible-newworld\n",
      "2021-08-31 21:15:19,045 - analytics - INFO - processing edition ceb-x-bible-newworld\n",
      "2021-08-31 21:15:21,735 - analytics - INFO - processing edition che-x-bible\n",
      "2021-08-31 21:15:21,735 - analytics - INFO - processing edition che-x-bible\n",
      "2021-08-31 21:15:24,431 - analytics - INFO - processing edition chv-x-bible\n",
      "2021-08-31 21:15:24,431 - analytics - INFO - processing edition chv-x-bible\n",
      "2021-08-31 21:15:26,999 - analytics - INFO - processing edition hrv-x-bible-newworld\n",
      "2021-08-31 21:15:26,999 - analytics - INFO - processing edition hrv-x-bible-newworld\n",
      "2021-08-31 21:15:29,624 - analytics - INFO - processing edition dan-x-bible-newworld\n",
      "2021-08-31 21:15:29,624 - analytics - INFO - processing edition dan-x-bible-newworld\n",
      "2021-08-31 21:15:32,285 - analytics - INFO - processing edition nld-x-bible-newworld\n",
      "2021-08-31 21:15:32,285 - analytics - INFO - processing edition nld-x-bible-newworld\n",
      "2021-08-31 21:15:34,939 - analytics - INFO - processing edition est-x-bible-newworld2009\n",
      "2021-08-31 21:15:34,939 - analytics - INFO - processing edition est-x-bible-newworld2009\n",
      "2021-08-31 21:15:37,560 - analytics - INFO - processing edition kat-x-bible\n",
      "2021-08-31 21:15:37,560 - analytics - INFO - processing edition kat-x-bible\n",
      "2021-08-31 21:15:39,066 - analytics - INFO - processing edition ell-x-bible-modern2009\n",
      "2021-08-31 21:15:39,066 - analytics - INFO - processing edition ell-x-bible-modern2009\n",
      "2021-08-31 21:15:41,774 - analytics - INFO - processing edition guj-x-bible\n",
      "2021-08-31 21:15:41,774 - analytics - INFO - processing edition guj-x-bible\n",
      "2021-08-31 21:15:44,469 - analytics - INFO - processing edition hat-x-bible-newworld2007\n",
      "2021-08-31 21:15:44,469 - analytics - INFO - processing edition hat-x-bible-newworld2007\n",
      "2021-08-31 21:15:47,191 - analytics - INFO - processing edition hun-x-bible-2012\n",
      "2021-08-31 21:15:47,191 - analytics - INFO - processing edition hun-x-bible-2012\n",
      "2021-08-31 21:15:49,819 - analytics - INFO - processing edition isl-x-bible\n",
      "2021-08-31 21:15:49,819 - analytics - INFO - processing edition isl-x-bible\n",
      "2021-08-31 21:15:52,409 - analytics - INFO - processing edition ind-x-bible-easy2005\n",
      "2021-08-31 21:15:52,409 - analytics - INFO - processing edition ind-x-bible-easy2005\n",
      "2021-08-31 21:15:55,021 - analytics - INFO - processing edition gle-x-bible\n",
      "2021-08-31 21:15:55,021 - analytics - INFO - processing edition gle-x-bible\n",
      "2021-08-31 21:15:57,696 - analytics - INFO - processing edition jav-x-bible-2006\n",
      "2021-08-31 21:15:57,696 - analytics - INFO - processing edition jav-x-bible-2006\n",
      "2021-08-31 21:16:00,348 - analytics - INFO - processing edition kan-x-bible-newworld\n",
      "2021-08-31 21:16:00,348 - analytics - INFO - processing edition kan-x-bible-newworld\n",
      "2021-08-31 21:16:02,915 - analytics - INFO - processing edition kaz-x-bible\n",
      "2021-08-31 21:16:02,915 - analytics - INFO - processing edition kaz-x-bible\n",
      "2021-08-31 21:16:05,530 - analytics - INFO - processing edition kir-x-bible-2005\n",
      "2021-08-31 21:16:05,530 - analytics - INFO - processing edition kir-x-bible-2005\n",
      "2021-08-31 21:16:08,090 - analytics - INFO - processing edition lat-x-bible-novavulgata\n",
      "2021-08-31 21:16:08,090 - analytics - INFO - processing edition lat-x-bible-novavulgata\n",
      "2021-08-31 21:16:10,691 - analytics - INFO - processing edition lav-x-bible\n",
      "2021-08-31 21:16:10,691 - analytics - INFO - processing edition lav-x-bible\n",
      "2021-08-31 21:16:13,245 - analytics - INFO - processing edition lit-x-bible-ecumenical\n",
      "2021-08-31 21:16:13,245 - analytics - INFO - processing edition lit-x-bible-ecumenical\n",
      "2021-08-31 21:16:15,855 - analytics - INFO - processing edition nds-x-bible\n",
      "2021-08-31 21:16:15,855 - analytics - INFO - processing edition nds-x-bible\n",
      "2021-08-31 21:16:18,455 - analytics - INFO - processing edition mkd-x-bible-2004\n",
      "2021-08-31 21:16:18,455 - analytics - INFO - processing edition mkd-x-bible-2004\n",
      "2021-08-31 21:16:21,079 - analytics - INFO - processing edition msa-x-bible-klinkert\n",
      "2021-08-31 21:16:21,079 - analytics - INFO - processing edition msa-x-bible-klinkert\n",
      "2021-08-31 21:16:23,680 - analytics - INFO - processing edition mal-x-bible\n",
      "2021-08-31 21:16:23,680 - analytics - INFO - processing edition mal-x-bible\n",
      "2021-08-31 21:16:26,176 - analytics - INFO - processing edition mar-x-bible\n",
      "2021-08-31 21:16:26,176 - analytics - INFO - processing edition mar-x-bible\n",
      "2021-08-31 21:16:28,762 - analytics - INFO - processing edition min-x-bible\n",
      "2021-08-31 21:16:28,762 - analytics - INFO - processing edition min-x-bible\n",
      "2021-08-31 21:16:31,436 - analytics - INFO - processing edition nep-x-bible-revised\n",
      "2021-08-31 21:16:31,436 - analytics - INFO - processing edition nep-x-bible-revised\n",
      "2021-08-31 21:16:34,018 - analytics - INFO - processing edition nob-x-bible-2011\n",
      "2021-08-31 21:16:34,018 - analytics - INFO - processing edition nob-x-bible-2011\n",
      "2021-08-31 21:16:36,440 - analytics - INFO - processing edition nno-x-bible-2011\n",
      "2021-08-31 21:16:36,440 - analytics - INFO - processing edition nno-x-bible-2011\n",
      "2021-08-31 21:16:38,899 - analytics - INFO - processing edition pol-x-bible-newworld\n",
      "2021-08-31 21:16:38,899 - analytics - INFO - processing edition pol-x-bible-newworld\n",
      "2021-08-31 21:16:41,474 - analytics - INFO - processing edition por-x-bible-versaointernacional\n",
      "2021-08-31 21:16:41,474 - analytics - INFO - processing edition por-x-bible-versaointernacional\n",
      "2021-08-31 21:16:43,989 - analytics - INFO - processing edition pan-x-bible-newworld\n",
      "2021-08-31 21:16:43,989 - analytics - INFO - processing edition pan-x-bible-newworld\n",
      "2021-08-31 21:16:46,644 - analytics - INFO - processing edition rus-x-bible-slovozhizny2006\n",
      "2021-08-31 21:16:46,644 - analytics - INFO - processing edition rus-x-bible-slovozhizny2006\n",
      "2021-08-31 21:16:49,167 - analytics - INFO - processing edition srp-x-bible-newworld\n",
      "2021-08-31 21:16:49,167 - analytics - INFO - processing edition srp-x-bible-newworld\n",
      "2021-08-31 21:16:51,723 - analytics - INFO - processing edition slk-x-bible-standard\n",
      "2021-08-31 21:16:51,723 - analytics - INFO - processing edition slk-x-bible-standard\n",
      "2021-08-31 21:16:54,280 - analytics - INFO - processing edition slv-x-bible-newworld\n",
      "2021-08-31 21:16:54,280 - analytics - INFO - processing edition slv-x-bible-newworld\n",
      "2021-08-31 21:16:56,848 - analytics - INFO - processing edition sun-x-bible-formal\n",
      "2021-08-31 21:16:56,848 - analytics - INFO - processing edition sun-x-bible-formal\n",
      "2021-08-31 21:16:59,436 - analytics - INFO - processing edition swe-x-bible-newworld\n",
      "2021-08-31 21:16:59,436 - analytics - INFO - processing edition swe-x-bible-newworld\n",
      "2021-08-31 21:17:02,026 - analytics - INFO - processing edition tgl-x-bible-newworld\n",
      "2021-08-31 21:17:02,026 - analytics - INFO - processing edition tgl-x-bible-newworld\n",
      "2021-08-31 21:17:04,643 - analytics - INFO - processing edition tgk-x-bible\n",
      "2021-08-31 21:17:04,643 - analytics - INFO - processing edition tgk-x-bible\n",
      "2021-08-31 21:17:07,212 - analytics - INFO - processing edition tam-x-bible-newworld\n",
      "2021-08-31 21:17:07,212 - analytics - INFO - processing edition tam-x-bible-newworld\n",
      "2021-08-31 21:17:09,801 - analytics - INFO - processing edition tat-x-bible\n",
      "2021-08-31 21:17:09,801 - analytics - INFO - processing edition tat-x-bible\n",
      "2021-08-31 21:17:12,342 - analytics - INFO - processing edition tel-x-bible\n",
      "2021-08-31 21:17:12,342 - analytics - INFO - processing edition tel-x-bible\n",
      "2021-08-31 21:17:14,962 - analytics - INFO - processing edition tur-x-bible-2009\n",
      "2021-08-31 21:17:14,962 - analytics - INFO - processing edition tur-x-bible-2009\n",
      "2021-08-31 21:17:17,385 - analytics - INFO - processing edition ukr-x-bible-2009\n",
      "2021-08-31 21:17:17,385 - analytics - INFO - processing edition ukr-x-bible-2009\n",
      "2021-08-31 21:17:19,942 - analytics - INFO - processing edition urd-x-bible-revised2010\n",
      "2021-08-31 21:17:19,942 - analytics - INFO - processing edition urd-x-bible-revised2010\n",
      "2021-08-31 21:17:22,476 - analytics - INFO - processing edition uzb-x-bible-latin2013\n",
      "2021-08-31 21:17:22,476 - analytics - INFO - processing edition uzb-x-bible-latin2013\n",
      "2021-08-31 21:17:24,994 - analytics - INFO - processing edition vie-x-bible-newworld\n",
      "2021-08-31 21:17:24,994 - analytics - INFO - processing edition vie-x-bible-newworld\n",
      "2021-08-31 21:17:27,629 - analytics - INFO - processing edition war-x-bible-newworld\n",
      "2021-08-31 21:17:27,629 - analytics - INFO - processing edition war-x-bible-newworld\n",
      "2021-08-31 21:17:30,230 - analytics - INFO - processing edition cym-x-bible-colloquial2013\n",
      "2021-08-31 21:17:30,230 - analytics - INFO - processing edition cym-x-bible-colloquial2013\n",
      "2021-08-31 21:17:32,836 - analytics - INFO - processing edition fry-x-bible\n",
      "2021-08-31 21:17:32,836 - analytics - INFO - processing edition fry-x-bible\n",
      "2021-08-31 21:17:35,489 - analytics - INFO - processing edition yor-x-bible-2010\n",
      "2021-08-31 21:17:35,489 - analytics - INFO - processing edition yor-x-bible-2010\n",
      "2021-08-31 21:17:38,077 - analytics - INFO - processing edition swh-x-bible-newworld\n",
      "2021-08-31 21:17:38,077 - analytics - INFO - processing edition swh-x-bible-newworld\n",
      "2021-08-31 21:17:40,671 - analytics - INFO - processing edition fin-x-bible-helfi\n",
      "2021-08-31 21:17:40,671 - analytics - INFO - processing edition fin-x-bible-helfi\n",
      "2021-08-31 21:17:43,265 - analytics - INFO - processing edition grc-x-bible-helfi\n",
      "2021-08-31 21:17:43,265 - analytics - INFO - processing edition grc-x-bible-helfi\n",
      "2021-08-31 21:17:45,896 - analytics - INFO - processing edition bre-x-bible\n",
      "2021-08-31 21:17:45,896 - analytics - INFO - processing edition bre-x-bible\n",
      "2021-08-31 21:17:47,045 - analytics - INFO - processing edition kor-x-bible-newworld2014\n",
      "2021-08-31 21:17:47,045 - analytics - INFO - processing edition kor-x-bible-newworld2014\n"
     ]
    },
    {
     "output_type": "stream",
     "name": "stdout",
     "text": [
      "torch.Size([1452185, 100]) torch.Size([1452185, 109]) 10\n"
     ]
    }
   ],
   "metadata": {}
  },
  {
   "cell_type": "code",
   "execution_count": null,
   "source": [
    "len(train_dataset.nodes_map.keys())"
   ],
   "outputs": [
    {
     "output_type": "execute_result",
     "data": {
      "text/plain": [
       "81"
      ]
     },
     "metadata": {},
     "execution_count": 19
    }
   ],
   "metadata": {}
  },
  {
   "cell_type": "code",
   "execution_count": null,
   "source": [
    "from gnn_utils.eval_utils import *\n",
    "train_dataset.train_mask = train_dataset.val_mask = train_dataset.test_mask = train_dataset.y = None\n",
    "test_dataset.train_mask = test_dataset.val_mask = test_dataset.test_mask = test_dataset.y = None\n",
    "\n",
    "div1 = 1\n",
    "div2 = 2\n",
    "torch.cuda.set_device(div1)\n",
    "print(\"device: \", dev)\n",
    "# x_test, test_dataset.edge_index, test_dataset.neg_edge_index = test_dataset.x.to(dev), test_dataset.edge_index.to(dev), test_dataset.neg_edge_index.to(dev)\n",
    "x = train_dataset.x.to(dev)\n",
    "# edge_index_intra_sent, edge_index_seq_sent = train_dataset.edge_index_intra_sent.to(dev), train_dataset.edge_index_seq_sent.to(dev)\n",
    "edge_index_intra_sent, edge_index_seq_sent = torch.tensor([[],[]], dtype=torch.long).to(dev), train_dataset.edge_index_seq_sent.to(dev)\n",
    "test_edge_index_intra_sent = edge_index_intra_sent\n",
    "\n",
    "train_pos_edge_index = train_dataset.edge_index.to(dev)\n",
    "x_test, test_dataset.edge_index = x, train_pos_edge_index\n",
    "target_tensors = {}\n",
    "targets = targets.to(dev)\n"
   ],
   "outputs": [
    {
     "output_type": "error",
     "ename": "RuntimeError",
     "evalue": "Found no NVIDIA driver on your system. Please check that you have an NVIDIA GPU and installed a driver from http://www.nvidia.com/Download/index.aspx",
     "traceback": [
      "\u001b[0;31m---------------------------------------------------------------------------\u001b[0m",
      "\u001b[0;31mRuntimeError\u001b[0m                              Traceback (most recent call last)",
      "\u001b[0;32m<ipython-input-16-389dbe000149>\u001b[0m in \u001b[0;36m<module>\u001b[0;34m\u001b[0m\n\u001b[1;32m      5\u001b[0m \u001b[0mdiv1\u001b[0m \u001b[0;34m=\u001b[0m \u001b[0;36m1\u001b[0m\u001b[0;34m\u001b[0m\u001b[0;34m\u001b[0m\u001b[0m\n\u001b[1;32m      6\u001b[0m \u001b[0mdiv2\u001b[0m \u001b[0;34m=\u001b[0m \u001b[0;36m2\u001b[0m\u001b[0;34m\u001b[0m\u001b[0;34m\u001b[0m\u001b[0m\n\u001b[0;32m----> 7\u001b[0;31m \u001b[0mtorch\u001b[0m\u001b[0;34m.\u001b[0m\u001b[0mcuda\u001b[0m\u001b[0;34m.\u001b[0m\u001b[0mset_device\u001b[0m\u001b[0;34m(\u001b[0m\u001b[0mdiv1\u001b[0m\u001b[0;34m)\u001b[0m\u001b[0;34m\u001b[0m\u001b[0;34m\u001b[0m\u001b[0m\n\u001b[0m\u001b[1;32m      8\u001b[0m \u001b[0mprint\u001b[0m\u001b[0;34m(\u001b[0m\u001b[0;34m\"device: \"\u001b[0m\u001b[0;34m,\u001b[0m \u001b[0mdev\u001b[0m\u001b[0;34m)\u001b[0m\u001b[0;34m\u001b[0m\u001b[0;34m\u001b[0m\u001b[0m\n\u001b[1;32m      9\u001b[0m \u001b[0;31m# x_test, test_dataset.edge_index, test_dataset.neg_edge_index = test_dataset.x.to(dev), test_dataset.edge_index.to(dev), test_dataset.neg_edge_index.to(dev)\u001b[0m\u001b[0;34m\u001b[0m\u001b[0;34m\u001b[0m\u001b[0;34m\u001b[0m\u001b[0m\n",
      "\u001b[0;32m~/anaconda3/envs/multalign_graph/lib/python3.7/site-packages/torch/cuda/__init__.py\u001b[0m in \u001b[0;36mset_device\u001b[0;34m(device)\u001b[0m\n\u001b[1;32m    259\u001b[0m     \u001b[0mdevice\u001b[0m \u001b[0;34m=\u001b[0m \u001b[0m_get_device_index\u001b[0m\u001b[0;34m(\u001b[0m\u001b[0mdevice\u001b[0m\u001b[0;34m)\u001b[0m\u001b[0;34m\u001b[0m\u001b[0;34m\u001b[0m\u001b[0m\n\u001b[1;32m    260\u001b[0m     \u001b[0;32mif\u001b[0m \u001b[0mdevice\u001b[0m \u001b[0;34m>=\u001b[0m \u001b[0;36m0\u001b[0m\u001b[0;34m:\u001b[0m\u001b[0;34m\u001b[0m\u001b[0;34m\u001b[0m\u001b[0m\n\u001b[0;32m--> 261\u001b[0;31m         \u001b[0mtorch\u001b[0m\u001b[0;34m.\u001b[0m\u001b[0m_C\u001b[0m\u001b[0;34m.\u001b[0m\u001b[0m_cuda_setDevice\u001b[0m\u001b[0;34m(\u001b[0m\u001b[0mdevice\u001b[0m\u001b[0;34m)\u001b[0m\u001b[0;34m\u001b[0m\u001b[0;34m\u001b[0m\u001b[0m\n\u001b[0m\u001b[1;32m    262\u001b[0m \u001b[0;34m\u001b[0m\u001b[0m\n\u001b[1;32m    263\u001b[0m \u001b[0;34m\u001b[0m\u001b[0m\n",
      "\u001b[0;32m~/anaconda3/envs/multalign_graph/lib/python3.7/site-packages/torch/cuda/__init__.py\u001b[0m in \u001b[0;36m_lazy_init\u001b[0;34m()\u001b[0m\n\u001b[1;32m    168\u001b[0m         \u001b[0;31m# This function throws if there's a driver initialization error, no GPUs\u001b[0m\u001b[0;34m\u001b[0m\u001b[0;34m\u001b[0m\u001b[0;34m\u001b[0m\u001b[0m\n\u001b[1;32m    169\u001b[0m         \u001b[0;31m# are found or any other error occurs\u001b[0m\u001b[0;34m\u001b[0m\u001b[0;34m\u001b[0m\u001b[0;34m\u001b[0m\u001b[0m\n\u001b[0;32m--> 170\u001b[0;31m         \u001b[0mtorch\u001b[0m\u001b[0;34m.\u001b[0m\u001b[0m_C\u001b[0m\u001b[0;34m.\u001b[0m\u001b[0m_cuda_init\u001b[0m\u001b[0;34m(\u001b[0m\u001b[0;34m)\u001b[0m\u001b[0;34m\u001b[0m\u001b[0;34m\u001b[0m\u001b[0m\n\u001b[0m\u001b[1;32m    171\u001b[0m         \u001b[0;31m# Some of the queued calls may reentrantly call _lazy_init();\u001b[0m\u001b[0;34m\u001b[0m\u001b[0;34m\u001b[0m\u001b[0;34m\u001b[0m\u001b[0m\n\u001b[1;32m    172\u001b[0m         \u001b[0;31m# we need to just return without initializing in that case.\u001b[0m\u001b[0;34m\u001b[0m\u001b[0;34m\u001b[0m\u001b[0;34m\u001b[0m\u001b[0m\n",
      "\u001b[0;31mRuntimeError\u001b[0m: Found no NVIDIA driver on your system. Please check that you have an NVIDIA GPU and installed a driver from http://www.nvidia.com/Download/index.aspx"
     ]
    }
   ],
   "metadata": {}
  },
  {
   "cell_type": "code",
   "execution_count": null,
   "source": [
    "#from tqdm import tqdm\n",
    "#gc.collect()\n",
    "#with torch.no_grad():\n",
    "#    torch.cuda.empty_cache()\n",
    "\n",
    "#torch.cuda.set_device(div1)\n",
    "#run += 1\n",
    "#start_prune = 120\n",
    "#features_edge = [] #TODO remove me\n",
    "#features_edge = train_dataset.features_edge\n",
    "##features = train_dataset.features[:2]\n",
    "\n",
    "#drop_out = 0\n",
    "#pos_noise = 0.0\n",
    "#neg_noise = 0.0\n",
    "#n_head = 1\n",
    "\n",
    "\n",
    "#batch_size = 10000\n",
    "#channels = 48\n",
    "\n",
    "#in_dim = sum(t.out_dim for t in features)\n",
    "#decoder_in_dim = channels * 2 * n_head + len(features_edge) #+ sum(t.out_dim for t in features_edge)\n",
    "#print('edge features size: ', sum(t.out_dim for t in features_edge))\n",
    "#decoder = Decoder(n_head * channels *2, int(decoder_in_dim/2), features_edge)\n",
    "#model = pyg_nn.GAE(Encoder(in_dim, channels, features, n_head, edge_feature_dim=len(features_edge)), decoder=decoder).to(dev)\n",
    "\n",
    "#print(\"sending input to gpu\")\n",
    "#optimizer = torch.optim.AdamW(model.parameters(), lr=0.001)\n",
    "#criterion = TruncatedLoss(q=0.1,k=0.49,trainset_size=x_edge_vals.shape[0]).to(dev)\n",
    "#writer = SummaryWriter(\"./log/\" + datetime.now().strftime(\"%Y%m%d-%H%M%S-\") + f\"samett-{channels}chs-feat{train_dataset.num_node_features}-\")\n",
    "\n",
    "#torch.set_printoptions(edgeitems=5)\n",
    "#print(\"model params - decoder params - conv1\", sum(p.numel() for p in model.parameters()), sum(p.numel() for p in decoder.parameters()))\n",
    "#best_f1 = 0\n",
    "\n",
    "for epoch in range(1, 200):\n",
    "\n",
    "    train_neg_edge_index = get_negative_edges(train_verses, small_editions, train_dataset.nodes_map,  verse_alignments_inter).to(dev)\n",
    "    #edge_index_seq_sent_neg = get_negative_edges_seq(train_dataset.nodes_map).to(dev)\n",
    "\n",
    "    train(epoch)\n",
    "    print(\"epoch\", epoch)\n",
    "    if epoch % 1 == 0:\n",
    "        f1 = eval_utils.alignment_test(epoch, test_dataset.edge_index, editf1, editf2, test_verses, test_nodes_map,\n",
    "                        dev, model, x_test, pros, surs, verse_alignments_inter, verse_alignments_gdfa, writer)\n",
    "\n",
    "        if f1 > best_f1:\n",
    "            best_f1 = f1\n",
    "            checkpoint(f1, epoch, model, run)\n",
    "        if not os.path.isdir('/mounts/work/ayyoob/models/gnn/checkpoint'):\n",
    "            os.mkdir('/mounts/work/ayyoob/models/gnn/checkpoint')\n",
    "\n",
    "        state = {\n",
    "            'current_net': model,\n",
    "        }\n",
    "        torch.save(state, '/mounts/work/ayyoob/models/gnn/checkpoint/current_net')\n",
    "        state[\"current_net\"] = None\n",
    "\n",
    "    gc.collect()\n",
    "    with torch.no_grad():   \n",
    "        torch.cuda.empty_cache()\n",
    "\n",
    "# if epoch == 4:\n",
    "#     optimizer = torch.optim.AdamW(model.parameters(), lr=0.001)"
   ],
   "outputs": [],
   "metadata": {
    "tags": []
   }
  },
  {
   "cell_type": "code",
   "execution_count": null,
   "source": [
    "torch.cuda.set_device(div1)\n",
    "\n",
    "from gnn_utils import eval_utils\n",
    "importlib.reload(eval_utils)\n",
    "eval_utils.alignment_test(epoch, test_dataset.edge_index, editf1, editf2, test_verses, test_nodes_map,\n",
    "                        dev, model, x_test, pros, surs, verse_alignments_inter, verse_alignments_gdfa, writer)"
   ],
   "outputs": [],
   "metadata": {}
  },
  {
   "cell_type": "code",
   "execution_count": null,
   "source": [
    "global model, decoder\n",
    "1/0\n",
    "decoder = None\n",
    "model = None\n",
    "\n",
    "gc.collect()\n",
    "with torch.no_grad():\n",
    "    torch.cuda.empty_cache()"
   ],
   "outputs": [],
   "metadata": {}
  },
  {
   "cell_type": "code",
   "execution_count": null,
   "source": [
    "#features = train_dataset.features[:]\n",
    "#features_edge = train_dataset.features_edge[:]\n",
    "from pprint import pprint\n",
    "print('indim',in_dim)\n",
    "#features[-1].out_dim = 50\n",
    "for i in features_edge:\n",
    "    #if i.type==3:\n",
    "    #    i.out_dim=4\n",
    "    print(vars(i))\n",
    "\n",
    "#sum(p.out_dim for p in features)\n",
    "#features[-1].out_dim = 10\n"
   ],
   "outputs": [],
   "metadata": {}
  },
  {
   "cell_type": "code",
   "execution_count": null,
   "source": [
    "# count number of deleted edges by each community detection method\n",
    "# from networkx.algorithms.community import greedy_modularity_communities, asyn_lpa_communities, label_propagation_communities, asyn_fluidc\n",
    "\n",
    "# tmp_verses = [all_verses[2]]\n",
    "# tmp_editions = small_editions[:10]\n",
    "# tmp_dataset, tmp_nodes_map = create_dataset(tmp_verses, verse_alignments_inter, tmp_editions)\n",
    "\n",
    "# tmp_g = pyg_utils.convert.to_networkx(tmp_dataset, to_undirected=True)\n",
    "# def count_deleted_edges(tmp_dataset, c):\n",
    "#     deleted_edges = 0\n",
    "#     for i in range(0, len(tmp_dataset.edge_index[0]), 2):\n",
    "#         for comp in c:\n",
    "#             if tmp_dataset.edge_index[0][i].item() in comp and tmp_dataset.edge_index[1][i].item() not in comp:\n",
    "#                 deleted_edges += 1\n",
    "    \n",
    "#     return deleted_edges\n",
    "\n",
    "# print(\"eng token count: \", tmp_nodes_map['eng-x-bible-mixed'][tmp_verses[0]])\n",
    "# print(\"original connected components\",nx.number_connected_components(tmp_g))\n",
    "\n",
    "# c = list(greedy_modularity_communities(tmp_g))\n",
    "# print(\"new connected_components\", len(c))\n",
    "# print(\"deleted edges: \", count_deleted_edges(tmp_dataset, c))\n",
    "\n",
    "# c = list(asyn_lpa_communities(tmp_g))\n",
    "# print(\"asyn_lpa_communities number of components\", len(c))\n",
    "# print(\"deleted edges: \", count_deleted_edges(tmp_dataset, c))\n",
    "\n",
    "# c = list(label_propagation_communities(tmp_g))\n",
    "# print(\"label_propagation_communities number of components\", len(c))\n",
    "# print(\"deleted edges: \", count_deleted_edges(tmp_dataset, c))\n",
    "\n",
    "# cents = nx.edge_betweenness_centrality(tmp_g)\n",
    "# vals = sorted(list(cents.values()))\n",
    "# print(vals[0], vals[10], vals[100], vals[1000], vals[2000], vals[3000], vals[10000])\n",
    "# print(vals[-1], vals[-10], vals[-100], vals[-1000], vals[-2000], vals[-3000], vals[-10000])\n",
    "\n"
   ],
   "outputs": [],
   "metadata": {}
  },
  {
   "cell_type": "code",
   "execution_count": null,
   "source": [
    "# measure different community detection algorithms\n",
    "# from networkx.algorithms.community import greedy_modularity_communities, asyn_lpa_communities, label_propagation_communities, asyn_fluidc\n",
    "\n",
    "# def remove_bad_community_edges(nodes_map, verses, edition_files, alignments):\n",
    "#     edges_tmp = [[],[]]\n",
    "#     res_edges = [[],[]]\n",
    "#     for verse in verses:\n",
    "#         utils.LOG.info(f\"extracting edge features for {verse}\")\n",
    "#         for i,editf1 in enumerate(edition_files):\n",
    "#             for j,editf2 in enumerate(edition_files[i+1:]):\n",
    "#                 aligns = autils.get_aligns(editf1, editf2, alignments[verse])\n",
    "#                 if aligns != None:\n",
    "#                     for align in aligns:\n",
    "#                         n1, node_count = node_nom(verse, editf1, align[0], 0, nodes_map, None, None)\n",
    "#                         n2, node_count = node_nom(verse, editf2, align[1], 0, nodes_map, None, None)\n",
    "#                         edges_tmp[0].extend([n1, n2])\n",
    "#                         edges_tmp[1].extend([n2, n1])\n",
    "\n",
    "#         gnx = convert_to_netx(edges_tmp)\n",
    "#         print('detecting communities')\n",
    "#         coms = greedy_modularity_communities(gnx)\n",
    "\n",
    "#         print('finding good edges')\n",
    "#         for i in range(0, len(edges_tmp[0]), 2):\n",
    "#             for c in coms:\n",
    "#                 if edges_tmp[0][i] in c and edges_tmp[0][i+1] in c:\n",
    "#                     res_edges[0].extend([edges_tmp[0][i], edges_tmp[0][i+1]])\n",
    "#                     res_edges[1].extend([edges_tmp[0][i+1], edges_tmp[0][i]])\n",
    "#         edges_tmp = [[],[]]\n",
    "#     print('to keep edges:', len(res_edges[0]))\n",
    "#     return torch.tensor(res_edges, dtype=torch.long)\n",
    "\n",
    "# # old_edge_index = train_dataset.edge_index\n",
    "# # new_edge_index = remove_bad_community_edges(train_dataset.nodes_map, train_verses, small_editions, verse_alignments_inter)\n",
    "# # train_dataset.edge_index = new_edge_index\n",
    "\n",
    "# # with open(\"./dataset_greedy_modularity_communities.pickle\", 'rb') as inf:\n",
    "# #     train_dataset = pickle.load(inf)\n",
    "\n",
    "# test_dataset = train_dataset\n",
    "\n",
    "# print('orig edge count', old_edge_index.shape)\n",
    "# print('new edge count', train_dataset.edge_index.shape)\n",
    "# print(\"done\")"
   ],
   "outputs": [],
   "metadata": {}
  },
  {
   "cell_type": "code",
   "execution_count": null,
   "source": [
    "nodes_map = train_dataset.nodes_map\n",
    "bad_edition_files = []\n",
    "for edit in nodes_map:\n",
    "    bad_count = 0\n",
    "    for verse in nodes_map[edit]:\n",
    "        if len(nodes_map[edit][verse].keys()) < 6:\n",
    "            bad_count += 1\n",
    "        if bad_count > 1:\n",
    "            bad_edition_files.append(edit)\n",
    "            break\n",
    "print(bad_edition_files)"
   ],
   "outputs": [],
   "metadata": {}
  },
  {
   "cell_type": "code",
   "execution_count": null,
   "source": [
    "all_japanese_nodes = set()\n",
    "nodes_map = train_dataset.nodes_map\n",
    "\n",
    "for verse in nodes_map['jpn-x-bible-newworld']:\n",
    "    for item in nodes_map['jpn-x-bible-newworld'][verse].items():\n",
    "        all_japanese_nodes.add(item[1])\n",
    "\n",
    "print(\" all japansese nodes: \", len(all_japanese_nodes))\n",
    "edge_index = train_dataset.edge_index.to('cpu')\n",
    "remaining_edges_index = []\n",
    "for i in tqdm(range(0, edge_index.shape[1], 2)):\n",
    "    if edge_index[0, i].item() not in all_japanese_nodes and edge_index[0, i+1].item() not in all_japanese_nodes:\n",
    "        remaining_edges_index.extend([i, i+1])\n",
    "\n",
    "print('original total edges count', edge_index.shape)\n",
    "print('remaining edge count', len(remaining_edges_index))\n",
    "train_dataset.edge_index = edge_index[:, remaining_edges_index]\n",
    "train_dataset.edge_index.shape\n"
   ],
   "outputs": [],
   "metadata": {}
  },
  {
   "cell_type": "code",
   "execution_count": null,
   "source": [
    "from networkx.algorithms.community import greedy_modularity_communities, asyn_lpa_communities, label_propagation_communities, asyn_fluidc\n",
    "\n",
    "def get_community_edges(c, verse):\n",
    "    res = []\n",
    "    for n1 in all_nodes_map[editf1][verse].items():\n",
    "        for n2 in all_nodes_map[editf2][verse].items():\n",
    "            for com in c:\n",
    "                if n1[1] in com and n2[1] in com:\n",
    "                    res.append((n1[0], n2[0]))\n",
    "    \n",
    "    return res\n",
    "\n",
    "def intersect(e1, e2):\n",
    "    res = set()\n",
    "    for item in e1:\n",
    "        if item in e2:\n",
    "            res.add(item)\n",
    "    \n",
    "    return res\n",
    "\n",
    "\n",
    "measures = {}\n",
    "measures['intersection']= {\"p_hit_count\": 0, \"s_hit_count\": 0, \"total_hit_count\": 0, \"gold_s_hit_count\": 0, \"prec\": 0, \"rec\": 0, \"f1\": 0, \"aer\": 0}\n",
    "measures['gdfa']= {\"p_hit_count\": 0, \"s_hit_count\": 0, \"total_hit_count\": 0, \"gold_s_hit_count\": 0, \"prec\": 0, \"rec\": 0, \"f1\": 0, \"aer\": 0}\n",
    "measures['c1_all']= {\"p_hit_count\": 0, \"s_hit_count\": 0, \"total_hit_count\": 0, \"gold_s_hit_count\": 0, \"prec\": 0, \"rec\": 0, \"f1\": 0, \"aer\": 0}\n",
    "measures['c1_inter']= {\"p_hit_count\": 0, \"s_hit_count\": 0, \"total_hit_count\": 0, \"gold_s_hit_count\": 0, \"prec\": 0, \"rec\": 0, \"f1\": 0, \"aer\": 0}\n",
    "measures['c2_all']= {\"p_hit_count\": 0, \"s_hit_count\": 0, \"total_hit_count\": 0, \"gold_s_hit_count\": 0, \"prec\": 0, \"rec\": 0, \"f1\": 0, \"aer\": 0}\n",
    "measures['c2_inter']= {\"p_hit_count\": 0, \"s_hit_count\": 0, \"total_hit_count\": 0, \"gold_s_hit_count\": 0, \"prec\": 0, \"rec\": 0, \"f1\": 0, \"aer\": 0}\n",
    "measures['c3_all']= {\"p_hit_count\": 0, \"s_hit_count\": 0, \"total_hit_count\": 0, \"gold_s_hit_count\": 0, \"prec\": 0, \"rec\": 0, \"f1\": 0, \"aer\": 0}\n",
    "measures['c3_inter']= {\"p_hit_count\": 0, \"s_hit_count\": 0, \"total_hit_count\": 0, \"gold_s_hit_count\": 0, \"prec\": 0, \"rec\": 0, \"f1\": 0, \"aer\": 0}\n",
    "numbers = [100, 300, 600, 1000, 1300, 1600, 2000, 3000, 4000, 5000]\n",
    "for i in numbers:\n",
    "    measures[i] = {\"p_hit_count\": 0, \"s_hit_count\": 0, \"total_hit_count\": 0, \"gold_s_hit_count\": 0, \"prec\": 0, \"rec\": 0, \"f1\": 0, \"aer\": 0}\n",
    "    measures[i+1] = {\"p_hit_count\": 0, \"s_hit_count\": 0, \"total_hit_count\": 0, \"gold_s_hit_count\": 0, \"prec\": 0, \"rec\": 0, \"f1\": 0, \"aer\": 0}\n",
    "coms = {}\n",
    "for verse in test_verses:\n",
    "    inter_edges = autils.get_aligns(editf1, editf2, verse_alignments_inter[verse])\n",
    "\n",
    "    all_dataset, all_nodes_map = create_dataset([verse], verse_alignments_inter, small_editions)\n",
    "    print(\"converting\")\n",
    "    g = pyg_utils.convert.to_networkx(all_dataset, to_undirected=True)\n",
    "    print(\"detecting community 1\")\n",
    "    c1 = list(greedy_modularity_communities(g))\n",
    "    print(\"detecting community 2\")\n",
    "    c2 = list(asyn_lpa_communities(g))\n",
    "    print(\"detecting community 3\")\n",
    "    c3 = list(label_propagation_communities(g))\n",
    "\n",
    "    print(\"detecting community 4\")\n",
    "    edge_betweenness = [y[0] for y in sorted(nx.edge_betweenness_centrality(g).items(), key=lambda x: x[1], reverse=True)]\n",
    "    \n",
    "    print('orig communities', nx.number_connected_components(g))\n",
    "    prev_i = 0\n",
    "    for i in numbers:\n",
    "        for j in range(prev_i, i):\n",
    "            g.remove_edge(*edge_betweenness[j])\n",
    "        prev_i = i\n",
    "        com = list(nx.connected_components(g))\n",
    "        edges = get_community_edges(com, verse)\n",
    "        autils.calc_and_update_alignment_score(edges, pros[verse], surs[verse], measures[i])\n",
    "        autils.calc_and_update_alignment_score(intersect(edges, inter_edges), pros[verse], surs[verse], measures[i+1]) \n",
    "        print(f'communities {i}', nx.number_connected_components(g))\n",
    "\n",
    "    c1_edges = get_community_edges(c1, verse)\n",
    "    c2_edges = get_community_edges(c2, verse)\n",
    "    c3_edges = get_community_edges(c3, verse)\n",
    "    print('c1 communities', len(c1))\n",
    "    print('c2 communities', len(c2))\n",
    "    print('c3 communities', len(c3))\n",
    "\n",
    "\n",
    "\n",
    "    autils.calc_and_update_alignment_score(inter_edges, pros[verse], surs[verse], measures['intersection'])\n",
    "    autils.calc_and_update_alignment_score(autils.get_aligns(editf1, editf2, verse_alignments_gdfa[verse]), pros[verse], surs[verse], measures['gdfa'])\n",
    "\n",
    "    autils.calc_and_update_alignment_score(c1_edges, pros[verse], surs[verse], measures['c1_all'])\n",
    "    autils.calc_and_update_alignment_score(c2_edges, pros[verse], surs[verse], measures['c2_all'])\n",
    "    autils.calc_and_update_alignment_score(c3_edges, pros[verse], surs[verse], measures['c3_all'])\n",
    "\n",
    "    autils.calc_and_update_alignment_score(intersect(c1_edges, inter_edges), pros[verse], surs[verse], measures['c1_inter'])\n",
    "    autils.calc_and_update_alignment_score(intersect(c2_edges, inter_edges), pros[verse], surs[verse], measures['c2_inter'])\n",
    "    autils.calc_and_update_alignment_score(intersect(c3_edges, inter_edges), pros[verse], surs[verse], measures['c3_inter'])\n",
    "\n",
    "    for item in measures:\n",
    "        print(item, measures[item])\n",
    "    \n",
    "    \n"
   ],
   "outputs": [],
   "metadata": {}
  }
 ]
}